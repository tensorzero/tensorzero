{
 "cells": [
  {
   "cell_type": "markdown",
   "metadata": {},
   "source": [
    "# Example: LLMs solving chess puzzles\n"
   ]
  },
  {
   "cell_type": "code",
   "execution_count": null,
   "metadata": {},
   "outputs": [],
   "source": [
    "import asyncio\n",
    "import logging\n",
    "import random\n",
    "from typing import List, Optional, Tuple\n",
    "from uuid import UUID\n",
    "\n",
    "import chess\n",
    "import pandas as pd\n",
    "from tensorzero import AsyncTensorZeroGateway\n",
    "from tqdm import trange\n",
    "from utils import AbstractPlayer, proportion_ci, run_puzzle"
   ]
  },
  {
   "cell_type": "code",
   "execution_count": null,
   "metadata": {},
   "outputs": [],
   "source": [
    "logger = logging.getLogger(__name__)"
   ]
  },
  {
   "cell_type": "markdown",
   "metadata": {},
   "source": [
    "Below, we create a Chess player that takes the current state of the board and calls a TensorZero function to choose a move.\n",
    "We give the LLM access to the current board state as ASCII, the color the player should play as, and the legal moves in Standard Algebraic Notation (SAN).\n",
    "The TensorZero LLM returns a JSON object with the thinking and the move.\n",
    "We log the thinking and the move, and then return the move to the caller.\n",
    "We also return the episode ID, which we can use to give feedback on the move later.\n"
   ]
  },
  {
   "cell_type": "code",
   "execution_count": null,
   "metadata": {},
   "outputs": [],
   "source": [
    "class TensorZeroPlayer(AbstractPlayer):\n",
    "    \"\"\"\n",
    "    A chess player that uses a TensorZero LLM to choose moves.\n",
    "    \"\"\"\n",
    "\n",
    "    def __init__(\n",
    "        self, client: AsyncTensorZeroGateway, variant_name: Optional[str] = None\n",
    "    ):\n",
    "        self.client = client\n",
    "        self.variant_name = variant_name\n",
    "\n",
    "    async def play(\n",
    "        self, board: chess.Board, episode_id: Optional[UUID] = None\n",
    "    ) -> Tuple[str, Optional[UUID]]:\n",
    "        \"\"\"\n",
    "        Returns the move chosen by the TensorZero LLM in SAN (Standard Algebraic Notation).\n",
    "        \"\"\"\n",
    "        legal_moves_san = [board.san(move) for move in board.legal_moves]\n",
    "\n",
    "        try:\n",
    "            result = await self.client.inference(\n",
    "                function_name=\"play_chess_board\",\n",
    "                input={\n",
    "                    \"messages\": [\n",
    "                        {\n",
    "                            # We pass the board state, the color of the player, and the legal moves in SAN to\n",
    "                            # TensorZero.\n",
    "                            \"role\": \"user\",\n",
    "                            \"content\": {\n",
    "                                \"board\": str(board),\n",
    "                                \"color\": \"white\" if board.turn else \"black\",\n",
    "                                \"legal_moves_san\": legal_moves_san,\n",
    "                            },\n",
    "                        }\n",
    "                    ]\n",
    "                },\n",
    "                variant_name=self.variant_name,\n",
    "                episode_id=episode_id,\n",
    "            )\n",
    "            thinking = result.output.parsed[\"thinking\"]\n",
    "            logger.info(f\"Player thinking: {thinking}\")\n",
    "            move = result.output.parsed[\"move\"]\n",
    "            logger.info(f\"Player move: {move}\")\n",
    "            episode_id = result.episode_id\n",
    "        except Exception as e:\n",
    "            logger.error(f\"Error occurred: {e}\")\n",
    "            logger.info(\"Choosing a random legal move as fallback.\")\n",
    "            move = random.choice(legal_moves_san)\n",
    "            return move, episode_id\n",
    "        return move, episode_id"
   ]
  },
  {
   "cell_type": "markdown",
   "metadata": {},
   "source": [
    "Below is the main function that runs many chess puzzles and sends feedback to TensorZero on each episode describing whether the puzzle solution was successful.\n",
    "We'll try a handful of different variants to see how they perform.\n"
   ]
  },
  {
   "cell_type": "code",
   "execution_count": null,
   "metadata": {},
   "outputs": [],
   "source": [
    "async def run_puzzles(\n",
    "    player: AbstractPlayer,\n",
    "    puzzle_df: pd.DataFrame,\n",
    "    variant_name: str,\n",
    "    semaphore: asyncio.Semaphore,\n",
    "    client: AsyncTensorZeroGateway,\n",
    "    disable_progress_bar: bool = False,\n",
    ") -> List[bool]:\n",
    "    \"\"\"\n",
    "    Runs the puzzles in the dataframe and returns the list of successes.\n",
    "    \"\"\"\n",
    "    successes = []\n",
    "    episode_ids = []\n",
    "    num_successes = 0\n",
    "    total_puzzles = len(puzzle_df)\n",
    "    progress_bar = trange(\n",
    "        total_puzzles, desc=variant_name, disable=disable_progress_bar\n",
    "    )\n",
    "\n",
    "    tasks = [\n",
    "        asyncio.create_task(run_puzzle(puzzle_df.iloc[i].to_dict(), player, semaphore))\n",
    "        for i in range(total_puzzles)\n",
    "    ]\n",
    "\n",
    "    for task in asyncio.as_completed(tasks):\n",
    "        success, episode_id = await task\n",
    "        successes.append(success)\n",
    "        episode_ids.append(episode_id)\n",
    "        if success:\n",
    "            num_successes += 1\n",
    "        current = len(successes)\n",
    "        logger.info(\n",
    "            f\"Puzzle {current} completed {'successfully' if success else 'unsuccessfully'}\"\n",
    "        )\n",
    "        ci_lower, ci_upper = proportion_ci(num_successes, current)\n",
    "        progress_bar.update(1)\n",
    "        progress_bar.set_postfix(\n",
    "            {\n",
    "                \"Success\": f\"{num_successes}/{current} CI: ({ci_lower:.2f}, {ci_upper:.2f})\"\n",
    "            },\n",
    "            refresh=True,\n",
    "        )\n",
    "    progress_bar.close()\n",
    "    for success, episode_id in zip(successes, episode_ids):\n",
    "        if episode_id:\n",
    "            async with semaphore:\n",
    "                await client.feedback(\n",
    "                    episode_id=episode_id, metric_name=\"puzzle_success\", value=success\n",
    "                )\n",
    "\n",
    "    return successes"
   ]
  },
  {
   "cell_type": "code",
   "execution_count": null,
   "metadata": {},
   "outputs": [],
   "source": [
    "# This train set size will take a while to run but give statistically significant results\n",
    "# For a quick test, you can use NUM_EXAMPLES = 10\n",
    "NUM_EXAMPLES = 1000\n",
    "puzzle_df = pd.read_csv(\"data/lichess_easy_puzzles_train.csv\")\n",
    "puzzle_df = puzzle_df.head(NUM_EXAMPLES)"
   ]
  },
  {
   "cell_type": "code",
   "execution_count": null,
   "metadata": {},
   "outputs": [],
   "source": [
    "MAX_CONCURRENT_T0_REQUESTS = 10\n",
    "semaphore = asyncio.Semaphore(MAX_CONCURRENT_T0_REQUESTS)"
   ]
  },
  {
   "cell_type": "markdown",
   "metadata": {},
   "source": [
    "First, let's try a reasonable prompt with GPT-4o-mini. You can check config/functions/play_chess_board/chess_prompt/ to see the templates.\n"
   ]
  },
  {
   "cell_type": "code",
   "execution_count": null,
   "metadata": {},
   "outputs": [],
   "source": [
    "variant_name = \"gpt-4o-mini\""
   ]
  },
  {
   "cell_type": "code",
   "execution_count": null,
   "metadata": {},
   "outputs": [],
   "source": [
    "async with AsyncTensorZeroGateway(\"http://localhost:3000\", timeout=30.0) as client:\n",
    "    results = await run_puzzles(\n",
    "        TensorZeroPlayer(client, variant_name),\n",
    "        puzzle_df,\n",
    "        variant_name,\n",
    "        semaphore,\n",
    "        client,\n",
    "    )"
   ]
  },
  {
   "cell_type": "code",
   "execution_count": null,
   "metadata": {},
   "outputs": [],
   "source": [
    "num_successes = sum(results)\n",
    "total_puzzles = len(results)\n",
    "print(\n",
    "    f\"{variant_name}: {num_successes}/{total_puzzles} = {num_successes/total_puzzles:.2f}\"\n",
    ")\n",
    "ci_lower, ci_upper = proportion_ci(num_successes, total_puzzles)\n",
    "print(f\"{variant_name} confidence interval: ({ci_lower:.2f}, {ci_upper:.2f})\")"
   ]
  },
  {
   "cell_type": "markdown",
   "metadata": {},
   "source": [
    "Next, let's try best-of-5 sampling with the same prompt and model. You should see a statistically significant improvement in performance by spending more compute.\n"
   ]
  },
  {
   "cell_type": "code",
   "execution_count": null,
   "metadata": {},
   "outputs": [],
   "source": [
    "variant_name = \"gpt-4o-mini_best_of_5\""
   ]
  },
  {
   "cell_type": "code",
   "execution_count": null,
   "metadata": {},
   "outputs": [],
   "source": [
    "async with AsyncTensorZeroGateway(\"http://localhost:3000\", timeout=30.0) as client:\n",
    "    results = await run_puzzles(\n",
    "        TensorZeroPlayer(client, variant_name),\n",
    "        puzzle_df,\n",
    "        variant_name,\n",
    "        semaphore,\n",
    "        client,\n",
    "    )"
   ]
  },
  {
   "cell_type": "code",
   "execution_count": null,
   "metadata": {},
   "outputs": [],
   "source": [
    "num_successes = sum(results)\n",
    "total_puzzles = len(results)\n",
    "print(\n",
    "    f\"{variant_name}: {num_successes}/{total_puzzles} = {num_successes/total_puzzles:.2f}\"\n",
    ")\n",
    "ci_lower, ci_upper = proportion_ci(num_successes, total_puzzles)\n",
    "print(f\"{variant_name} confidence interval: ({ci_lower:.2f}, {ci_upper:.2f})\")"
   ]
  },
  {
   "cell_type": "markdown",
   "metadata": {},
   "source": [
    "The previous two variants used the same prompt and model.\n",
    "Let's try a diverse variant with the same compute budget.\n",
    "You should once again see an improvement in performance! Try experimenting with different prompts to see if you can get even better performance.\n"
   ]
  },
  {
   "cell_type": "code",
   "execution_count": null,
   "metadata": {},
   "outputs": [],
   "source": [
    "variant_name = \"gpt-4o-mini_best_of_5_diverse\""
   ]
  },
  {
   "cell_type": "code",
   "execution_count": null,
   "metadata": {},
   "outputs": [],
   "source": [
    "async with AsyncTensorZeroGateway(\"http://localhost:3000\", timeout=30.0) as client:\n",
    "    results = await run_puzzles(\n",
    "        TensorZeroPlayer(client, variant_name),\n",
    "        puzzle_df,\n",
    "        variant_name,\n",
    "        semaphore,\n",
    "        client,\n",
    "    )"
   ]
  },
  {
   "cell_type": "code",
   "execution_count": null,
   "metadata": {},
   "outputs": [],
   "source": [
    "num_successes = sum(results)\n",
    "total_puzzles = len(results)\n",
    "print(\n",
    "    f\"{variant_name}: {num_successes}/{total_puzzles} = {num_successes/total_puzzles:.2f}\"\n",
    ")\n",
    "ci_lower, ci_upper = proportion_ci(num_successes, total_puzzles)\n",
    "print(f\"{variant_name} confidence interval: ({ci_lower:.2f}, {ci_upper:.2f})\")"
   ]
  },
  {
   "cell_type": "markdown",
   "metadata": {},
   "source": [
    "Bonus: If you have [Stockfish](https://stockfishchess.org/) installed, you can try running the same puzzles with a real chess engine.\n"
   ]
  },
  {
   "cell_type": "code",
   "execution_count": null,
   "metadata": {},
   "outputs": [],
   "source": [
    "from utils import StockfishPlayer"
   ]
  },
  {
   "cell_type": "code",
   "execution_count": null,
   "metadata": {},
   "outputs": [],
   "source": [
    "semaphore = asyncio.Semaphore(1)\n",
    "async with AsyncTensorZeroGateway(\"http://localhost:3000\", timeout=30.0) as client:\n",
    "    player = StockfishPlayer(3190)\n",
    "    results = await run_puzzles(player, puzzle_df, \"stockfish\", semaphore, client)"
   ]
  }
 ],
 "metadata": {
  "kernelspec": {
   "display_name": ".venv",
   "language": "python",
   "name": "python3"
  },
  "language_info": {
   "codemirror_mode": {
    "name": "ipython",
    "version": 3
   },
   "file_extension": ".py",
   "mimetype": "text/x-python",
   "name": "python",
   "nbconvert_exporter": "python",
   "pygments_lexer": "ipython3"
  }
 },
 "nbformat": 4,
 "nbformat_minor": 2
}
