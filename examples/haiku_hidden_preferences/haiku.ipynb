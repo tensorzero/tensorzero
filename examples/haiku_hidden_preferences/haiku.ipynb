{
 "cells": [
  {
   "cell_type": "code",
   "execution_count": 1,
   "id": "c0e78a32-9c0d-40e6-84fd-a7f497f98092",
   "metadata": {},
   "outputs": [],
   "source": [
    "from tensorzero import AsyncTensorZero\n",
    "import random"
   ]
  },
  {
   "cell_type": "code",
   "execution_count": 8,
   "id": "6dad2676",
   "metadata": {},
   "outputs": [],
   "source": [
    "tensorzero_client = AsyncTensorZero(\"http://localhost:3000\")"
   ]
  },
  {
   "cell_type": "code",
   "execution_count": 9,
   "id": "1ef80de5",
   "metadata": {},
   "outputs": [],
   "source": [
    "with open(\"nounlist.txt\", \"r\") as file:\n",
    "    nouns = [line.strip() for line in file]\n",
    "    random.shuffle(nouns)\n"
   ]
  },
  {
   "cell_type": "code",
   "execution_count": 10,
   "id": "d599b0d8",
   "metadata": {},
   "outputs": [],
   "source": [
    "async def write_grade_haiku(topic: str, client: AsyncTensorZero) -> (str, bool):\n",
    "    haiku_result = await client.inference(\n",
    "        function_name=\"write_haiku\",\n",
    "        input={\n",
    "            \"messages\": [\n",
    "                {\n",
    "                    \"role\": \"user\",\n",
    "                    \"content\": [{\"type\": \"text\", \"value\": {\"topic\": topic}}],\n",
    "                }\n",
    "            ]\n",
    "        },\n",
    "    )\n",
    "    haiku_text = haiku_result.output[0].text\n",
    "    print(haiku_text)\n",
    "    haiku_lines = haiku_text.split(\"\\n\")\n",
    "    haiku_text = \"\\n\".join(haiku_lines[-3:])\n",
    "    judge_result = await client.inference(\n",
    "        function_name=\"judge_haiku\",\n",
    "        input={\n",
    "            \"messages\": [\n",
    "                {\n",
    "                    \"role\": \"user\",\n",
    "                    \"content\": [\n",
    "                        {\"type\": \"text\", \"value\": {\"topic\": topic, \"haiku\": haiku_text}}\n",
    "                    ],\n",
    "                }\n",
    "            ]\n",
    "        },\n",
    "    )\n",
    "    score = judge_result.output.parsed[\"score\"]\n",
    "    # reasoning = judge_result.output.parsed[\"reasoning\"]\n",
    "    return haiku_text, score"
   ]
  },
  {
   "cell_type": "code",
   "execution_count": 11,
   "id": "0201056e",
   "metadata": {},
   "outputs": [
    {
     "name": "stdout",
     "output_type": "stream",
     "text": [
      "A reamer is a tool used in metalworking and woodworking to enlarge or finish a hole. Here are some key points about reamers:\n",
      "\n",
      "1. Purpose: The primary purpose of a reamer is to create an accurate, smooth, and uniform hole size. It is used to enlarge, finish, or refine a pre-drilled hole.\n",
      "\n",
      "2. Types of Reamers:\n",
      "   - Straight reamers: Have a straight cutting surface and are used to enlarge or finish straight holes.\n",
      "   - Taper reamers: Have a tapered cutting surface and are used to enlarge or finish tapered holes.\n",
      "   - Expansion reamers: Have adjustable cutting edges that can be expanded to create holes of different sizes.\n",
      "\n",
      "3. Materials: Reamers are typically made from high-speed steel (HSS) or carbide, which provide the necessary hardness and wear resistance for their cutting action.\n",
      "\n",
      "4. Usage:\n",
      "   - Reamers are used in a variety of applications, including metalworking, woodworking, and machining.\n",
      "   - They are often used after drilling a hole to ensure a precise and consistent diameter.\n",
      "   - The reaming process involves slowly feeding the reamer into the pre-drilled hole, removing a small amount of material with each pass.\n",
      "   - Proper lubrication and coolant are essential to prevent overheating and premature wear of the reamer.\n",
      "\n",
      "5. Precision: Reamers are designed to create holes with very tight tolerances, often within a few thousandths of an inch. This makes them an important tool for ensuring the proper fit and function of components.\n",
      "\n",
      "6. Maintenance: Reamers require regular sharpening and cleaning to maintain their cutting edges and ensure accurate results. Proper storage and handling are also important to prevent damage to the reamer's teeth.\n",
      "\n",
      "Overall, the reamer is a versatile and essential tool in various metalworking and woodworking applications, used to create precise and uniform holes of the desired size and shape.\n",
      "reamer: \n",
      "6. Maintenance: Reamers require regular sharpening and cleaning to maintain their cutting edges and ensure accurate results. Proper storage and handling are also important to prevent damage to the reamer's teeth.\n",
      "\n",
      "Overall, the reamer is a versatile and essential tool in various metalworking and woodworking applications, used to create precise and uniform holes of the desired size and shape.\n",
      " Passed: True\n"
     ]
    }
   ],
   "source": [
    "for noun in nouns:\n",
    "    haiku, score = await write_grade_haiku(noun, tensorzero_client)\n",
    "    print(f\"{noun}: \\n{haiku}\\n Passed: {score}\")\n",
    "    break"
   ]
  },
  {
   "cell_type": "code",
   "execution_count": null,
   "id": "cdb56a67",
   "metadata": {},
   "outputs": [],
   "source": []
  }
 ],
 "metadata": {
  "kernelspec": {
   "display_name": ".venv",
   "language": "python",
   "name": "python3"
  },
  "language_info": {
   "codemirror_mode": {
    "name": "ipython",
    "version": 3
   },
   "file_extension": ".py",
   "mimetype": "text/x-python",
   "name": "python",
   "nbconvert_exporter": "python",
   "pygments_lexer": "ipython3",
   "version": "3.12.5"
  }
 },
 "nbformat": 4,
 "nbformat_minor": 5
}
