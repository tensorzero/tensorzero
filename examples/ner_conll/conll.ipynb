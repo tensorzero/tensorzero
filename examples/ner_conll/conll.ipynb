{
 "cells": [
  {
   "cell_type": "code",
   "execution_count": 153,
   "metadata": {},
   "outputs": [],
   "source": [
    "NUM_PREDICTIONS = 500\n",
    "MAX_CONCURRENT_REQUESTS = 50"
   ]
  },
  {
   "cell_type": "code",
   "execution_count": 154,
   "metadata": {},
   "outputs": [],
   "source": [
    "import asyncio\n",
    "import json\n",
    "import os\n",
    "from typing import Dict, List, Optional\n",
    "\n",
    "import pandas as pd\n",
    "from clickhouse_driver import Client\n",
    "from tensorzero import AsyncTensorZeroGateway, InferenceResponse\n",
    "from tqdm.asyncio import tqdm_asyncio"
   ]
  },
  {
   "cell_type": "code",
   "execution_count": 155,
   "metadata": {},
   "outputs": [],
   "source": [
    "tensorzero_client = AsyncTensorZeroGateway(\"http://localhost:3000\")"
   ]
  },
  {
   "cell_type": "code",
   "execution_count": 156,
   "metadata": {},
   "outputs": [
    {
     "data": {
      "text/html": [
       "<div>\n",
       "<style scoped>\n",
       "    .dataframe tbody tr th:only-of-type {\n",
       "        vertical-align: middle;\n",
       "    }\n",
       "\n",
       "    .dataframe tbody tr th {\n",
       "        vertical-align: top;\n",
       "    }\n",
       "\n",
       "    .dataframe thead th {\n",
       "        text-align: right;\n",
       "    }\n",
       "</style>\n",
       "<table border=\"1\" class=\"dataframe\">\n",
       "  <thead>\n",
       "    <tr style=\"text-align: right;\">\n",
       "      <th></th>\n",
       "      <th>raw_id</th>\n",
       "      <th>raw_split</th>\n",
       "      <th>split</th>\n",
       "      <th>input</th>\n",
       "      <th>output</th>\n",
       "    </tr>\n",
       "  </thead>\n",
       "  <tbody>\n",
       "    <tr>\n",
       "      <th>0</th>\n",
       "      <td>0</td>\n",
       "      <td>train</td>\n",
       "      <td>0</td>\n",
       "      <td>EU rejects German call to boycott British lamb .</td>\n",
       "      <td>{\"person\": [], \"organization\": [\"EU\"], \"locati...</td>\n",
       "    </tr>\n",
       "    <tr>\n",
       "      <th>1</th>\n",
       "      <td>1</td>\n",
       "      <td>train</td>\n",
       "      <td>0</td>\n",
       "      <td>Peter Blackburn</td>\n",
       "      <td>{\"person\": [\"Peter Blackburn\"], \"organization\"...</td>\n",
       "    </tr>\n",
       "    <tr>\n",
       "      <th>2</th>\n",
       "      <td>2</td>\n",
       "      <td>train</td>\n",
       "      <td>0</td>\n",
       "      <td>BRUSSELS 1996-08-22</td>\n",
       "      <td>{\"person\": [], \"organization\": [], \"location\":...</td>\n",
       "    </tr>\n",
       "    <tr>\n",
       "      <th>3</th>\n",
       "      <td>3</td>\n",
       "      <td>train</td>\n",
       "      <td>0</td>\n",
       "      <td>The European Commission said on Thursday it di...</td>\n",
       "      <td>{\"person\": [], \"organization\": [\"European Comm...</td>\n",
       "    </tr>\n",
       "    <tr>\n",
       "      <th>4</th>\n",
       "      <td>4</td>\n",
       "      <td>train</td>\n",
       "      <td>0</td>\n",
       "      <td>Germany 's representative to the European Unio...</td>\n",
       "      <td>{\"person\": [\"Werner Zwingmann\"], \"organization...</td>\n",
       "    </tr>\n",
       "  </tbody>\n",
       "</table>\n",
       "</div>"
      ],
      "text/plain": [
       "   raw_id raw_split  split                                              input  \\\n",
       "0       0     train      0   EU rejects German call to boycott British lamb .   \n",
       "1       1     train      0                                    Peter Blackburn   \n",
       "2       2     train      0                                BRUSSELS 1996-08-22   \n",
       "3       3     train      0  The European Commission said on Thursday it di...   \n",
       "4       4     train      0  Germany 's representative to the European Unio...   \n",
       "\n",
       "                                              output  \n",
       "0  {\"person\": [], \"organization\": [\"EU\"], \"locati...  \n",
       "1  {\"person\": [\"Peter Blackburn\"], \"organization\"...  \n",
       "2  {\"person\": [], \"organization\": [], \"location\":...  \n",
       "3  {\"person\": [], \"organization\": [\"European Comm...  \n",
       "4  {\"person\": [\"Werner Zwingmann\"], \"organization...  "
      ]
     },
     "execution_count": 156,
     "metadata": {},
     "output_type": "execute_result"
    }
   ],
   "source": [
    "df = pd.read_csv(\"conllpp.csv\")\n",
    "df.head()"
   ]
  },
  {
   "cell_type": "code",
   "execution_count": 157,
   "metadata": {},
   "outputs": [
    {
     "name": "stdout",
     "output_type": "stream",
     "text": [
      "Train data shape: (14041, 5)\n",
      "Validation data shape: (3250, 5)\n",
      "Test data shape: (3453, 5)\n"
     ]
    }
   ],
   "source": [
    "train_df = df[df[\"split\"] == 0]\n",
    "# Shuffle the training data\n",
    "train_df = train_df.sample(frac=1, random_state=42).reset_index(drop=True)\n",
    "\n",
    "val_df = df[df[\"split\"] == 1]\n",
    "test_df = df[df[\"split\"] == 2]\n",
    "\n",
    "print(f\"Train data shape: {train_df.shape}\")\n",
    "print(f\"Validation data shape: {val_df.shape}\")\n",
    "print(f\"Test data shape: {test_df.shape}\")"
   ]
  },
  {
   "cell_type": "code",
   "execution_count": 158,
   "metadata": {},
   "outputs": [],
   "source": [
    "async def get_entities(\n",
    "    text: str, client: AsyncTensorZeroGateway\n",
    ") -> Optional[InferenceResponse]:\n",
    "    try:\n",
    "        response: InferenceResponse = await client.inference(\n",
    "            function_name=\"extract_entities\",\n",
    "            input={\"messages\": [{\"role\": \"user\", \"content\": text}]},\n",
    "        )\n",
    "    except Exception as e:\n",
    "        print(f\"Error: {e}\")\n",
    "        return None\n",
    "    return response"
   ]
  },
  {
   "cell_type": "code",
   "execution_count": 159,
   "metadata": {},
   "outputs": [],
   "source": [
    "def exact_match(predicted: Dict[str, List[str]], gold: Dict[str, List[str]]) -> bool:\n",
    "    if predicted.keys() != gold.keys():\n",
    "        return False\n",
    "    for key, value in gold.items():\n",
    "        if set(item.lower() for item in predicted[key]) != set(\n",
    "            item.lower() for item in value\n",
    "        ):\n",
    "            return False\n",
    "    return True"
   ]
  },
  {
   "cell_type": "code",
   "execution_count": 161,
   "metadata": {},
   "outputs": [
    {
     "name": "stderr",
     "output_type": "stream",
     "text": [
      "100%|██████████| 500/500 [00:12<00:00, 39.45it/s]\n"
     ]
    }
   ],
   "source": [
    "semaphore = asyncio.Semaphore(MAX_CONCURRENT_REQUESTS)\n",
    "\n",
    "\n",
    "async def make_inference(text: str, client: AsyncTensorZeroGateway):\n",
    "    async with semaphore:\n",
    "        return await get_entities(text, client)\n",
    "\n",
    "\n",
    "responses = await tqdm_asyncio.gather(\n",
    "    *[\n",
    "        make_inference(text, tensorzero_client)\n",
    "        for text in train_df[\"input\"][:NUM_PREDICTIONS]\n",
    "    ]\n",
    ")"
   ]
  },
  {
   "cell_type": "code",
   "execution_count": 162,
   "metadata": {},
   "outputs": [],
   "source": [
    "async def evaluate_send_feedback(\n",
    "    response: InferenceResponse, gold_data: Dict[str, List[str]]\n",
    "):\n",
    "    predicted = response.output.parsed\n",
    "    matched = exact_match(predicted, gold_data) if predicted else False\n",
    "    await tensorzero_client.feedback(\n",
    "        metric_name=\"exact_match\",\n",
    "        value=matched,\n",
    "        inference_id=response.inference_id,\n",
    "    )"
   ]
  },
  {
   "cell_type": "code",
   "execution_count": 163,
   "metadata": {},
   "outputs": [],
   "source": [
    "await asyncio.gather(\n",
    "    *[\n",
    "        evaluate_send_feedback(response, json.loads(gold))\n",
    "        for response, gold in zip(responses, train_df[\"output\"][:NUM_PREDICTIONS])\n",
    "    ]\n",
    ");"
   ]
  },
  {
   "cell_type": "code",
   "execution_count": 164,
   "metadata": {},
   "outputs": [],
   "source": [
    "clickhouse_client = Client.from_url(os.getenv(\"CLICKHOUSE_NATIVE_URL\"))"
   ]
  },
  {
   "cell_type": "code",
   "execution_count": 165,
   "metadata": {},
   "outputs": [
    {
     "data": {
      "text/html": [
       "<div>\n",
       "<style scoped>\n",
       "    .dataframe tbody tr th:only-of-type {\n",
       "        vertical-align: middle;\n",
       "    }\n",
       "\n",
       "    .dataframe tbody tr th {\n",
       "        vertical-align: top;\n",
       "    }\n",
       "\n",
       "    .dataframe thead th {\n",
       "        text-align: right;\n",
       "    }\n",
       "</style>\n",
       "<table border=\"1\" class=\"dataframe\">\n",
       "  <thead>\n",
       "    <tr style=\"text-align: right;\">\n",
       "      <th></th>\n",
       "      <th>variant_name</th>\n",
       "      <th>input</th>\n",
       "      <th>output</th>\n",
       "      <th>value</th>\n",
       "    </tr>\n",
       "  </thead>\n",
       "  <tbody>\n",
       "    <tr>\n",
       "      <th>0</th>\n",
       "      <td>llama_405b_initial_prompt</td>\n",
       "      <td>{\"messages\":[{\"role\":\"user\",\"content\":[{\"type\"...</td>\n",
       "      <td>{\"raw\":\"{\\n\\\"person\\\": [\\\"Aamir Sohail\\\", \\\"Sa...</td>\n",
       "      <td>True</td>\n",
       "    </tr>\n",
       "    <tr>\n",
       "      <th>1</th>\n",
       "      <td>llama_405b_initial_prompt</td>\n",
       "      <td>{\"messages\":[{\"role\":\"user\",\"content\":[{\"type\"...</td>\n",
       "      <td>{\"raw\":\"{\\n\\\"person\\\": [\\\"GROBBELAAR\\\"],\\n\\\"or...</td>\n",
       "      <td>True</td>\n",
       "    </tr>\n",
       "    <tr>\n",
       "      <th>2</th>\n",
       "      <td>llama_405b_initial_prompt</td>\n",
       "      <td>{\"messages\":[{\"role\":\"user\",\"content\":[{\"type\"...</td>\n",
       "      <td>{\"raw\":\"{\\n\\\"person\\\": [\\\"Karem Haj Yihye\\\"],\\...</td>\n",
       "      <td>False</td>\n",
       "    </tr>\n",
       "    <tr>\n",
       "      <th>3</th>\n",
       "      <td>llama_405b_initial_prompt</td>\n",
       "      <td>{\"messages\":[{\"role\":\"user\",\"content\":[{\"type\"...</td>\n",
       "      <td>{\"raw\":\"{\\n\\\"person\\\": [],\\n\\\"organization\\\": ...</td>\n",
       "      <td>False</td>\n",
       "    </tr>\n",
       "    <tr>\n",
       "      <th>4</th>\n",
       "      <td>llama_405b_initial_prompt</td>\n",
       "      <td>{\"messages\":[{\"role\":\"user\",\"content\":[{\"type\"...</td>\n",
       "      <td>{\"raw\":\"{\\n\\\"person\\\": [\\\"Abyss DeJesus\\\"],\\n\\...</td>\n",
       "      <td>False</td>\n",
       "    </tr>\n",
       "  </tbody>\n",
       "</table>\n",
       "</div>"
      ],
      "text/plain": [
       "                variant_name  \\\n",
       "0  llama_405b_initial_prompt   \n",
       "1  llama_405b_initial_prompt   \n",
       "2  llama_405b_initial_prompt   \n",
       "3  llama_405b_initial_prompt   \n",
       "4  llama_405b_initial_prompt   \n",
       "\n",
       "                                               input  \\\n",
       "0  {\"messages\":[{\"role\":\"user\",\"content\":[{\"type\"...   \n",
       "1  {\"messages\":[{\"role\":\"user\",\"content\":[{\"type\"...   \n",
       "2  {\"messages\":[{\"role\":\"user\",\"content\":[{\"type\"...   \n",
       "3  {\"messages\":[{\"role\":\"user\",\"content\":[{\"type\"...   \n",
       "4  {\"messages\":[{\"role\":\"user\",\"content\":[{\"type\"...   \n",
       "\n",
       "                                              output  value  \n",
       "0  {\"raw\":\"{\\n\\\"person\\\": [\\\"Aamir Sohail\\\", \\\"Sa...   True  \n",
       "1  {\"raw\":\"{\\n\\\"person\\\": [\\\"GROBBELAAR\\\"],\\n\\\"or...   True  \n",
       "2  {\"raw\":\"{\\n\\\"person\\\": [\\\"Karem Haj Yihye\\\"],\\...  False  \n",
       "3  {\"raw\":\"{\\n\\\"person\\\": [],\\n\\\"organization\\\": ...  False  \n",
       "4  {\"raw\":\"{\\n\\\"person\\\": [\\\"Abyss DeJesus\\\"],\\n\\...  False  "
      ]
     },
     "execution_count": 165,
     "metadata": {},
     "output_type": "execute_result"
    }
   ],
   "source": [
    "# Query the inferences and feedback from the database and join them on the inference ID\n",
    "df = clickhouse_client.query_dataframe(\"\"\"SELECT \n",
    "    i.variant_name, \n",
    "    i.input, \n",
    "    i.output, \n",
    "    b.value\n",
    "FROM \n",
    "    Inference i\n",
    "JOIN \n",
    "    BooleanMetricFeedback b ON i.id = b.target_id\n",
    "WHERE \n",
    "    i.function_name = 'extract_entities'\"\"\")\n",
    "df.head()"
   ]
  },
  {
   "cell_type": "code",
   "execution_count": 166,
   "metadata": {},
   "outputs": [
    {
     "data": {
      "text/plain": [
       "variant_name\n",
       "gpt4o_initial_prompt            0.422018\n",
       "llama_405b_initial_prompt       0.320470\n",
       "llama_8b_initial_prompt         0.132686\n",
       "llama_initial_prompt            0.263566\n",
       "mistral_large_initial_prompt    0.044444\n",
       "sonnet_initial_prompt           0.164336\n",
       "Name: value, dtype: float64"
      ]
     },
     "execution_count": 166,
     "metadata": {},
     "output_type": "execute_result"
    }
   ],
   "source": [
    "# Print the average score for each variant\n",
    "df.groupby(\"variant_name\")[\"value\"].mean()"
   ]
  },
  {
   "cell_type": "code",
   "execution_count": null,
   "metadata": {},
   "outputs": [],
   "source": []
  }
 ],
 "metadata": {
  "kernelspec": {
   "display_name": ".venv",
   "language": "python",
   "name": "python3"
  },
  "language_info": {
   "codemirror_mode": {
    "name": "ipython",
    "version": 3
   },
   "file_extension": ".py",
   "mimetype": "text/x-python",
   "name": "python",
   "nbconvert_exporter": "python",
   "pygments_lexer": "ipython3"
  }
 },
 "nbformat": 4,
 "nbformat_minor": 2
}
