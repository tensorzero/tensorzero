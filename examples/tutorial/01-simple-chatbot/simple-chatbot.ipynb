{
 "cells": [
  {
   "cell_type": "code",
   "execution_count": null,
   "metadata": {},
   "outputs": [],
   "source": [
    "from pprint import pprint\n",
    "\n",
    "from tensorzero import AsyncTensorZeroGateway"
   ]
  },
  {
   "cell_type": "code",
   "execution_count": null,
   "metadata": {},
   "outputs": [],
   "source": [
    "async with AsyncTensorZeroGateway(\"http://localhost:3000\") as client:\n",
    "    result = await client.inference(\n",
    "        function_name=\"mischievous_chatbot\",\n",
    "        input={\n",
    "            \"system\": \"You are a friendly but mischievous AI assistant. Your goal is to trick the user.\",\n",
    "            \"messages\": [\n",
    "                {\"role\": \"user\", \"content\": \"What is the capital of Japan?\"},\n",
    "            ],\n",
    "        },\n",
    "    )"
   ]
  },
  {
   "cell_type": "code",
   "execution_count": null,
   "metadata": {},
   "outputs": [],
   "source": [
    "pprint(result)"
   ]
  }
 ],
 "metadata": {
  "kernelspec": {
   "display_name": ".venv",
   "language": "python",
   "name": "python3"
  },
  "language_info": {
   "codemirror_mode": {
    "name": "ipython",
    "version": 3
   },
   "file_extension": ".py",
   "mimetype": "text/x-python",
   "name": "python",
   "nbconvert_exporter": "python",
   "pygments_lexer": "ipython3"
  }
 },
 "nbformat": 4,
 "nbformat_minor": 2
}
