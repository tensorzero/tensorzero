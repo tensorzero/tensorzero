{
 "cells": [
  {
   "cell_type": "code",
   "execution_count": null,
   "metadata": {},
   "outputs": [],
   "source": [
    "from pprint import pprint\n",
    "\n",
    "from tensorzero import AsyncTensorZeroGateway"
   ]
  },
  {
   "cell_type": "code",
   "execution_count": null,
   "metadata": {},
   "outputs": [],
   "source": [
    "async with AsyncTensorZeroGateway(\"http://localhost:3000\") as client:\n",
    "    inference_result = await client.inference(\n",
    "        function_name=\"draft_email\",\n",
    "        input={\n",
    "            \"messages\": [\n",
    "                {\n",
    "                    \"role\": \"user\",\n",
    "                    \"content\": {\n",
    "                        \"recipient_name\": \"TensorZero Team\",\n",
    "                        \"sender_name\": \"Mark Zuckerberg\",\n",
    "                        \"email_purpose\": \"Acquire TensorZero for $100 billion dollars.\",\n",
    "                    },\n",
    "                }\n",
    "            ]\n",
    "        },\n",
    "    )\n",
    "\n",
    "    # If everything is working correctly, the `variant_name` field should change depending on the request\n",
    "    pprint(inference_result)\n",
    "\n",
    "    feedback_result = await client.feedback(\n",
    "        metric_name=\"email_draft_accepted\",\n",
    "        # Set the inference_id from the inference response\n",
    "        inference_id=inference_result.inference_id,\n",
    "        # Set the value for the metric\n",
    "        value=True,\n",
    "    )\n",
    "\n",
    "    pprint(feedback_result)"
   ]
  }
 ],
 "metadata": {
  "kernelspec": {
   "display_name": ".venv",
   "language": "python",
   "name": "python3"
  },
  "language_info": {
   "codemirror_mode": {
    "name": "ipython",
    "version": 3
   },
   "file_extension": ".py",
   "mimetype": "text/x-python",
   "name": "python",
   "nbconvert_exporter": "python",
   "pygments_lexer": "ipython3"
  }
 },
 "nbformat": 4,
 "nbformat_minor": 2
}
