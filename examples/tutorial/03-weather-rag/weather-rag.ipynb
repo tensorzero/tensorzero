{
 "cells": [
  {
   "cell_type": "code",
   "execution_count": null,
   "metadata": {},
   "outputs": [],
   "source": [
    "from pprint import pprint\n",
    "\n",
    "from tensorzero import AsyncTensorZeroGateway, ToolCall"
   ]
  },
  {
   "cell_type": "code",
   "execution_count": null,
   "metadata": {},
   "outputs": [],
   "source": [
    "async with AsyncTensorZeroGateway(\"http://localhost:3000\") as client:\n",
    "    query_result = await client.inference(\n",
    "        function_name=\"generate_weather_query\",\n",
    "        # This is the first inference request in an episode so we don't need to provide an episode_id\n",
    "        input={\n",
    "            \"messages\": [\n",
    "                {\"role\": \"user\", \"content\": \"What is the weather like in São Paulo?\"}\n",
    "            ]\n",
    "        },\n",
    "    )\n",
    "\n",
    "    pprint(query_result)\n",
    "\n",
    "    # In a production setting, you'd validate the output more thoroughly\n",
    "    assert len(query_result.content) == 1\n",
    "    assert isinstance(query_result.content[0], ToolCall)\n",
    "\n",
    "    location = query_result.content[0].arguments.get(\"location\")\n",
    "    units = query_result.content[0].arguments.get(\"units\")\n",
    "    temperature = \"80\"  # imagine this came from some API\n",
    "\n",
    "    report_result = await client.inference(\n",
    "        function_name=\"generate_weather_report\",\n",
    "        # This is the second inference request in an episode so we need to provide the episode_id\n",
    "        episode_id=query_result.episode_id,\n",
    "        input={\n",
    "            \"messages\": [\n",
    "                {\n",
    "                    \"role\": \"user\",\n",
    "                    \"content\": {\n",
    "                        \"location\": location,\n",
    "                        \"temperature\": temperature,\n",
    "                        \"units\": units,\n",
    "                    },\n",
    "                }\n",
    "            ]\n",
    "        },\n",
    "    )\n",
    "\n",
    "    pprint(report_result)\n",
    "\n",
    "    feedback_result = await client.feedback(\n",
    "        metric_name=\"user_rating\",\n",
    "        # Set the episode_id to the one returned in the inference response\n",
    "        episode_id=report_result.episode_id,\n",
    "        # Set the value for the metric (numeric types will be coerced to float)\n",
    "        value=5,\n",
    "    )\n",
    "\n",
    "    pprint(feedback_result)"
   ]
  }
 ],
 "metadata": {
  "kernelspec": {
   "display_name": ".venv",
   "language": "python",
   "name": "python3"
  },
  "language_info": {
   "codemirror_mode": {
    "name": "ipython",
    "version": 3
   },
   "file_extension": ".py",
   "mimetype": "text/x-python",
   "name": "python",
   "nbconvert_exporter": "python",
   "pygments_lexer": "ipython3"
  }
 },
 "nbformat": 4,
 "nbformat_minor": 2
}
