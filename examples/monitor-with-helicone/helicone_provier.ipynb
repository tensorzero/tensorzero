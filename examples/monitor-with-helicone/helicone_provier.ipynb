{
 "cells": [
  {
   "cell_type": "code",
   "execution_count": null,
   "metadata": {},
   "outputs": [],
   "source": [
    "import os\n",
    "\n",
    "from tensorzero import TensorZeroGateway\n",
    "\n",
    "headers = {\"Helicone-Auth\": f\"Bearer {os.getenv('HELICONE_API_KEY')}\"}\n",
    "with TensorZeroGateway(\"http://localhost:3000\") as client:\n",
    "    response = client.inference(\n",
    "        function_name=\"my_function_name\",\n",
    "        variant_name=\"my_variant_name\",\n",
    "        input={\n",
    "            \"messages\": [\n",
    "                {\n",
    "                    \"role\": \"user\",\n",
    "                    \"content\": \"Say hello world\",\n",
    "                }\n",
    "            ]\n",
    "        },\n",
    "    )\n",
    "\n",
    "print(response)"
   ]
  }
 ],
 "metadata": {
  "kernelspec": {
   "display_name": "tensorzeroex",
   "language": "python",
   "name": "python3"
  },
  "language_info": {
   "codemirror_mode": {
    "name": "ipython",
    "version": 3
   },
   "file_extension": ".py",
   "mimetype": "text/x-python",
   "name": "python",
   "nbconvert_exporter": "python",
   "pygments_lexer": "ipython3"
  }
 },
 "nbformat": 4,
 "nbformat_minor": 2
}
