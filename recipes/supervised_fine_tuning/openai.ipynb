{
 "cells": [
  {
   "cell_type": "markdown",
   "metadata": {},
   "source": [
    "# OpenAI Supervised Fine-Tuning\n",
    "\n",
    "This recipe allows TensorZero users to fine-tune OpenAI models using their own data.\n",
    "Since TensorZero automatically logs all inferences and feedback, it is straightforward to fine-tune a model using your own data and any prompt you want.\n",
    "\n",
    "To use this recipe, you need to set the following parameters:\n"
   ]
  },
  {
   "cell_type": "code",
   "execution_count": 1,
   "metadata": {},
   "outputs": [],
   "source": [
    "from pathlib import Path\n",
    "\n",
    "CLICKHOUSE_HOST = \"localhost\"\n",
    "METRIC_NAME = \"haiku_score\"\n",
    "FUNCTION_NAME = \"write_haiku\"\n",
    "# The name of the variant to use to grab the templates used for fine-tuning\n",
    "TEMPLATE_VARIANT_NAME = \"initial_prompt_gpt4o\"\n",
    "CONFIG_PATH = Path(\"../../examples/haiku_hidden_preferences/config/tensorzero.toml\")\n",
    "# Only relevant if the metric is a float metric\n",
    "FLOAT_METRIC_THRESHOLD = 0.5\n",
    "# Max number of samples to use for fine-tuning\n",
    "MAX_SAMPLES = 100_000\n",
    "# The name of the model to fine-tune (supported models [here](https://platform.openai.com/docs/guides/fine-tuning))\n",
    "MODEL_NAME = \"gpt-4o-mini-2024-07-18\"\n",
    "DATABASE_NAME = \"tensorzero\""
   ]
  },
  {
   "cell_type": "code",
   "execution_count": 24,
   "metadata": {},
   "outputs": [],
   "source": [
    "import json\n",
    "import tempfile\n",
    "import time\n",
    "from typing import Any, Dict, List\n",
    "\n",
    "import openai\n",
    "import toml\n",
    "from clickhouse_driver import Client\n",
    "from IPython.display import clear_output\n",
    "from minijinja import Environment"
   ]
  },
  {
   "cell_type": "code",
   "execution_count": 3,
   "metadata": {},
   "outputs": [],
   "source": [
    "with CONFIG_PATH.open(\"r\") as f:\n",
    "    config = toml.load(f)"
   ]
  },
  {
   "cell_type": "code",
   "execution_count": 4,
   "metadata": {},
   "outputs": [],
   "source": [
    "metric = config[\"metrics\"][METRIC_NAME]\n",
    "if metric[\"type\"] not in [\"float\", \"boolean\"]:\n",
    "    raise ValueError(\n",
    "        f\"Metric {METRIC_NAME} is not a float or boolean metric and is not supported by this recipe.\"\n",
    "    )"
   ]
  },
  {
   "cell_type": "code",
   "execution_count": 5,
   "metadata": {},
   "outputs": [],
   "source": [
    "variant = config[\"functions\"][FUNCTION_NAME][\"variants\"][TEMPLATE_VARIANT_NAME]\n",
    "config_dir = CONFIG_PATH.parent\n",
    "system_template_path = (\n",
    "    config_dir / variant[\"system_template\"] if \"system_template\" in variant else None\n",
    ")\n",
    "user_template_path = (\n",
    "    config_dir / variant[\"user_template\"] if \"user_template\" in variant else None\n",
    ")\n",
    "assistant_template_path = (\n",
    "    config_dir / variant[\"assistant_template\"]\n",
    "    if \"assistant_template\" in variant\n",
    "    else None\n",
    ")"
   ]
  },
  {
   "cell_type": "code",
   "execution_count": 6,
   "metadata": {},
   "outputs": [
    {
     "data": {
      "text/plain": [
       "{'type': 'chat_completion',\n",
       " 'weight': 0.25,\n",
       " 'model': 'gpt-4o-2024-08-06',\n",
       " 'system_template': 'functions/write_haiku/initial_prompt/system_template.minijinja',\n",
       " 'user_template': 'functions/write_haiku/initial_prompt/user_template.minijinja'}"
      ]
     },
     "execution_count": 6,
     "metadata": {},
     "output_type": "execute_result"
    }
   ],
   "source": [
    "variant"
   ]
  },
  {
   "cell_type": "code",
   "execution_count": 7,
   "metadata": {},
   "outputs": [],
   "source": [
    "templates = {}\n",
    "if system_template_path:\n",
    "    with system_template_path.open(\"r\") as f:\n",
    "        templates[\"system\"] = f.read()\n",
    "if user_template_path:\n",
    "    with user_template_path.open(\"r\") as f:\n",
    "        templates[\"user\"] = f.read()\n",
    "if assistant_template_path:\n",
    "    with assistant_template_path.open(\"r\") as f:\n",
    "        templates[\"assistant\"] = f.read()\n",
    "env = Environment(templates=templates)"
   ]
  },
  {
   "cell_type": "code",
   "execution_count": 8,
   "metadata": {},
   "outputs": [],
   "source": [
    "clickhouse_client = Client(host=CLICKHOUSE_HOST, database=DATABASE_NAME)"
   ]
  },
  {
   "cell_type": "code",
   "execution_count": 9,
   "metadata": {},
   "outputs": [],
   "source": [
    "metric_table_name = {\n",
    "    \"float\": \"FloatMetricFeedback\",\n",
    "    \"boolean\": \"BooleanMetricFeedback\",\n",
    "}.get(metric[\"type\"])\n",
    "\n",
    "if metric_table_name is None:\n",
    "    raise ValueError(f\"Unsupported metric type: {metric['type']}\")"
   ]
  },
  {
   "cell_type": "code",
   "execution_count": 10,
   "metadata": {},
   "outputs": [],
   "source": [
    "# Query the inferences and feedback from the database and join them on the inference id\n",
    "df = clickhouse_client.query_dataframe(f\"\"\"SELECT \n",
    "    i.variant_name, \n",
    "    i.input, \n",
    "    i.output, \n",
    "    f.value\n",
    "FROM \n",
    "    Inference i\n",
    "JOIN \n",
    "    {metric_table_name} f ON i.id = f.target_id\n",
    "WHERE \n",
    "    i.function_name = '{FUNCTION_NAME}'\"\"\")"
   ]
  },
  {
   "cell_type": "code",
   "execution_count": 12,
   "metadata": {},
   "outputs": [
    {
     "name": "stdout",
     "output_type": "stream",
     "text": [
      "The original dataframe has 500 rows\n",
      "The filtered dataframe has 243 rows\n"
     ]
    }
   ],
   "source": [
    "# We filter the dataframe to only include \"good\" examples\n",
    "threshold = FLOAT_METRIC_THRESHOLD if metric[\"type\"] == \"float\" else 0.5\n",
    "optimize_direction = metric[\"optimize\"]\n",
    "filtered_df = (\n",
    "    df[df[\"value\"] > threshold]\n",
    "    if optimize_direction == \"max\"\n",
    "    else df[df[\"value\"] < threshold].copy()\n",
    ")\n",
    "print(\"The original dataframe has\", len(df), \"rows\")\n",
    "print(\"The filtered dataframe has\", len(filtered_df), \"rows\")"
   ]
  },
  {
   "cell_type": "code",
   "execution_count": 13,
   "metadata": {},
   "outputs": [],
   "source": [
    "def render_message(content: List[Dict[str, Any]], role: str) -> str:\n",
    "    assert role in [\"user\", \"assistant\"]\n",
    "    if len(content) != 1:\n",
    "        raise ValueError(f\"Message {content} has a not-one number of content blocks.\")\n",
    "    if content[0][\"type\"] != \"text\":\n",
    "        raise ValueError(f\"Message {content} has a not-text content block.\")\n",
    "    content = content[0][\"value\"]\n",
    "    if isinstance(content, str):\n",
    "        return content\n",
    "    else:\n",
    "        return env.render_template(role, **content)"
   ]
  },
  {
   "cell_type": "code",
   "execution_count": 14,
   "metadata": {},
   "outputs": [],
   "source": [
    "def example_to_openai_messages(example) -> List[Dict[str, str]]:\n",
    "    function_input = json.loads(example[\"input\"])\n",
    "    system = function_input.get(\"system\", {})\n",
    "    rendered_messages = []\n",
    "    # Add the system message to the rendered messages\n",
    "    # If there is data passed in or a system template there must be a system message\n",
    "    if len(system) > 0 or system_template_path:\n",
    "        if system_template_path:\n",
    "            system_message = env.render_template(\"system\", **system)\n",
    "            rendered_messages.append({\"role\": \"system\", \"content\": system_message})\n",
    "        else:\n",
    "            rendered_messages.append({\"role\": \"system\", \"content\": system})\n",
    "    # Add the input messages to the rendered messages\n",
    "    for message in function_input[\"messages\"]:\n",
    "        rendered_message = render_message(message[\"content\"], message[\"role\"])\n",
    "        rendered_messages.append({\"role\": message[\"role\"], \"content\": rendered_message})\n",
    "    # Add the output to the messages\n",
    "    output = json.loads(example[\"output\"])\n",
    "    if len(output) != 1:\n",
    "        raise ValueError(f\"Output {output} has a not-one number of content blocks.\")\n",
    "    if output[0][\"type\"] != \"text\":\n",
    "        raise ValueError(f\"Output {output} has a not-text content block.\")\n",
    "    rendered_messages.append({\"role\": \"assistant\", \"content\": output[0][\"text\"]})\n",
    "    return dict(messages=rendered_messages)"
   ]
  },
  {
   "cell_type": "code",
   "execution_count": 15,
   "metadata": {},
   "outputs": [
    {
     "name": "stderr",
     "output_type": "stream",
     "text": [
      "/var/folders/wn/t71_3fwd01d9tfdyt_gcnmv40000gn/T/ipykernel_8232/3606034244.py:1: SettingWithCopyWarning: \n",
      "A value is trying to be set on a copy of a slice from a DataFrame.\n",
      "Try using .loc[row_indexer,col_indexer] = value instead\n",
      "\n",
      "See the caveats in the documentation: https://pandas.pydata.org/pandas-docs/stable/user_guide/indexing.html#returning-a-view-versus-a-copy\n",
      "  filtered_df[\"openai_messages\"] = filtered_df.apply(example_to_openai_messages, axis=1)\n"
     ]
    }
   ],
   "source": [
    "filtered_df[\"openai_messages\"] = filtered_df.apply(example_to_openai_messages, axis=1)"
   ]
  },
  {
   "cell_type": "code",
   "execution_count": 22,
   "metadata": {},
   "outputs": [
    {
     "name": "stdout",
     "output_type": "stream",
     "text": [
      "temp_file_path: /var/folders/wn/t71_3fwd01d9tfdyt_gcnmv40000gn/T/tmpvyeki17k.jsonl\n"
     ]
    }
   ],
   "source": [
    "# TODO: do a train-val split, upload both to OpenAI and use the val set as part of the job\n",
    "# Create a temporary file in the format that OpenAI expects for fine-tuning\n",
    "temp_file = tempfile.NamedTemporaryFile(mode=\"w\", suffix=\".jsonl\")\n",
    "\n",
    "# Write the openai_messages to the temporary file\n",
    "for item in filtered_df[\"openai_messages\"]:\n",
    "    json.dump(item, temp_file)\n",
    "    temp_file.write(\"\\n\")\n",
    "temp_file.flush()\n",
    "# Get the file path\n",
    "temp_file_path = temp_file.name\n",
    "print(f\"temp_file_path: {temp_file_path}\")\n",
    "# Be sure to close the file later to avoid a resource leak"
   ]
  },
  {
   "cell_type": "code",
   "execution_count": 17,
   "metadata": {},
   "outputs": [],
   "source": [
    "openai_client = openai.OpenAI()\n",
    "# Upload the file to OpenAI\n",
    "file_object = openai_client.files.create(\n",
    "    file=open(temp_file_path, \"rb\"), purpose=\"fine-tune\"\n",
    ")\n",
    "# We can close it now (deletes but we've already uploaded)\n",
    "temp_file.close()"
   ]
  },
  {
   "cell_type": "code",
   "execution_count": 18,
   "metadata": {},
   "outputs": [],
   "source": [
    "ft_job = openai_client.fine_tuning.jobs.create(\n",
    "    training_file=file_object.id, model=MODEL_NAME\n",
    ")"
   ]
  },
  {
   "cell_type": "code",
   "execution_count": 25,
   "metadata": {},
   "outputs": [
    {
     "name": "stdout",
     "output_type": "stream",
     "text": [
      "job_status: FineTuningJob(id='ftjob-4h6UuiWHgwJ6dTpWXXBzoRS1', created_at=1724776316, error=Error(code=None, message=None, param=None), fine_tuned_model=None, finished_at=None, hyperparameters=Hyperparameters(n_epochs=3, batch_size=1, learning_rate_multiplier=2), model='gpt-4o-2024-08-06', object='fine_tuning.job', organization_id='org-fewHWgmYjDeYGco5co60C7fh', result_files=[], seed=1523924585, status='running', trained_tokens=None, training_file='file-jFppbsRqj4QNTVQK41dVXsXR', validation_file=None, estimated_finish=None, integrations=[], user_provided_suffix=None)\n",
      "job_status: FineTuningJob(id='ftjob-4h6UuiWHgwJ6dTpWXXBzoRS1', created_at=1724776316, error=Error(code=None, message=None, param=None), fine_tuned_model=None, finished_at=None, hyperparameters=Hyperparameters(n_epochs=3, batch_size=1, learning_rate_multiplier=2), model='gpt-4o-2024-08-06', object='fine_tuning.job', organization_id='org-fewHWgmYjDeYGco5co60C7fh', result_files=[], seed=1523924585, status='running', trained_tokens=None, training_file='file-jFppbsRqj4QNTVQK41dVXsXR', validation_file=None, estimated_finish=None, integrations=[], user_provided_suffix=None)\n",
      "job_status: FineTuningJob(id='ftjob-4h6UuiWHgwJ6dTpWXXBzoRS1', created_at=1724776316, error=Error(code=None, message=None, param=None), fine_tuned_model=None, finished_at=None, hyperparameters=Hyperparameters(n_epochs=3, batch_size=1, learning_rate_multiplier=2), model='gpt-4o-2024-08-06', object='fine_tuning.job', organization_id='org-fewHWgmYjDeYGco5co60C7fh', result_files=[], seed=1523924585, status='running', trained_tokens=None, training_file='file-jFppbsRqj4QNTVQK41dVXsXR', validation_file=None, estimated_finish=None, integrations=[], user_provided_suffix=None)\n",
      "job_status: FineTuningJob(id='ftjob-4h6UuiWHgwJ6dTpWXXBzoRS1', created_at=1724776316, error=Error(code=None, message=None, param=None), fine_tuned_model=None, finished_at=None, hyperparameters=Hyperparameters(n_epochs=3, batch_size=1, learning_rate_multiplier=2), model='gpt-4o-2024-08-06', object='fine_tuning.job', organization_id='org-fewHWgmYjDeYGco5co60C7fh', result_files=[], seed=1523924585, status='running', trained_tokens=None, training_file='file-jFppbsRqj4QNTVQK41dVXsXR', validation_file=None, estimated_finish=None, integrations=[], user_provided_suffix=None)\n",
      "job_status: FineTuningJob(id='ftjob-4h6UuiWHgwJ6dTpWXXBzoRS1', created_at=1724776316, error=Error(code=None, message=None, param=None), fine_tuned_model=None, finished_at=None, hyperparameters=Hyperparameters(n_epochs=3, batch_size=1, learning_rate_multiplier=2), model='gpt-4o-2024-08-06', object='fine_tuning.job', organization_id='org-fewHWgmYjDeYGco5co60C7fh', result_files=[], seed=1523924585, status='running', trained_tokens=None, training_file='file-jFppbsRqj4QNTVQK41dVXsXR', validation_file=None, estimated_finish=None, integrations=[], user_provided_suffix=None)\n",
      "job_status: FineTuningJob(id='ftjob-4h6UuiWHgwJ6dTpWXXBzoRS1', created_at=1724776316, error=Error(code=None, message=None, param=None), fine_tuned_model=None, finished_at=None, hyperparameters=Hyperparameters(n_epochs=3, batch_size=1, learning_rate_multiplier=2), model='gpt-4o-2024-08-06', object='fine_tuning.job', organization_id='org-fewHWgmYjDeYGco5co60C7fh', result_files=[], seed=1523924585, status='running', trained_tokens=None, training_file='file-jFppbsRqj4QNTVQK41dVXsXR', validation_file=None, estimated_finish=None, integrations=[], user_provided_suffix=None)\n",
      "job_status: FineTuningJob(id='ftjob-4h6UuiWHgwJ6dTpWXXBzoRS1', created_at=1724776316, error=Error(code=None, message=None, param=None), fine_tuned_model=None, finished_at=None, hyperparameters=Hyperparameters(n_epochs=3, batch_size=1, learning_rate_multiplier=2), model='gpt-4o-2024-08-06', object='fine_tuning.job', organization_id='org-fewHWgmYjDeYGco5co60C7fh', result_files=[], seed=1523924585, status='running', trained_tokens=None, training_file='file-jFppbsRqj4QNTVQK41dVXsXR', validation_file=None, estimated_finish=None, integrations=[], user_provided_suffix=None)\n",
      "job_status: FineTuningJob(id='ftjob-4h6UuiWHgwJ6dTpWXXBzoRS1', created_at=1724776316, error=Error(code=None, message=None, param=None), fine_tuned_model=None, finished_at=None, hyperparameters=Hyperparameters(n_epochs=3, batch_size=1, learning_rate_multiplier=2), model='gpt-4o-2024-08-06', object='fine_tuning.job', organization_id='org-fewHWgmYjDeYGco5co60C7fh', result_files=[], seed=1523924585, status='running', trained_tokens=None, training_file='file-jFppbsRqj4QNTVQK41dVXsXR', validation_file=None, estimated_finish=None, integrations=[], user_provided_suffix=None)\n",
      "job_status: FineTuningJob(id='ftjob-4h6UuiWHgwJ6dTpWXXBzoRS1', created_at=1724776316, error=Error(code=None, message=None, param=None), fine_tuned_model=None, finished_at=None, hyperparameters=Hyperparameters(n_epochs=3, batch_size=1, learning_rate_multiplier=2), model='gpt-4o-2024-08-06', object='fine_tuning.job', organization_id='org-fewHWgmYjDeYGco5co60C7fh', result_files=[], seed=1523924585, status='running', trained_tokens=None, training_file='file-jFppbsRqj4QNTVQK41dVXsXR', validation_file=None, estimated_finish=None, integrations=[], user_provided_suffix=None)\n",
      "job_status: FineTuningJob(id='ftjob-4h6UuiWHgwJ6dTpWXXBzoRS1', created_at=1724776316, error=Error(code=None, message=None, param=None), fine_tuned_model=None, finished_at=None, hyperparameters=Hyperparameters(n_epochs=3, batch_size=1, learning_rate_multiplier=2), model='gpt-4o-2024-08-06', object='fine_tuning.job', organization_id='org-fewHWgmYjDeYGco5co60C7fh', result_files=[], seed=1523924585, status='running', trained_tokens=None, training_file='file-jFppbsRqj4QNTVQK41dVXsXR', validation_file=None, estimated_finish=None, integrations=[], user_provided_suffix=None)\n",
      "job_status: FineTuningJob(id='ftjob-4h6UuiWHgwJ6dTpWXXBzoRS1', created_at=1724776316, error=Error(code=None, message=None, param=None), fine_tuned_model=None, finished_at=None, hyperparameters=Hyperparameters(n_epochs=3, batch_size=1, learning_rate_multiplier=2), model='gpt-4o-2024-08-06', object='fine_tuning.job', organization_id='org-fewHWgmYjDeYGco5co60C7fh', result_files=[], seed=1523924585, status='running', trained_tokens=None, training_file='file-jFppbsRqj4QNTVQK41dVXsXR', validation_file=None, estimated_finish=1724778024, integrations=[], user_provided_suffix=None)\n",
      "job_status: FineTuningJob(id='ftjob-4h6UuiWHgwJ6dTpWXXBzoRS1', created_at=1724776316, error=Error(code=None, message=None, param=None), fine_tuned_model=None, finished_at=None, hyperparameters=Hyperparameters(n_epochs=3, batch_size=1, learning_rate_multiplier=2), model='gpt-4o-2024-08-06', object='fine_tuning.job', organization_id='org-fewHWgmYjDeYGco5co60C7fh', result_files=[], seed=1523924585, status='running', trained_tokens=None, training_file='file-jFppbsRqj4QNTVQK41dVXsXR', validation_file=None, estimated_finish=1724777690, integrations=[], user_provided_suffix=None)\n",
      "job_status: FineTuningJob(id='ftjob-4h6UuiWHgwJ6dTpWXXBzoRS1', created_at=1724776316, error=Error(code=None, message=None, param=None), fine_tuned_model=None, finished_at=None, hyperparameters=Hyperparameters(n_epochs=3, batch_size=1, learning_rate_multiplier=2), model='gpt-4o-2024-08-06', object='fine_tuning.job', organization_id='org-fewHWgmYjDeYGco5co60C7fh', result_files=[], seed=1523924585, status='running', trained_tokens=None, training_file='file-jFppbsRqj4QNTVQK41dVXsXR', validation_file=None, estimated_finish=1724777627, integrations=[], user_provided_suffix=None)\n",
      "job_status: FineTuningJob(id='ftjob-4h6UuiWHgwJ6dTpWXXBzoRS1', created_at=1724776316, error=Error(code=None, message=None, param=None), fine_tuned_model=None, finished_at=None, hyperparameters=Hyperparameters(n_epochs=3, batch_size=1, learning_rate_multiplier=2), model='gpt-4o-2024-08-06', object='fine_tuning.job', organization_id='org-fewHWgmYjDeYGco5co60C7fh', result_files=[], seed=1523924585, status='running', trained_tokens=None, training_file='file-jFppbsRqj4QNTVQK41dVXsXR', validation_file=None, estimated_finish=1724777637, integrations=[], user_provided_suffix=None)\n",
      "job_status: FineTuningJob(id='ftjob-4h6UuiWHgwJ6dTpWXXBzoRS1', created_at=1724776316, error=Error(code=None, message=None, param=None), fine_tuned_model=None, finished_at=None, hyperparameters=Hyperparameters(n_epochs=3, batch_size=1, learning_rate_multiplier=2), model='gpt-4o-2024-08-06', object='fine_tuning.job', organization_id='org-fewHWgmYjDeYGco5co60C7fh', result_files=[], seed=1523924585, status='running', trained_tokens=None, training_file='file-jFppbsRqj4QNTVQK41dVXsXR', validation_file=None, estimated_finish=1724777614, integrations=[], user_provided_suffix=None)\n",
      "job_status: FineTuningJob(id='ftjob-4h6UuiWHgwJ6dTpWXXBzoRS1', created_at=1724776316, error=Error(code=None, message=None, param=None), fine_tuned_model=None, finished_at=None, hyperparameters=Hyperparameters(n_epochs=3, batch_size=1, learning_rate_multiplier=2), model='gpt-4o-2024-08-06', object='fine_tuning.job', organization_id='org-fewHWgmYjDeYGco5co60C7fh', result_files=[], seed=1523924585, status='running', trained_tokens=None, training_file='file-jFppbsRqj4QNTVQK41dVXsXR', validation_file=None, estimated_finish=1724777637, integrations=[], user_provided_suffix=None)\n",
      "job_status: FineTuningJob(id='ftjob-4h6UuiWHgwJ6dTpWXXBzoRS1', created_at=1724776316, error=Error(code=None, message=None, param=None), fine_tuned_model=None, finished_at=None, hyperparameters=Hyperparameters(n_epochs=3, batch_size=1, learning_rate_multiplier=2), model='gpt-4o-2024-08-06', object='fine_tuning.job', organization_id='org-fewHWgmYjDeYGco5co60C7fh', result_files=[], seed=1523924585, status='running', trained_tokens=None, training_file='file-jFppbsRqj4QNTVQK41dVXsXR', validation_file=None, estimated_finish=1724777621, integrations=[], user_provided_suffix=None)\n",
      "job_status: FineTuningJob(id='ftjob-4h6UuiWHgwJ6dTpWXXBzoRS1', created_at=1724776316, error=Error(code=None, message=None, param=None), fine_tuned_model=None, finished_at=None, hyperparameters=Hyperparameters(n_epochs=3, batch_size=1, learning_rate_multiplier=2), model='gpt-4o-2024-08-06', object='fine_tuning.job', organization_id='org-fewHWgmYjDeYGco5co60C7fh', result_files=[], seed=1523924585, status='running', trained_tokens=None, training_file='file-jFppbsRqj4QNTVQK41dVXsXR', validation_file=None, estimated_finish=1724777631, integrations=[], user_provided_suffix=None)\n",
      "job_status: FineTuningJob(id='ftjob-4h6UuiWHgwJ6dTpWXXBzoRS1', created_at=1724776316, error=Error(code=None, message=None, param=None), fine_tuned_model=None, finished_at=None, hyperparameters=Hyperparameters(n_epochs=3, batch_size=1, learning_rate_multiplier=2), model='gpt-4o-2024-08-06', object='fine_tuning.job', organization_id='org-fewHWgmYjDeYGco5co60C7fh', result_files=[], seed=1523924585, status='running', trained_tokens=None, training_file='file-jFppbsRqj4QNTVQK41dVXsXR', validation_file=None, estimated_finish=1724777619, integrations=[], user_provided_suffix=None)\n",
      "job_status: FineTuningJob(id='ftjob-4h6UuiWHgwJ6dTpWXXBzoRS1', created_at=1724776316, error=Error(code=None, message=None, param=None), fine_tuned_model=None, finished_at=None, hyperparameters=Hyperparameters(n_epochs=3, batch_size=1, learning_rate_multiplier=2), model='gpt-4o-2024-08-06', object='fine_tuning.job', organization_id='org-fewHWgmYjDeYGco5co60C7fh', result_files=[], seed=1523924585, status='running', trained_tokens=None, training_file='file-jFppbsRqj4QNTVQK41dVXsXR', validation_file=None, estimated_finish=1724777628, integrations=[], user_provided_suffix=None)\n",
      "job_status: FineTuningJob(id='ftjob-4h6UuiWHgwJ6dTpWXXBzoRS1', created_at=1724776316, error=Error(code=None, message=None, param=None), fine_tuned_model=None, finished_at=None, hyperparameters=Hyperparameters(n_epochs=3, batch_size=1, learning_rate_multiplier=2), model='gpt-4o-2024-08-06', object='fine_tuning.job', organization_id='org-fewHWgmYjDeYGco5co60C7fh', result_files=[], seed=1523924585, status='running', trained_tokens=None, training_file='file-jFppbsRqj4QNTVQK41dVXsXR', validation_file=None, estimated_finish=1724777638, integrations=[], user_provided_suffix=None)\n",
      "job_status: FineTuningJob(id='ftjob-4h6UuiWHgwJ6dTpWXXBzoRS1', created_at=1724776316, error=Error(code=None, message=None, param=None), fine_tuned_model=None, finished_at=None, hyperparameters=Hyperparameters(n_epochs=3, batch_size=1, learning_rate_multiplier=2), model='gpt-4o-2024-08-06', object='fine_tuning.job', organization_id='org-fewHWgmYjDeYGco5co60C7fh', result_files=[], seed=1523924585, status='running', trained_tokens=None, training_file='file-jFppbsRqj4QNTVQK41dVXsXR', validation_file=None, estimated_finish=1724777626, integrations=[], user_provided_suffix=None)\n",
      "job_status: FineTuningJob(id='ftjob-4h6UuiWHgwJ6dTpWXXBzoRS1', created_at=1724776316, error=Error(code=None, message=None, param=None), fine_tuned_model=None, finished_at=None, hyperparameters=Hyperparameters(n_epochs=3, batch_size=1, learning_rate_multiplier=2), model='gpt-4o-2024-08-06', object='fine_tuning.job', organization_id='org-fewHWgmYjDeYGco5co60C7fh', result_files=[], seed=1523924585, status='running', trained_tokens=None, training_file='file-jFppbsRqj4QNTVQK41dVXsXR', validation_file=None, estimated_finish=1724777618, integrations=[], user_provided_suffix=None)\n",
      "job_status: FineTuningJob(id='ftjob-4h6UuiWHgwJ6dTpWXXBzoRS1', created_at=1724776316, error=Error(code=None, message=None, param=None), fine_tuned_model=None, finished_at=None, hyperparameters=Hyperparameters(n_epochs=3, batch_size=1, learning_rate_multiplier=2), model='gpt-4o-2024-08-06', object='fine_tuning.job', organization_id='org-fewHWgmYjDeYGco5co60C7fh', result_files=[], seed=1523924585, status='running', trained_tokens=None, training_file='file-jFppbsRqj4QNTVQK41dVXsXR', validation_file=None, estimated_finish=1724777628, integrations=[], user_provided_suffix=None)\n",
      "job_status: FineTuningJob(id='ftjob-4h6UuiWHgwJ6dTpWXXBzoRS1', created_at=1724776316, error=Error(code=None, message=None, param=None), fine_tuned_model=None, finished_at=None, hyperparameters=Hyperparameters(n_epochs=3, batch_size=1, learning_rate_multiplier=2), model='gpt-4o-2024-08-06', object='fine_tuning.job', organization_id='org-fewHWgmYjDeYGco5co60C7fh', result_files=[], seed=1523924585, status='running', trained_tokens=None, training_file='file-jFppbsRqj4QNTVQK41dVXsXR', validation_file=None, estimated_finish=1724777645, integrations=[], user_provided_suffix=None)\n",
      "job_status: FineTuningJob(id='ftjob-4h6UuiWHgwJ6dTpWXXBzoRS1', created_at=1724776316, error=Error(code=None, message=None, param=None), fine_tuned_model=None, finished_at=None, hyperparameters=Hyperparameters(n_epochs=3, batch_size=1, learning_rate_multiplier=2), model='gpt-4o-2024-08-06', object='fine_tuning.job', organization_id='org-fewHWgmYjDeYGco5co60C7fh', result_files=[], seed=1523924585, status='running', trained_tokens=None, training_file='file-jFppbsRqj4QNTVQK41dVXsXR', validation_file=None, estimated_finish=1724777647, integrations=[], user_provided_suffix=None)\n",
      "job_status: FineTuningJob(id='ftjob-4h6UuiWHgwJ6dTpWXXBzoRS1', created_at=1724776316, error=Error(code=None, message=None, param=None), fine_tuned_model=None, finished_at=None, hyperparameters=Hyperparameters(n_epochs=3, batch_size=1, learning_rate_multiplier=2), model='gpt-4o-2024-08-06', object='fine_tuning.job', organization_id='org-fewHWgmYjDeYGco5co60C7fh', result_files=[], seed=1523924585, status='running', trained_tokens=None, training_file='file-jFppbsRqj4QNTVQK41dVXsXR', validation_file=None, estimated_finish=1724777658, integrations=[], user_provided_suffix=None)\n",
      "job_status: FineTuningJob(id='ftjob-4h6UuiWHgwJ6dTpWXXBzoRS1', created_at=1724776316, error=Error(code=None, message=None, param=None), fine_tuned_model=None, finished_at=None, hyperparameters=Hyperparameters(n_epochs=3, batch_size=1, learning_rate_multiplier=2), model='gpt-4o-2024-08-06', object='fine_tuning.job', organization_id='org-fewHWgmYjDeYGco5co60C7fh', result_files=[], seed=1523924585, status='running', trained_tokens=None, training_file='file-jFppbsRqj4QNTVQK41dVXsXR', validation_file=None, estimated_finish=1724777647, integrations=[], user_provided_suffix=None)\n",
      "job_status: FineTuningJob(id='ftjob-4h6UuiWHgwJ6dTpWXXBzoRS1', created_at=1724776316, error=Error(code=None, message=None, param=None), fine_tuned_model=None, finished_at=None, hyperparameters=Hyperparameters(n_epochs=3, batch_size=1, learning_rate_multiplier=2), model='gpt-4o-2024-08-06', object='fine_tuning.job', organization_id='org-fewHWgmYjDeYGco5co60C7fh', result_files=[], seed=1523924585, status='running', trained_tokens=None, training_file='file-jFppbsRqj4QNTVQK41dVXsXR', validation_file=None, estimated_finish=1724777638, integrations=[], user_provided_suffix=None)\n",
      "job_status: FineTuningJob(id='ftjob-4h6UuiWHgwJ6dTpWXXBzoRS1', created_at=1724776316, error=Error(code=None, message=None, param=None), fine_tuned_model=None, finished_at=None, hyperparameters=Hyperparameters(n_epochs=3, batch_size=1, learning_rate_multiplier=2), model='gpt-4o-2024-08-06', object='fine_tuning.job', organization_id='org-fewHWgmYjDeYGco5co60C7fh', result_files=[], seed=1523924585, status='running', trained_tokens=None, training_file='file-jFppbsRqj4QNTVQK41dVXsXR', validation_file=None, estimated_finish=1724777648, integrations=[], user_provided_suffix=None)\n",
      "job_status: FineTuningJob(id='ftjob-4h6UuiWHgwJ6dTpWXXBzoRS1', created_at=1724776316, error=Error(code=None, message=None, param=None), fine_tuned_model=None, finished_at=None, hyperparameters=Hyperparameters(n_epochs=3, batch_size=1, learning_rate_multiplier=2), model='gpt-4o-2024-08-06', object='fine_tuning.job', organization_id='org-fewHWgmYjDeYGco5co60C7fh', result_files=[], seed=1523924585, status='running', trained_tokens=None, training_file='file-jFppbsRqj4QNTVQK41dVXsXR', validation_file=None, estimated_finish=1724777651, integrations=[], user_provided_suffix=None)\n",
      "job_status: FineTuningJob(id='ftjob-4h6UuiWHgwJ6dTpWXXBzoRS1', created_at=1724776316, error=Error(code=None, message=None, param=None), fine_tuned_model=None, finished_at=None, hyperparameters=Hyperparameters(n_epochs=3, batch_size=1, learning_rate_multiplier=2), model='gpt-4o-2024-08-06', object='fine_tuning.job', organization_id='org-fewHWgmYjDeYGco5co60C7fh', result_files=[], seed=1523924585, status='running', trained_tokens=None, training_file='file-jFppbsRqj4QNTVQK41dVXsXR', validation_file=None, estimated_finish=1724777643, integrations=[], user_provided_suffix=None)\n",
      "job_status: FineTuningJob(id='ftjob-4h6UuiWHgwJ6dTpWXXBzoRS1', created_at=1724776316, error=Error(code=None, message=None, param=None), fine_tuned_model=None, finished_at=None, hyperparameters=Hyperparameters(n_epochs=3, batch_size=1, learning_rate_multiplier=2), model='gpt-4o-2024-08-06', object='fine_tuning.job', organization_id='org-fewHWgmYjDeYGco5co60C7fh', result_files=[], seed=1523924585, status='running', trained_tokens=None, training_file='file-jFppbsRqj4QNTVQK41dVXsXR', validation_file=None, estimated_finish=1724777635, integrations=[], user_provided_suffix=None)\n",
      "job_status: FineTuningJob(id='ftjob-4h6UuiWHgwJ6dTpWXXBzoRS1', created_at=1724776316, error=Error(code=None, message=None, param=None), fine_tuned_model=None, finished_at=None, hyperparameters=Hyperparameters(n_epochs=3, batch_size=1, learning_rate_multiplier=2), model='gpt-4o-2024-08-06', object='fine_tuning.job', organization_id='org-fewHWgmYjDeYGco5co60C7fh', result_files=[], seed=1523924585, status='running', trained_tokens=None, training_file='file-jFppbsRqj4QNTVQK41dVXsXR', validation_file=None, estimated_finish=1724777651, integrations=[], user_provided_suffix=None)\n",
      "job_status: FineTuningJob(id='ftjob-4h6UuiWHgwJ6dTpWXXBzoRS1', created_at=1724776316, error=Error(code=None, message=None, param=None), fine_tuned_model=None, finished_at=None, hyperparameters=Hyperparameters(n_epochs=3, batch_size=1, learning_rate_multiplier=2), model='gpt-4o-2024-08-06', object='fine_tuning.job', organization_id='org-fewHWgmYjDeYGco5co60C7fh', result_files=[], seed=1523924585, status='running', trained_tokens=None, training_file='file-jFppbsRqj4QNTVQK41dVXsXR', validation_file=None, estimated_finish=1724777650, integrations=[], user_provided_suffix=None)\n",
      "job_status: FineTuningJob(id='ftjob-4h6UuiWHgwJ6dTpWXXBzoRS1', created_at=1724776316, error=Error(code=None, message=None, param=None), fine_tuned_model=None, finished_at=None, hyperparameters=Hyperparameters(n_epochs=3, batch_size=1, learning_rate_multiplier=2), model='gpt-4o-2024-08-06', object='fine_tuning.job', organization_id='org-fewHWgmYjDeYGco5co60C7fh', result_files=[], seed=1523924585, status='running', trained_tokens=None, training_file='file-jFppbsRqj4QNTVQK41dVXsXR', validation_file=None, estimated_finish=1724777642, integrations=[], user_provided_suffix=None)\n",
      "job_status: FineTuningJob(id='ftjob-4h6UuiWHgwJ6dTpWXXBzoRS1', created_at=1724776316, error=Error(code=None, message=None, param=None), fine_tuned_model=None, finished_at=None, hyperparameters=Hyperparameters(n_epochs=3, batch_size=1, learning_rate_multiplier=2), model='gpt-4o-2024-08-06', object='fine_tuning.job', organization_id='org-fewHWgmYjDeYGco5co60C7fh', result_files=[], seed=1523924585, status='running', trained_tokens=None, training_file='file-jFppbsRqj4QNTVQK41dVXsXR', validation_file=None, estimated_finish=1724777641, integrations=[], user_provided_suffix=None)\n",
      "job_status: FineTuningJob(id='ftjob-4h6UuiWHgwJ6dTpWXXBzoRS1', created_at=1724776316, error=Error(code=None, message=None, param=None), fine_tuned_model=None, finished_at=None, hyperparameters=Hyperparameters(n_epochs=3, batch_size=1, learning_rate_multiplier=2), model='gpt-4o-2024-08-06', object='fine_tuning.job', organization_id='org-fewHWgmYjDeYGco5co60C7fh', result_files=[], seed=1523924585, status='running', trained_tokens=None, training_file='file-jFppbsRqj4QNTVQK41dVXsXR', validation_file=None, estimated_finish=1724777651, integrations=[], user_provided_suffix=None)\n",
      "job_status: FineTuningJob(id='ftjob-4h6UuiWHgwJ6dTpWXXBzoRS1', created_at=1724776316, error=Error(code=None, message=None, param=None), fine_tuned_model=None, finished_at=None, hyperparameters=Hyperparameters(n_epochs=3, batch_size=1, learning_rate_multiplier=2), model='gpt-4o-2024-08-06', object='fine_tuning.job', organization_id='org-fewHWgmYjDeYGco5co60C7fh', result_files=[], seed=1523924585, status='running', trained_tokens=None, training_file='file-jFppbsRqj4QNTVQK41dVXsXR', validation_file=None, estimated_finish=1724777649, integrations=[], user_provided_suffix=None)\n",
      "job_status: FineTuningJob(id='ftjob-4h6UuiWHgwJ6dTpWXXBzoRS1', created_at=1724776316, error=Error(code=None, message=None, param=None), fine_tuned_model=None, finished_at=None, hyperparameters=Hyperparameters(n_epochs=3, batch_size=1, learning_rate_multiplier=2), model='gpt-4o-2024-08-06', object='fine_tuning.job', organization_id='org-fewHWgmYjDeYGco5co60C7fh', result_files=[], seed=1523924585, status='running', trained_tokens=None, training_file='file-jFppbsRqj4QNTVQK41dVXsXR', validation_file=None, estimated_finish=1724777648, integrations=[], user_provided_suffix=None)\n",
      "job_status: FineTuningJob(id='ftjob-4h6UuiWHgwJ6dTpWXXBzoRS1', created_at=1724776316, error=Error(code=None, message=None, param=None), fine_tuned_model=None, finished_at=None, hyperparameters=Hyperparameters(n_epochs=3, batch_size=1, learning_rate_multiplier=2), model='gpt-4o-2024-08-06', object='fine_tuning.job', organization_id='org-fewHWgmYjDeYGco5co60C7fh', result_files=[], seed=1523924585, status='running', trained_tokens=None, training_file='file-jFppbsRqj4QNTVQK41dVXsXR', validation_file=None, estimated_finish=1724777658, integrations=[], user_provided_suffix=None)\n",
      "job_status: FineTuningJob(id='ftjob-4h6UuiWHgwJ6dTpWXXBzoRS1', created_at=1724776316, error=Error(code=None, message=None, param=None), fine_tuned_model=None, finished_at=None, hyperparameters=Hyperparameters(n_epochs=3, batch_size=1, learning_rate_multiplier=2), model='gpt-4o-2024-08-06', object='fine_tuning.job', organization_id='org-fewHWgmYjDeYGco5co60C7fh', result_files=[], seed=1523924585, status='running', trained_tokens=None, training_file='file-jFppbsRqj4QNTVQK41dVXsXR', validation_file=None, estimated_finish=1724777655, integrations=[], user_provided_suffix=None)\n",
      "job_status: FineTuningJob(id='ftjob-4h6UuiWHgwJ6dTpWXXBzoRS1', created_at=1724776316, error=Error(code=None, message=None, param=None), fine_tuned_model=None, finished_at=None, hyperparameters=Hyperparameters(n_epochs=3, batch_size=1, learning_rate_multiplier=2), model='gpt-4o-2024-08-06', object='fine_tuning.job', organization_id='org-fewHWgmYjDeYGco5co60C7fh', result_files=[], seed=1523924585, status='running', trained_tokens=None, training_file='file-jFppbsRqj4QNTVQK41dVXsXR', validation_file=None, estimated_finish=1724777647, integrations=[], user_provided_suffix=None)\n",
      "job_status: FineTuningJob(id='ftjob-4h6UuiWHgwJ6dTpWXXBzoRS1', created_at=1724776316, error=Error(code=None, message=None, param=None), fine_tuned_model=None, finished_at=None, hyperparameters=Hyperparameters(n_epochs=3, batch_size=1, learning_rate_multiplier=2), model='gpt-4o-2024-08-06', object='fine_tuning.job', organization_id='org-fewHWgmYjDeYGco5co60C7fh', result_files=[], seed=1523924585, status='running', trained_tokens=None, training_file='file-jFppbsRqj4QNTVQK41dVXsXR', validation_file=None, estimated_finish=1724777658, integrations=[], user_provided_suffix=None)\n",
      "job_status: FineTuningJob(id='ftjob-4h6UuiWHgwJ6dTpWXXBzoRS1', created_at=1724776316, error=Error(code=None, message=None, param=None), fine_tuned_model=None, finished_at=None, hyperparameters=Hyperparameters(n_epochs=3, batch_size=1, learning_rate_multiplier=2), model='gpt-4o-2024-08-06', object='fine_tuning.job', organization_id='org-fewHWgmYjDeYGco5co60C7fh', result_files=[], seed=1523924585, status='running', trained_tokens=None, training_file='file-jFppbsRqj4QNTVQK41dVXsXR', validation_file=None, estimated_finish=1724777651, integrations=[], user_provided_suffix=None)\n",
      "job_status: FineTuningJob(id='ftjob-4h6UuiWHgwJ6dTpWXXBzoRS1', created_at=1724776316, error=Error(code=None, message=None, param=None), fine_tuned_model=None, finished_at=None, hyperparameters=Hyperparameters(n_epochs=3, batch_size=1, learning_rate_multiplier=2), model='gpt-4o-2024-08-06', object='fine_tuning.job', organization_id='org-fewHWgmYjDeYGco5co60C7fh', result_files=[], seed=1523924585, status='running', trained_tokens=None, training_file='file-jFppbsRqj4QNTVQK41dVXsXR', validation_file=None, estimated_finish=1724777661, integrations=[], user_provided_suffix=None)\n",
      "job_status: FineTuningJob(id='ftjob-4h6UuiWHgwJ6dTpWXXBzoRS1', created_at=1724776316, error=Error(code=None, message=None, param=None), fine_tuned_model=None, finished_at=None, hyperparameters=Hyperparameters(n_epochs=3, batch_size=1, learning_rate_multiplier=2), model='gpt-4o-2024-08-06', object='fine_tuning.job', organization_id='org-fewHWgmYjDeYGco5co60C7fh', result_files=[], seed=1523924585, status='running', trained_tokens=None, training_file='file-jFppbsRqj4QNTVQK41dVXsXR', validation_file=None, estimated_finish=1724777686, integrations=[], user_provided_suffix=None)\n",
      "job_status: FineTuningJob(id='ftjob-4h6UuiWHgwJ6dTpWXXBzoRS1', created_at=1724776316, error=Error(code=None, message=None, param=None), fine_tuned_model=None, finished_at=None, hyperparameters=Hyperparameters(n_epochs=3, batch_size=1, learning_rate_multiplier=2), model='gpt-4o-2024-08-06', object='fine_tuning.job', organization_id='org-fewHWgmYjDeYGco5co60C7fh', result_files=[], seed=1523924585, status='running', trained_tokens=None, training_file='file-jFppbsRqj4QNTVQK41dVXsXR', validation_file=None, estimated_finish=1724777696, integrations=[], user_provided_suffix=None)\n",
      "job_status: FineTuningJob(id='ftjob-4h6UuiWHgwJ6dTpWXXBzoRS1', created_at=1724776316, error=Error(code=None, message=None, param=None), fine_tuned_model=None, finished_at=None, hyperparameters=Hyperparameters(n_epochs=3, batch_size=1, learning_rate_multiplier=2), model='gpt-4o-2024-08-06', object='fine_tuning.job', organization_id='org-fewHWgmYjDeYGco5co60C7fh', result_files=[], seed=1523924585, status='running', trained_tokens=None, training_file='file-jFppbsRqj4QNTVQK41dVXsXR', validation_file=None, estimated_finish=1724777688, integrations=[], user_provided_suffix=None)\n",
      "job_status: FineTuningJob(id='ftjob-4h6UuiWHgwJ6dTpWXXBzoRS1', created_at=1724776316, error=Error(code=None, message=None, param=None), fine_tuned_model=None, finished_at=None, hyperparameters=Hyperparameters(n_epochs=3, batch_size=1, learning_rate_multiplier=2), model='gpt-4o-2024-08-06', object='fine_tuning.job', organization_id='org-fewHWgmYjDeYGco5co60C7fh', result_files=[], seed=1523924585, status='running', trained_tokens=None, training_file='file-jFppbsRqj4QNTVQK41dVXsXR', validation_file=None, estimated_finish=1724777680, integrations=[], user_provided_suffix=None)\n",
      "job_status: FineTuningJob(id='ftjob-4h6UuiWHgwJ6dTpWXXBzoRS1', created_at=1724776316, error=Error(code=None, message=None, param=None), fine_tuned_model=None, finished_at=None, hyperparameters=Hyperparameters(n_epochs=3, batch_size=1, learning_rate_multiplier=2), model='gpt-4o-2024-08-06', object='fine_tuning.job', organization_id='org-fewHWgmYjDeYGco5co60C7fh', result_files=[], seed=1523924585, status='running', trained_tokens=None, training_file='file-jFppbsRqj4QNTVQK41dVXsXR', validation_file=None, estimated_finish=1724777690, integrations=[], user_provided_suffix=None)\n",
      "job_status: FineTuningJob(id='ftjob-4h6UuiWHgwJ6dTpWXXBzoRS1', created_at=1724776316, error=Error(code=None, message=None, param=None), fine_tuned_model=None, finished_at=None, hyperparameters=Hyperparameters(n_epochs=3, batch_size=1, learning_rate_multiplier=2), model='gpt-4o-2024-08-06', object='fine_tuning.job', organization_id='org-fewHWgmYjDeYGco5co60C7fh', result_files=[], seed=1523924585, status='running', trained_tokens=None, training_file='file-jFppbsRqj4QNTVQK41dVXsXR', validation_file=None, estimated_finish=1724777686, integrations=[], user_provided_suffix=None)\n",
      "job_status: FineTuningJob(id='ftjob-4h6UuiWHgwJ6dTpWXXBzoRS1', created_at=1724776316, error=Error(code=None, message=None, param=None), fine_tuned_model=None, finished_at=None, hyperparameters=Hyperparameters(n_epochs=3, batch_size=1, learning_rate_multiplier=2), model='gpt-4o-2024-08-06', object='fine_tuning.job', organization_id='org-fewHWgmYjDeYGco5co60C7fh', result_files=[], seed=1523924585, status='running', trained_tokens=None, training_file='file-jFppbsRqj4QNTVQK41dVXsXR', validation_file=None, estimated_finish=1724777678, integrations=[], user_provided_suffix=None)\n",
      "job_status: FineTuningJob(id='ftjob-4h6UuiWHgwJ6dTpWXXBzoRS1', created_at=1724776316, error=Error(code=None, message=None, param=None), fine_tuned_model=None, finished_at=None, hyperparameters=Hyperparameters(n_epochs=3, batch_size=1, learning_rate_multiplier=2), model='gpt-4o-2024-08-06', object='fine_tuning.job', organization_id='org-fewHWgmYjDeYGco5co60C7fh', result_files=[], seed=1523924585, status='running', trained_tokens=None, training_file='file-jFppbsRqj4QNTVQK41dVXsXR', validation_file=None, estimated_finish=1724777689, integrations=[], user_provided_suffix=None)\n",
      "job_status: FineTuningJob(id='ftjob-4h6UuiWHgwJ6dTpWXXBzoRS1', created_at=1724776316, error=Error(code=None, message=None, param=None), fine_tuned_model=None, finished_at=None, hyperparameters=Hyperparameters(n_epochs=3, batch_size=1, learning_rate_multiplier=2), model='gpt-4o-2024-08-06', object='fine_tuning.job', organization_id='org-fewHWgmYjDeYGco5co60C7fh', result_files=[], seed=1523924585, status='running', trained_tokens=None, training_file='file-jFppbsRqj4QNTVQK41dVXsXR', validation_file=None, estimated_finish=1724777687, integrations=[], user_provided_suffix=None)\n",
      "job_status: FineTuningJob(id='ftjob-4h6UuiWHgwJ6dTpWXXBzoRS1', created_at=1724776316, error=Error(code=None, message=None, param=None), fine_tuned_model=None, finished_at=None, hyperparameters=Hyperparameters(n_epochs=3, batch_size=1, learning_rate_multiplier=2), model='gpt-4o-2024-08-06', object='fine_tuning.job', organization_id='org-fewHWgmYjDeYGco5co60C7fh', result_files=[], seed=1523924585, status='running', trained_tokens=None, training_file='file-jFppbsRqj4QNTVQK41dVXsXR', validation_file=None, estimated_finish=1724777697, integrations=[], user_provided_suffix=None)\n",
      "job_status: FineTuningJob(id='ftjob-4h6UuiWHgwJ6dTpWXXBzoRS1', created_at=1724776316, error=Error(code=None, message=None, param=None), fine_tuned_model=None, finished_at=None, hyperparameters=Hyperparameters(n_epochs=3, batch_size=1, learning_rate_multiplier=2), model='gpt-4o-2024-08-06', object='fine_tuning.job', organization_id='org-fewHWgmYjDeYGco5co60C7fh', result_files=[], seed=1523924585, status='running', trained_tokens=None, training_file='file-jFppbsRqj4QNTVQK41dVXsXR', validation_file=None, estimated_finish=1724777692, integrations=[], user_provided_suffix=None)\n",
      "job_status: FineTuningJob(id='ftjob-4h6UuiWHgwJ6dTpWXXBzoRS1', created_at=1724776316, error=Error(code=None, message=None, param=None), fine_tuned_model=None, finished_at=None, hyperparameters=Hyperparameters(n_epochs=3, batch_size=1, learning_rate_multiplier=2), model='gpt-4o-2024-08-06', object='fine_tuning.job', organization_id='org-fewHWgmYjDeYGco5co60C7fh', result_files=[], seed=1523924585, status='running', trained_tokens=None, training_file='file-jFppbsRqj4QNTVQK41dVXsXR', validation_file=None, estimated_finish=1724777684, integrations=[], user_provided_suffix=None)\n",
      "job_status: FineTuningJob(id='ftjob-4h6UuiWHgwJ6dTpWXXBzoRS1', created_at=1724776316, error=Error(code=None, message=None, param=None), fine_tuned_model=None, finished_at=None, hyperparameters=Hyperparameters(n_epochs=3, batch_size=1, learning_rate_multiplier=2), model='gpt-4o-2024-08-06', object='fine_tuning.job', organization_id='org-fewHWgmYjDeYGco5co60C7fh', result_files=[], seed=1523924585, status='running', trained_tokens=None, training_file='file-jFppbsRqj4QNTVQK41dVXsXR', validation_file=None, estimated_finish=1724777678, integrations=[], user_provided_suffix=None)\n",
      "job_status: FineTuningJob(id='ftjob-4h6UuiWHgwJ6dTpWXXBzoRS1', created_at=1724776316, error=Error(code=None, message=None, param=None), fine_tuned_model=None, finished_at=None, hyperparameters=Hyperparameters(n_epochs=3, batch_size=1, learning_rate_multiplier=2), model='gpt-4o-2024-08-06', object='fine_tuning.job', organization_id='org-fewHWgmYjDeYGco5co60C7fh', result_files=[], seed=1523924585, status='running', trained_tokens=None, training_file='file-jFppbsRqj4QNTVQK41dVXsXR', validation_file=None, estimated_finish=1724777688, integrations=[], user_provided_suffix=None)\n",
      "job_status: FineTuningJob(id='ftjob-4h6UuiWHgwJ6dTpWXXBzoRS1', created_at=1724776316, error=Error(code=None, message=None, param=None), fine_tuned_model=None, finished_at=None, hyperparameters=Hyperparameters(n_epochs=3, batch_size=1, learning_rate_multiplier=2), model='gpt-4o-2024-08-06', object='fine_tuning.job', organization_id='org-fewHWgmYjDeYGco5co60C7fh', result_files=[], seed=1523924585, status='running', trained_tokens=None, training_file='file-jFppbsRqj4QNTVQK41dVXsXR', validation_file=None, estimated_finish=1724777683, integrations=[], user_provided_suffix=None)\n",
      "job_status: FineTuningJob(id='ftjob-4h6UuiWHgwJ6dTpWXXBzoRS1', created_at=1724776316, error=Error(code=None, message=None, param=None), fine_tuned_model=None, finished_at=None, hyperparameters=Hyperparameters(n_epochs=3, batch_size=1, learning_rate_multiplier=2), model='gpt-4o-2024-08-06', object='fine_tuning.job', organization_id='org-fewHWgmYjDeYGco5co60C7fh', result_files=[], seed=1523924585, status='running', trained_tokens=None, training_file='file-jFppbsRqj4QNTVQK41dVXsXR', validation_file=None, estimated_finish=1724777677, integrations=[], user_provided_suffix=None)\n",
      "job_status: FineTuningJob(id='ftjob-4h6UuiWHgwJ6dTpWXXBzoRS1', created_at=1724776316, error=Error(code=None, message=None, param=None), fine_tuned_model=None, finished_at=None, hyperparameters=Hyperparameters(n_epochs=3, batch_size=1, learning_rate_multiplier=2), model='gpt-4o-2024-08-06', object='fine_tuning.job', organization_id='org-fewHWgmYjDeYGco5co60C7fh', result_files=[], seed=1523924585, status='running', trained_tokens=None, training_file='file-jFppbsRqj4QNTVQK41dVXsXR', validation_file=None, estimated_finish=1724777687, integrations=[], user_provided_suffix=None)\n",
      "job_status: FineTuningJob(id='ftjob-4h6UuiWHgwJ6dTpWXXBzoRS1', created_at=1724776316, error=Error(code=None, message=None, param=None), fine_tuned_model=None, finished_at=None, hyperparameters=Hyperparameters(n_epochs=3, batch_size=1, learning_rate_multiplier=2), model='gpt-4o-2024-08-06', object='fine_tuning.job', organization_id='org-fewHWgmYjDeYGco5co60C7fh', result_files=[], seed=1523924585, status='running', trained_tokens=None, training_file='file-jFppbsRqj4QNTVQK41dVXsXR', validation_file=None, estimated_finish=1724777680, integrations=[], user_provided_suffix=None)\n",
      "job_status: FineTuningJob(id='ftjob-4h6UuiWHgwJ6dTpWXXBzoRS1', created_at=1724776316, error=Error(code=None, message=None, param=None), fine_tuned_model=None, finished_at=None, hyperparameters=Hyperparameters(n_epochs=3, batch_size=1, learning_rate_multiplier=2), model='gpt-4o-2024-08-06', object='fine_tuning.job', organization_id='org-fewHWgmYjDeYGco5co60C7fh', result_files=[], seed=1523924585, status='running', trained_tokens=None, training_file='file-jFppbsRqj4QNTVQK41dVXsXR', validation_file=None, estimated_finish=1724777676, integrations=[], user_provided_suffix=None)\n",
      "job_status: FineTuningJob(id='ftjob-4h6UuiWHgwJ6dTpWXXBzoRS1', created_at=1724776316, error=Error(code=None, message=None, param=None), fine_tuned_model=None, finished_at=None, hyperparameters=Hyperparameters(n_epochs=3, batch_size=1, learning_rate_multiplier=2), model='gpt-4o-2024-08-06', object='fine_tuning.job', organization_id='org-fewHWgmYjDeYGco5co60C7fh', result_files=[], seed=1523924585, status='running', trained_tokens=None, training_file='file-jFppbsRqj4QNTVQK41dVXsXR', validation_file=None, estimated_finish=1724777686, integrations=[], user_provided_suffix=None)\n",
      "job_status: FineTuningJob(id='ftjob-4h6UuiWHgwJ6dTpWXXBzoRS1', created_at=1724776316, error=Error(code=None, message=None, param=None), fine_tuned_model=None, finished_at=None, hyperparameters=Hyperparameters(n_epochs=3, batch_size=1, learning_rate_multiplier=2), model='gpt-4o-2024-08-06', object='fine_tuning.job', organization_id='org-fewHWgmYjDeYGco5co60C7fh', result_files=[], seed=1523924585, status='running', trained_tokens=None, training_file='file-jFppbsRqj4QNTVQK41dVXsXR', validation_file=None, estimated_finish=1724777679, integrations=[], user_provided_suffix=None)\n",
      "job_status: FineTuningJob(id='ftjob-4h6UuiWHgwJ6dTpWXXBzoRS1', created_at=1724776316, error=Error(code=None, message=None, param=None), fine_tuned_model=None, finished_at=None, hyperparameters=Hyperparameters(n_epochs=3, batch_size=1, learning_rate_multiplier=2), model='gpt-4o-2024-08-06', object='fine_tuning.job', organization_id='org-fewHWgmYjDeYGco5co60C7fh', result_files=[], seed=1523924585, status='running', trained_tokens=None, training_file='file-jFppbsRqj4QNTVQK41dVXsXR', validation_file=None, estimated_finish=1724777672, integrations=[], user_provided_suffix=None)\n",
      "job_status: FineTuningJob(id='ftjob-4h6UuiWHgwJ6dTpWXXBzoRS1', created_at=1724776316, error=Error(code=None, message=None, param=None), fine_tuned_model=None, finished_at=None, hyperparameters=Hyperparameters(n_epochs=3, batch_size=1, learning_rate_multiplier=2), model='gpt-4o-2024-08-06', object='fine_tuning.job', organization_id='org-fewHWgmYjDeYGco5co60C7fh', result_files=[], seed=1523924585, status='running', trained_tokens=None, training_file='file-jFppbsRqj4QNTVQK41dVXsXR', validation_file=None, estimated_finish=1724777683, integrations=[], user_provided_suffix=None)\n",
      "job_status: FineTuningJob(id='ftjob-4h6UuiWHgwJ6dTpWXXBzoRS1', created_at=1724776316, error=Error(code=None, message=None, param=None), fine_tuned_model=None, finished_at=None, hyperparameters=Hyperparameters(n_epochs=3, batch_size=1, learning_rate_multiplier=2), model='gpt-4o-2024-08-06', object='fine_tuning.job', organization_id='org-fewHWgmYjDeYGco5co60C7fh', result_files=[], seed=1523924585, status='running', trained_tokens=None, training_file='file-jFppbsRqj4QNTVQK41dVXsXR', validation_file=None, estimated_finish=1724777680, integrations=[], user_provided_suffix=None)\n",
      "job_status: FineTuningJob(id='ftjob-4h6UuiWHgwJ6dTpWXXBzoRS1', created_at=1724776316, error=Error(code=None, message=None, param=None), fine_tuned_model=None, finished_at=None, hyperparameters=Hyperparameters(n_epochs=3, batch_size=1, learning_rate_multiplier=2), model='gpt-4o-2024-08-06', object='fine_tuning.job', organization_id='org-fewHWgmYjDeYGco5co60C7fh', result_files=[], seed=1523924585, status='running', trained_tokens=None, training_file='file-jFppbsRqj4QNTVQK41dVXsXR', validation_file=None, estimated_finish=1724777675, integrations=[], user_provided_suffix=None)\n",
      "job_status: FineTuningJob(id='ftjob-4h6UuiWHgwJ6dTpWXXBzoRS1', created_at=1724776316, error=Error(code=None, message=None, param=None), fine_tuned_model=None, finished_at=None, hyperparameters=Hyperparameters(n_epochs=3, batch_size=1, learning_rate_multiplier=2), model='gpt-4o-2024-08-06', object='fine_tuning.job', organization_id='org-fewHWgmYjDeYGco5co60C7fh', result_files=[], seed=1523924585, status='running', trained_tokens=None, training_file='file-jFppbsRqj4QNTVQK41dVXsXR', validation_file=None, estimated_finish=1724777685, integrations=[], user_provided_suffix=None)\n",
      "job_status: FineTuningJob(id='ftjob-4h6UuiWHgwJ6dTpWXXBzoRS1', created_at=1724776316, error=Error(code=None, message=None, param=None), fine_tuned_model=None, finished_at=None, hyperparameters=Hyperparameters(n_epochs=3, batch_size=1, learning_rate_multiplier=2), model='gpt-4o-2024-08-06', object='fine_tuning.job', organization_id='org-fewHWgmYjDeYGco5co60C7fh', result_files=[], seed=1523924585, status='running', trained_tokens=None, training_file='file-jFppbsRqj4QNTVQK41dVXsXR', validation_file=None, estimated_finish=1724777679, integrations=[], user_provided_suffix=None)\n",
      "job_status: FineTuningJob(id='ftjob-4h6UuiWHgwJ6dTpWXXBzoRS1', created_at=1724776316, error=Error(code=None, message=None, param=None), fine_tuned_model=None, finished_at=None, hyperparameters=Hyperparameters(n_epochs=3, batch_size=1, learning_rate_multiplier=2), model='gpt-4o-2024-08-06', object='fine_tuning.job', organization_id='org-fewHWgmYjDeYGco5co60C7fh', result_files=[], seed=1523924585, status='running', trained_tokens=None, training_file='file-jFppbsRqj4QNTVQK41dVXsXR', validation_file=None, estimated_finish=1724777673, integrations=[], user_provided_suffix=None)\n",
      "job_status: FineTuningJob(id='ftjob-4h6UuiWHgwJ6dTpWXXBzoRS1', created_at=1724776316, error=Error(code=None, message=None, param=None), fine_tuned_model=None, finished_at=None, hyperparameters=Hyperparameters(n_epochs=3, batch_size=1, learning_rate_multiplier=2), model='gpt-4o-2024-08-06', object='fine_tuning.job', organization_id='org-fewHWgmYjDeYGco5co60C7fh', result_files=[], seed=1523924585, status='running', trained_tokens=None, training_file='file-jFppbsRqj4QNTVQK41dVXsXR', validation_file=None, estimated_finish=1724777683, integrations=[], user_provided_suffix=None)\n",
      "job_status: FineTuningJob(id='ftjob-4h6UuiWHgwJ6dTpWXXBzoRS1', created_at=1724776316, error=Error(code=None, message=None, param=None), fine_tuned_model=None, finished_at=None, hyperparameters=Hyperparameters(n_epochs=3, batch_size=1, learning_rate_multiplier=2), model='gpt-4o-2024-08-06', object='fine_tuning.job', organization_id='org-fewHWgmYjDeYGco5co60C7fh', result_files=[], seed=1523924585, status='running', trained_tokens=None, training_file='file-jFppbsRqj4QNTVQK41dVXsXR', validation_file=None, estimated_finish=1724777678, integrations=[], user_provided_suffix=None)\n",
      "job_status: FineTuningJob(id='ftjob-4h6UuiWHgwJ6dTpWXXBzoRS1', created_at=1724776316, error=Error(code=None, message=None, param=None), fine_tuned_model=None, finished_at=None, hyperparameters=Hyperparameters(n_epochs=3, batch_size=1, learning_rate_multiplier=2), model='gpt-4o-2024-08-06', object='fine_tuning.job', organization_id='org-fewHWgmYjDeYGco5co60C7fh', result_files=[], seed=1523924585, status='running', trained_tokens=None, training_file='file-jFppbsRqj4QNTVQK41dVXsXR', validation_file=None, estimated_finish=1724777672, integrations=[], user_provided_suffix=None)\n",
      "job_status: FineTuningJob(id='ftjob-4h6UuiWHgwJ6dTpWXXBzoRS1', created_at=1724776316, error=Error(code=None, message=None, param=None), fine_tuned_model=None, finished_at=None, hyperparameters=Hyperparameters(n_epochs=3, batch_size=1, learning_rate_multiplier=2), model='gpt-4o-2024-08-06', object='fine_tuning.job', organization_id='org-fewHWgmYjDeYGco5co60C7fh', result_files=[], seed=1523924585, status='running', trained_tokens=None, training_file='file-jFppbsRqj4QNTVQK41dVXsXR', validation_file=None, estimated_finish=1724777682, integrations=[], user_provided_suffix=None)\n",
      "job_status: FineTuningJob(id='ftjob-4h6UuiWHgwJ6dTpWXXBzoRS1', created_at=1724776316, error=Error(code=None, message=None, param=None), fine_tuned_model=None, finished_at=None, hyperparameters=Hyperparameters(n_epochs=3, batch_size=1, learning_rate_multiplier=2), model='gpt-4o-2024-08-06', object='fine_tuning.job', organization_id='org-fewHWgmYjDeYGco5co60C7fh', result_files=[], seed=1523924585, status='running', trained_tokens=None, training_file='file-jFppbsRqj4QNTVQK41dVXsXR', validation_file=None, estimated_finish=1724777677, integrations=[], user_provided_suffix=None)\n",
      "job_status: FineTuningJob(id='ftjob-4h6UuiWHgwJ6dTpWXXBzoRS1', created_at=1724776316, error=Error(code=None, message=None, param=None), fine_tuned_model=None, finished_at=None, hyperparameters=Hyperparameters(n_epochs=3, batch_size=1, learning_rate_multiplier=2), model='gpt-4o-2024-08-06', object='fine_tuning.job', organization_id='org-fewHWgmYjDeYGco5co60C7fh', result_files=[], seed=1523924585, status='running', trained_tokens=None, training_file='file-jFppbsRqj4QNTVQK41dVXsXR', validation_file=None, estimated_finish=1724777671, integrations=[], user_provided_suffix=None)\n",
      "job_status: FineTuningJob(id='ftjob-4h6UuiWHgwJ6dTpWXXBzoRS1', created_at=1724776316, error=Error(code=None, message=None, param=None), fine_tuned_model=None, finished_at=None, hyperparameters=Hyperparameters(n_epochs=3, batch_size=1, learning_rate_multiplier=2), model='gpt-4o-2024-08-06', object='fine_tuning.job', organization_id='org-fewHWgmYjDeYGco5co60C7fh', result_files=[], seed=1523924585, status='running', trained_tokens=None, training_file='file-jFppbsRqj4QNTVQK41dVXsXR', validation_file=None, estimated_finish=1724777666, integrations=[], user_provided_suffix=None)\n",
      "job_status: FineTuningJob(id='ftjob-4h6UuiWHgwJ6dTpWXXBzoRS1', created_at=1724776316, error=Error(code=None, message=None, param=None), fine_tuned_model=None, finished_at=None, hyperparameters=Hyperparameters(n_epochs=3, batch_size=1, learning_rate_multiplier=2), model='gpt-4o-2024-08-06', object='fine_tuning.job', organization_id='org-fewHWgmYjDeYGco5co60C7fh', result_files=[], seed=1523924585, status='running', trained_tokens=None, training_file='file-jFppbsRqj4QNTVQK41dVXsXR', validation_file=None, estimated_finish=1724777676, integrations=[], user_provided_suffix=None)\n",
      "job_status: FineTuningJob(id='ftjob-4h6UuiWHgwJ6dTpWXXBzoRS1', created_at=1724776316, error=Error(code=None, message=None, param=None), fine_tuned_model=None, finished_at=None, hyperparameters=Hyperparameters(n_epochs=3, batch_size=1, learning_rate_multiplier=2), model='gpt-4o-2024-08-06', object='fine_tuning.job', organization_id='org-fewHWgmYjDeYGco5co60C7fh', result_files=[], seed=1523924585, status='running', trained_tokens=None, training_file='file-jFppbsRqj4QNTVQK41dVXsXR', validation_file=None, estimated_finish=1724777686, integrations=[], user_provided_suffix=None)\n",
      "job_status: FineTuningJob(id='ftjob-4h6UuiWHgwJ6dTpWXXBzoRS1', created_at=1724776316, error=Error(code=None, message=None, param=None), fine_tuned_model=None, finished_at=None, hyperparameters=Hyperparameters(n_epochs=3, batch_size=1, learning_rate_multiplier=2), model='gpt-4o-2024-08-06', object='fine_tuning.job', organization_id='org-fewHWgmYjDeYGco5co60C7fh', result_files=[], seed=1523924585, status='running', trained_tokens=None, training_file='file-jFppbsRqj4QNTVQK41dVXsXR', validation_file=None, estimated_finish=1724777688, integrations=[], user_provided_suffix=None)\n",
      "job_status: FineTuningJob(id='ftjob-4h6UuiWHgwJ6dTpWXXBzoRS1', created_at=1724776316, error=Error(code=None, message=None, param=None), fine_tuned_model=None, finished_at=None, hyperparameters=Hyperparameters(n_epochs=3, batch_size=1, learning_rate_multiplier=2), model='gpt-4o-2024-08-06', object='fine_tuning.job', organization_id='org-fewHWgmYjDeYGco5co60C7fh', result_files=[], seed=1523924585, status='running', trained_tokens=None, training_file='file-jFppbsRqj4QNTVQK41dVXsXR', validation_file=None, estimated_finish=1724777698, integrations=[], user_provided_suffix=None)\n",
      "job_status: FineTuningJob(id='ftjob-4h6UuiWHgwJ6dTpWXXBzoRS1', created_at=1724776316, error=Error(code=None, message=None, param=None), fine_tuned_model=None, finished_at=None, hyperparameters=Hyperparameters(n_epochs=3, batch_size=1, learning_rate_multiplier=2), model='gpt-4o-2024-08-06', object='fine_tuning.job', organization_id='org-fewHWgmYjDeYGco5co60C7fh', result_files=[], seed=1523924585, status='running', trained_tokens=None, training_file='file-jFppbsRqj4QNTVQK41dVXsXR', validation_file=None, estimated_finish=1724777694, integrations=[], user_provided_suffix=None)\n",
      "job_status: FineTuningJob(id='ftjob-4h6UuiWHgwJ6dTpWXXBzoRS1', created_at=1724776316, error=Error(code=None, message=None, param=None), fine_tuned_model=None, finished_at=None, hyperparameters=Hyperparameters(n_epochs=3, batch_size=1, learning_rate_multiplier=2), model='gpt-4o-2024-08-06', object='fine_tuning.job', organization_id='org-fewHWgmYjDeYGco5co60C7fh', result_files=[], seed=1523924585, status='running', trained_tokens=None, training_file='file-jFppbsRqj4QNTVQK41dVXsXR', validation_file=None, estimated_finish=1724777689, integrations=[], user_provided_suffix=None)\n",
      "job_status: FineTuningJob(id='ftjob-4h6UuiWHgwJ6dTpWXXBzoRS1', created_at=1724776316, error=Error(code=None, message=None, param=None), fine_tuned_model=None, finished_at=None, hyperparameters=Hyperparameters(n_epochs=3, batch_size=1, learning_rate_multiplier=2), model='gpt-4o-2024-08-06', object='fine_tuning.job', organization_id='org-fewHWgmYjDeYGco5co60C7fh', result_files=[], seed=1523924585, status='running', trained_tokens=None, training_file='file-jFppbsRqj4QNTVQK41dVXsXR', validation_file=None, estimated_finish=1724777699, integrations=[], user_provided_suffix=None)\n",
      "job_status: FineTuningJob(id='ftjob-4h6UuiWHgwJ6dTpWXXBzoRS1', created_at=1724776316, error=Error(code=None, message=None, param=None), fine_tuned_model=None, finished_at=None, hyperparameters=Hyperparameters(n_epochs=3, batch_size=1, learning_rate_multiplier=2), model='gpt-4o-2024-08-06', object='fine_tuning.job', organization_id='org-fewHWgmYjDeYGco5co60C7fh', result_files=[], seed=1523924585, status='running', trained_tokens=None, training_file='file-jFppbsRqj4QNTVQK41dVXsXR', validation_file=None, estimated_finish=1724777693, integrations=[], user_provided_suffix=None)\n",
      "job_status: FineTuningJob(id='ftjob-4h6UuiWHgwJ6dTpWXXBzoRS1', created_at=1724776316, error=Error(code=None, message=None, param=None), fine_tuned_model=None, finished_at=None, hyperparameters=Hyperparameters(n_epochs=3, batch_size=1, learning_rate_multiplier=2), model='gpt-4o-2024-08-06', object='fine_tuning.job', organization_id='org-fewHWgmYjDeYGco5co60C7fh', result_files=[], seed=1523924585, status='running', trained_tokens=None, training_file='file-jFppbsRqj4QNTVQK41dVXsXR', validation_file=None, estimated_finish=1724777688, integrations=[], user_provided_suffix=None)\n",
      "job_status: FineTuningJob(id='ftjob-4h6UuiWHgwJ6dTpWXXBzoRS1', created_at=1724776316, error=Error(code=None, message=None, param=None), fine_tuned_model=None, finished_at=None, hyperparameters=Hyperparameters(n_epochs=3, batch_size=1, learning_rate_multiplier=2), model='gpt-4o-2024-08-06', object='fine_tuning.job', organization_id='org-fewHWgmYjDeYGco5co60C7fh', result_files=[], seed=1523924585, status='running', trained_tokens=None, training_file='file-jFppbsRqj4QNTVQK41dVXsXR', validation_file=None, estimated_finish=1724777698, integrations=[], user_provided_suffix=None)\n",
      "job_status: FineTuningJob(id='ftjob-4h6UuiWHgwJ6dTpWXXBzoRS1', created_at=1724776316, error=Error(code=None, message=None, param=None), fine_tuned_model=None, finished_at=None, hyperparameters=Hyperparameters(n_epochs=3, batch_size=1, learning_rate_multiplier=2), model='gpt-4o-2024-08-06', object='fine_tuning.job', organization_id='org-fewHWgmYjDeYGco5co60C7fh', result_files=[], seed=1523924585, status='running', trained_tokens=None, training_file='file-jFppbsRqj4QNTVQK41dVXsXR', validation_file=None, estimated_finish=1724777692, integrations=[], user_provided_suffix=None)\n",
      "job_status: FineTuningJob(id='ftjob-4h6UuiWHgwJ6dTpWXXBzoRS1', created_at=1724776316, error=Error(code=None, message=None, param=None), fine_tuned_model=None, finished_at=None, hyperparameters=Hyperparameters(n_epochs=3, batch_size=1, learning_rate_multiplier=2), model='gpt-4o-2024-08-06', object='fine_tuning.job', organization_id='org-fewHWgmYjDeYGco5co60C7fh', result_files=[], seed=1523924585, status='running', trained_tokens=None, training_file='file-jFppbsRqj4QNTVQK41dVXsXR', validation_file=None, estimated_finish=1724777686, integrations=[], user_provided_suffix=None)\n",
      "job_status: FineTuningJob(id='ftjob-4h6UuiWHgwJ6dTpWXXBzoRS1', created_at=1724776316, error=Error(code=None, message=None, param=None), fine_tuned_model=None, finished_at=None, hyperparameters=Hyperparameters(n_epochs=3, batch_size=1, learning_rate_multiplier=2), model='gpt-4o-2024-08-06', object='fine_tuning.job', organization_id='org-fewHWgmYjDeYGco5co60C7fh', result_files=[], seed=1523924585, status='running', trained_tokens=None, training_file='file-jFppbsRqj4QNTVQK41dVXsXR', validation_file=None, estimated_finish=1724777697, integrations=[], user_provided_suffix=None)\n",
      "job_status: FineTuningJob(id='ftjob-4h6UuiWHgwJ6dTpWXXBzoRS1', created_at=1724776316, error=Error(code=None, message=None, param=None), fine_tuned_model=None, finished_at=None, hyperparameters=Hyperparameters(n_epochs=3, batch_size=1, learning_rate_multiplier=2), model='gpt-4o-2024-08-06', object='fine_tuning.job', organization_id='org-fewHWgmYjDeYGco5co60C7fh', result_files=[], seed=1523924585, status='running', trained_tokens=None, training_file='file-jFppbsRqj4QNTVQK41dVXsXR', validation_file=None, estimated_finish=1724777691, integrations=[], user_provided_suffix=None)\n",
      "job_status: FineTuningJob(id='ftjob-4h6UuiWHgwJ6dTpWXXBzoRS1', created_at=1724776316, error=Error(code=None, message=None, param=None), fine_tuned_model=None, finished_at=None, hyperparameters=Hyperparameters(n_epochs=3, batch_size=1, learning_rate_multiplier=2), model='gpt-4o-2024-08-06', object='fine_tuning.job', organization_id='org-fewHWgmYjDeYGco5co60C7fh', result_files=[], seed=1523924585, status='running', trained_tokens=None, training_file='file-jFppbsRqj4QNTVQK41dVXsXR', validation_file=None, estimated_finish=1724777685, integrations=[], user_provided_suffix=None)\n",
      "job_status: FineTuningJob(id='ftjob-4h6UuiWHgwJ6dTpWXXBzoRS1', created_at=1724776316, error=Error(code=None, message=None, param=None), fine_tuned_model=None, finished_at=None, hyperparameters=Hyperparameters(n_epochs=3, batch_size=1, learning_rate_multiplier=2), model='gpt-4o-2024-08-06', object='fine_tuning.job', organization_id='org-fewHWgmYjDeYGco5co60C7fh', result_files=[], seed=1523924585, status='running', trained_tokens=None, training_file='file-jFppbsRqj4QNTVQK41dVXsXR', validation_file=None, estimated_finish=1724777696, integrations=[], user_provided_suffix=None)\n",
      "job_status: FineTuningJob(id='ftjob-4h6UuiWHgwJ6dTpWXXBzoRS1', created_at=1724776316, error=Error(code=None, message=None, param=None), fine_tuned_model=None, finished_at=None, hyperparameters=Hyperparameters(n_epochs=3, batch_size=1, learning_rate_multiplier=2), model='gpt-4o-2024-08-06', object='fine_tuning.job', organization_id='org-fewHWgmYjDeYGco5co60C7fh', result_files=[], seed=1523924585, status='running', trained_tokens=None, training_file='file-jFppbsRqj4QNTVQK41dVXsXR', validation_file=None, estimated_finish=1724777690, integrations=[], user_provided_suffix=None)\n",
      "job_status: FineTuningJob(id='ftjob-4h6UuiWHgwJ6dTpWXXBzoRS1', created_at=1724776316, error=Error(code=None, message=None, param=None), fine_tuned_model=None, finished_at=None, hyperparameters=Hyperparameters(n_epochs=3, batch_size=1, learning_rate_multiplier=2), model='gpt-4o-2024-08-06', object='fine_tuning.job', organization_id='org-fewHWgmYjDeYGco5co60C7fh', result_files=[], seed=1523924585, status='running', trained_tokens=None, training_file='file-jFppbsRqj4QNTVQK41dVXsXR', validation_file=None, estimated_finish=1724777684, integrations=[], user_provided_suffix=None)\n",
      "job_status: FineTuningJob(id='ftjob-4h6UuiWHgwJ6dTpWXXBzoRS1', created_at=1724776316, error=Error(code=None, message=None, param=None), fine_tuned_model=None, finished_at=None, hyperparameters=Hyperparameters(n_epochs=3, batch_size=1, learning_rate_multiplier=2), model='gpt-4o-2024-08-06', object='fine_tuning.job', organization_id='org-fewHWgmYjDeYGco5co60C7fh', result_files=[], seed=1523924585, status='running', trained_tokens=None, training_file='file-jFppbsRqj4QNTVQK41dVXsXR', validation_file=None, estimated_finish=1724777694, integrations=[], user_provided_suffix=None)\n",
      "job_status: FineTuningJob(id='ftjob-4h6UuiWHgwJ6dTpWXXBzoRS1', created_at=1724776316, error=Error(code=None, message=None, param=None), fine_tuned_model=None, finished_at=None, hyperparameters=Hyperparameters(n_epochs=3, batch_size=1, learning_rate_multiplier=2), model='gpt-4o-2024-08-06', object='fine_tuning.job', organization_id='org-fewHWgmYjDeYGco5co60C7fh', result_files=[], seed=1523924585, status='running', trained_tokens=None, training_file='file-jFppbsRqj4QNTVQK41dVXsXR', validation_file=None, estimated_finish=1724777691, integrations=[], user_provided_suffix=None)\n",
      "job_status: FineTuningJob(id='ftjob-4h6UuiWHgwJ6dTpWXXBzoRS1', created_at=1724776316, error=Error(code=None, message=None, param=None), fine_tuned_model=None, finished_at=None, hyperparameters=Hyperparameters(n_epochs=3, batch_size=1, learning_rate_multiplier=2), model='gpt-4o-2024-08-06', object='fine_tuning.job', organization_id='org-fewHWgmYjDeYGco5co60C7fh', result_files=[], seed=1523924585, status='running', trained_tokens=None, training_file='file-jFppbsRqj4QNTVQK41dVXsXR', validation_file=None, estimated_finish=1724777685, integrations=[], user_provided_suffix=None)\n",
      "job_status: FineTuningJob(id='ftjob-4h6UuiWHgwJ6dTpWXXBzoRS1', created_at=1724776316, error=Error(code=None, message=None, param=None), fine_tuned_model=None, finished_at=None, hyperparameters=Hyperparameters(n_epochs=3, batch_size=1, learning_rate_multiplier=2), model='gpt-4o-2024-08-06', object='fine_tuning.job', organization_id='org-fewHWgmYjDeYGco5co60C7fh', result_files=[], seed=1523924585, status='running', trained_tokens=None, training_file='file-jFppbsRqj4QNTVQK41dVXsXR', validation_file=None, estimated_finish=1724777695, integrations=[], user_provided_suffix=None)\n",
      "job_status: FineTuningJob(id='ftjob-4h6UuiWHgwJ6dTpWXXBzoRS1', created_at=1724776316, error=Error(code=None, message=None, param=None), fine_tuned_model=None, finished_at=None, hyperparameters=Hyperparameters(n_epochs=3, batch_size=1, learning_rate_multiplier=2), model='gpt-4o-2024-08-06', object='fine_tuning.job', organization_id='org-fewHWgmYjDeYGco5co60C7fh', result_files=[], seed=1523924585, status='running', trained_tokens=None, training_file='file-jFppbsRqj4QNTVQK41dVXsXR', validation_file=None, estimated_finish=1724777690, integrations=[], user_provided_suffix=None)\n",
      "job_status: FineTuningJob(id='ftjob-4h6UuiWHgwJ6dTpWXXBzoRS1', created_at=1724776316, error=Error(code=None, message=None, param=None), fine_tuned_model=None, finished_at=None, hyperparameters=Hyperparameters(n_epochs=3, batch_size=1, learning_rate_multiplier=2), model='gpt-4o-2024-08-06', object='fine_tuning.job', organization_id='org-fewHWgmYjDeYGco5co60C7fh', result_files=[], seed=1523924585, status='running', trained_tokens=None, training_file='file-jFppbsRqj4QNTVQK41dVXsXR', validation_file=None, estimated_finish=1724777684, integrations=[], user_provided_suffix=None)\n",
      "job_status: FineTuningJob(id='ftjob-4h6UuiWHgwJ6dTpWXXBzoRS1', created_at=1724776316, error=Error(code=None, message=None, param=None), fine_tuned_model=None, finished_at=None, hyperparameters=Hyperparameters(n_epochs=3, batch_size=1, learning_rate_multiplier=2), model='gpt-4o-2024-08-06', object='fine_tuning.job', organization_id='org-fewHWgmYjDeYGco5co60C7fh', result_files=[], seed=1523924585, status='running', trained_tokens=None, training_file='file-jFppbsRqj4QNTVQK41dVXsXR', validation_file=None, estimated_finish=1724777694, integrations=[], user_provided_suffix=None)\n",
      "job_status: FineTuningJob(id='ftjob-4h6UuiWHgwJ6dTpWXXBzoRS1', created_at=1724776316, error=Error(code=None, message=None, param=None), fine_tuned_model=None, finished_at=None, hyperparameters=Hyperparameters(n_epochs=3, batch_size=1, learning_rate_multiplier=2), model='gpt-4o-2024-08-06', object='fine_tuning.job', organization_id='org-fewHWgmYjDeYGco5co60C7fh', result_files=[], seed=1523924585, status='running', trained_tokens=None, training_file='file-jFppbsRqj4QNTVQK41dVXsXR', validation_file=None, estimated_finish=1724777689, integrations=[], user_provided_suffix=None)\n",
      "job_status: FineTuningJob(id='ftjob-4h6UuiWHgwJ6dTpWXXBzoRS1', created_at=1724776316, error=Error(code=None, message=None, param=None), fine_tuned_model=None, finished_at=None, hyperparameters=Hyperparameters(n_epochs=3, batch_size=1, learning_rate_multiplier=2), model='gpt-4o-2024-08-06', object='fine_tuning.job', organization_id='org-fewHWgmYjDeYGco5co60C7fh', result_files=[], seed=1523924585, status='running', trained_tokens=None, training_file='file-jFppbsRqj4QNTVQK41dVXsXR', validation_file=None, estimated_finish=1724777684, integrations=[], user_provided_suffix=None)\n",
      "job_status: FineTuningJob(id='ftjob-4h6UuiWHgwJ6dTpWXXBzoRS1', created_at=1724776316, error=Error(code=None, message=None, param=None), fine_tuned_model=None, finished_at=None, hyperparameters=Hyperparameters(n_epochs=3, batch_size=1, learning_rate_multiplier=2), model='gpt-4o-2024-08-06', object='fine_tuning.job', organization_id='org-fewHWgmYjDeYGco5co60C7fh', result_files=[], seed=1523924585, status='running', trained_tokens=None, training_file='file-jFppbsRqj4QNTVQK41dVXsXR', validation_file=None, estimated_finish=1724777694, integrations=[], user_provided_suffix=None)\n",
      "job_status: FineTuningJob(id='ftjob-4h6UuiWHgwJ6dTpWXXBzoRS1', created_at=1724776316, error=Error(code=None, message=None, param=None), fine_tuned_model=None, finished_at=None, hyperparameters=Hyperparameters(n_epochs=3, batch_size=1, learning_rate_multiplier=2), model='gpt-4o-2024-08-06', object='fine_tuning.job', organization_id='org-fewHWgmYjDeYGco5co60C7fh', result_files=[], seed=1523924585, status='running', trained_tokens=None, training_file='file-jFppbsRqj4QNTVQK41dVXsXR', validation_file=None, estimated_finish=1724777689, integrations=[], user_provided_suffix=None)\n",
      "job_status: FineTuningJob(id='ftjob-4h6UuiWHgwJ6dTpWXXBzoRS1', created_at=1724776316, error=Error(code=None, message=None, param=None), fine_tuned_model=None, finished_at=None, hyperparameters=Hyperparameters(n_epochs=3, batch_size=1, learning_rate_multiplier=2), model='gpt-4o-2024-08-06', object='fine_tuning.job', organization_id='org-fewHWgmYjDeYGco5co60C7fh', result_files=[], seed=1523924585, status='running', trained_tokens=None, training_file='file-jFppbsRqj4QNTVQK41dVXsXR', validation_file=None, estimated_finish=1724777683, integrations=[], user_provided_suffix=None)\n",
      "job_status: FineTuningJob(id='ftjob-4h6UuiWHgwJ6dTpWXXBzoRS1', created_at=1724776316, error=Error(code=None, message=None, param=None), fine_tuned_model=None, finished_at=None, hyperparameters=Hyperparameters(n_epochs=3, batch_size=1, learning_rate_multiplier=2), model='gpt-4o-2024-08-06', object='fine_tuning.job', organization_id='org-fewHWgmYjDeYGco5co60C7fh', result_files=[], seed=1523924585, status='running', trained_tokens=None, training_file='file-jFppbsRqj4QNTVQK41dVXsXR', validation_file=None, estimated_finish=1724777677, integrations=[], user_provided_suffix=None)\n",
      "job_status: FineTuningJob(id='ftjob-4h6UuiWHgwJ6dTpWXXBzoRS1', created_at=1724776316, error=Error(code=None, message=None, param=None), fine_tuned_model=None, finished_at=None, hyperparameters=Hyperparameters(n_epochs=3, batch_size=1, learning_rate_multiplier=2), model='gpt-4o-2024-08-06', object='fine_tuning.job', organization_id='org-fewHWgmYjDeYGco5co60C7fh', result_files=[], seed=1523924585, status='running', trained_tokens=None, training_file='file-jFppbsRqj4QNTVQK41dVXsXR', validation_file=None, estimated_finish=1724777688, integrations=[], user_provided_suffix=None)\n",
      "job_status: FineTuningJob(id='ftjob-4h6UuiWHgwJ6dTpWXXBzoRS1', created_at=1724776316, error=Error(code=None, message=None, param=None), fine_tuned_model=None, finished_at=None, hyperparameters=Hyperparameters(n_epochs=3, batch_size=1, learning_rate_multiplier=2), model='gpt-4o-2024-08-06', object='fine_tuning.job', organization_id='org-fewHWgmYjDeYGco5co60C7fh', result_files=[], seed=1523924585, status='running', trained_tokens=None, training_file='file-jFppbsRqj4QNTVQK41dVXsXR', validation_file=None, estimated_finish=1724777687, integrations=[], user_provided_suffix=None)\n",
      "job_status: FineTuningJob(id='ftjob-4h6UuiWHgwJ6dTpWXXBzoRS1', created_at=1724776316, error=Error(code=None, message=None, param=None), fine_tuned_model=None, finished_at=None, hyperparameters=Hyperparameters(n_epochs=3, batch_size=1, learning_rate_multiplier=2), model='gpt-4o-2024-08-06', object='fine_tuning.job', organization_id='org-fewHWgmYjDeYGco5co60C7fh', result_files=[], seed=1523924585, status='running', trained_tokens=None, training_file='file-jFppbsRqj4QNTVQK41dVXsXR', validation_file=None, estimated_finish=1724777681, integrations=[], user_provided_suffix=None)\n",
      "job_status: FineTuningJob(id='ftjob-4h6UuiWHgwJ6dTpWXXBzoRS1', created_at=1724776316, error=Error(code=None, message=None, param=None), fine_tuned_model=None, finished_at=None, hyperparameters=Hyperparameters(n_epochs=3, batch_size=1, learning_rate_multiplier=2), model='gpt-4o-2024-08-06', object='fine_tuning.job', organization_id='org-fewHWgmYjDeYGco5co60C7fh', result_files=[], seed=1523924585, status='running', trained_tokens=None, training_file='file-jFppbsRqj4QNTVQK41dVXsXR', validation_file=None, estimated_finish=1724777691, integrations=[], user_provided_suffix=None)\n",
      "job_status: FineTuningJob(id='ftjob-4h6UuiWHgwJ6dTpWXXBzoRS1', created_at=1724776316, error=Error(code=None, message=None, param=None), fine_tuned_model=None, finished_at=None, hyperparameters=Hyperparameters(n_epochs=3, batch_size=1, learning_rate_multiplier=2), model='gpt-4o-2024-08-06', object='fine_tuning.job', organization_id='org-fewHWgmYjDeYGco5co60C7fh', result_files=[], seed=1523924585, status='running', trained_tokens=None, training_file='file-jFppbsRqj4QNTVQK41dVXsXR', validation_file=None, estimated_finish=1724777687, integrations=[], user_provided_suffix=None)\n",
      "job_status: FineTuningJob(id='ftjob-4h6UuiWHgwJ6dTpWXXBzoRS1', created_at=1724776316, error=Error(code=None, message=None, param=None), fine_tuned_model=None, finished_at=None, hyperparameters=Hyperparameters(n_epochs=3, batch_size=1, learning_rate_multiplier=2), model='gpt-4o-2024-08-06', object='fine_tuning.job', organization_id='org-fewHWgmYjDeYGco5co60C7fh', result_files=[], seed=1523924585, status='running', trained_tokens=None, training_file='file-jFppbsRqj4QNTVQK41dVXsXR', validation_file=None, estimated_finish=1724777681, integrations=[], user_provided_suffix=None)\n",
      "job_status: FineTuningJob(id='ftjob-4h6UuiWHgwJ6dTpWXXBzoRS1', created_at=1724776316, error=Error(code=None, message=None, param=None), fine_tuned_model=None, finished_at=None, hyperparameters=Hyperparameters(n_epochs=3, batch_size=1, learning_rate_multiplier=2), model='gpt-4o-2024-08-06', object='fine_tuning.job', organization_id='org-fewHWgmYjDeYGco5co60C7fh', result_files=[], seed=1523924585, status='running', trained_tokens=None, training_file='file-jFppbsRqj4QNTVQK41dVXsXR', validation_file=None, estimated_finish=1724777691, integrations=[], user_provided_suffix=None)\n",
      "job_status: FineTuningJob(id='ftjob-4h6UuiWHgwJ6dTpWXXBzoRS1', created_at=1724776316, error=Error(code=None, message=None, param=None), fine_tuned_model=None, finished_at=None, hyperparameters=Hyperparameters(n_epochs=3, batch_size=1, learning_rate_multiplier=2), model='gpt-4o-2024-08-06', object='fine_tuning.job', organization_id='org-fewHWgmYjDeYGco5co60C7fh', result_files=[], seed=1523924585, status='running', trained_tokens=None, training_file='file-jFppbsRqj4QNTVQK41dVXsXR', validation_file=None, estimated_finish=1724777701, integrations=[], user_provided_suffix=None)\n",
      "job_status: FineTuningJob(id='ftjob-4h6UuiWHgwJ6dTpWXXBzoRS1', created_at=1724776316, error=Error(code=None, message=None, param=None), fine_tuned_model=None, finished_at=None, hyperparameters=Hyperparameters(n_epochs=3, batch_size=1, learning_rate_multiplier=2), model='gpt-4o-2024-08-06', object='fine_tuning.job', organization_id='org-fewHWgmYjDeYGco5co60C7fh', result_files=[], seed=1523924585, status='running', trained_tokens=None, training_file='file-jFppbsRqj4QNTVQK41dVXsXR', validation_file=None, estimated_finish=1724777715, integrations=[], user_provided_suffix=None)\n",
      "job_status: FineTuningJob(id='ftjob-4h6UuiWHgwJ6dTpWXXBzoRS1', created_at=1724776316, error=Error(code=None, message=None, param=None), fine_tuned_model=None, finished_at=None, hyperparameters=Hyperparameters(n_epochs=3, batch_size=1, learning_rate_multiplier=2), model='gpt-4o-2024-08-06', object='fine_tuning.job', organization_id='org-fewHWgmYjDeYGco5co60C7fh', result_files=[], seed=1523924585, status='running', trained_tokens=None, training_file='file-jFppbsRqj4QNTVQK41dVXsXR', validation_file=None, estimated_finish=1724777725, integrations=[], user_provided_suffix=None)\n",
      "job_status: FineTuningJob(id='ftjob-4h6UuiWHgwJ6dTpWXXBzoRS1', created_at=1724776316, error=Error(code=None, message=None, param=None), fine_tuned_model=None, finished_at=None, hyperparameters=Hyperparameters(n_epochs=3, batch_size=1, learning_rate_multiplier=2), model='gpt-4o-2024-08-06', object='fine_tuning.job', organization_id='org-fewHWgmYjDeYGco5co60C7fh', result_files=[], seed=1523924585, status='running', trained_tokens=None, training_file='file-jFppbsRqj4QNTVQK41dVXsXR', validation_file=None, estimated_finish=None, integrations=[], user_provided_suffix=None)\n",
      "job_status: FineTuningJob(id='ftjob-4h6UuiWHgwJ6dTpWXXBzoRS1', created_at=1724776316, error=Error(code=None, message=None, param=None), fine_tuned_model=None, finished_at=1724777728, hyperparameters=Hyperparameters(n_epochs=3, batch_size=1, learning_rate_multiplier=2), model='gpt-4o-2024-08-06', object='fine_tuning.job', organization_id='org-fewHWgmYjDeYGco5co60C7fh', result_files=[], seed=1523924585, status='running', trained_tokens=None, training_file='file-jFppbsRqj4QNTVQK41dVXsXR', validation_file=None, estimated_finish=None, integrations=[], user_provided_suffix=None)\n",
      "job_status: FineTuningJob(id='ftjob-4h6UuiWHgwJ6dTpWXXBzoRS1', created_at=1724776316, error=Error(code=None, message=None, param=None), fine_tuned_model=None, finished_at=1724777728, hyperparameters=Hyperparameters(n_epochs=3, batch_size=1, learning_rate_multiplier=2), model='gpt-4o-2024-08-06', object='fine_tuning.job', organization_id='org-fewHWgmYjDeYGco5co60C7fh', result_files=[], seed=1523924585, status='running', trained_tokens=None, training_file='file-jFppbsRqj4QNTVQK41dVXsXR', validation_file=None, estimated_finish=None, integrations=[], user_provided_suffix=None)\n",
      "job_status: FineTuningJob(id='ftjob-4h6UuiWHgwJ6dTpWXXBzoRS1', created_at=1724776316, error=Error(code=None, message=None, param=None), fine_tuned_model=None, finished_at=1724777728, hyperparameters=Hyperparameters(n_epochs=3, batch_size=1, learning_rate_multiplier=2), model='gpt-4o-2024-08-06', object='fine_tuning.job', organization_id='org-fewHWgmYjDeYGco5co60C7fh', result_files=[], seed=1523924585, status='running', trained_tokens=None, training_file='file-jFppbsRqj4QNTVQK41dVXsXR', validation_file=None, estimated_finish=None, integrations=[], user_provided_suffix=None)\n",
      "job_status: FineTuningJob(id='ftjob-4h6UuiWHgwJ6dTpWXXBzoRS1', created_at=1724776316, error=Error(code=None, message=None, param=None), fine_tuned_model=None, finished_at=1724777728, hyperparameters=Hyperparameters(n_epochs=3, batch_size=1, learning_rate_multiplier=2), model='gpt-4o-2024-08-06', object='fine_tuning.job', organization_id='org-fewHWgmYjDeYGco5co60C7fh', result_files=[], seed=1523924585, status='running', trained_tokens=None, training_file='file-jFppbsRqj4QNTVQK41dVXsXR', validation_file=None, estimated_finish=None, integrations=[], user_provided_suffix=None)\n",
      "job_status: FineTuningJob(id='ftjob-4h6UuiWHgwJ6dTpWXXBzoRS1', created_at=1724776316, error=Error(code=None, message=None, param=None), fine_tuned_model=None, finished_at=1724777728, hyperparameters=Hyperparameters(n_epochs=3, batch_size=1, learning_rate_multiplier=2), model='gpt-4o-2024-08-06', object='fine_tuning.job', organization_id='org-fewHWgmYjDeYGco5co60C7fh', result_files=[], seed=1523924585, status='running', trained_tokens=None, training_file='file-jFppbsRqj4QNTVQK41dVXsXR', validation_file=None, estimated_finish=None, integrations=[], user_provided_suffix=None)\n",
      "job_status: FineTuningJob(id='ftjob-4h6UuiWHgwJ6dTpWXXBzoRS1', created_at=1724776316, error=Error(code=None, message=None, param=None), fine_tuned_model=None, finished_at=1724777728, hyperparameters=Hyperparameters(n_epochs=3, batch_size=1, learning_rate_multiplier=2), model='gpt-4o-2024-08-06', object='fine_tuning.job', organization_id='org-fewHWgmYjDeYGco5co60C7fh', result_files=[], seed=1523924585, status='running', trained_tokens=None, training_file='file-jFppbsRqj4QNTVQK41dVXsXR', validation_file=None, estimated_finish=None, integrations=[], user_provided_suffix=None)\n",
      "job_status: FineTuningJob(id='ftjob-4h6UuiWHgwJ6dTpWXXBzoRS1', created_at=1724776316, error=Error(code=None, message=None, param=None), fine_tuned_model=None, finished_at=1724777728, hyperparameters=Hyperparameters(n_epochs=3, batch_size=1, learning_rate_multiplier=2), model='gpt-4o-2024-08-06', object='fine_tuning.job', organization_id='org-fewHWgmYjDeYGco5co60C7fh', result_files=[], seed=1523924585, status='running', trained_tokens=None, training_file='file-jFppbsRqj4QNTVQK41dVXsXR', validation_file=None, estimated_finish=None, integrations=[], user_provided_suffix=None)\n",
      "job_status: FineTuningJob(id='ftjob-4h6UuiWHgwJ6dTpWXXBzoRS1', created_at=1724776316, error=Error(code=None, message=None, param=None), fine_tuned_model=None, finished_at=1724777728, hyperparameters=Hyperparameters(n_epochs=3, batch_size=1, learning_rate_multiplier=2), model='gpt-4o-2024-08-06', object='fine_tuning.job', organization_id='org-fewHWgmYjDeYGco5co60C7fh', result_files=[], seed=1523924585, status='running', trained_tokens=None, training_file='file-jFppbsRqj4QNTVQK41dVXsXR', validation_file=None, estimated_finish=None, integrations=[], user_provided_suffix=None)\n",
      "job_status: FineTuningJob(id='ftjob-4h6UuiWHgwJ6dTpWXXBzoRS1', created_at=1724776316, error=Error(code=None, message=None, param=None), fine_tuned_model=None, finished_at=1724777728, hyperparameters=Hyperparameters(n_epochs=3, batch_size=1, learning_rate_multiplier=2), model='gpt-4o-2024-08-06', object='fine_tuning.job', organization_id='org-fewHWgmYjDeYGco5co60C7fh', result_files=[], seed=1523924585, status='running', trained_tokens=None, training_file='file-jFppbsRqj4QNTVQK41dVXsXR', validation_file=None, estimated_finish=None, integrations=[], user_provided_suffix=None)\n",
      "job_status: FineTuningJob(id='ftjob-4h6UuiWHgwJ6dTpWXXBzoRS1', created_at=1724776316, error=Error(code=None, message=None, param=None), fine_tuned_model=None, finished_at=1724777728, hyperparameters=Hyperparameters(n_epochs=3, batch_size=1, learning_rate_multiplier=2), model='gpt-4o-2024-08-06', object='fine_tuning.job', organization_id='org-fewHWgmYjDeYGco5co60C7fh', result_files=['file-T3pdnkKWaBhN5VBns4XJ2oJA'], seed=1523924585, status='running', trained_tokens=None, training_file='file-jFppbsRqj4QNTVQK41dVXsXR', validation_file=None, estimated_finish=None, integrations=[], user_provided_suffix=None)\n",
      "job_status: FineTuningJob(id='ftjob-4h6UuiWHgwJ6dTpWXXBzoRS1', created_at=1724776316, error=Error(code=None, message=None, param=None), fine_tuned_model='ft:gpt-4o-2024-08-06:tensorzero::A0tlZdHo', finished_at=1724777728, hyperparameters=Hyperparameters(n_epochs=3, batch_size=1, learning_rate_multiplier=2), model='gpt-4o-2024-08-06', object='fine_tuning.job', organization_id='org-fewHWgmYjDeYGco5co60C7fh', result_files=['file-T3pdnkKWaBhN5VBns4XJ2oJA'], seed=1523924585, status='succeeded', trained_tokens=111906, training_file='file-jFppbsRqj4QNTVQK41dVXsXR', validation_file=None, estimated_finish=None, integrations=[], user_provided_suffix=None)\n"
     ]
    }
   ],
   "source": [
    "# Keep an eye on the job status (this will take a while)\n",
    "while True:\n",
    "    clear_output(wait=True)\n",
    "    job_status = openai_client.fine_tuning.jobs.retrieve(ft_job.id)\n",
    "    print(f\"job_status: {job_status}\")\n",
    "    if job_status.status in (\"succeeded\", \"failed\", \"cancelled\"):\n",
    "        break\n",
    "    time.sleep(10)"
   ]
  },
  {
   "cell_type": "code",
   "execution_count": 32,
   "metadata": {},
   "outputs": [
    {
     "name": "stdout",
     "output_type": "stream",
     "text": [
      "Add the following block to your config file to include the fine-tuned model in your gateway:\n",
      "```toml\n",
      "[models.\"ft:gpt-4o-2024-08-06:tensorzero::A0tlZdHo\"]\n",
      "routing = [\"openai\"]\n",
      "\n",
      "[models.\"ft:gpt-4o-2024-08-06:tensorzero::A0tlZdHo\".providers.openai]\n",
      "type = \"openai\"\n",
      "model_name = \"ft:gpt-4o-2024-08-06:tensorzero::A0tlZdHo\"\n",
      "```\n",
      "\n"
     ]
    }
   ],
   "source": [
    "fine_tuned_model = job_status.fine_tuned_model\n",
    "model_instructions = f\"\"\"Add the following block to your config file to include the fine-tuned model in your gateway:\n",
    "```toml\n",
    "[models.\"{fine_tuned_model}\"]\n",
    "routing = [\"openai\"]\n",
    "\n",
    "[models.\"{fine_tuned_model}\".providers.openai]\n",
    "type = \"openai\"\n",
    "model_name = \"{fine_tuned_model}\"\n",
    "```\n",
    "\"\"\"\n",
    "\n",
    "print(model_instructions)"
   ]
  },
  {
   "cell_type": "code",
   "execution_count": 36,
   "metadata": {},
   "outputs": [
    {
     "name": "stdout",
     "output_type": "stream",
     "text": [
      "Add the following block to your config file to include the fine-tuned model in your function:\n",
      "```toml\n",
      "[functions.\"write_haiku\".variants.YOUR_VARIANT_NAME]\n",
      "weight = 0\n",
      "system_template = \"functions/write_haiku/initial_prompt/system_template.minijinja\"\n",
      "user_template = \"functions/write_haiku/initial_prompt/user_template.minijinja\"\n",
      "OTHER PARAMETERS (max_tokens, temperature, etc.) HERE\n",
      "```\n",
      "You can change the weight to enable a gradual rollout of the new model.\n"
     ]
    }
   ],
   "source": [
    "variant_instructions = f\"\"\"Add the following block to your config file to include the fine-tuned model in your function:\n",
    "```toml\n",
    "[functions.\"{FUNCTION_NAME}\".variants.YOUR_VARIANT_NAME]\n",
    "weight = 0\n",
    "\"\"\"\n",
    "system_template = variant.get(\"system_template\")\n",
    "if system_template:\n",
    "    variant_instructions += f\"\"\"system_template = \"{system_template}\"\n",
    "\"\"\"\n",
    "user_template = variant.get(\"user_template\")\n",
    "if user_template:\n",
    "    variant_instructions += f\"\"\"user_template = \"{user_template}\"\n",
    "\"\"\"\n",
    "assistant_template = variant.get(\"assistant_template\")\n",
    "if assistant_template:\n",
    "    variant_instructions += f\"\"\"assistant_template = \"{assistant_template}\"\n",
    "\"\"\"\n",
    "variant_instructions += \"OTHER PARAMETERS (max_tokens, temperature, etc.) HERE\\n```\"\n",
    "print(variant_instructions)\n",
    "print(\"You can change the weight to enable a gradual rollout of the new model.\")"
   ]
  },
  {
   "cell_type": "code",
   "execution_count": null,
   "metadata": {},
   "outputs": [],
   "source": []
  }
 ],
 "metadata": {
  "kernelspec": {
   "display_name": ".venv",
   "language": "python",
   "name": "python3"
  },
  "language_info": {
   "codemirror_mode": {
    "name": "ipython",
    "version": 3
   },
   "file_extension": ".py",
   "mimetype": "text/x-python",
   "name": "python",
   "nbconvert_exporter": "python",
   "pygments_lexer": "ipython3",
   "version": "3.12.5"
  }
 },
 "nbformat": 4,
 "nbformat_minor": 2
}
