{
 "cells": [
  {
   "cell_type": "markdown",
   "metadata": {},
   "source": [
    "# Automated Prompt Engineering using MIPRO\n",
    "\n",
    "This notebook provides an automated approach to optimizing prompt engineering using the [Multi-prompt Instruction PRoposal Optimizer (MIPRO)](https://arxiv.org/abs/2406.11695v1).\n",
    "It is designed for TensorZero users who want to optimize their system prompts based on collected inference and feedback data. As such, we currently only support prompt optimization for applications with a single system prompt.\n",
    "\n",
    "Support for applications with multiple system prompts is in the pipeline. If this use case interests you, please see our our [LLM Gym Example](https://github.com/tensorzero/llmgym/tree/main/examples/mipro) for a full implementation.\n",
    "\n",
    "By following this guide, you can systematically refine your prompts to improve model performance in specific tasks.\n"
   ]
  },
  {
   "cell_type": "markdown",
   "metadata": {},
   "source": [
    "## Overview\n",
    "\n",
    "The optimization process involves the following steps:\n",
    "\n",
    "1. **Generate candidate instructions and demonstrations**\n",
    "    - Candidate instructions are generated using OpenAI's o1 model based on a system template and an optional schema.\n",
    "        - This is configurable in the `config/tensorzero.toml` file if you want to use a different model.\n",
    "    - Candidate demonstrations are sets of few-shot examples sampled from the training dataset.\n",
    "2. **Evaluate Instruction-Demonstration Pairs**\n",
    "    - Sample an instruction and demonstration pair and score it using a Large Language Model (LLM) judge.\n",
    "    - The judge (a TensorZero function utilizing OpenAI's GPT-4o-mini model) scores the quality of the instruction-demonstration pair.\n",
    "    - Scores are aggregated over the evaluation set to produce a final evaluation score.\n",
    "3. **Optimization via Search Algorithms**\n",
    "    - Utilize a random search or a Tree-structured Parzen Estimator (TPE) to determine the next instruction and demonstration pair for evaluation.\n",
    "4. **Iterate the Optimization Process**\n",
    "    - Repeat the optimization process for a fixed number of iterations.\n",
    "5. **Select the Best Performing Prompts**\n",
    "    - The instruction and demonstration pairs corresponding to the highest-performing prompts are formatted to yield optimized system templates.\n",
    "\n"
   ]
  },
  {
   "cell_type": "markdown",
   "metadata": {},
   "source": [
    "## Step 1: Define Function Configuration Parameters\n",
    "\n",
    "Specify the TensorZero function you want to optimize. The example below optimizes the system prompt for Named Entity Recognition (NER):\n",
    "\n",
    "- **Function Configuration Directory:** Location of the function’s configuration files.\n",
    "\n",
    "- **Function Name:** The TensorZero function being optimized.\n",
    "\n",
    "- **Model Variant:** The specific function variant to use as an example for the system template."
   ]
  },
  {
   "cell_type": "code",
   "execution_count": 1,
   "metadata": {},
   "outputs": [],
   "source": [
    "# Configuation arguments for the function you want to optimize the prompt for\n",
    "CONFIG_DIR = \"../../examples/data-extraction-ner/config\"\n",
    "\n",
    "# The name of the function you want to optimize the prompt for\n",
    "FUNCTION_NAME = \"extract_entities\"\n",
    "\n",
    "# The name of the variant to use\n",
    "TEMPLATE_VARIANT_NAME = \"gpt_4o_mini\""
   ]
  },
  {
   "cell_type": "markdown",
   "metadata": {},
   "source": [
    "## Step 2: Configure the LLM Judge for Metric Optimization\n",
    "\n",
    "The LLM judge guides the optimization process by evaluating prompt effectiveness. You must define:\n",
    "\n",
    "- **Task Description:** A summary of the task being optimized.\n",
    "- **Optimization Metric:** The metric used for evaluating prompt effectiveness (e.g. Jaccard similarity between predicted and ground truth entities)."
   ]
  },
  {
   "cell_type": "code",
   "execution_count": 2,
   "metadata": {},
   "outputs": [],
   "source": [
    "# Description of the task you are optimizing the prompt for to be used by the optimizer judge\n",
    "TASK_DESCRIPTION = \"The task is to extract named entities from the input text.\"\n",
    "\n",
    "# Metric definition for scoring generated prompts\n",
    "METRIC_PROPERTIES = \"The metric is the Jaccard similarity between the predicted and ground truth entities.\""
   ]
  },
  {
   "cell_type": "markdown",
   "metadata": {},
   "source": [
    "## Step 3: Define Optimization Parameters\n",
    "\n",
    "The following parameters control the optimization process. Experimenting with different values can help refine results:\n",
    "\n",
    "- **Search Space**\n",
    "    - `NUM_CANDIDATE_INSTRUCTIONS`: Number of candidate instructions to generate.\n",
    "    - `NUM_CANDIDATE_DEMONSTRATIONS`: Number of candidate demonstrations to sample.\n",
    "- **Optimization Control**\n",
    "    - `MAX_ITERATIONS`: Number of optimization steps.\n",
    "    - `MAX_EXAMPLES_PER_DEMONSTRATION`: Maximum few-shot examples per demonstration.\n",
    "- **Evaluation Control**\n",
    "    - `EVAL_FRACTION`: Fraction of the dataset used for scoring generated prompts.\n",
    "    - `MAX_SAMPLES`: Limit on the number of demonstration samples.\n",
    "- **Reproducibility**\n",
    "    - `SEED`: Random seed for consistent results."
   ]
  },
  {
   "cell_type": "code",
   "execution_count": 3,
   "metadata": {},
   "outputs": [],
   "source": [
    "# Number of candidate instructions to generate and search over\n",
    "NUM_CANDIDATE_INSTRUCTIONS = 10\n",
    "\n",
    "# Number of candidate demonstrations to sample and search over\n",
    "NUM_CANDIDATE_DEMONSTRATIONS = 10\n",
    "\n",
    "# Maximum number of demonstrations in each candidate demonstration set\n",
    "MAX_EXAMPLES_PER_DEMONSTRATION = 10\n",
    "\n",
    "# Maximum number of search steps taken by the optimization algorithm for evaluating instruction-demonstration pairs\n",
    "MAX_ITERATIONS = 5\n",
    "\n",
    "# Set optimization direction ('maximize' or 'minimize') based on the metric properties you described above.\n",
    "OPTIMIZER_DIRECTION = \"maximize\"\n",
    "\n",
    "# Fraction of the dataset used by the judge to score the quality of the generated prompt\n",
    "EVAL_FRACTION = 0.2\n",
    "\n",
    "# Limit on the number of samples for demonstration selection\n",
    "MAX_SAMPLES = 100_000\n",
    "\n",
    "# Random seed for reproducibility\n",
    "SEED = 0"
   ]
  },
  {
   "cell_type": "markdown",
   "metadata": {},
   "source": [
    "\n",
    "## Import Dependencies"
   ]
  },
  {
   "cell_type": "code",
   "execution_count": 4,
   "metadata": {},
   "outputs": [
    {
     "name": "stderr",
     "output_type": "stream",
     "text": [
      "/Users/gabrielbianconi/Developer/tensorzero/tensorzero/recipes/mipro/.venv/lib/python3.10/site-packages/tqdm/auto.py:21: TqdmWarning: IProgress not found. Please update jupyter and ipywidgets. See https://ipywidgets.readthedocs.io/en/stable/user_install.html\n",
      "  from .autonotebook import tqdm as notebook_tqdm\n",
      "/Users/gabrielbianconi/Developer/tensorzero/tensorzero/recipes/mipro/.venv/lib/python3.10/site-packages/pydantic/_internal/_config.py:345: UserWarning: Valid config keys have changed in V2:\n",
      "* 'fields' has been removed\n",
      "  warnings.warn(message, UserWarning)\n"
     ]
    }
   ],
   "source": [
    "import asyncio\n",
    "import json\n",
    "import os\n",
    "from copy import deepcopy\n",
    "from typing import Any, Dict, List, Optional\n",
    "\n",
    "import numpy as np\n",
    "import optuna\n",
    "import pandas as pd\n",
    "from clickhouse_connect import get_client\n",
    "from minijinja import Environment\n",
    "from optuna.samplers import TPESampler\n",
    "from tensorzero import (\n",
    "    AsyncTensorZeroGateway,\n",
    "    InferenceResponse,\n",
    "    JsonInferenceResponse,\n",
    "    RawText,\n",
    "    Text,\n",
    ")\n",
    "from tqdm.asyncio import tqdm_asyncio\n",
    "from utils.client_calls import candidate_inference, get_instructions, judge_answer\n",
    "from utils.configs.reader import load_config"
   ]
  },
  {
   "cell_type": "markdown",
   "metadata": {},
   "source": [
    "## Initialize the MIPRO TensorZero Client\n",
    "\n",
    "This client is used to generate candidate instructions and score the quality of responses given the candidate instructions and demonstrations."
   ]
  },
  {
   "cell_type": "code",
   "execution_count": 5,
   "metadata": {},
   "outputs": [],
   "source": [
    "MAX_CONCURRENT_REQUESTS = 50"
   ]
  },
  {
   "cell_type": "code",
   "execution_count": 6,
   "metadata": {},
   "outputs": [],
   "source": [
    "mipro_client = await AsyncTensorZeroGateway.build_embedded(\n",
    "    config_file=\"config/tensorzero.toml\",\n",
    "    clickhouse_url=os.environ[\"TENSORZERO_CLICKHOUSE_URL\"],\n",
    ")\n",
    "semaphore = asyncio.Semaphore(MAX_CONCURRENT_REQUESTS)"
   ]
  },
  {
   "cell_type": "markdown",
   "metadata": {},
   "source": [
    "## Load Data\n",
    "\n",
    "Load the TensorZero configuration for the function you want to optimize the prompt for."
   ]
  },
  {
   "cell_type": "code",
   "execution_count": 7,
   "metadata": {},
   "outputs": [],
   "source": [
    "base_config = load_config(CONFIG_DIR)"
   ]
  },
  {
   "cell_type": "markdown",
   "metadata": {},
   "source": [
    "Retrieve the configuration for the variant with the templates we'll use for prompt optimization."
   ]
  },
  {
   "cell_type": "code",
   "execution_count": 8,
   "metadata": {},
   "outputs": [],
   "source": [
    "assert FUNCTION_NAME in base_config.functions.keys(), (\n",
    "    f\"No function named `{FUNCTION_NAME}` found in config\"\n",
    ")\n",
    "assert TEMPLATE_VARIANT_NAME in base_config.functions[FUNCTION_NAME].variants.keys(), (\n",
    "    f\"No variant named `{TEMPLATE_VARIANT_NAME}` found in function `{FUNCTION_NAME}`\"\n",
    ")\n",
    "\n",
    "base_function = base_config.functions[FUNCTION_NAME]\n",
    "base_variant = deepcopy(base_function.variants[TEMPLATE_VARIANT_NAME])"
   ]
  },
  {
   "cell_type": "markdown",
   "metadata": {},
   "source": [
    "Initialize the ClickHouse client."
   ]
  },
  {
   "cell_type": "code",
   "execution_count": 9,
   "metadata": {},
   "outputs": [],
   "source": [
    "assert \"TENSORZERO_CLICKHOUSE_URL\" in os.environ, (\n",
    "    \"TENSORZERO_CLICKHOUSE_URL environment variable not set\"\n",
    ")\n",
    "\n",
    "clickhouse_client = get_client(dsn=os.environ[\"TENSORZERO_CLICKHOUSE_URL\"])"
   ]
  },
  {
   "cell_type": "markdown",
   "metadata": {},
   "source": [
    "Determine the inference table name based on the function type."
   ]
  },
  {
   "cell_type": "code",
   "execution_count": 10,
   "metadata": {},
   "outputs": [],
   "source": [
    "inference_table_name = {\"chat\": \"ChatInference\", \"json\": \"JsonInference\"}.get(\n",
    "    base_function.type\n",
    ")\n",
    "\n",
    "if inference_table_name is None:\n",
    "    raise ValueError(f\"Unsupported function type: {base_function.type}\")"
   ]
  },
  {
   "cell_type": "markdown",
   "metadata": {},
   "source": [
    "Query the inferences and demonstration feedback from ClickHouse."
   ]
  },
  {
   "cell_type": "markdown",
   "metadata": {},
   "source": [
    "You can use one of the metrics above, or choose `FILTER_METRIC_NAME = \"demonstration\"` to use ground truth demonstrations."
   ]
  },
  {
   "cell_type": "code",
   "execution_count": 11,
   "metadata": {},
   "outputs": [
    {
     "name": "stdout",
     "output_type": "stream",
     "text": [
      "dict_keys(['exact_match', 'jaccard_similarity', 'valid_output'])\n"
     ]
    }
   ],
   "source": [
    "print(base_config.metrics.keys())"
   ]
  },
  {
   "cell_type": "code",
   "execution_count": 12,
   "metadata": {},
   "outputs": [],
   "source": [
    "FILTER_METRIC_NAME = \"demonstration\"\n",
    "FILTER_METRIC_THRESHOLD = 0.9\n",
    "\n",
    "if (\n",
    "    FILTER_METRIC_NAME != \"demonstration\"\n",
    "):  # If no metric name is provided, use ground truth demonstrations\n",
    "    filter_metric = base_config.metrics[FILTER_METRIC_NAME]"
   ]
  },
  {
   "cell_type": "code",
   "execution_count": 13,
   "metadata": {},
   "outputs": [
    {
     "data": {
      "text/html": [
       "<div>\n",
       "<style scoped>\n",
       "    .dataframe tbody tr th:only-of-type {\n",
       "        vertical-align: middle;\n",
       "    }\n",
       "\n",
       "    .dataframe tbody tr th {\n",
       "        vertical-align: top;\n",
       "    }\n",
       "\n",
       "    .dataframe thead th {\n",
       "        text-align: right;\n",
       "    }\n",
       "</style>\n",
       "<table border=\"1\" class=\"dataframe\">\n",
       "  <thead>\n",
       "    <tr style=\"text-align: right;\">\n",
       "      <th></th>\n",
       "      <th>input</th>\n",
       "      <th>output</th>\n",
       "      <th>value</th>\n",
       "      <th>episode_id</th>\n",
       "    </tr>\n",
       "  </thead>\n",
       "  <tbody>\n",
       "    <tr>\n",
       "      <th>0</th>\n",
       "      <td>{\"messages\":[{\"role\":\"user\",\"content\":[{\"type\"...</td>\n",
       "      <td>{\"raw\":\"{\\\"person\\\":[\\\"Andrea Collinelli\\\",\\\"F...</td>\n",
       "      <td>{\"raw\":\"{\\\"person\\\":[\\\"Andrea Collinelli\\\",\\\"F...</td>\n",
       "      <td>01956208-4532-7941-89f6-fc9305183931</td>\n",
       "    </tr>\n",
       "    <tr>\n",
       "      <th>1</th>\n",
       "      <td>{\"messages\":[{\"role\":\"user\",\"content\":[{\"type\"...</td>\n",
       "      <td>{\"raw\":\"{\\\"person\\\":[],\\\"organization\\\":[],\\\"l...</td>\n",
       "      <td>{\"raw\":\"{\\\"person\\\":[\\\"SAO PAULO\\\"],\\\"organiza...</td>\n",
       "      <td>01956207-741a-7a62-8bd2-78e0d66609a2</td>\n",
       "    </tr>\n",
       "    <tr>\n",
       "      <th>2</th>\n",
       "      <td>{\"messages\":[{\"role\":\"user\",\"content\":[{\"type\"...</td>\n",
       "      <td>{\"raw\":\"{\\\"person\\\":[],\\\"organization\\\":[],\\\"l...</td>\n",
       "      <td>{\"raw\":\"{\\\"person\\\":[],\\\"organization\\\":[],\\\"l...</td>\n",
       "      <td>01956207-bdeb-7292-94c0-7b33d02a2f7c</td>\n",
       "    </tr>\n",
       "    <tr>\n",
       "      <th>3</th>\n",
       "      <td>{\"messages\":[{\"role\":\"user\",\"content\":[{\"type\"...</td>\n",
       "      <td>{\"raw\":\"{\\\"person\\\":[\\\"Dirk Dier\\\",\\\"Chuck Ada...</td>\n",
       "      <td>{\"raw\":\"{\\\"person\\\":[\\\"Dirk Dier\\\",\\\"Chuck Ada...</td>\n",
       "      <td>01956208-7540-7341-96c8-db05abce8fcd</td>\n",
       "    </tr>\n",
       "    <tr>\n",
       "      <th>4</th>\n",
       "      <td>{\"messages\":[{\"role\":\"user\",\"content\":[{\"type\"...</td>\n",
       "      <td>{\"raw\":\"{\\\"person\\\":[\\\"Federico Colonna\\\"],\\\"o...</td>\n",
       "      <td>{\"raw\":\"{\\\"person\\\":[\\\"Federico Colonna\\\"],\\\"o...</td>\n",
       "      <td>01956208-7283-7592-975e-c092b4528585</td>\n",
       "    </tr>\n",
       "  </tbody>\n",
       "</table>\n",
       "</div>"
      ],
      "text/plain": [
       "                                               input  \\\n",
       "0  {\"messages\":[{\"role\":\"user\",\"content\":[{\"type\"...   \n",
       "1  {\"messages\":[{\"role\":\"user\",\"content\":[{\"type\"...   \n",
       "2  {\"messages\":[{\"role\":\"user\",\"content\":[{\"type\"...   \n",
       "3  {\"messages\":[{\"role\":\"user\",\"content\":[{\"type\"...   \n",
       "4  {\"messages\":[{\"role\":\"user\",\"content\":[{\"type\"...   \n",
       "\n",
       "                                              output  \\\n",
       "0  {\"raw\":\"{\\\"person\\\":[\\\"Andrea Collinelli\\\",\\\"F...   \n",
       "1  {\"raw\":\"{\\\"person\\\":[],\\\"organization\\\":[],\\\"l...   \n",
       "2  {\"raw\":\"{\\\"person\\\":[],\\\"organization\\\":[],\\\"l...   \n",
       "3  {\"raw\":\"{\\\"person\\\":[\\\"Dirk Dier\\\",\\\"Chuck Ada...   \n",
       "4  {\"raw\":\"{\\\"person\\\":[\\\"Federico Colonna\\\"],\\\"o...   \n",
       "\n",
       "                                               value  \\\n",
       "0  {\"raw\":\"{\\\"person\\\":[\\\"Andrea Collinelli\\\",\\\"F...   \n",
       "1  {\"raw\":\"{\\\"person\\\":[\\\"SAO PAULO\\\"],\\\"organiza...   \n",
       "2  {\"raw\":\"{\\\"person\\\":[],\\\"organization\\\":[],\\\"l...   \n",
       "3  {\"raw\":\"{\\\"person\\\":[\\\"Dirk Dier\\\",\\\"Chuck Ada...   \n",
       "4  {\"raw\":\"{\\\"person\\\":[\\\"Federico Colonna\\\"],\\\"o...   \n",
       "\n",
       "                             episode_id  \n",
       "0  01956208-4532-7941-89f6-fc9305183931  \n",
       "1  01956207-741a-7a62-8bd2-78e0d66609a2  \n",
       "2  01956207-bdeb-7292-94c0-7b33d02a2f7c  \n",
       "3  01956208-7540-7341-96c8-db05abce8fcd  \n",
       "4  01956208-7283-7592-975e-c092b4528585  "
      ]
     },
     "execution_count": 13,
     "metadata": {},
     "output_type": "execute_result"
    }
   ],
   "source": [
    "if (\n",
    "    FILTER_METRIC_NAME == \"demonstration\"\n",
    "):  # Assume demonstration feedback is available and used.\n",
    "    query = f\"\"\"\n",
    "    SELECT \n",
    "        i.input, \n",
    "        i.output, \n",
    "        f.value,\n",
    "        i.episode_id\n",
    "    FROM \n",
    "        {inference_table_name} i\n",
    "    JOIN \n",
    "        (SELECT\n",
    "            inference_id,\n",
    "            value,\n",
    "            ROW_NUMBER() OVER (PARTITION BY inference_id ORDER BY timestamp DESC) as rn\n",
    "        FROM \n",
    "            DemonstrationFeedback\n",
    "        ) f ON i.id = f.inference_id AND f.rn = 1\n",
    "    WHERE \n",
    "        i.function_name = %(function_name)s\n",
    "    LIMIT %(max_samples)s\n",
    "    \"\"\"\n",
    "\n",
    "    params = {\n",
    "        \"function_name\": FUNCTION_NAME,\n",
    "        \"max_samples\": MAX_SAMPLES,\n",
    "    }\n",
    "else:\n",
    "    feedback_table_name = {\n",
    "        \"float\": \"FloatMetricFeedback\",\n",
    "        \"boolean\": \"BooleanMetricFeedback\",\n",
    "    }.get(filter_metric.type)\n",
    "\n",
    "    inference_join_key = {\n",
    "        \"episode\": \"episode_id\",\n",
    "        \"inference\": \"id\",\n",
    "    }.get(filter_metric.level)\n",
    "\n",
    "    if inference_join_key is None:\n",
    "        raise ValueError(f\"Unsupported metric level: {filter_metric.level}\")\n",
    "\n",
    "    threshold = FILTER_METRIC_THRESHOLD if filter_metric.type == \"float\" else 0.5\n",
    "    comparison_operator = \">=\" if filter_metric.optimize == \"maximize\" else \"<=\"\n",
    "\n",
    "    query = f\"\"\"\n",
    "    SELECT \n",
    "        i.input, \n",
    "        i.output, \n",
    "        i.episode_id,\n",
    "        i.function_name,\n",
    "        f.value\n",
    "    FROM \n",
    "        {inference_table_name} i\n",
    "    JOIN \n",
    "        (SELECT\n",
    "            target_id,\n",
    "            value,\n",
    "            ROW_NUMBER() OVER (PARTITION BY target_id ORDER BY timestamp DESC) as rn\n",
    "        FROM \n",
    "            {feedback_table_name}\n",
    "        WHERE\n",
    "            metric_name = %(metric_name)s\n",
    "            AND value {comparison_operator} %(threshold)s\n",
    "        ) f ON i.{inference_join_key} = f.target_id and f.rn = 1\n",
    "    WHERE \n",
    "        i.function_name = %(function_name)s\n",
    "    LIMIT %(max_samples)s\n",
    "    \"\"\"\n",
    "\n",
    "    params = {\n",
    "        \"function_name\": FUNCTION_NAME,\n",
    "        \"max_samples\": MAX_SAMPLES,\n",
    "        \"metric_name\": FILTER_METRIC_NAME,\n",
    "        \"threshold\": FILTER_METRIC_THRESHOLD,\n",
    "    }\n",
    "\n",
    "df = clickhouse_client.query_df(query, params)\n",
    "\n",
    "if FILTER_METRIC_NAME != \"demonstration\":\n",
    "    df.value = df.output\n",
    "\n",
    "df.head()"
   ]
  },
  {
   "cell_type": "markdown",
   "metadata": {},
   "source": [
    "Retrieve the system, user, and assistant templates in the variant (if any), and initialize a minijinja environment with them.\n"
   ]
  },
  {
   "cell_type": "code",
   "execution_count": 14,
   "metadata": {},
   "outputs": [],
   "source": [
    "templates = {}\n",
    "\n",
    "if base_variant.assistant_template is not None:\n",
    "    templates[\"assistant\"] = base_variant.assistant_template\n",
    "\n",
    "if base_variant.system_template is not None:\n",
    "    templates[\"system\"] = base_variant.system_template\n",
    "\n",
    "if base_variant.user_template is not None:\n",
    "    templates[\"user\"] = base_variant.user_template\n",
    "\n",
    "env = Environment(templates=templates)"
   ]
  },
  {
   "cell_type": "markdown",
   "metadata": {},
   "source": [
    "Render the messages in the input and demonstration columns."
   ]
  },
  {
   "cell_type": "code",
   "execution_count": 15,
   "metadata": {},
   "outputs": [
    {
     "data": {
      "text/html": [
       "<div>\n",
       "<style scoped>\n",
       "    .dataframe tbody tr th:only-of-type {\n",
       "        vertical-align: middle;\n",
       "    }\n",
       "\n",
       "    .dataframe tbody tr th {\n",
       "        vertical-align: top;\n",
       "    }\n",
       "\n",
       "    .dataframe thead th {\n",
       "        text-align: right;\n",
       "    }\n",
       "</style>\n",
       "<table border=\"1\" class=\"dataframe\">\n",
       "  <thead>\n",
       "    <tr style=\"text-align: right;\">\n",
       "      <th></th>\n",
       "      <th>input</th>\n",
       "      <th>output</th>\n",
       "      <th>value</th>\n",
       "      <th>episode_id</th>\n",
       "      <th>input_str</th>\n",
       "      <th>value_str</th>\n",
       "      <th>system_args</th>\n",
       "    </tr>\n",
       "  </thead>\n",
       "  <tbody>\n",
       "    <tr>\n",
       "      <th>0</th>\n",
       "      <td>{\"messages\":[{\"role\":\"user\",\"content\":[{\"type\"...</td>\n",
       "      <td>{\"raw\":\"{\\\"person\\\":[\\\"Andrea Collinelli\\\",\\\"F...</td>\n",
       "      <td>{\"raw\":\"{\\\"person\\\":[\\\"Andrea Collinelli\\\",\\\"F...</td>\n",
       "      <td>01956208-4532-7941-89f6-fc9305183931</td>\n",
       "      <td>ENVIRONMENT:\\nAndrea Collinelli ( Italy ) 4:16...</td>\n",
       "      <td>{\"person\":[\"Andrea Collinelli\",\"Francis Moreau...</td>\n",
       "      <td></td>\n",
       "    </tr>\n",
       "    <tr>\n",
       "      <th>1</th>\n",
       "      <td>{\"messages\":[{\"role\":\"user\",\"content\":[{\"type\"...</td>\n",
       "      <td>{\"raw\":\"{\\\"person\\\":[],\\\"organization\\\":[],\\\"l...</td>\n",
       "      <td>{\"raw\":\"{\\\"person\\\":[\\\"SAO PAULO\\\"],\\\"organiza...</td>\n",
       "      <td>01956207-741a-7a62-8bd2-78e0d66609a2</td>\n",
       "      <td>ENVIRONMENT:\\nSAO PAULO 1996-08-27\\n</td>\n",
       "      <td>{\"person\":[\"SAO PAULO\"],\"organization\":[],\"loc...</td>\n",
       "      <td></td>\n",
       "    </tr>\n",
       "    <tr>\n",
       "      <th>2</th>\n",
       "      <td>{\"messages\":[{\"role\":\"user\",\"content\":[{\"type\"...</td>\n",
       "      <td>{\"raw\":\"{\\\"person\\\":[],\\\"organization\\\":[],\\\"l...</td>\n",
       "      <td>{\"raw\":\"{\\\"person\\\":[],\\\"organization\\\":[],\\\"l...</td>\n",
       "      <td>01956207-bdeb-7292-94c0-7b33d02a2f7c</td>\n",
       "      <td>ENVIRONMENT:\\nKey stock and currency market mo...</td>\n",
       "      <td>{\"person\":[],\"organization\":[],\"location\":[],\"...</td>\n",
       "      <td></td>\n",
       "    </tr>\n",
       "    <tr>\n",
       "      <th>3</th>\n",
       "      <td>{\"messages\":[{\"role\":\"user\",\"content\":[{\"type\"...</td>\n",
       "      <td>{\"raw\":\"{\\\"person\\\":[\\\"Dirk Dier\\\",\\\"Chuck Ada...</td>\n",
       "      <td>{\"raw\":\"{\\\"person\\\":[\\\"Dirk Dier\\\",\\\"Chuck Ada...</td>\n",
       "      <td>01956208-7540-7341-96c8-db05abce8fcd</td>\n",
       "      <td>ENVIRONMENT:\\nDirk Dier ( Germany ) beat Chuck...</td>\n",
       "      <td>{\"person\":[\"Dirk Dier\",\"Chuck Adams\"],\"organiz...</td>\n",
       "      <td></td>\n",
       "    </tr>\n",
       "    <tr>\n",
       "      <th>4</th>\n",
       "      <td>{\"messages\":[{\"role\":\"user\",\"content\":[{\"type\"...</td>\n",
       "      <td>{\"raw\":\"{\\\"person\\\":[\\\"Federico Colonna\\\"],\\\"o...</td>\n",
       "      <td>{\"raw\":\"{\\\"person\\\":[\\\"Federico Colonna\\\"],\\\"o...</td>\n",
       "      <td>01956208-7283-7592-975e-c092b4528585</td>\n",
       "      <td>ENVIRONMENT:\\n1. Federico Colonna ( Italy ) Ma...</td>\n",
       "      <td>{\"person\":[\"Federico Colonna\"],\"organization\":...</td>\n",
       "      <td></td>\n",
       "    </tr>\n",
       "  </tbody>\n",
       "</table>\n",
       "</div>"
      ],
      "text/plain": [
       "                                               input  \\\n",
       "0  {\"messages\":[{\"role\":\"user\",\"content\":[{\"type\"...   \n",
       "1  {\"messages\":[{\"role\":\"user\",\"content\":[{\"type\"...   \n",
       "2  {\"messages\":[{\"role\":\"user\",\"content\":[{\"type\"...   \n",
       "3  {\"messages\":[{\"role\":\"user\",\"content\":[{\"type\"...   \n",
       "4  {\"messages\":[{\"role\":\"user\",\"content\":[{\"type\"...   \n",
       "\n",
       "                                              output  \\\n",
       "0  {\"raw\":\"{\\\"person\\\":[\\\"Andrea Collinelli\\\",\\\"F...   \n",
       "1  {\"raw\":\"{\\\"person\\\":[],\\\"organization\\\":[],\\\"l...   \n",
       "2  {\"raw\":\"{\\\"person\\\":[],\\\"organization\\\":[],\\\"l...   \n",
       "3  {\"raw\":\"{\\\"person\\\":[\\\"Dirk Dier\\\",\\\"Chuck Ada...   \n",
       "4  {\"raw\":\"{\\\"person\\\":[\\\"Federico Colonna\\\"],\\\"o...   \n",
       "\n",
       "                                               value  \\\n",
       "0  {\"raw\":\"{\\\"person\\\":[\\\"Andrea Collinelli\\\",\\\"F...   \n",
       "1  {\"raw\":\"{\\\"person\\\":[\\\"SAO PAULO\\\"],\\\"organiza...   \n",
       "2  {\"raw\":\"{\\\"person\\\":[],\\\"organization\\\":[],\\\"l...   \n",
       "3  {\"raw\":\"{\\\"person\\\":[\\\"Dirk Dier\\\",\\\"Chuck Ada...   \n",
       "4  {\"raw\":\"{\\\"person\\\":[\\\"Federico Colonna\\\"],\\\"o...   \n",
       "\n",
       "                             episode_id  \\\n",
       "0  01956208-4532-7941-89f6-fc9305183931   \n",
       "1  01956207-741a-7a62-8bd2-78e0d66609a2   \n",
       "2  01956207-bdeb-7292-94c0-7b33d02a2f7c   \n",
       "3  01956208-7540-7341-96c8-db05abce8fcd   \n",
       "4  01956208-7283-7592-975e-c092b4528585   \n",
       "\n",
       "                                           input_str  \\\n",
       "0  ENVIRONMENT:\\nAndrea Collinelli ( Italy ) 4:16...   \n",
       "1               ENVIRONMENT:\\nSAO PAULO 1996-08-27\\n   \n",
       "2  ENVIRONMENT:\\nKey stock and currency market mo...   \n",
       "3  ENVIRONMENT:\\nDirk Dier ( Germany ) beat Chuck...   \n",
       "4  ENVIRONMENT:\\n1. Federico Colonna ( Italy ) Ma...   \n",
       "\n",
       "                                           value_str system_args  \n",
       "0  {\"person\":[\"Andrea Collinelli\",\"Francis Moreau...              \n",
       "1  {\"person\":[\"SAO PAULO\"],\"organization\":[],\"loc...              \n",
       "2  {\"person\":[],\"organization\":[],\"location\":[],\"...              \n",
       "3  {\"person\":[\"Dirk Dier\",\"Chuck Adams\"],\"organiz...              \n",
       "4  {\"person\":[\"Federico Colonna\"],\"organization\":...              "
      ]
     },
     "execution_count": 15,
     "metadata": {},
     "output_type": "execute_result"
    }
   ],
   "source": [
    "def render_message(content: List[Dict[str, Any]], role: str) -> str:\n",
    "    assert role in [\"user\", \"assistant\"], f\"Invalid role: {role}\"\n",
    "\n",
    "    if len(content) != 1:\n",
    "        raise ValueError(f\"Message must have exactly one content block: {content}\")\n",
    "\n",
    "    if role == \"user\":\n",
    "        output = \"ENVIRONMENT:\\n\"\n",
    "    else:\n",
    "        output = \"AGENT:\\n\"\n",
    "\n",
    "    if content[0][\"type\"] == \"text\":\n",
    "        value = content[0][\"value\"]\n",
    "        if isinstance(value, str):\n",
    "            output += value\n",
    "        else:\n",
    "            value = env.render_template(role, **value)  # type: ignore\n",
    "            assert isinstance(value, str)\n",
    "            output += value\n",
    "    elif content[0][\"type\"] == \"tool_call\":\n",
    "        del content[0][\"id\"]\n",
    "        del content[0][\"type\"]\n",
    "        output += f\"Tool call: {json.dumps(content[0])}\"\n",
    "    elif content[0][\"type\"] == \"tool_result\":\n",
    "        output += f\"Tool result: {content[0]['result']}\"\n",
    "    else:\n",
    "        raise ValueError(\n",
    "            f\"Content block must be of type text, tool_call, or tool_result: {content}\"\n",
    "        )\n",
    "\n",
    "    return output\n",
    "\n",
    "\n",
    "def format_input(sample):\n",
    "    function_input = json.loads(sample[\"input\"])\n",
    "    rendered_message = \"\"\n",
    "    for message in function_input[\"messages\"]:\n",
    "        rendered_message += render_message(message[\"content\"], message[\"role\"])\n",
    "        rendered_message += \"\\n\"\n",
    "    return rendered_message\n",
    "\n",
    "\n",
    "def format_output(sample):\n",
    "    output = json.loads(sample[\"value\"])\n",
    "    if base_function.type == \"chat\":\n",
    "        if len(output) != 1:\n",
    "            raise ValueError(f\"Output {output} must have exactly one content block.\")\n",
    "        if output[0][\"type\"] == \"text\":\n",
    "            return output[0][\"text\"]\n",
    "        elif output[0][\"type\"] == \"tool_call\":\n",
    "            del output[0][\"raw_arguments\"]\n",
    "            del output[0][\"raw_name\"]\n",
    "            del output[0][\"type\"]\n",
    "            return f\"Tool call: {json.dumps(output[0])}\"\n",
    "        elif output[0][\"type\"] == \"tool_result\":\n",
    "            return json.dumps(output[0])\n",
    "        else:\n",
    "            raise ValueError(f\"Output {output} must be a text block.\")\n",
    "    elif base_function.type == \"json\":\n",
    "        return output[\"raw\"]\n",
    "    else:\n",
    "        raise ValueError(f\"Unsupported function type: {base_function.type}\")\n",
    "\n",
    "\n",
    "def format_system_args(sample):\n",
    "    function_input = json.loads(sample[\"input\"])\n",
    "    if \"system\" in function_input:\n",
    "        return function_input[\"system\"]\n",
    "    else:\n",
    "        return \"\"\n",
    "\n",
    "\n",
    "df[\"input_str\"] = df.apply(format_input, axis=1)\n",
    "df[\"value_str\"] = df.apply(format_output, axis=1)\n",
    "df[\"system_args\"] = df.apply(format_system_args, axis=1)\n",
    "df.head()"
   ]
  },
  {
   "cell_type": "markdown",
   "metadata": {},
   "source": [
    "Split the data into training and evaluation sets.\n",
    "The training set is used to generate candidate demonstrations.\n",
    "The evaluation set is used by the judge to score the quality of the generated prompt."
   ]
  },
  {
   "cell_type": "code",
   "execution_count": 16,
   "metadata": {},
   "outputs": [
    {
     "name": "stdout",
     "output_type": "stream",
     "text": [
      "Training set size: 400\n",
      "Evaluation set size: 100\n",
      "Actual evaluation fraction: 0.20\n"
     ]
    }
   ],
   "source": [
    "# Get unique episode_ids\n",
    "unique_episode_ids = df[\"episode_id\"].unique()\n",
    "\n",
    "# Shuffle the unique episode_ids\n",
    "np.random.seed(42)\n",
    "np.random.shuffle(unique_episode_ids)\n",
    "\n",
    "# Calculate the split index for episode_ids\n",
    "split_index = int(len(unique_episode_ids) * (1 - EVAL_FRACTION))\n",
    "\n",
    "# Split the episode_ids into training and validation sets\n",
    "train_episode_ids = unique_episode_ids[:split_index]\n",
    "val_episode_ids = unique_episode_ids[split_index:]\n",
    "\n",
    "# Create training and validation DataFrames based on episode_ids\n",
    "train_df = df[df[\"episode_id\"].isin(train_episode_ids)]\n",
    "eval_df = df[df[\"episode_id\"].isin(val_episode_ids)]\n",
    "\n",
    "print(f\"Training set size: {len(train_df)}\")\n",
    "print(f\"Evaluation set size: {len(eval_df)}\")\n",
    "print(f\"Actual evaluation fraction: {len(eval_df) / len(df):.2f}\")"
   ]
  },
  {
   "cell_type": "markdown",
   "metadata": {},
   "source": [
    "## Generate Candidate Instructions\n",
    "\n",
    "Given the function's system template as an example, generate a set of candidate instructions to optimize the prompt over."
   ]
  },
  {
   "cell_type": "code",
   "execution_count": 17,
   "metadata": {},
   "outputs": [
    {
     "name": "stderr",
     "output_type": "stream",
     "text": [
      "100%|██████████| 10/10 [01:10<00:00,  7.02s/it]\n"
     ]
    }
   ],
   "source": [
    "example_instructions = base_variant.system_template\n",
    "\n",
    "if base_function.system_schema is not None:\n",
    "    example_schema = base_function.system_schema.model_json_schema()\n",
    "else:\n",
    "    example_schema = None\n",
    "\n",
    "responses = await tqdm_asyncio.gather(\n",
    "    *[\n",
    "        get_instructions(\n",
    "            client=mipro_client,\n",
    "            example_instructions=example_instructions,\n",
    "            example_schema=example_schema,\n",
    "            semaphore=semaphore,\n",
    "        )\n",
    "        for _ in range(NUM_CANDIDATE_INSTRUCTIONS)\n",
    "    ]\n",
    ")\n",
    "\n",
    "candidate_instructions = [example_instructions]\n",
    "for response in responses:\n",
    "    if response is None:\n",
    "        continue\n",
    "    candidate_instructions.append(response.output.parsed[\"instructions\"])"
   ]
  },
  {
   "cell_type": "markdown",
   "metadata": {},
   "source": [
    "## Generate Candidate Demonstrations\n",
    "\n",
    "Given the training set, generate a set of candidate demonstrations to optimize the prompt over."
   ]
  },
  {
   "cell_type": "code",
   "execution_count": 18,
   "metadata": {},
   "outputs": [],
   "source": [
    "def generate_demonstrations(\n",
    "    df: pd.DataFrame,\n",
    "    max_examples_per_demonstration: int,\n",
    "    input_col: str,\n",
    "    output_col: str,\n",
    "    system_col: str,\n",
    "    seed: int = 42,\n",
    ") -> str:\n",
    "    sample = df.sample(\n",
    "        n=max_examples_per_demonstration, replace=False, random_state=seed\n",
    "    )\n",
    "    demonstrations = \"\"\n",
    "    demonstration_number = 1\n",
    "    for _, row in sample.iterrows():  # type: ignore\n",
    "        demonstrations += f\"DEMONSTRATION {demonstration_number}:\\n\"\n",
    "        demonstration_number += 1\n",
    "        if row[system_col] is not None and row[system_col] != \"\":\n",
    "            demonstrations += f\"SYSTEM:\\n{row[system_col]}\\n\"\n",
    "        demonstrations += f\"{row[input_col]}AGENT:\\n{row[output_col]}\\n\\n\"\n",
    "    return demonstrations"
   ]
  },
  {
   "cell_type": "code",
   "execution_count": 19,
   "metadata": {},
   "outputs": [],
   "source": [
    "candidate_demonstrations = [\n",
    "    generate_demonstrations(\n",
    "        df=train_df,\n",
    "        max_examples_per_demonstration=MAX_EXAMPLES_PER_DEMONSTRATION,\n",
    "        input_col=\"input_str\",\n",
    "        output_col=\"value_str\",\n",
    "        system_col=\"system_args\",\n",
    "        seed=seed,\n",
    "    )\n",
    "    for seed in range(NUM_CANDIDATE_DEMONSTRATIONS)\n",
    "]"
   ]
  },
  {
   "cell_type": "markdown",
   "metadata": {},
   "source": [
    "## Optimize the Prompt\n",
    "\n",
    "### Define the optimization objective"
   ]
  },
  {
   "cell_type": "code",
   "execution_count": 20,
   "metadata": {},
   "outputs": [],
   "source": [
    "# Initialize online statistics\n",
    "num_instructions = len(candidate_instructions)\n",
    "num_demonstrations = len(candidate_demonstrations)"
   ]
  },
  {
   "cell_type": "code",
   "execution_count": 21,
   "metadata": {},
   "outputs": [],
   "source": [
    "def format_system_template(instructions: str, demonstrations: str) -> str:\n",
    "    return f\"# Instructions:\\n\\n{instructions}\\n\\n# Demonstrations:\\n\\n{demonstrations}\"\n",
    "\n",
    "\n",
    "def format_response(response: Optional[InferenceResponse]) -> str:\n",
    "    if response is None:\n",
    "        return \"\"\n",
    "    if isinstance(response, JsonInferenceResponse):\n",
    "        return str(response.output.parsed)\n",
    "    else:\n",
    "        content = response.content\n",
    "        assert len(content) == 1  # TODO: Handle multiple content blocks\n",
    "        if isinstance(content[0], Text):\n",
    "            return content[0].text\n",
    "        elif isinstance(content[0], RawText):\n",
    "            return content[0].value\n",
    "        else:\n",
    "            raise ValueError(f\"Unsupported content type: {type(content[0])}\")\n",
    "\n",
    "\n",
    "async def objective(trial: optuna.Trial):\n",
    "    # Sample an instruction and a demonstration set\n",
    "    instruction_index = trial.suggest_categorical(\n",
    "        \"instruction_index\", range(num_instructions)\n",
    "    )\n",
    "    demonstration_index = trial.suggest_categorical(\n",
    "        \"demonstration_index\", range(num_demonstrations)\n",
    "    )\n",
    "    # Format the candidate prompt\n",
    "    candidate_prompt = format_system_template(\n",
    "        candidate_instructions[instruction_index],\n",
    "        candidate_demonstrations[demonstration_index],\n",
    "    )\n",
    "    # Create a new variant with the candidate prompt\n",
    "    candidate_variant_name = f\"{instruction_index}_{demonstration_index}\"\n",
    "    candidate_config = deepcopy(base_config)\n",
    "    candidate_config.functions[FUNCTION_NAME].variants[candidate_variant_name] = (\n",
    "        deepcopy(base_variant)\n",
    "    )\n",
    "    candidate_config.functions[FUNCTION_NAME].variants[\n",
    "        candidate_variant_name\n",
    "    ].system_template = candidate_prompt\n",
    "    candidate_config.functions[FUNCTION_NAME].variants[\n",
    "        candidate_variant_name\n",
    "    ].name = candidate_variant_name\n",
    "    # Write the new config to a temporary directory\n",
    "    tmp_config_dir = candidate_config.write()\n",
    "    # Build a new client with the new config\n",
    "    target_client = await AsyncTensorZeroGateway.build_embedded(\n",
    "        config_file=str(tmp_config_dir / \"tensorzero.toml\"),\n",
    "        clickhouse_url=os.environ[\"TENSORZERO_CLICKHOUSE_URL\"],\n",
    "    )\n",
    "    # Asynchronously generate answers for each query in the evaluation set\n",
    "    responses = await tqdm_asyncio.gather(\n",
    "        *[\n",
    "            candidate_inference(\n",
    "                client=target_client,\n",
    "                function_name=FUNCTION_NAME,\n",
    "                input=json.loads(input_args),\n",
    "                variant_name=candidate_variant_name,\n",
    "                semaphore=semaphore,\n",
    "            )\n",
    "            for input_args in eval_df[\"input\"]\n",
    "        ]\n",
    "    )\n",
    "\n",
    "    # Score the responses using the judge\n",
    "    judge_responses = await tqdm_asyncio.gather(\n",
    "        *[\n",
    "            judge_answer(\n",
    "                client=mipro_client,\n",
    "                task_description=TASK_DESCRIPTION,\n",
    "                metric_properties=METRIC_PROPERTIES,\n",
    "                prediction=format_response(response) if response is not None else \"\",\n",
    "                ground_truth=str(ground_truth),\n",
    "                semaphore=semaphore,\n",
    "            )\n",
    "            for response, ground_truth in zip(responses, eval_df[\"value_str\"])\n",
    "        ]\n",
    "    )\n",
    "\n",
    "    # Aggregate the scores\n",
    "    scores = []\n",
    "    for response in judge_responses:\n",
    "        if response is not None:\n",
    "            if response.output.parsed is not None:\n",
    "                scores.append(response.output.parsed[\"score\"])\n",
    "\n",
    "    # Return the mean score\n",
    "    return np.mean(scores)"
   ]
  },
  {
   "cell_type": "markdown",
   "metadata": {},
   "source": [
    "### Random Search\n",
    "\n",
    "We start by sampling a random instruction and demonstration at each iteration in the optimization loop."
   ]
  },
  {
   "cell_type": "code",
   "execution_count": 22,
   "metadata": {},
   "outputs": [
    {
     "name": "stderr",
     "output_type": "stream",
     "text": [
      "[I 2025-04-07 14:43:51,425] A new study created in memory with name: no-name-c359a151-09ef-4de8-a03e-51a1496b13de\n",
      "  0%|          | 0/100 [00:00<?, ?it/s]"
     ]
    },
    {
     "name": "stdout",
     "output_type": "stream",
     "text": [
      "\u001b[2m2025-04-07T18:43:51.709433Z\u001b[0m \u001b[33m WARN\u001b[0m \u001b[2mtensorzero_internal::inference::types\u001b[0m\u001b[2m:\u001b[0m Deprecation Warning: `{\"type\": \"text\", \"value\", ...}` is deprecated. Please use `{\"type\": \"text\", \"text\": \"String input\"}` or `{\"type\": \"text\", \"arguments\": {..}} ` instead.\n",
      "\u001b[2m2025-04-07T18:43:51.709506Z\u001b[0m \u001b[33m WARN\u001b[0m \u001b[2mtensorzero_internal::inference::types\u001b[0m\u001b[2m:\u001b[0m Deprecation Warning: `{\"type\": \"text\", \"value\", ...}` is deprecated. Please use `{\"type\": \"text\", \"text\": \"String input\"}` or `{\"type\": \"text\", \"arguments\": {..}} ` instead.\n",
      "\u001b[2m2025-04-07T18:43:51.709595Z\u001b[0m \u001b[33m WARN\u001b[0m \u001b[2mtensorzero_internal::inference::types\u001b[0m\u001b[2m:\u001b[0m Deprecation Warning: `{\"type\": \"text\", \"value\", ...}` is deprecated. Please use `{\"type\": \"text\", \"text\": \"String input\"}` or `{\"type\": \"text\", \"arguments\": {..}} ` instead.\n",
      "\u001b[2m2025-04-07T18:43:51.709601Z\u001b[0m \u001b[33m WARN\u001b[0m \u001b[2mtensorzero_internal::inference::types\u001b[0m\u001b[2m:\u001b[0m Deprecation Warning: `{\"type\": \"text\", \"value\", ...}` is deprecated. Please use `{\"type\": \"text\", \"text\": \"String input\"}` or `{\"type\": \"text\", \"arguments\": {..}} ` instead.\n",
      "\u001b[2m2025-04-07T18:43:51.709610Z\u001b[0m \u001b[33m WARN\u001b[0m \u001b[2mtensorzero_internal::inference::types\u001b[0m\u001b[2m:\u001b[0m Deprecation Warning: `{\"type\": \"text\", \"value\", ...}` is deprecated. Please use `{\"type\": \"text\", \"text\": \"String input\"}` or `{\"type\": \"text\", \"arguments\": {..}} ` instead.\n",
      "\u001b[2m2025-04-07T18:43:51.709624Z\u001b[0m \u001b[33m WARN\u001b[0m \u001b[2mtensorzero_internal::inference::types\u001b[0m\u001b[2m:\u001b[0m Deprecation Warning: `{\"type\": \"text\", \"value\", ...}` is deprecated. Please use `{\"type\": \"text\", \"text\": \"String input\"}` or `{\"type\": \"text\", \"arguments\": {..}} ` instead.\n",
      "\u001b[2m2025-04-07T18:43:51.709623Z\u001b[0m \u001b[33m WARN\u001b[0m \u001b[2mtensorzero_internal::inference::types\u001b[0m\u001b[2m:\u001b[0m Deprecation Warning: `{\"type\": \"text\", \"value\", ...}` is deprecated. Please use `{\"type\": \"text\", \"text\": \"String input\"}` or `{\"type\": \"text\", \"arguments\": {..}} ` instead.\n",
      "\u001b[2m2025-04-07T18:43:51.709646Z\u001b[0m \u001b[33m WARN\u001b[0m \u001b[2mtensorzero_internal::inference::types\u001b[0m\u001b[2m:\u001b[0m Deprecation Warning: `{\"type\": \"text\", \"value\", ...}` is deprecated. Please use `{\"type\": \"text\", \"text\": \"String input\"}` or `{\"type\": \"text\", \"arguments\": {..}} ` instead.\n",
      "\u001b[2m2025-04-07T18:43:51.709911Z\u001b[0m \u001b[33m WARN\u001b[0m \u001b[2mtensorzero_internal::inference::types\u001b[0m\u001b[2m:\u001b[0m Deprecation Warning: `{\"type\": \"text\", \"value\", ...}` is deprecated. Please use `{\"type\": \"text\", \"text\": \"String input\"}` or `{\"type\": \"text\", \"arguments\": {..}} ` instead.\n",
      "\u001b[2m2025-04-07T18:43:51.709933Z\u001b[0m \u001b[33m WARN\u001b[0m \u001b[2mtensorzero_internal::inference::types\u001b[0m\u001b[2m:\u001b[0m Deprecation Warning: `{\"type\": \"text\", \"value\", ...}` is deprecated. Please use `{\"type\": \"text\", \"text\": \"String input\"}` or `{\"type\": \"text\", \"arguments\": {..}} ` instead.\n",
      "\u001b[2m2025-04-07T18:43:51.710053Z\u001b[0m \u001b[33m WARN\u001b[0m \u001b[2mtensorzero_internal::inference::types\u001b[0m\u001b[2m:\u001b[0m Deprecation Warning: `{\"type\": \"text\", \"value\", ...}` is deprecated. Please use `{\"type\": \"text\", \"text\": \"String input\"}` or `{\"type\": \"text\", \"arguments\": {..}} ` instead.\n",
      "\u001b[2m2025-04-07T18:43:51.710054Z\u001b[0m \u001b[33m WARN\u001b[0m \u001b[2mtensorzero_internal::inference::types\u001b[0m\u001b[2m:\u001b[0m Deprecation Warning: `{\"type\": \"text\", \"value\", ...}` is deprecated. Please use `{\"type\": \"text\", \"text\": \"String input\"}` or `{\"type\": \"text\", \"arguments\": {..}} ` instead.\n",
      "\u001b[2m2025-04-07T18:43:51.710060Z\u001b[0m \u001b[33m WARN\u001b[0m \u001b[2mtensorzero_internal::inference::types\u001b[0m\u001b[2m:\u001b[0m Deprecation Warning: `{\"type\": \"text\", \"value\", ...}` is deprecated. Please use `{\"type\": \"text\", \"text\": \"String input\"}` or `{\"type\": \"text\", \"arguments\": {..}} ` instead.\n",
      "\u001b[2m2025-04-07T18:43:51.710129Z\u001b[0m \u001b[33m WARN\u001b[0m \u001b[2mtensorzero_internal::inference::types\u001b[0m\u001b[2m:\u001b[0m Deprecation Warning: `{\"type\": \"text\", \"value\", ...}` is deprecated. Please use `{\"type\": \"text\", \"text\": \"String input\"}` or `{\"type\": \"text\", \"arguments\": {..}} ` instead.\n",
      "\u001b[2m2025-04-07T18:43:51.710140Z\u001b[0m \u001b[33m WARN\u001b[0m \u001b[2mtensorzero_internal::inference::types\u001b[0m\u001b[2m:\u001b[0m Deprecation Warning: `{\"type\": \"text\", \"value\", ...}` is deprecated. Please use `{\"type\": \"text\", \"text\": \"String input\"}` or `{\"type\": \"text\", \"arguments\": {..}} ` instead.\n",
      "\u001b[2m2025-04-07T18:43:51.710144Z\u001b[0m \u001b[33m WARN\u001b[0m \u001b[2mtensorzero_internal::inference::types\u001b[0m\u001b[2m:\u001b[0m Deprecation Warning: `{\"type\": \"text\", \"value\", ...}` is deprecated. Please use `{\"type\": \"text\", \"text\": \"String input\"}` or `{\"type\": \"text\", \"arguments\": {..}} ` instead.\n",
      "\u001b[2m2025-04-07T18:43:51.710627Z\u001b[0m \u001b[33m WARN\u001b[0m \u001b[2mtensorzero_internal::inference::types\u001b[0m\u001b[2m:\u001b[0m Deprecation Warning: `{\"type\": \"text\", \"value\", ...}` is deprecated. Please use `{\"type\": \"text\", \"text\": \"String input\"}` or `{\"type\": \"text\", \"arguments\": {..}} ` instead.\n",
      "\u001b[2m2025-04-07T18:43:51.710704Z\u001b[0m \u001b[33m WARN\u001b[0m \u001b[2mtensorzero_internal::inference::types\u001b[0m\u001b[2m:\u001b[0m Deprecation Warning: `{\"type\": \"text\", \"value\", ...}` is deprecated. Please use `{\"type\": \"text\", \"text\": \"String input\"}` or `{\"type\": \"text\", \"arguments\": {..}} ` instead.\n",
      "\u001b[2m2025-04-07T18:43:51.710788Z\u001b[0m \u001b[33m WARN\u001b[0m \u001b[2mtensorzero_internal::inference::types\u001b[0m\u001b[2m:\u001b[0m Deprecation Warning: `{\"type\": \"text\", \"value\", ...}` is deprecated. Please use `{\"type\": \"text\", \"text\": \"String input\"}` or `{\"type\": \"text\", \"arguments\": {..}} ` instead.\n",
      "\u001b[2m2025-04-07T18:43:51.710790Z\u001b[0m \u001b[33m WARN\u001b[0m \u001b[2mtensorzero_internal::inference::types\u001b[0m\u001b[2m:\u001b[0m Deprecation Warning: `{\"type\": \"text\", \"value\", ...}` is deprecated. Please use `{\"type\": \"text\", \"text\": \"String input\"}` or `{\"type\": \"text\", \"arguments\": {..}} ` instead.\n",
      "\u001b[2m2025-04-07T18:43:51.710866Z\u001b[0m \u001b[33m WARN\u001b[0m \u001b[2mtensorzero_internal::inference::types\u001b[0m\u001b[2m:\u001b[0m Deprecation Warning: `{\"type\": \"text\", \"value\", ...}` is deprecated. Please use `{\"type\": \"text\", \"text\": \"String input\"}` or `{\"type\": \"text\", \"arguments\": {..}} ` instead.\n",
      "\u001b[2m2025-04-07T18:43:51.710869Z\u001b[0m \u001b[33m WARN\u001b[0m \u001b[2mtensorzero_internal::inference::types\u001b[0m\u001b[2m:\u001b[0m Deprecation Warning: `{\"type\": \"text\", \"value\", ...}` is deprecated. Please use `{\"type\": \"text\", \"text\": \"String input\"}` or `{\"type\": \"text\", \"arguments\": {..}} ` instead.\n",
      "\u001b[2m2025-04-07T18:43:51.710877Z\u001b[0m \u001b[33m WARN\u001b[0m \u001b[2mtensorzero_internal::inference::types\u001b[0m\u001b[2m:\u001b[0m Deprecation Warning: `{\"type\": \"text\", \"value\", ...}` is deprecated. Please use `{\"type\": \"text\", \"text\": \"String input\"}` or `{\"type\": \"text\", \"arguments\": {..}} ` instead.\n",
      "\u001b[2m2025-04-07T18:43:51.710943Z\u001b[0m \u001b[33m WARN\u001b[0m \u001b[2mtensorzero_internal::inference::types\u001b[0m\u001b[2m:\u001b[0m Deprecation Warning: `{\"type\": \"text\", \"value\", ...}` is deprecated. Please use `{\"type\": \"text\", \"text\": \"String input\"}` or `{\"type\": \"text\", \"arguments\": {..}} ` instead.\n",
      "\u001b[2m2025-04-07T18:43:51.710947Z\u001b[0m \u001b[33m WARN\u001b[0m \u001b[2mtensorzero_internal::inference::types\u001b[0m\u001b[2m:\u001b[0m Deprecation Warning: `{\"type\": \"text\", \"value\", ...}` is deprecated. Please use `{\"type\": \"text\", \"text\": \"String input\"}` or `{\"type\": \"text\", \"arguments\": {..}} ` instead.\n",
      "\u001b[2m2025-04-07T18:43:51.710956Z\u001b[0m \u001b[33m WARN\u001b[0m \u001b[2mtensorzero_internal::inference::types\u001b[0m\u001b[2m:\u001b[0m Deprecation Warning: `{\"type\": \"text\", \"value\", ...}` is deprecated. Please use `{\"type\": \"text\", \"text\": \"String input\"}` or `{\"type\": \"text\", \"arguments\": {..}} ` instead.\n",
      "\u001b[2m2025-04-07T18:43:51.710998Z\u001b[0m \u001b[33m WARN\u001b[0m \u001b[2mtensorzero_internal::inference::types\u001b[0m\u001b[2m:\u001b[0m Deprecation Warning: `{\"type\": \"text\", \"value\", ...}` is deprecated. Please use `{\"type\": \"text\", \"text\": \"String input\"}` or `{\"type\": \"text\", \"arguments\": {..}} ` instead.\n",
      "\u001b[2m2025-04-07T18:43:51.711016Z\u001b[0m \u001b[33m WARN\u001b[0m \u001b[2mtensorzero_internal::inference::types\u001b[0m\u001b[2m:\u001b[0m Deprecation Warning: `{\"type\": \"text\", \"value\", ...}` is deprecated. Please use `{\"type\": \"text\", \"text\": \"String input\"}` or `{\"type\": \"text\", \"arguments\": {..}} ` instead.\n",
      "\u001b[2m2025-04-07T18:43:51.711073Z\u001b[0m \u001b[33m WARN\u001b[0m \u001b[2mtensorzero_internal::inference::types\u001b[0m\u001b[2m:\u001b[0m Deprecation Warning: `{\"type\": \"text\", \"value\", ...}` is deprecated. Please use `{\"type\": \"text\", \"text\": \"String input\"}` or `{\"type\": \"text\", \"arguments\": {..}} ` instead.\n",
      "\u001b[2m2025-04-07T18:43:51.711085Z\u001b[0m \u001b[33m WARN\u001b[0m \u001b[2mtensorzero_internal::inference::types\u001b[0m\u001b[2m:\u001b[0m Deprecation Warning: `{\"type\": \"text\", \"value\", ...}` is deprecated. Please use `{\"type\": \"text\", \"text\": \"String input\"}` or `{\"type\": \"text\", \"arguments\": {..}} ` instead.\n",
      "\u001b[2m2025-04-07T18:43:51.711139Z\u001b[0m \u001b[33m WARN\u001b[0m \u001b[2mtensorzero_internal::inference::types\u001b[0m\u001b[2m:\u001b[0m Deprecation Warning: `{\"type\": \"text\", \"value\", ...}` is deprecated. Please use `{\"type\": \"text\", \"text\": \"String input\"}` or `{\"type\": \"text\", \"arguments\": {..}} ` instead.\n",
      "\u001b[2m2025-04-07T18:43:51.711157Z\u001b[0m \u001b[33m WARN\u001b[0m \u001b[2mtensorzero_internal::inference::types\u001b[0m\u001b[2m:\u001b[0m Deprecation Warning: `{\"type\": \"text\", \"value\", ...}` is deprecated. Please use `{\"type\": \"text\", \"text\": \"String input\"}` or `{\"type\": \"text\", \"arguments\": {..}} ` instead.\n",
      "\u001b[2m2025-04-07T18:43:51.711179Z\u001b[0m \u001b[33m WARN\u001b[0m \u001b[2mtensorzero_internal::inference::types\u001b[0m\u001b[2m:\u001b[0m Deprecation Warning: `{\"type\": \"text\", \"value\", ...}` is deprecated. Please use `{\"type\": \"text\", \"text\": \"String input\"}` or `{\"type\": \"text\", \"arguments\": {..}} ` instead.\n",
      "\u001b[2m2025-04-07T18:43:51.711196Z\u001b[0m \u001b[33m WARN\u001b[0m \u001b[2mtensorzero_internal::inference::types\u001b[0m\u001b[2m:\u001b[0m Deprecation Warning: `{\"type\": \"text\", \"value\", ...}` is deprecated. Please use `{\"type\": \"text\", \"text\": \"String input\"}` or `{\"type\": \"text\", \"arguments\": {..}} ` instead.\n",
      "\u001b[2m2025-04-07T18:43:51.711339Z\u001b[0m \u001b[33m WARN\u001b[0m \u001b[2mtensorzero_internal::inference::types\u001b[0m\u001b[2m:\u001b[0m Deprecation Warning: `{\"type\": \"text\", \"value\", ...}` is deprecated. Please use `{\"type\": \"text\", \"text\": \"String input\"}` or `{\"type\": \"text\", \"arguments\": {..}} ` instead.\n",
      "\u001b[2m2025-04-07T18:43:51.711342Z\u001b[0m \u001b[33m WARN\u001b[0m \u001b[2mtensorzero_internal::inference::types\u001b[0m\u001b[2m:\u001b[0m Deprecation Warning: `{\"type\": \"text\", \"value\", ...}` is deprecated. Please use `{\"type\": \"text\", \"text\": \"String input\"}` or `{\"type\": \"text\", \"arguments\": {..}} ` instead.\n",
      "\u001b[2m2025-04-07T18:43:51.711358Z\u001b[0m \u001b[33m WARN\u001b[0m \u001b[2mtensorzero_internal::inference::types\u001b[0m\u001b[2m:\u001b[0m Deprecation Warning: `{\"type\": \"text\", \"value\", ...}` is deprecated. Please use `{\"type\": \"text\", \"text\": \"String input\"}` or `{\"type\": \"text\", \"arguments\": {..}} ` instead.\n",
      "\u001b[2m2025-04-07T18:43:51.711423Z\u001b[0m \u001b[33m WARN\u001b[0m \u001b[2mtensorzero_internal::inference::types\u001b[0m\u001b[2m:\u001b[0m Deprecation Warning: `{\"type\": \"text\", \"value\", ...}` is deprecated. Please use `{\"type\": \"text\", \"text\": \"String input\"}` or `{\"type\": \"text\", \"arguments\": {..}} ` instead.\n",
      "\u001b[2m2025-04-07T18:43:51.711448Z\u001b[0m \u001b[33m WARN\u001b[0m \u001b[2mtensorzero_internal::inference::types\u001b[0m\u001b[2m:\u001b[0m Deprecation Warning: `{\"type\": \"text\", \"value\", ...}` is deprecated. Please use `{\"type\": \"text\", \"text\": \"String input\"}` or `{\"type\": \"text\", \"arguments\": {..}} ` instead.\n",
      "\u001b[2m2025-04-07T18:43:51.711453Z\u001b[0m \u001b[33m WARN\u001b[0m \u001b[2mtensorzero_internal::inference::types\u001b[0m\u001b[2m:\u001b[0m Deprecation Warning: `{\"type\": \"text\", \"value\", ...}` is deprecated. Please use `{\"type\": \"text\", \"text\": \"String input\"}` or `{\"type\": \"text\", \"arguments\": {..}} ` instead.\n",
      "\u001b[2m2025-04-07T18:43:51.711461Z\u001b[0m \u001b[33m WARN\u001b[0m \u001b[2mtensorzero_internal::inference::types\u001b[0m\u001b[2m:\u001b[0m Deprecation Warning: `{\"type\": \"text\", \"value\", ...}` is deprecated. Please use `{\"type\": \"text\", \"text\": \"String input\"}` or `{\"type\": \"text\", \"arguments\": {..}} ` instead.\n",
      "\u001b[2m2025-04-07T18:43:51.711509Z\u001b[0m \u001b[33m WARN\u001b[0m \u001b[2mtensorzero_internal::inference::types\u001b[0m\u001b[2m:\u001b[0m Deprecation Warning: `{\"type\": \"text\", \"value\", ...}` is deprecated. Please use `{\"type\": \"text\", \"text\": \"String input\"}` or `{\"type\": \"text\", \"arguments\": {..}} ` instead.\n",
      "\u001b[2m2025-04-07T18:43:51.711515Z\u001b[0m \u001b[33m WARN\u001b[0m \u001b[2mtensorzero_internal::inference::types\u001b[0m\u001b[2m:\u001b[0m Deprecation Warning: `{\"type\": \"text\", \"value\", ...}` is deprecated. Please use `{\"type\": \"text\", \"text\": \"String input\"}` or `{\"type\": \"text\", \"arguments\": {..}} ` instead.\n",
      "\u001b[2m2025-04-07T18:43:51.711526Z\u001b[0m \u001b[33m WARN\u001b[0m \u001b[2mtensorzero_internal::inference::types\u001b[0m\u001b[2m:\u001b[0m Deprecation Warning: `{\"type\": \"text\", \"value\", ...}` is deprecated. Please use `{\"type\": \"text\", \"text\": \"String input\"}` or `{\"type\": \"text\", \"arguments\": {..}} ` instead.\n",
      "\u001b[2m2025-04-07T18:43:51.711554Z\u001b[0m \u001b[33m WARN\u001b[0m \u001b[2mtensorzero_internal::inference::types\u001b[0m\u001b[2m:\u001b[0m Deprecation Warning: `{\"type\": \"text\", \"value\", ...}` is deprecated. Please use `{\"type\": \"text\", \"text\": \"String input\"}` or `{\"type\": \"text\", \"arguments\": {..}} ` instead.\n",
      "\u001b[2m2025-04-07T18:43:51.711558Z\u001b[0m \u001b[33m WARN\u001b[0m \u001b[2mtensorzero_internal::inference::types\u001b[0m\u001b[2m:\u001b[0m Deprecation Warning: `{\"type\": \"text\", \"value\", ...}` is deprecated. Please use `{\"type\": \"text\", \"text\": \"String input\"}` or `{\"type\": \"text\", \"arguments\": {..}} ` instead.\n",
      "\u001b[2m2025-04-07T18:43:51.711615Z\u001b[0m \u001b[33m WARN\u001b[0m \u001b[2mtensorzero_internal::inference::types\u001b[0m\u001b[2m:\u001b[0m Deprecation Warning: `{\"type\": \"text\", \"value\", ...}` is deprecated. Please use `{\"type\": \"text\", \"text\": \"String input\"}` or `{\"type\": \"text\", \"arguments\": {..}} ` instead.\n",
      "\u001b[2m2025-04-07T18:43:51.711632Z\u001b[0m \u001b[33m WARN\u001b[0m \u001b[2mtensorzero_internal::inference::types\u001b[0m\u001b[2m:\u001b[0m Deprecation Warning: `{\"type\": \"text\", \"value\", ...}` is deprecated. Please use `{\"type\": \"text\", \"text\": \"String input\"}` or `{\"type\": \"text\", \"arguments\": {..}} ` instead.\n",
      "\u001b[2m2025-04-07T18:43:51.711658Z\u001b[0m \u001b[33m WARN\u001b[0m \u001b[2mtensorzero_internal::inference::types\u001b[0m\u001b[2m:\u001b[0m Deprecation Warning: `{\"type\": \"text\", \"value\", ...}` is deprecated. Please use `{\"type\": \"text\", \"text\": \"String input\"}` or `{\"type\": \"text\", \"arguments\": {..}} ` instead.\n",
      "\u001b[2m2025-04-07T18:43:51.711684Z\u001b[0m \u001b[33m WARN\u001b[0m \u001b[2mtensorzero_internal::inference::types\u001b[0m\u001b[2m:\u001b[0m Deprecation Warning: `{\"type\": \"text\", \"value\", ...}` is deprecated. Please use `{\"type\": \"text\", \"text\": \"String input\"}` or `{\"type\": \"text\", \"arguments\": {..}} ` instead.\n"
     ]
    },
    {
     "name": "stderr",
     "output_type": "stream",
     "text": [
      "  3%|▎         | 3/100 [00:00<00:15,  6.28it/s]"
     ]
    },
    {
     "name": "stdout",
     "output_type": "stream",
     "text": [
      "\u001b[2m2025-04-07T18:43:52.125397Z\u001b[0m \u001b[33m WARN\u001b[0m \u001b[2mtensorzero_internal::inference::types\u001b[0m\u001b[2m:\u001b[0m Deprecation Warning: `{\"type\": \"text\", \"value\", ...}` is deprecated. Please use `{\"type\": \"text\", \"text\": \"String input\"}` or `{\"type\": \"text\", \"arguments\": {..}} ` instead.\n",
      "\u001b[2m2025-04-07T18:43:52.186504Z\u001b[0m \u001b[33m WARN\u001b[0m \u001b[2mtensorzero_internal::inference::types\u001b[0m\u001b[2m:\u001b[0m Deprecation Warning: `{\"type\": \"text\", \"value\", ...}` is deprecated. Please use `{\"type\": \"text\", \"text\": \"String input\"}` or `{\"type\": \"text\", \"arguments\": {..}} ` instead.\n",
      "\u001b[2m2025-04-07T18:43:52.263937Z\u001b[0m \u001b[33m WARN\u001b[0m \u001b[2mtensorzero_internal::inference::types\u001b[0m\u001b[2m:\u001b[0m Deprecation Warning: `{\"type\": \"text\", \"value\", ...}` is deprecated. Please use `{\"type\": \"text\", \"text\": \"String input\"}` or `{\"type\": \"text\", \"arguments\": {..}} ` instead.\n"
     ]
    },
    {
     "name": "stderr",
     "output_type": "stream",
     "text": [
      " 22%|██▏       | 22/100 [00:00<00:01, 48.01it/s]"
     ]
    },
    {
     "name": "stdout",
     "output_type": "stream",
     "text": [
      "\u001b[2m2025-04-07T18:43:52.406429Z\u001b[0m \u001b[33m WARN\u001b[0m \u001b[2mtensorzero_internal::inference::types\u001b[0m\u001b[2m:\u001b[0m Deprecation Warning: `{\"type\": \"text\", \"value\", ...}` is deprecated. Please use `{\"type\": \"text\", \"text\": \"String input\"}` or `{\"type\": \"text\", \"arguments\": {..}} ` instead.\n",
      "\u001b[2m2025-04-07T18:43:52.409963Z\u001b[0m \u001b[33m WARN\u001b[0m \u001b[2mtensorzero_internal::inference::types\u001b[0m\u001b[2m:\u001b[0m Deprecation Warning: `{\"type\": \"text\", \"value\", ...}` is deprecated. Please use `{\"type\": \"text\", \"text\": \"String input\"}` or `{\"type\": \"text\", \"arguments\": {..}} ` instead.\n",
      "\u001b[2m2025-04-07T18:43:52.409982Z\u001b[0m \u001b[33m WARN\u001b[0m \u001b[2mtensorzero_internal::inference::types\u001b[0m\u001b[2m:\u001b[0m Deprecation Warning: `{\"type\": \"text\", \"value\", ...}` is deprecated. Please use `{\"type\": \"text\", \"text\": \"String input\"}` or `{\"type\": \"text\", \"arguments\": {..}} ` instead.\n",
      "\u001b[2m2025-04-07T18:43:52.409963Z\u001b[0m \u001b[33m WARN\u001b[0m \u001b[2mtensorzero_internal::inference::types\u001b[0m\u001b[2m:\u001b[0m Deprecation Warning: `{\"type\": \"text\", \"value\", ...}` is deprecated. Please use `{\"type\": \"text\", \"text\": \"String input\"}` or `{\"type\": \"text\", \"arguments\": {..}} ` instead.\n",
      "\u001b[2m2025-04-07T18:43:52.410112Z\u001b[0m \u001b[33m WARN\u001b[0m \u001b[2mtensorzero_internal::inference::types\u001b[0m\u001b[2m:\u001b[0m Deprecation Warning: `{\"type\": \"text\", \"value\", ...}` is deprecated. Please use `{\"type\": \"text\", \"text\": \"String input\"}` or `{\"type\": \"text\", \"arguments\": {..}} ` instead.\n",
      "\u001b[2m2025-04-07T18:43:52.410116Z\u001b[0m \u001b[33m WARN\u001b[0m \u001b[2mtensorzero_internal::inference::types\u001b[0m\u001b[2m:\u001b[0m Deprecation Warning: `{\"type\": \"text\", \"value\", ...}` is deprecated. Please use `{\"type\": \"text\", \"text\": \"String input\"}` or `{\"type\": \"text\", \"arguments\": {..}} ` instead.\n",
      "\u001b[2m2025-04-07T18:43:52.410179Z\u001b[0m \u001b[33m WARN\u001b[0m \u001b[2mtensorzero_internal::inference::types\u001b[0m\u001b[2m:\u001b[0m Deprecation Warning: `{\"type\": \"text\", \"value\", ...}` is deprecated. Please use `{\"type\": \"text\", \"text\": \"String input\"}` or `{\"type\": \"text\", \"arguments\": {..}} ` instead.\n",
      "\u001b[2m2025-04-07T18:43:52.410187Z\u001b[0m \u001b[33m WARN\u001b[0m \u001b[2mtensorzero_internal::inference::types\u001b[0m\u001b[2m:\u001b[0m Deprecation Warning: `{\"type\": \"text\", \"value\", ...}` is deprecated. Please use `{\"type\": \"text\", \"text\": \"String input\"}` or `{\"type\": \"text\", \"arguments\": {..}} ` instead.\n",
      "\u001b[2m2025-04-07T18:43:52.410854Z\u001b[0m \u001b[33m WARN\u001b[0m \u001b[2mtensorzero_internal::inference::types\u001b[0m\u001b[2m:\u001b[0m Deprecation Warning: `{\"type\": \"text\", \"value\", ...}` is deprecated. Please use `{\"type\": \"text\", \"text\": \"String input\"}` or `{\"type\": \"text\", \"arguments\": {..}} ` instead.\n",
      "\u001b[2m2025-04-07T18:43:52.411128Z\u001b[0m \u001b[33m WARN\u001b[0m \u001b[2mtensorzero_internal::inference::types\u001b[0m\u001b[2m:\u001b[0m Deprecation Warning: `{\"type\": \"text\", \"value\", ...}` is deprecated. Please use `{\"type\": \"text\", \"text\": \"String input\"}` or `{\"type\": \"text\", \"arguments\": {..}} ` instead.\n",
      "\u001b[2m2025-04-07T18:43:52.447254Z\u001b[0m \u001b[33m WARN\u001b[0m \u001b[2mtensorzero_internal::inference::types\u001b[0m\u001b[2m:\u001b[0m Deprecation Warning: `{\"type\": \"text\", \"value\", ...}` is deprecated. Please use `{\"type\": \"text\", \"text\": \"String input\"}` or `{\"type\": \"text\", \"arguments\": {..}} ` instead.\n",
      "\u001b[2m2025-04-07T18:43:52.455076Z\u001b[0m \u001b[33m WARN\u001b[0m \u001b[2mtensorzero_internal::inference::types\u001b[0m\u001b[2m:\u001b[0m Deprecation Warning: `{\"type\": \"text\", \"value\", ...}` is deprecated. Please use `{\"type\": \"text\", \"text\": \"String input\"}` or `{\"type\": \"text\", \"arguments\": {..}} ` instead.\n",
      "\u001b[2m2025-04-07T18:43:52.461491Z\u001b[0m \u001b[33m WARN\u001b[0m \u001b[2mtensorzero_internal::inference::types\u001b[0m\u001b[2m:\u001b[0m Deprecation Warning: `{\"type\": \"text\", \"value\", ...}` is deprecated. Please use `{\"type\": \"text\", \"text\": \"String input\"}` or `{\"type\": \"text\", \"arguments\": {..}} ` instead.\n",
      "\u001b[2m2025-04-07T18:43:52.468041Z\u001b[0m \u001b[33m WARN\u001b[0m \u001b[2mtensorzero_internal::inference::types\u001b[0m\u001b[2m:\u001b[0m Deprecation Warning: `{\"type\": \"text\", \"value\", ...}` is deprecated. Please use `{\"type\": \"text\", \"text\": \"String input\"}` or `{\"type\": \"text\", \"arguments\": {..}} ` instead.\n",
      "\u001b[2m2025-04-07T18:43:52.469131Z\u001b[0m \u001b[33m WARN\u001b[0m \u001b[2mtensorzero_internal::inference::types\u001b[0m\u001b[2m:\u001b[0m Deprecation Warning: `{\"type\": \"text\", \"value\", ...}` is deprecated. Please use `{\"type\": \"text\", \"text\": \"String input\"}` or `{\"type\": \"text\", \"arguments\": {..}} ` instead.\n",
      "\u001b[2m2025-04-07T18:43:52.472060Z\u001b[0m \u001b[33m WARN\u001b[0m \u001b[2mtensorzero_internal::inference::types\u001b[0m\u001b[2m:\u001b[0m Deprecation Warning: `{\"type\": \"text\", \"value\", ...}` is deprecated. Please use `{\"type\": \"text\", \"text\": \"String input\"}` or `{\"type\": \"text\", \"arguments\": {..}} ` instead.\n",
      "\u001b[2m2025-04-07T18:43:52.491048Z\u001b[0m \u001b[33m WARN\u001b[0m \u001b[2mtensorzero_internal::inference::types\u001b[0m\u001b[2m:\u001b[0m Deprecation Warning: `{\"type\": \"text\", \"value\", ...}` is deprecated. Please use `{\"type\": \"text\", \"text\": \"String input\"}` or `{\"type\": \"text\", \"arguments\": {..}} ` instead.\n",
      "\u001b[2m2025-04-07T18:43:52.494299Z\u001b[0m \u001b[33m WARN\u001b[0m \u001b[2mtensorzero_internal::inference::types\u001b[0m\u001b[2m:\u001b[0m Deprecation Warning: `{\"type\": \"text\", \"value\", ...}` is deprecated. Please use `{\"type\": \"text\", \"text\": \"String input\"}` or `{\"type\": \"text\", \"arguments\": {..}} ` instead.\n",
      "\u001b[2m2025-04-07T18:43:52.512752Z\u001b[0m \u001b[33m WARN\u001b[0m \u001b[2mtensorzero_internal::inference::types\u001b[0m\u001b[2m:\u001b[0m Deprecation Warning: `{\"type\": \"text\", \"value\", ...}` is deprecated. Please use `{\"type\": \"text\", \"text\": \"String input\"}` or `{\"type\": \"text\", \"arguments\": {..}} ` instead.\n",
      "\u001b[2m2025-04-07T18:43:52.517344Z\u001b[0m \u001b[33m WARN\u001b[0m \u001b[2mtensorzero_internal::inference::types\u001b[0m\u001b[2m:\u001b[0m Deprecation Warning: `{\"type\": \"text\", \"value\", ...}` is deprecated. Please use `{\"type\": \"text\", \"text\": \"String input\"}` or `{\"type\": \"text\", \"arguments\": {..}} ` instead.\n",
      "\u001b[2m2025-04-07T18:43:52.535399Z\u001b[0m \u001b[33m WARN\u001b[0m \u001b[2mtensorzero_internal::inference::types\u001b[0m\u001b[2m:\u001b[0m Deprecation Warning: `{\"type\": \"text\", \"value\", ...}` is deprecated. Please use `{\"type\": \"text\", \"text\": \"String input\"}` or `{\"type\": \"text\", \"arguments\": {..}} ` instead.\n",
      "\u001b[2m2025-04-07T18:43:52.535984Z\u001b[0m \u001b[33m WARN\u001b[0m \u001b[2mtensorzero_internal::inference::types\u001b[0m\u001b[2m:\u001b[0m Deprecation Warning: `{\"type\": \"text\", \"value\", ...}` is deprecated. Please use `{\"type\": \"text\", \"text\": \"String input\"}` or `{\"type\": \"text\", \"arguments\": {..}} ` instead.\n",
      "\u001b[2m2025-04-07T18:43:52.540325Z\u001b[0m \u001b[33m WARN\u001b[0m \u001b[2mtensorzero_internal::inference::types\u001b[0m\u001b[2m:\u001b[0m Deprecation Warning: `{\"type\": \"text\", \"value\", ...}` is deprecated. Please use `{\"type\": \"text\", \"text\": \"String input\"}` or `{\"type\": \"text\", \"arguments\": {..}} ` instead.\n",
      "\u001b[2m2025-04-07T18:43:52.547314Z\u001b[0m \u001b[33m WARN\u001b[0m \u001b[2mtensorzero_internal::inference::types\u001b[0m\u001b[2m:\u001b[0m Deprecation Warning: `{\"type\": \"text\", \"value\", ...}` is deprecated. Please use `{\"type\": \"text\", \"text\": \"String input\"}` or `{\"type\": \"text\", \"arguments\": {..}} ` instead.\n",
      "\u001b[2m2025-04-07T18:43:52.584179Z\u001b[0m \u001b[33m WARN\u001b[0m \u001b[2mtensorzero_internal::inference::types\u001b[0m\u001b[2m:\u001b[0m Deprecation Warning: `{\"type\": \"text\", \"value\", ...}` is deprecated. Please use `{\"type\": \"text\", \"text\": \"String input\"}` or `{\"type\": \"text\", \"arguments\": {..}} ` instead.\n",
      "\u001b[2m2025-04-07T18:43:52.597772Z\u001b[0m \u001b[33m WARN\u001b[0m \u001b[2mtensorzero_internal::inference::types\u001b[0m\u001b[2m:\u001b[0m Deprecation Warning: `{\"type\": \"text\", \"value\", ...}` is deprecated. Please use `{\"type\": \"text\", \"text\": \"String input\"}` or `{\"type\": \"text\", \"arguments\": {..}} ` instead.\n",
      "\u001b[2m2025-04-07T18:43:52.597774Z\u001b[0m \u001b[33m WARN\u001b[0m \u001b[2mtensorzero_internal::inference::types\u001b[0m\u001b[2m:\u001b[0m Deprecation Warning: `{\"type\": \"text\", \"value\", ...}` is deprecated. Please use `{\"type\": \"text\", \"text\": \"String input\"}` or `{\"type\": \"text\", \"arguments\": {..}} ` instead.\n",
      "\u001b[2m2025-04-07T18:43:52.603648Z\u001b[0m \u001b[33m WARN\u001b[0m \u001b[2mtensorzero_internal::inference::types\u001b[0m\u001b[2m:\u001b[0m Deprecation Warning: `{\"type\": \"text\", \"value\", ...}` is deprecated. Please use `{\"type\": \"text\", \"text\": \"String input\"}` or `{\"type\": \"text\", \"arguments\": {..}} ` instead.\n"
     ]
    },
    {
     "name": "stderr",
     "output_type": "stream",
     "text": [
      " 43%|████▎     | 43/100 [00:01<00:00, 68.61it/s]"
     ]
    },
    {
     "name": "stdout",
     "output_type": "stream",
     "text": [
      "\u001b[2m2025-04-07T18:43:52.627910Z\u001b[0m \u001b[33m WARN\u001b[0m \u001b[2mtensorzero_internal::inference::types\u001b[0m\u001b[2m:\u001b[0m Deprecation Warning: `{\"type\": \"text\", \"value\", ...}` is deprecated. Please use `{\"type\": \"text\", \"text\": \"String input\"}` or `{\"type\": \"text\", \"arguments\": {..}} ` instead.\n",
      "\u001b[2m2025-04-07T18:43:52.628680Z\u001b[0m \u001b[33m WARN\u001b[0m \u001b[2mtensorzero_internal::inference::types\u001b[0m\u001b[2m:\u001b[0m Deprecation Warning: `{\"type\": \"text\", \"value\", ...}` is deprecated. Please use `{\"type\": \"text\", \"text\": \"String input\"}` or `{\"type\": \"text\", \"arguments\": {..}} ` instead.\n",
      "\u001b[2m2025-04-07T18:43:52.629518Z\u001b[0m \u001b[33m WARN\u001b[0m \u001b[2mtensorzero_internal::inference::types\u001b[0m\u001b[2m:\u001b[0m Deprecation Warning: `{\"type\": \"text\", \"value\", ...}` is deprecated. Please use `{\"type\": \"text\", \"text\": \"String input\"}` or `{\"type\": \"text\", \"arguments\": {..}} ` instead.\n",
      "\u001b[2m2025-04-07T18:43:52.647797Z\u001b[0m \u001b[33m WARN\u001b[0m \u001b[2mtensorzero_internal::inference::types\u001b[0m\u001b[2m:\u001b[0m Deprecation Warning: `{\"type\": \"text\", \"value\", ...}` is deprecated. Please use `{\"type\": \"text\", \"text\": \"String input\"}` or `{\"type\": \"text\", \"arguments\": {..}} ` instead.\n",
      "\u001b[2m2025-04-07T18:43:52.659794Z\u001b[0m \u001b[33m WARN\u001b[0m \u001b[2mtensorzero_internal::inference::types\u001b[0m\u001b[2m:\u001b[0m Deprecation Warning: `{\"type\": \"text\", \"value\", ...}` is deprecated. Please use `{\"type\": \"text\", \"text\": \"String input\"}` or `{\"type\": \"text\", \"arguments\": {..}} ` instead.\n",
      "\u001b[2m2025-04-07T18:43:52.676602Z\u001b[0m \u001b[33m WARN\u001b[0m \u001b[2mtensorzero_internal::inference::types\u001b[0m\u001b[2m:\u001b[0m Deprecation Warning: `{\"type\": \"text\", \"value\", ...}` is deprecated. Please use `{\"type\": \"text\", \"text\": \"String input\"}` or `{\"type\": \"text\", \"arguments\": {..}} ` instead.\n",
      "\u001b[2m2025-04-07T18:43:52.676602Z\u001b[0m \u001b[33m WARN\u001b[0m \u001b[2mtensorzero_internal::inference::types\u001b[0m\u001b[2m:\u001b[0m Deprecation Warning: `{\"type\": \"text\", \"value\", ...}` is deprecated. Please use `{\"type\": \"text\", \"text\": \"String input\"}` or `{\"type\": \"text\", \"arguments\": {..}} ` instead.\n",
      "\u001b[2m2025-04-07T18:43:52.682199Z\u001b[0m \u001b[33m WARN\u001b[0m \u001b[2mtensorzero_internal::inference::types\u001b[0m\u001b[2m:\u001b[0m Deprecation Warning: `{\"type\": \"text\", \"value\", ...}` is deprecated. Please use `{\"type\": \"text\", \"text\": \"String input\"}` or `{\"type\": \"text\", \"arguments\": {..}} ` instead.\n",
      "\u001b[2m2025-04-07T18:43:52.692009Z\u001b[0m \u001b[33m WARN\u001b[0m \u001b[2mtensorzero_internal::inference::types\u001b[0m\u001b[2m:\u001b[0m Deprecation Warning: `{\"type\": \"text\", \"value\", ...}` is deprecated. Please use `{\"type\": \"text\", \"text\": \"String input\"}` or `{\"type\": \"text\", \"arguments\": {..}} ` instead.\n",
      "\u001b[2m2025-04-07T18:43:52.708438Z\u001b[0m \u001b[33m WARN\u001b[0m \u001b[2mtensorzero_internal::inference::types\u001b[0m\u001b[2m:\u001b[0m Deprecation Warning: `{\"type\": \"text\", \"value\", ...}` is deprecated. Please use `{\"type\": \"text\", \"text\": \"String input\"}` or `{\"type\": \"text\", \"arguments\": {..}} ` instead.\n",
      "\u001b[2m2025-04-07T18:43:52.727498Z\u001b[0m \u001b[33m WARN\u001b[0m \u001b[2mtensorzero_internal::inference::types\u001b[0m\u001b[2m:\u001b[0m Deprecation Warning: `{\"type\": \"text\", \"value\", ...}` is deprecated. Please use `{\"type\": \"text\", \"text\": \"String input\"}` or `{\"type\": \"text\", \"arguments\": {..}} ` instead.\n",
      "\u001b[2m2025-04-07T18:43:52.748251Z\u001b[0m \u001b[33m WARN\u001b[0m \u001b[2mtensorzero_internal::inference::types\u001b[0m\u001b[2m:\u001b[0m Deprecation Warning: `{\"type\": \"text\", \"value\", ...}` is deprecated. Please use `{\"type\": \"text\", \"text\": \"String input\"}` or `{\"type\": \"text\", \"arguments\": {..}} ` instead.\n",
      "\u001b[2m2025-04-07T18:43:52.757082Z\u001b[0m \u001b[33m WARN\u001b[0m \u001b[2mtensorzero_internal::inference::types\u001b[0m\u001b[2m:\u001b[0m Deprecation Warning: `{\"type\": \"text\", \"value\", ...}` is deprecated. Please use `{\"type\": \"text\", \"text\": \"String input\"}` or `{\"type\": \"text\", \"arguments\": {..}} ` instead.\n",
      "\u001b[2m2025-04-07T18:43:52.759599Z\u001b[0m \u001b[33m WARN\u001b[0m \u001b[2mtensorzero_internal::inference::types\u001b[0m\u001b[2m:\u001b[0m Deprecation Warning: `{\"type\": \"text\", \"value\", ...}` is deprecated. Please use `{\"type\": \"text\", \"text\": \"String input\"}` or `{\"type\": \"text\", \"arguments\": {..}} ` instead.\n"
     ]
    },
    {
     "name": "stderr",
     "output_type": "stream",
     "text": [
      " 61%|██████    | 61/100 [00:01<00:00, 59.27it/s]"
     ]
    },
    {
     "name": "stdout",
     "output_type": "stream",
     "text": [
      "\u001b[2m2025-04-07T18:43:52.928076Z\u001b[0m \u001b[33m WARN\u001b[0m \u001b[2mtensorzero_internal::inference::types\u001b[0m\u001b[2m:\u001b[0m Deprecation Warning: `{\"type\": \"text\", \"value\", ...}` is deprecated. Please use `{\"type\": \"text\", \"text\": \"String input\"}` or `{\"type\": \"text\", \"arguments\": {..}} ` instead.\n",
      "\u001b[2m2025-04-07T18:43:52.928076Z\u001b[0m \u001b[33m WARN\u001b[0m \u001b[2mtensorzero_internal::inference::types\u001b[0m\u001b[2m:\u001b[0m Deprecation Warning: `{\"type\": \"text\", \"value\", ...}` is deprecated. Please use `{\"type\": \"text\", \"text\": \"String input\"}` or `{\"type\": \"text\", \"arguments\": {..}} ` instead.\n",
      "\u001b[2m2025-04-07T18:43:52.928357Z\u001b[0m \u001b[33m WARN\u001b[0m \u001b[2mtensorzero_internal::inference::types\u001b[0m\u001b[2m:\u001b[0m Deprecation Warning: `{\"type\": \"text\", \"value\", ...}` is deprecated. Please use `{\"type\": \"text\", \"text\": \"String input\"}` or `{\"type\": \"text\", \"arguments\": {..}} ` instead.\n",
      "\u001b[2m2025-04-07T18:43:52.928359Z\u001b[0m \u001b[33m WARN\u001b[0m \u001b[2mtensorzero_internal::inference::types\u001b[0m\u001b[2m:\u001b[0m Deprecation Warning: `{\"type\": \"text\", \"value\", ...}` is deprecated. Please use `{\"type\": \"text\", \"text\": \"String input\"}` or `{\"type\": \"text\", \"arguments\": {..}} ` instead.\n",
      "\u001b[2m2025-04-07T18:43:52.928706Z\u001b[0m \u001b[33m WARN\u001b[0m \u001b[2mtensorzero_internal::inference::types\u001b[0m\u001b[2m:\u001b[0m Deprecation Warning: `{\"type\": \"text\", \"value\", ...}` is deprecated. Please use `{\"type\": \"text\", \"text\": \"String input\"}` or `{\"type\": \"text\", \"arguments\": {..}} ` instead.\n"
     ]
    },
    {
     "name": "stderr",
     "output_type": "stream",
     "text": [
      "100%|██████████| 100/100 [00:02<00:00, 39.97it/s]\n",
      "100%|██████████| 100/100 [00:16<00:00,  6.24it/s]\n",
      "[I 2025-04-07 14:44:10,252] Trial 0 finished with value: 0.5984036796536796 and parameters: {'instruction_index': 8, 'demonstration_index': 9}. Best is trial 0 with value: 0.5984036796536796.\n"
     ]
    },
    {
     "name": "stdout",
     "output_type": "stream",
     "text": [
      "Iteration 1: 0.5984036796536796\n"
     ]
    },
    {
     "name": "stderr",
     "output_type": "stream",
     "text": [
      "  0%|          | 0/100 [00:00<?, ?it/s]"
     ]
    },
    {
     "name": "stdout",
     "output_type": "stream",
     "text": [
      "\u001b[2m2025-04-07T18:44:10.578942Z\u001b[0m \u001b[33m WARN\u001b[0m \u001b[2mtensorzero_internal::inference::types\u001b[0m\u001b[2m:\u001b[0m Deprecation Warning: `{\"type\": \"text\", \"value\", ...}` is deprecated. Please use `{\"type\": \"text\", \"text\": \"String input\"}` or `{\"type\": \"text\", \"arguments\": {..}} ` instead.\n",
      "\u001b[2m2025-04-07T18:44:10.578966Z\u001b[0m \u001b[33m WARN\u001b[0m \u001b[2mtensorzero_internal::inference::types\u001b[0m\u001b[2m:\u001b[0m Deprecation Warning: `{\"type\": \"text\", \"value\", ...}` is deprecated. Please use `{\"type\": \"text\", \"text\": \"String input\"}` or `{\"type\": \"text\", \"arguments\": {..}} ` instead.\n",
      "\u001b[2m2025-04-07T18:44:10.578944Z\u001b[0m \u001b[33m WARN\u001b[0m \u001b[2mtensorzero_internal::inference::types\u001b[0m\u001b[2m:\u001b[0m Deprecation Warning: `{\"type\": \"text\", \"value\", ...}` is deprecated. Please use `{\"type\": \"text\", \"text\": \"String input\"}` or `{\"type\": \"text\", \"arguments\": {..}} ` instead.\n",
      "\u001b[2m2025-04-07T18:44:10.578990Z\u001b[0m \u001b[33m WARN\u001b[0m \u001b[2mtensorzero_internal::inference::types\u001b[0m\u001b[2m:\u001b[0m Deprecation Warning: `{\"type\": \"text\", \"value\", ...}` is deprecated. Please use `{\"type\": \"text\", \"text\": \"String input\"}` or `{\"type\": \"text\", \"arguments\": {..}} ` instead.\n",
      "\u001b[2m2025-04-07T18:44:10.578967Z\u001b[0m \u001b[33m WARN\u001b[0m \u001b[2mtensorzero_internal::inference::types\u001b[0m\u001b[2m:\u001b[0m Deprecation Warning: `{\"type\": \"text\", \"value\", ...}` is deprecated. Please use `{\"type\": \"text\", \"text\": \"String input\"}` or `{\"type\": \"text\", \"arguments\": {..}} ` instead.\n",
      "\u001b[2m2025-04-07T18:44:10.579078Z\u001b[0m \u001b[33m WARN\u001b[0m \u001b[2mtensorzero_internal::inference::types\u001b[0m\u001b[2m:\u001b[0m Deprecation Warning: `{\"type\": \"text\", \"value\", ...}` is deprecated. Please use `{\"type\": \"text\", \"text\": \"String input\"}` or `{\"type\": \"text\", \"arguments\": {..}} ` instead.\n",
      "\u001b[2m2025-04-07T18:44:10.579101Z\u001b[0m \u001b[33m WARN\u001b[0m \u001b[2mtensorzero_internal::inference::types\u001b[0m\u001b[2m:\u001b[0m Deprecation Warning: `{\"type\": \"text\", \"value\", ...}` is deprecated. Please use `{\"type\": \"text\", \"text\": \"String input\"}` or `{\"type\": \"text\", \"arguments\": {..}} ` instead.\n",
      "\u001b[2m2025-04-07T18:44:10.579105Z\u001b[0m \u001b[33m WARN\u001b[0m \u001b[2mtensorzero_internal::inference::types\u001b[0m\u001b[2m:\u001b[0m Deprecation Warning: `{\"type\": \"text\", \"value\", ...}` is deprecated. Please use `{\"type\": \"text\", \"text\": \"String input\"}` or `{\"type\": \"text\", \"arguments\": {..}} ` instead.\n",
      "\u001b[2m2025-04-07T18:44:10.579109Z\u001b[0m \u001b[33m WARN\u001b[0m \u001b[2mtensorzero_internal::inference::types\u001b[0m\u001b[2m:\u001b[0m Deprecation Warning: `{\"type\": \"text\", \"value\", ...}` is deprecated. Please use `{\"type\": \"text\", \"text\": \"String input\"}` or `{\"type\": \"text\", \"arguments\": {..}} ` instead.\n",
      "\u001b[2m2025-04-07T18:44:10.579175Z\u001b[0m \u001b[33m WARN\u001b[0m \u001b[2mtensorzero_internal::inference::types\u001b[0m\u001b[2m:\u001b[0m Deprecation Warning: `{\"type\": \"text\", \"value\", ...}` is deprecated. Please use `{\"type\": \"text\", \"text\": \"String input\"}` or `{\"type\": \"text\", \"arguments\": {..}} ` instead.\n",
      "\u001b[2m2025-04-07T18:44:10.579196Z\u001b[0m \u001b[33m WARN\u001b[0m \u001b[2mtensorzero_internal::inference::types\u001b[0m\u001b[2m:\u001b[0m Deprecation Warning: `{\"type\": \"text\", \"value\", ...}` is deprecated. Please use `{\"type\": \"text\", \"text\": \"String input\"}` or `{\"type\": \"text\", \"arguments\": {..}} ` instead.\n",
      "\u001b[2m2025-04-07T18:44:10.579210Z\u001b[0m \u001b[33m WARN\u001b[0m \u001b[2mtensorzero_internal::inference::types\u001b[0m\u001b[2m:\u001b[0m Deprecation Warning: `{\"type\": \"text\", \"value\", ...}` is deprecated. Please use `{\"type\": \"text\", \"text\": \"String input\"}` or `{\"type\": \"text\", \"arguments\": {..}} ` instead.\n",
      "\u001b[2m2025-04-07T18:44:10.579227Z\u001b[0m \u001b[33m WARN\u001b[0m \u001b[2mtensorzero_internal::inference::types\u001b[0m\u001b[2m:\u001b[0m Deprecation Warning: `{\"type\": \"text\", \"value\", ...}` is deprecated. Please use `{\"type\": \"text\", \"text\": \"String input\"}` or `{\"type\": \"text\", \"arguments\": {..}} ` instead.\n",
      "\u001b[2m2025-04-07T18:44:10.579234Z\u001b[0m \u001b[33m WARN\u001b[0m \u001b[2mtensorzero_internal::inference::types\u001b[0m\u001b[2m:\u001b[0m Deprecation Warning: `{\"type\": \"text\", \"value\", ...}` is deprecated. Please use `{\"type\": \"text\", \"text\": \"String input\"}` or `{\"type\": \"text\", \"arguments\": {..}} ` instead.\n",
      "\u001b[2m2025-04-07T18:44:10.579259Z\u001b[0m \u001b[33m WARN\u001b[0m \u001b[2mtensorzero_internal::inference::types\u001b[0m\u001b[2m:\u001b[0m Deprecation Warning: `{\"type\": \"text\", \"value\", ...}` is deprecated. Please use `{\"type\": \"text\", \"text\": \"String input\"}` or `{\"type\": \"text\", \"arguments\": {..}} ` instead.\n",
      "\u001b[2m2025-04-07T18:44:10.579265Z\u001b[0m \u001b[33m WARN\u001b[0m \u001b[2mtensorzero_internal::inference::types\u001b[0m\u001b[2m:\u001b[0m Deprecation Warning: `{\"type\": \"text\", \"value\", ...}` is deprecated. Please use `{\"type\": \"text\", \"text\": \"String input\"}` or `{\"type\": \"text\", \"arguments\": {..}} ` instead.\n",
      "\u001b[2m2025-04-07T18:44:10.579347Z\u001b[0m \u001b[33m WARN\u001b[0m \u001b[2mtensorzero_internal::inference::types\u001b[0m\u001b[2m:\u001b[0m Deprecation Warning: `{\"type\": \"text\", \"value\", ...}` is deprecated. Please use `{\"type\": \"text\", \"text\": \"String input\"}` or `{\"type\": \"text\", \"arguments\": {..}} ` instead.\n",
      "\u001b[2m2025-04-07T18:44:10.579354Z\u001b[0m \u001b[33m WARN\u001b[0m \u001b[2mtensorzero_internal::inference::types\u001b[0m\u001b[2m:\u001b[0m Deprecation Warning: `{\"type\": \"text\", \"value\", ...}` is deprecated. Please use `{\"type\": \"text\", \"text\": \"String input\"}` or `{\"type\": \"text\", \"arguments\": {..}} ` instead.\n",
      "\u001b[2m2025-04-07T18:44:10.579359Z\u001b[0m \u001b[33m WARN\u001b[0m \u001b[2mtensorzero_internal::inference::types\u001b[0m\u001b[2m:\u001b[0m Deprecation Warning: `{\"type\": \"text\", \"value\", ...}` is deprecated. Please use `{\"type\": \"text\", \"text\": \"String input\"}` or `{\"type\": \"text\", \"arguments\": {..}} ` instead.\n",
      "\u001b[2m2025-04-07T18:44:10.579364Z\u001b[0m \u001b[33m WARN\u001b[0m \u001b[2mtensorzero_internal::inference::types\u001b[0m\u001b[2m:\u001b[0m Deprecation Warning: `{\"type\": \"text\", \"value\", ...}` is deprecated. Please use `{\"type\": \"text\", \"text\": \"String input\"}` or `{\"type\": \"text\", \"arguments\": {..}} ` instead.\n",
      "\u001b[2m2025-04-07T18:44:10.579412Z\u001b[0m \u001b[33m WARN\u001b[0m \u001b[2mtensorzero_internal::inference::types\u001b[0m\u001b[2m:\u001b[0m Deprecation Warning: `{\"type\": \"text\", \"value\", ...}` is deprecated. Please use `{\"type\": \"text\", \"text\": \"String input\"}` or `{\"type\": \"text\", \"arguments\": {..}} ` instead.\n",
      "\u001b[2m2025-04-07T18:44:10.579422Z\u001b[0m \u001b[33m WARN\u001b[0m \u001b[2mtensorzero_internal::inference::types\u001b[0m\u001b[2m:\u001b[0m Deprecation Warning: `{\"type\": \"text\", \"value\", ...}` is deprecated. Please use `{\"type\": \"text\", \"text\": \"String input\"}` or `{\"type\": \"text\", \"arguments\": {..}} ` instead.\n",
      "\u001b[2m2025-04-07T18:44:10.579452Z\u001b[0m \u001b[33m WARN\u001b[0m \u001b[2mtensorzero_internal::inference::types\u001b[0m\u001b[2m:\u001b[0m Deprecation Warning: `{\"type\": \"text\", \"value\", ...}` is deprecated. Please use `{\"type\": \"text\", \"text\": \"String input\"}` or `{\"type\": \"text\", \"arguments\": {..}} ` instead.\n",
      "\u001b[2m2025-04-07T18:44:10.579490Z\u001b[0m \u001b[33m WARN\u001b[0m \u001b[2mtensorzero_internal::inference::types\u001b[0m\u001b[2m:\u001b[0m Deprecation Warning: `{\"type\": \"text\", \"value\", ...}` is deprecated. Please use `{\"type\": \"text\", \"text\": \"String input\"}` or `{\"type\": \"text\", \"arguments\": {..}} ` instead.\n",
      "\u001b[2m2025-04-07T18:44:10.579518Z\u001b[0m \u001b[33m WARN\u001b[0m \u001b[2mtensorzero_internal::inference::types\u001b[0m\u001b[2m:\u001b[0m Deprecation Warning: `{\"type\": \"text\", \"value\", ...}` is deprecated. Please use `{\"type\": \"text\", \"text\": \"String input\"}` or `{\"type\": \"text\", \"arguments\": {..}} ` instead.\n",
      "\u001b[2m2025-04-07T18:44:10.579549Z\u001b[0m \u001b[33m WARN\u001b[0m \u001b[2mtensorzero_internal::inference::types\u001b[0m\u001b[2m:\u001b[0m Deprecation Warning: `{\"type\": \"text\", \"value\", ...}` is deprecated. Please use `{\"type\": \"text\", \"text\": \"String input\"}` or `{\"type\": \"text\", \"arguments\": {..}} ` instead.\n",
      "\u001b[2m2025-04-07T18:44:10.579566Z\u001b[0m \u001b[33m WARN\u001b[0m \u001b[2mtensorzero_internal::inference::types\u001b[0m\u001b[2m:\u001b[0m Deprecation Warning: `{\"type\": \"text\", \"value\", ...}` is deprecated. Please use `{\"type\": \"text\", \"text\": \"String input\"}` or `{\"type\": \"text\", \"arguments\": {..}} ` instead.\n",
      "\u001b[2m2025-04-07T18:44:10.579594Z\u001b[0m \u001b[33m WARN\u001b[0m \u001b[2mtensorzero_internal::inference::types\u001b[0m\u001b[2m:\u001b[0m Deprecation Warning: `{\"type\": \"text\", \"value\", ...}` is deprecated. Please use `{\"type\": \"text\", \"text\": \"String input\"}` or `{\"type\": \"text\", \"arguments\": {..}} ` instead.\n",
      "\u001b[2m2025-04-07T18:44:10.579604Z\u001b[0m \u001b[33m WARN\u001b[0m \u001b[2mtensorzero_internal::inference::types\u001b[0m\u001b[2m:\u001b[0m Deprecation Warning: `{\"type\": \"text\", \"value\", ...}` is deprecated. Please use `{\"type\": \"text\", \"text\": \"String input\"}` or `{\"type\": \"text\", \"arguments\": {..}} ` instead.\n",
      "\u001b[2m2025-04-07T18:44:10.579656Z\u001b[0m \u001b[33m WARN\u001b[0m \u001b[2mtensorzero_internal::inference::types\u001b[0m\u001b[2m:\u001b[0m Deprecation Warning: `{\"type\": \"text\", \"value\", ...}` is deprecated. Please use `{\"type\": \"text\", \"text\": \"String input\"}` or `{\"type\": \"text\", \"arguments\": {..}} ` instead.\n",
      "\u001b[2m2025-04-07T18:44:10.579685Z\u001b[0m \u001b[33m WARN\u001b[0m \u001b[2mtensorzero_internal::inference::types\u001b[0m\u001b[2m:\u001b[0m Deprecation Warning: `{\"type\": \"text\", \"value\", ...}` is deprecated. Please use `{\"type\": \"text\", \"text\": \"String input\"}` or `{\"type\": \"text\", \"arguments\": {..}} ` instead.\n",
      "\u001b[2m2025-04-07T18:44:10.579694Z\u001b[0m \u001b[33m WARN\u001b[0m \u001b[2mtensorzero_internal::inference::types\u001b[0m\u001b[2m:\u001b[0m Deprecation Warning: `{\"type\": \"text\", \"value\", ...}` is deprecated. Please use `{\"type\": \"text\", \"text\": \"String input\"}` or `{\"type\": \"text\", \"arguments\": {..}} ` instead.\n",
      "\u001b[2m2025-04-07T18:44:10.579728Z\u001b[0m \u001b[33m WARN\u001b[0m \u001b[2mtensorzero_internal::inference::types\u001b[0m\u001b[2m:\u001b[0m Deprecation Warning: `{\"type\": \"text\", \"value\", ...}` is deprecated. Please use `{\"type\": \"text\", \"text\": \"String input\"}` or `{\"type\": \"text\", \"arguments\": {..}} ` instead.\n",
      "\u001b[2m2025-04-07T18:44:10.579753Z\u001b[0m \u001b[33m WARN\u001b[0m \u001b[2mtensorzero_internal::inference::types\u001b[0m\u001b[2m:\u001b[0m Deprecation Warning: `{\"type\": \"text\", \"value\", ...}` is deprecated. Please use `{\"type\": \"text\", \"text\": \"String input\"}` or `{\"type\": \"text\", \"arguments\": {..}} ` instead.\n",
      "\u001b[2m2025-04-07T18:44:10.579792Z\u001b[0m \u001b[33m WARN\u001b[0m \u001b[2mtensorzero_internal::inference::types\u001b[0m\u001b[2m:\u001b[0m Deprecation Warning: `{\"type\": \"text\", \"value\", ...}` is deprecated. Please use `{\"type\": \"text\", \"text\": \"String input\"}` or `{\"type\": \"text\", \"arguments\": {..}} ` instead.\n",
      "\u001b[2m2025-04-07T18:44:10.579832Z\u001b[0m \u001b[33m WARN\u001b[0m \u001b[2mtensorzero_internal::inference::types\u001b[0m\u001b[2m:\u001b[0m Deprecation Warning: `{\"type\": \"text\", \"value\", ...}` is deprecated. Please use `{\"type\": \"text\", \"text\": \"String input\"}` or `{\"type\": \"text\", \"arguments\": {..}} ` instead.\n",
      "\u001b[2m2025-04-07T18:44:10.579838Z\u001b[0m \u001b[33m WARN\u001b[0m \u001b[2mtensorzero_internal::inference::types\u001b[0m\u001b[2m:\u001b[0m Deprecation Warning: `{\"type\": \"text\", \"value\", ...}` is deprecated. Please use `{\"type\": \"text\", \"text\": \"String input\"}` or `{\"type\": \"text\", \"arguments\": {..}} ` instead.\n",
      "\u001b[2m2025-04-07T18:44:10.579847Z\u001b[0m \u001b[33m WARN\u001b[0m \u001b[2mtensorzero_internal::inference::types\u001b[0m\u001b[2m:\u001b[0m Deprecation Warning: `{\"type\": \"text\", \"value\", ...}` is deprecated. Please use `{\"type\": \"text\", \"text\": \"String input\"}` or `{\"type\": \"text\", \"arguments\": {..}} ` instead.\n",
      "\u001b[2m2025-04-07T18:44:10.579875Z\u001b[0m \u001b[33m WARN\u001b[0m \u001b[2mtensorzero_internal::inference::types\u001b[0m\u001b[2m:\u001b[0m Deprecation Warning: `{\"type\": \"text\", \"value\", ...}` is deprecated. Please use `{\"type\": \"text\", \"text\": \"String input\"}` or `{\"type\": \"text\", \"arguments\": {..}} ` instead.\n",
      "\u001b[2m2025-04-07T18:44:10.579877Z\u001b[0m \u001b[33m WARN\u001b[0m \u001b[2mtensorzero_internal::inference::types\u001b[0m\u001b[2m:\u001b[0m Deprecation Warning: `{\"type\": \"text\", \"value\", ...}` is deprecated. Please use `{\"type\": \"text\", \"text\": \"String input\"}` or `{\"type\": \"text\", \"arguments\": {..}} ` instead.\n",
      "\u001b[2m2025-04-07T18:44:10.580101Z\u001b[0m \u001b[33m WARN\u001b[0m \u001b[2mtensorzero_internal::inference::types\u001b[0m\u001b[2m:\u001b[0m Deprecation Warning: `{\"type\": \"text\", \"value\", ...}` is deprecated. Please use `{\"type\": \"text\", \"text\": \"String input\"}` or `{\"type\": \"text\", \"arguments\": {..}} ` instead.\n",
      "\u001b[2m2025-04-07T18:44:10.580217Z\u001b[0m \u001b[33m WARN\u001b[0m \u001b[2mtensorzero_internal::inference::types\u001b[0m\u001b[2m:\u001b[0m Deprecation Warning: `{\"type\": \"text\", \"value\", ...}` is deprecated. Please use `{\"type\": \"text\", \"text\": \"String input\"}` or `{\"type\": \"text\", \"arguments\": {..}} ` instead.\n",
      "\u001b[2m2025-04-07T18:44:10.580219Z\u001b[0m \u001b[33m WARN\u001b[0m \u001b[2mtensorzero_internal::inference::types\u001b[0m\u001b[2m:\u001b[0m Deprecation Warning: `{\"type\": \"text\", \"value\", ...}` is deprecated. Please use `{\"type\": \"text\", \"text\": \"String input\"}` or `{\"type\": \"text\", \"arguments\": {..}} ` instead.\n",
      "\u001b[2m2025-04-07T18:44:10.580223Z\u001b[0m \u001b[33m WARN\u001b[0m \u001b[2mtensorzero_internal::inference::types\u001b[0m\u001b[2m:\u001b[0m Deprecation Warning: `{\"type\": \"text\", \"value\", ...}` is deprecated. Please use `{\"type\": \"text\", \"text\": \"String input\"}` or `{\"type\": \"text\", \"arguments\": {..}} ` instead.\n",
      "\u001b[2m2025-04-07T18:44:10.580228Z\u001b[0m \u001b[33m WARN\u001b[0m \u001b[2mtensorzero_internal::inference::types\u001b[0m\u001b[2m:\u001b[0m Deprecation Warning: `{\"type\": \"text\", \"value\", ...}` is deprecated. Please use `{\"type\": \"text\", \"text\": \"String input\"}` or `{\"type\": \"text\", \"arguments\": {..}} ` instead.\n",
      "\u001b[2m2025-04-07T18:44:10.580334Z\u001b[0m \u001b[33m WARN\u001b[0m \u001b[2mtensorzero_internal::inference::types\u001b[0m\u001b[2m:\u001b[0m Deprecation Warning: `{\"type\": \"text\", \"value\", ...}` is deprecated. Please use `{\"type\": \"text\", \"text\": \"String input\"}` or `{\"type\": \"text\", \"arguments\": {..}} ` instead.\n",
      "\u001b[2m2025-04-07T18:44:10.580342Z\u001b[0m \u001b[33m WARN\u001b[0m \u001b[2mtensorzero_internal::inference::types\u001b[0m\u001b[2m:\u001b[0m Deprecation Warning: `{\"type\": \"text\", \"value\", ...}` is deprecated. Please use `{\"type\": \"text\", \"text\": \"String input\"}` or `{\"type\": \"text\", \"arguments\": {..}} ` instead.\n",
      "\u001b[2m2025-04-07T18:44:10.580433Z\u001b[0m \u001b[33m WARN\u001b[0m \u001b[2mtensorzero_internal::inference::types\u001b[0m\u001b[2m:\u001b[0m Deprecation Warning: `{\"type\": \"text\", \"value\", ...}` is deprecated. Please use `{\"type\": \"text\", \"text\": \"String input\"}` or `{\"type\": \"text\", \"arguments\": {..}} ` instead.\n",
      "\u001b[2m2025-04-07T18:44:10.580519Z\u001b[0m \u001b[33m WARN\u001b[0m \u001b[2mtensorzero_internal::inference::types\u001b[0m\u001b[2m:\u001b[0m Deprecation Warning: `{\"type\": \"text\", \"value\", ...}` is deprecated. Please use `{\"type\": \"text\", \"text\": \"String input\"}` or `{\"type\": \"text\", \"arguments\": {..}} ` instead.\n",
      "\u001b[2m2025-04-07T18:44:10.580520Z\u001b[0m \u001b[33m WARN\u001b[0m \u001b[2mtensorzero_internal::inference::types\u001b[0m\u001b[2m:\u001b[0m Deprecation Warning: `{\"type\": \"text\", \"value\", ...}` is deprecated. Please use `{\"type\": \"text\", \"text\": \"String input\"}` or `{\"type\": \"text\", \"arguments\": {..}} ` instead.\n"
     ]
    },
    {
     "name": "stderr",
     "output_type": "stream",
     "text": [
      "  4%|▍         | 4/100 [00:00<00:14,  6.77it/s]"
     ]
    },
    {
     "name": "stdout",
     "output_type": "stream",
     "text": [
      "\u001b[2m2025-04-07T18:44:11.120664Z\u001b[0m \u001b[33m WARN\u001b[0m \u001b[2mtensorzero_internal::inference::types\u001b[0m\u001b[2m:\u001b[0m Deprecation Warning: `{\"type\": \"text\", \"value\", ...}` is deprecated. Please use `{\"type\": \"text\", \"text\": \"String input\"}` or `{\"type\": \"text\", \"arguments\": {..}} ` instead.\n",
      "\u001b[2m2025-04-07T18:44:11.166987Z\u001b[0m \u001b[33m WARN\u001b[0m \u001b[2mtensorzero_internal::inference::types\u001b[0m\u001b[2m:\u001b[0m Deprecation Warning: `{\"type\": \"text\", \"value\", ...}` is deprecated. Please use `{\"type\": \"text\", \"text\": \"String input\"}` or `{\"type\": \"text\", \"arguments\": {..}} ` instead.\n",
      "\u001b[2m2025-04-07T18:44:11.175425Z\u001b[0m \u001b[33m WARN\u001b[0m \u001b[2mtensorzero_internal::inference::types\u001b[0m\u001b[2m:\u001b[0m Deprecation Warning: `{\"type\": \"text\", \"value\", ...}` is deprecated. Please use `{\"type\": \"text\", \"text\": \"String input\"}` or `{\"type\": \"text\", \"arguments\": {..}} ` instead.\n",
      "\u001b[2m2025-04-07T18:44:11.278041Z\u001b[0m \u001b[33m WARN\u001b[0m \u001b[2mtensorzero_internal::inference::types\u001b[0m\u001b[2m:\u001b[0m Deprecation Warning: `{\"type\": \"text\", \"value\", ...}` is deprecated. Please use `{\"type\": \"text\", \"text\": \"String input\"}` or `{\"type\": \"text\", \"arguments\": {..}} ` instead.\n",
      "\u001b[2m2025-04-07T18:44:11.278748Z\u001b[0m \u001b[33m WARN\u001b[0m \u001b[2mtensorzero_internal::inference::types\u001b[0m\u001b[2m:\u001b[0m Deprecation Warning: `{\"type\": \"text\", \"value\", ...}` is deprecated. Please use `{\"type\": \"text\", \"text\": \"String input\"}` or `{\"type\": \"text\", \"arguments\": {..}} ` instead.\n",
      "\u001b[2m2025-04-07T18:44:11.279442Z\u001b[0m \u001b[33m WARN\u001b[0m \u001b[2mtensorzero_internal::inference::types\u001b[0m\u001b[2m:\u001b[0m Deprecation Warning: `{\"type\": \"text\", \"value\", ...}` is deprecated. Please use `{\"type\": \"text\", \"text\": \"String input\"}` or `{\"type\": \"text\", \"arguments\": {..}} ` instead.\n",
      "\u001b[2m2025-04-07T18:44:11.280840Z\u001b[0m \u001b[33m WARN\u001b[0m \u001b[2mtensorzero_internal::inference::types\u001b[0m\u001b[2m:\u001b[0m Deprecation Warning: `{\"type\": \"text\", \"value\", ...}` is deprecated. Please use `{\"type\": \"text\", \"text\": \"String input\"}` or `{\"type\": \"text\", \"arguments\": {..}} ` instead.\n",
      "\u001b[2m2025-04-07T18:44:11.280843Z\u001b[0m \u001b[33m WARN\u001b[0m \u001b[2mtensorzero_internal::inference::types\u001b[0m\u001b[2m:\u001b[0m Deprecation Warning: `{\"type\": \"text\", \"value\", ...}` is deprecated. Please use `{\"type\": \"text\", \"text\": \"String input\"}` or `{\"type\": \"text\", \"arguments\": {..}} ` instead.\n",
      "\u001b[2m2025-04-07T18:44:11.281321Z\u001b[0m \u001b[33m WARN\u001b[0m \u001b[2mtensorzero_internal::inference::types\u001b[0m\u001b[2m:\u001b[0m Deprecation Warning: `{\"type\": \"text\", \"value\", ...}` is deprecated. Please use `{\"type\": \"text\", \"text\": \"String input\"}` or `{\"type\": \"text\", \"arguments\": {..}} ` instead.\n",
      "\u001b[2m2025-04-07T18:44:11.281328Z\u001b[0m \u001b[33m WARN\u001b[0m \u001b[2mtensorzero_internal::inference::types\u001b[0m\u001b[2m:\u001b[0m Deprecation Warning: `{\"type\": \"text\", \"value\", ...}` is deprecated. Please use `{\"type\": \"text\", \"text\": \"String input\"}` or `{\"type\": \"text\", \"arguments\": {..}} ` instead.\n",
      "\u001b[2m2025-04-07T18:44:11.281446Z\u001b[0m \u001b[33m WARN\u001b[0m \u001b[2mtensorzero_internal::inference::types\u001b[0m\u001b[2m:\u001b[0m Deprecation Warning: `{\"type\": \"text\", \"value\", ...}` is deprecated. Please use `{\"type\": \"text\", \"text\": \"String input\"}` or `{\"type\": \"text\", \"arguments\": {..}} ` instead.\n",
      "\u001b[2m2025-04-07T18:44:11.286087Z\u001b[0m \u001b[33m WARN\u001b[0m \u001b[2mtensorzero_internal::inference::types\u001b[0m\u001b[2m:\u001b[0m Deprecation Warning: `{\"type\": \"text\", \"value\", ...}` is deprecated. Please use `{\"type\": \"text\", \"text\": \"String input\"}` or `{\"type\": \"text\", \"arguments\": {..}} ` instead.\n",
      "\u001b[2m2025-04-07T18:44:11.295784Z\u001b[0m \u001b[33m WARN\u001b[0m \u001b[2mtensorzero_internal::inference::types\u001b[0m\u001b[2m:\u001b[0m Deprecation Warning: `{\"type\": \"text\", \"value\", ...}` is deprecated. Please use `{\"type\": \"text\", \"text\": \"String input\"}` or `{\"type\": \"text\", \"arguments\": {..}} ` instead.\n"
     ]
    },
    {
     "name": "stderr",
     "output_type": "stream",
     "text": [
      " 26%|██▌       | 26/100 [00:00<00:01, 43.07it/s]"
     ]
    },
    {
     "name": "stdout",
     "output_type": "stream",
     "text": [
      "\u001b[2m2025-04-07T18:44:11.324944Z\u001b[0m \u001b[33m WARN\u001b[0m \u001b[2mtensorzero_internal::inference::types\u001b[0m\u001b[2m:\u001b[0m Deprecation Warning: `{\"type\": \"text\", \"value\", ...}` is deprecated. Please use `{\"type\": \"text\", \"text\": \"String input\"}` or `{\"type\": \"text\", \"arguments\": {..}} ` instead.\n",
      "\u001b[2m2025-04-07T18:44:11.341853Z\u001b[0m \u001b[33m WARN\u001b[0m \u001b[2mtensorzero_internal::inference::types\u001b[0m\u001b[2m:\u001b[0m Deprecation Warning: `{\"type\": \"text\", \"value\", ...}` is deprecated. Please use `{\"type\": \"text\", \"text\": \"String input\"}` or `{\"type\": \"text\", \"arguments\": {..}} ` instead.\n",
      "\u001b[2m2025-04-07T18:44:11.358688Z\u001b[0m \u001b[33m WARN\u001b[0m \u001b[2mtensorzero_internal::inference::types\u001b[0m\u001b[2m:\u001b[0m Deprecation Warning: `{\"type\": \"text\", \"value\", ...}` is deprecated. Please use `{\"type\": \"text\", \"text\": \"String input\"}` or `{\"type\": \"text\", \"arguments\": {..}} ` instead.\n",
      "\u001b[2m2025-04-07T18:44:11.383793Z\u001b[0m \u001b[33m WARN\u001b[0m \u001b[2mtensorzero_internal::inference::types\u001b[0m\u001b[2m:\u001b[0m Deprecation Warning: `{\"type\": \"text\", \"value\", ...}` is deprecated. Please use `{\"type\": \"text\", \"text\": \"String input\"}` or `{\"type\": \"text\", \"arguments\": {..}} ` instead.\n",
      "\u001b[2m2025-04-07T18:44:11.386936Z\u001b[0m \u001b[33m WARN\u001b[0m \u001b[2mtensorzero_internal::inference::types\u001b[0m\u001b[2m:\u001b[0m Deprecation Warning: `{\"type\": \"text\", \"value\", ...}` is deprecated. Please use `{\"type\": \"text\", \"text\": \"String input\"}` or `{\"type\": \"text\", \"arguments\": {..}} ` instead.\n",
      "\u001b[2m2025-04-07T18:44:11.395634Z\u001b[0m \u001b[33m WARN\u001b[0m \u001b[2mtensorzero_internal::inference::types\u001b[0m\u001b[2m:\u001b[0m Deprecation Warning: `{\"type\": \"text\", \"value\", ...}` is deprecated. Please use `{\"type\": \"text\", \"text\": \"String input\"}` or `{\"type\": \"text\", \"arguments\": {..}} ` instead.\n",
      "\u001b[2m2025-04-07T18:44:11.404946Z\u001b[0m \u001b[33m WARN\u001b[0m \u001b[2mtensorzero_internal::inference::types\u001b[0m\u001b[2m:\u001b[0m Deprecation Warning: `{\"type\": \"text\", \"value\", ...}` is deprecated. Please use `{\"type\": \"text\", \"text\": \"String input\"}` or `{\"type\": \"text\", \"arguments\": {..}} ` instead.\n",
      "\u001b[2m2025-04-07T18:44:11.425567Z\u001b[0m \u001b[33m WARN\u001b[0m \u001b[2mtensorzero_internal::inference::types\u001b[0m\u001b[2m:\u001b[0m Deprecation Warning: `{\"type\": \"text\", \"value\", ...}` is deprecated. Please use `{\"type\": \"text\", \"text\": \"String input\"}` or `{\"type\": \"text\", \"arguments\": {..}} ` instead.\n",
      "\u001b[2m2025-04-07T18:44:11.425567Z\u001b[0m \u001b[33m WARN\u001b[0m \u001b[2mtensorzero_internal::inference::types\u001b[0m\u001b[2m:\u001b[0m Deprecation Warning: `{\"type\": \"text\", \"value\", ...}` is deprecated. Please use `{\"type\": \"text\", \"text\": \"String input\"}` or `{\"type\": \"text\", \"arguments\": {..}} ` instead.\n",
      "\u001b[2m2025-04-07T18:44:11.439087Z\u001b[0m \u001b[33m WARN\u001b[0m \u001b[2mtensorzero_internal::inference::types\u001b[0m\u001b[2m:\u001b[0m Deprecation Warning: `{\"type\": \"text\", \"value\", ...}` is deprecated. Please use `{\"type\": \"text\", \"text\": \"String input\"}` or `{\"type\": \"text\", \"arguments\": {..}} ` instead.\n",
      "\u001b[2m2025-04-07T18:44:11.456929Z\u001b[0m \u001b[33m WARN\u001b[0m \u001b[2mtensorzero_internal::inference::types\u001b[0m\u001b[2m:\u001b[0m Deprecation Warning: `{\"type\": \"text\", \"value\", ...}` is deprecated. Please use `{\"type\": \"text\", \"text\": \"String input\"}` or `{\"type\": \"text\", \"arguments\": {..}} ` instead.\n",
      "\u001b[2m2025-04-07T18:44:11.473219Z\u001b[0m \u001b[33m WARN\u001b[0m \u001b[2mtensorzero_internal::inference::types\u001b[0m\u001b[2m:\u001b[0m Deprecation Warning: `{\"type\": \"text\", \"value\", ...}` is deprecated. Please use `{\"type\": \"text\", \"text\": \"String input\"}` or `{\"type\": \"text\", \"arguments\": {..}} ` instead.\n",
      "\u001b[2m2025-04-07T18:44:11.504121Z\u001b[0m \u001b[33m WARN\u001b[0m \u001b[2mtensorzero_internal::inference::types\u001b[0m\u001b[2m:\u001b[0m Deprecation Warning: `{\"type\": \"text\", \"value\", ...}` is deprecated. Please use `{\"type\": \"text\", \"text\": \"String input\"}` or `{\"type\": \"text\", \"arguments\": {..}} ` instead.\n",
      "\u001b[2m2025-04-07T18:44:11.515536Z\u001b[0m \u001b[33m WARN\u001b[0m \u001b[2mtensorzero_internal::inference::types\u001b[0m\u001b[2m:\u001b[0m Deprecation Warning: `{\"type\": \"text\", \"value\", ...}` is deprecated. Please use `{\"type\": \"text\", \"text\": \"String input\"}` or `{\"type\": \"text\", \"arguments\": {..}} ` instead.\n"
     ]
    },
    {
     "name": "stderr",
     "output_type": "stream",
     "text": [
      " 36%|███▌      | 36/100 [00:01<00:01, 54.85it/s]"
     ]
    },
    {
     "name": "stdout",
     "output_type": "stream",
     "text": [
      "\u001b[2m2025-04-07T18:44:11.549362Z\u001b[0m \u001b[33m WARN\u001b[0m \u001b[2mtensorzero_internal::inference::types\u001b[0m\u001b[2m:\u001b[0m Deprecation Warning: `{\"type\": \"text\", \"value\", ...}` is deprecated. Please use `{\"type\": \"text\", \"text\": \"String input\"}` or `{\"type\": \"text\", \"arguments\": {..}} ` instead.\n",
      "\u001b[2m2025-04-07T18:44:11.556991Z\u001b[0m \u001b[33m WARN\u001b[0m \u001b[2mtensorzero_internal::inference::types\u001b[0m\u001b[2m:\u001b[0m Deprecation Warning: `{\"type\": \"text\", \"value\", ...}` is deprecated. Please use `{\"type\": \"text\", \"text\": \"String input\"}` or `{\"type\": \"text\", \"arguments\": {..}} ` instead.\n",
      "\u001b[2m2025-04-07T18:44:11.559764Z\u001b[0m \u001b[33m WARN\u001b[0m \u001b[2mtensorzero_internal::inference::types\u001b[0m\u001b[2m:\u001b[0m Deprecation Warning: `{\"type\": \"text\", \"value\", ...}` is deprecated. Please use `{\"type\": \"text\", \"text\": \"String input\"}` or `{\"type\": \"text\", \"arguments\": {..}} ` instead.\n",
      "\u001b[2m2025-04-07T18:44:11.559764Z\u001b[0m \u001b[33m WARN\u001b[0m \u001b[2mtensorzero_internal::inference::types\u001b[0m\u001b[2m:\u001b[0m Deprecation Warning: `{\"type\": \"text\", \"value\", ...}` is deprecated. Please use `{\"type\": \"text\", \"text\": \"String input\"}` or `{\"type\": \"text\", \"arguments\": {..}} ` instead.\n",
      "\u001b[2m2025-04-07T18:44:11.567701Z\u001b[0m \u001b[33m WARN\u001b[0m \u001b[2mtensorzero_internal::inference::types\u001b[0m\u001b[2m:\u001b[0m Deprecation Warning: `{\"type\": \"text\", \"value\", ...}` is deprecated. Please use `{\"type\": \"text\", \"text\": \"String input\"}` or `{\"type\": \"text\", \"arguments\": {..}} ` instead.\n",
      "\u001b[2m2025-04-07T18:44:11.573496Z\u001b[0m \u001b[33m WARN\u001b[0m \u001b[2mtensorzero_internal::inference::types\u001b[0m\u001b[2m:\u001b[0m Deprecation Warning: `{\"type\": \"text\", \"value\", ...}` is deprecated. Please use `{\"type\": \"text\", \"text\": \"String input\"}` or `{\"type\": \"text\", \"arguments\": {..}} ` instead.\n",
      "\u001b[2m2025-04-07T18:44:11.600672Z\u001b[0m \u001b[33m WARN\u001b[0m \u001b[2mtensorzero_internal::inference::types\u001b[0m\u001b[2m:\u001b[0m Deprecation Warning: `{\"type\": \"text\", \"value\", ...}` is deprecated. Please use `{\"type\": \"text\", \"text\": \"String input\"}` or `{\"type\": \"text\", \"arguments\": {..}} ` instead.\n",
      "\u001b[2m2025-04-07T18:44:11.602663Z\u001b[0m \u001b[33m WARN\u001b[0m \u001b[2mtensorzero_internal::inference::types\u001b[0m\u001b[2m:\u001b[0m Deprecation Warning: `{\"type\": \"text\", \"value\", ...}` is deprecated. Please use `{\"type\": \"text\", \"text\": \"String input\"}` or `{\"type\": \"text\", \"arguments\": {..}} ` instead.\n",
      "\u001b[2m2025-04-07T18:44:11.616243Z\u001b[0m \u001b[33m WARN\u001b[0m \u001b[2mtensorzero_internal::inference::types\u001b[0m\u001b[2m:\u001b[0m Deprecation Warning: `{\"type\": \"text\", \"value\", ...}` is deprecated. Please use `{\"type\": \"text\", \"text\": \"String input\"}` or `{\"type\": \"text\", \"arguments\": {..}} ` instead.\n",
      "\u001b[2m2025-04-07T18:44:11.636304Z\u001b[0m \u001b[33m WARN\u001b[0m \u001b[2mtensorzero_internal::inference::types\u001b[0m\u001b[2m:\u001b[0m Deprecation Warning: `{\"type\": \"text\", \"value\", ...}` is deprecated. Please use `{\"type\": \"text\", \"text\": \"String input\"}` or `{\"type\": \"text\", \"arguments\": {..}} ` instead.\n",
      "\u001b[2m2025-04-07T18:44:11.691652Z\u001b[0m \u001b[33m WARN\u001b[0m \u001b[2mtensorzero_internal::inference::types\u001b[0m\u001b[2m:\u001b[0m Deprecation Warning: `{\"type\": \"text\", \"value\", ...}` is deprecated. Please use `{\"type\": \"text\", \"text\": \"String input\"}` or `{\"type\": \"text\", \"arguments\": {..}} ` instead.\n"
     ]
    },
    {
     "name": "stderr",
     "output_type": "stream",
     "text": [
      " 51%|█████     | 51/100 [00:01<00:00, 51.76it/s]"
     ]
    },
    {
     "name": "stdout",
     "output_type": "stream",
     "text": [
      "\u001b[2m2025-04-07T18:44:11.807613Z\u001b[0m \u001b[33m WARN\u001b[0m \u001b[2mtensorzero_internal::inference::types\u001b[0m\u001b[2m:\u001b[0m Deprecation Warning: `{\"type\": \"text\", \"value\", ...}` is deprecated. Please use `{\"type\": \"text\", \"text\": \"String input\"}` or `{\"type\": \"text\", \"arguments\": {..}} ` instead.\n",
      "\u001b[2m2025-04-07T18:44:11.807645Z\u001b[0m \u001b[33m WARN\u001b[0m \u001b[2mtensorzero_internal::inference::types\u001b[0m\u001b[2m:\u001b[0m Deprecation Warning: `{\"type\": \"text\", \"value\", ...}` is deprecated. Please use `{\"type\": \"text\", \"text\": \"String input\"}` or `{\"type\": \"text\", \"arguments\": {..}} ` instead.\n",
      "\u001b[2m2025-04-07T18:44:11.807677Z\u001b[0m \u001b[33m WARN\u001b[0m \u001b[2mtensorzero_internal::inference::types\u001b[0m\u001b[2m:\u001b[0m Deprecation Warning: `{\"type\": \"text\", \"value\", ...}` is deprecated. Please use `{\"type\": \"text\", \"text\": \"String input\"}` or `{\"type\": \"text\", \"arguments\": {..}} ` instead.\n",
      "\u001b[2m2025-04-07T18:44:11.807686Z\u001b[0m \u001b[33m WARN\u001b[0m \u001b[2mtensorzero_internal::inference::types\u001b[0m\u001b[2m:\u001b[0m Deprecation Warning: `{\"type\": \"text\", \"value\", ...}` is deprecated. Please use `{\"type\": \"text\", \"text\": \"String input\"}` or `{\"type\": \"text\", \"arguments\": {..}} ` instead.\n",
      "\u001b[2m2025-04-07T18:44:11.807616Z\u001b[0m \u001b[33m WARN\u001b[0m \u001b[2mtensorzero_internal::inference::types\u001b[0m\u001b[2m:\u001b[0m Deprecation Warning: `{\"type\": \"text\", \"value\", ...}` is deprecated. Please use `{\"type\": \"text\", \"text\": \"String input\"}` or `{\"type\": \"text\", \"arguments\": {..}} ` instead.\n",
      "\u001b[2m2025-04-07T18:44:11.808099Z\u001b[0m \u001b[33m WARN\u001b[0m \u001b[2mtensorzero_internal::inference::types\u001b[0m\u001b[2m:\u001b[0m Deprecation Warning: `{\"type\": \"text\", \"value\", ...}` is deprecated. Please use `{\"type\": \"text\", \"text\": \"String input\"}` or `{\"type\": \"text\", \"arguments\": {..}} ` instead.\n",
      "\u001b[2m2025-04-07T18:44:11.808098Z\u001b[0m \u001b[33m WARN\u001b[0m \u001b[2mtensorzero_internal::inference::types\u001b[0m\u001b[2m:\u001b[0m Deprecation Warning: `{\"type\": \"text\", \"value\", ...}` is deprecated. Please use `{\"type\": \"text\", \"text\": \"String input\"}` or `{\"type\": \"text\", \"arguments\": {..}} ` instead.\n",
      "\u001b[2m2025-04-07T18:44:11.808101Z\u001b[0m \u001b[33m WARN\u001b[0m \u001b[2mtensorzero_internal::inference::types\u001b[0m\u001b[2m:\u001b[0m Deprecation Warning: `{\"type\": \"text\", \"value\", ...}` is deprecated. Please use `{\"type\": \"text\", \"text\": \"String input\"}` or `{\"type\": \"text\", \"arguments\": {..}} ` instead.\n",
      "\u001b[2m2025-04-07T18:44:11.855643Z\u001b[0m \u001b[33m WARN\u001b[0m \u001b[2mtensorzero_internal::inference::types\u001b[0m\u001b[2m:\u001b[0m Deprecation Warning: `{\"type\": \"text\", \"value\", ...}` is deprecated. Please use `{\"type\": \"text\", \"text\": \"String input\"}` or `{\"type\": \"text\", \"arguments\": {..}} ` instead.\n",
      "\u001b[2m2025-04-07T18:44:11.864309Z\u001b[0m \u001b[33m WARN\u001b[0m \u001b[2mtensorzero_internal::inference::types\u001b[0m\u001b[2m:\u001b[0m Deprecation Warning: `{\"type\": \"text\", \"value\", ...}` is deprecated. Please use `{\"type\": \"text\", \"text\": \"String input\"}` or `{\"type\": \"text\", \"arguments\": {..}} ` instead.\n",
      "\u001b[2m2025-04-07T18:44:11.912374Z\u001b[0m \u001b[33m WARN\u001b[0m \u001b[2mtensorzero_internal::inference::types\u001b[0m\u001b[2m:\u001b[0m Deprecation Warning: `{\"type\": \"text\", \"value\", ...}` is deprecated. Please use `{\"type\": \"text\", \"text\": \"String input\"}` or `{\"type\": \"text\", \"arguments\": {..}} ` instead.\n",
      "\u001b[2m2025-04-07T18:44:11.929465Z\u001b[0m \u001b[33m WARN\u001b[0m \u001b[2mtensorzero_internal::inference::types\u001b[0m\u001b[2m:\u001b[0m Deprecation Warning: `{\"type\": \"text\", \"value\", ...}` is deprecated. Please use `{\"type\": \"text\", \"text\": \"String input\"}` or `{\"type\": \"text\", \"arguments\": {..}} ` instead.\n"
     ]
    },
    {
     "name": "stderr",
     "output_type": "stream",
     "text": [
      "100%|██████████| 100/100 [00:07<00:00, 12.56it/s]\n",
      "100%|██████████| 100/100 [00:15<00:00,  6.60it/s]\n",
      "[I 2025-04-07 14:44:33,683] Trial 1 finished with value: 0.6602142857142858 and parameters: {'instruction_index': 6, 'demonstration_index': 6}. Best is trial 1 with value: 0.6602142857142858.\n"
     ]
    },
    {
     "name": "stdout",
     "output_type": "stream",
     "text": [
      "Iteration 2: 0.6602142857142858\n"
     ]
    },
    {
     "name": "stderr",
     "output_type": "stream",
     "text": [
      "  0%|          | 0/100 [00:00<?, ?it/s]"
     ]
    },
    {
     "name": "stdout",
     "output_type": "stream",
     "text": [
      "\u001b[2m2025-04-07T18:44:33.998480Z\u001b[0m \u001b[33m WARN\u001b[0m \u001b[2mtensorzero_internal::inference::types\u001b[0m\u001b[2m:\u001b[0m Deprecation Warning: `{\"type\": \"text\", \"value\", ...}` is deprecated. Please use `{\"type\": \"text\", \"text\": \"String input\"}` or `{\"type\": \"text\", \"arguments\": {..}} ` instead.\n",
      "\u001b[2m2025-04-07T18:44:33.998480Z\u001b[0m \u001b[33m WARN\u001b[0m \u001b[2mtensorzero_internal::inference::types\u001b[0m\u001b[2m:\u001b[0m Deprecation Warning: `{\"type\": \"text\", \"value\", ...}` is deprecated. Please use `{\"type\": \"text\", \"text\": \"String input\"}` or `{\"type\": \"text\", \"arguments\": {..}} ` instead.\n",
      "\u001b[2m2025-04-07T18:44:33.998527Z\u001b[0m \u001b[33m WARN\u001b[0m \u001b[2mtensorzero_internal::inference::types\u001b[0m\u001b[2m:\u001b[0m Deprecation Warning: `{\"type\": \"text\", \"value\", ...}` is deprecated. Please use `{\"type\": \"text\", \"text\": \"String input\"}` or `{\"type\": \"text\", \"arguments\": {..}} ` instead.\n",
      "\u001b[2m2025-04-07T18:44:33.998539Z\u001b[0m \u001b[33m WARN\u001b[0m \u001b[2mtensorzero_internal::inference::types\u001b[0m\u001b[2m:\u001b[0m Deprecation Warning: `{\"type\": \"text\", \"value\", ...}` is deprecated. Please use `{\"type\": \"text\", \"text\": \"String input\"}` or `{\"type\": \"text\", \"arguments\": {..}} ` instead.\n",
      "\u001b[2m2025-04-07T18:44:33.998588Z\u001b[0m \u001b[33m WARN\u001b[0m \u001b[2mtensorzero_internal::inference::types\u001b[0m\u001b[2m:\u001b[0m Deprecation Warning: `{\"type\": \"text\", \"value\", ...}` is deprecated. Please use `{\"type\": \"text\", \"text\": \"String input\"}` or `{\"type\": \"text\", \"arguments\": {..}} ` instead.\n",
      "\u001b[2m2025-04-07T18:44:33.998598Z\u001b[0m \u001b[33m WARN\u001b[0m \u001b[2mtensorzero_internal::inference::types\u001b[0m\u001b[2m:\u001b[0m Deprecation Warning: `{\"type\": \"text\", \"value\", ...}` is deprecated. Please use `{\"type\": \"text\", \"text\": \"String input\"}` or `{\"type\": \"text\", \"arguments\": {..}} ` instead.\n",
      "\u001b[2m2025-04-07T18:44:33.998626Z\u001b[0m \u001b[33m WARN\u001b[0m \u001b[2mtensorzero_internal::inference::types\u001b[0m\u001b[2m:\u001b[0m Deprecation Warning: `{\"type\": \"text\", \"value\", ...}` is deprecated. Please use `{\"type\": \"text\", \"text\": \"String input\"}` or `{\"type\": \"text\", \"arguments\": {..}} ` instead.\n",
      "\u001b[2m2025-04-07T18:44:33.998662Z\u001b[0m \u001b[33m WARN\u001b[0m \u001b[2mtensorzero_internal::inference::types\u001b[0m\u001b[2m:\u001b[0m Deprecation Warning: `{\"type\": \"text\", \"value\", ...}` is deprecated. Please use `{\"type\": \"text\", \"text\": \"String input\"}` or `{\"type\": \"text\", \"arguments\": {..}} ` instead.\n",
      "\u001b[2m2025-04-07T18:44:33.998782Z\u001b[0m \u001b[33m WARN\u001b[0m \u001b[2mtensorzero_internal::inference::types\u001b[0m\u001b[2m:\u001b[0m Deprecation Warning: `{\"type\": \"text\", \"value\", ...}` is deprecated. Please use `{\"type\": \"text\", \"text\": \"String input\"}` or `{\"type\": \"text\", \"arguments\": {..}} ` instead.\n",
      "\u001b[2m2025-04-07T18:44:33.998794Z\u001b[0m \u001b[33m WARN\u001b[0m \u001b[2mtensorzero_internal::inference::types\u001b[0m\u001b[2m:\u001b[0m Deprecation Warning: `{\"type\": \"text\", \"value\", ...}` is deprecated. Please use `{\"type\": \"text\", \"text\": \"String input\"}` or `{\"type\": \"text\", \"arguments\": {..}} ` instead.\n",
      "\u001b[2m2025-04-07T18:44:33.998806Z\u001b[0m \u001b[33m WARN\u001b[0m \u001b[2mtensorzero_internal::inference::types\u001b[0m\u001b[2m:\u001b[0m Deprecation Warning: `{\"type\": \"text\", \"value\", ...}` is deprecated. Please use `{\"type\": \"text\", \"text\": \"String input\"}` or `{\"type\": \"text\", \"arguments\": {..}} ` instead.\n",
      "\u001b[2m2025-04-07T18:44:33.998896Z\u001b[0m \u001b[33m WARN\u001b[0m \u001b[2mtensorzero_internal::inference::types\u001b[0m\u001b[2m:\u001b[0m Deprecation Warning: `{\"type\": \"text\", \"value\", ...}` is deprecated. Please use `{\"type\": \"text\", \"text\": \"String input\"}` or `{\"type\": \"text\", \"arguments\": {..}} ` instead.\n",
      "\u001b[2m2025-04-07T18:44:33.998926Z\u001b[0m \u001b[33m WARN\u001b[0m \u001b[2mtensorzero_internal::inference::types\u001b[0m\u001b[2m:\u001b[0m Deprecation Warning: `{\"type\": \"text\", \"value\", ...}` is deprecated. Please use `{\"type\": \"text\", \"text\": \"String input\"}` or `{\"type\": \"text\", \"arguments\": {..}} ` instead.\n",
      "\u001b[2m2025-04-07T18:44:33.998955Z\u001b[0m \u001b[33m WARN\u001b[0m \u001b[2mtensorzero_internal::inference::types\u001b[0m\u001b[2m:\u001b[0m Deprecation Warning: `{\"type\": \"text\", \"value\", ...}` is deprecated. Please use `{\"type\": \"text\", \"text\": \"String input\"}` or `{\"type\": \"text\", \"arguments\": {..}} ` instead.\n",
      "\u001b[2m2025-04-07T18:44:33.998974Z\u001b[0m \u001b[33m WARN\u001b[0m \u001b[2mtensorzero_internal::inference::types\u001b[0m\u001b[2m:\u001b[0m Deprecation Warning: `{\"type\": \"text\", \"value\", ...}` is deprecated. Please use `{\"type\": \"text\", \"text\": \"String input\"}` or `{\"type\": \"text\", \"arguments\": {..}} ` instead.\n",
      "\u001b[2m2025-04-07T18:44:33.999060Z\u001b[0m \u001b[33m WARN\u001b[0m \u001b[2mtensorzero_internal::inference::types\u001b[0m\u001b[2m:\u001b[0m Deprecation Warning: `{\"type\": \"text\", \"value\", ...}` is deprecated. Please use `{\"type\": \"text\", \"text\": \"String input\"}` or `{\"type\": \"text\", \"arguments\": {..}} ` instead.\n",
      "\u001b[2m2025-04-07T18:44:33.999068Z\u001b[0m \u001b[33m WARN\u001b[0m \u001b[2mtensorzero_internal::inference::types\u001b[0m\u001b[2m:\u001b[0m Deprecation Warning: `{\"type\": \"text\", \"value\", ...}` is deprecated. Please use `{\"type\": \"text\", \"text\": \"String input\"}` or `{\"type\": \"text\", \"arguments\": {..}} ` instead.\n",
      "\u001b[2m2025-04-07T18:44:33.999096Z\u001b[0m \u001b[33m WARN\u001b[0m \u001b[2mtensorzero_internal::inference::types\u001b[0m\u001b[2m:\u001b[0m Deprecation Warning: `{\"type\": \"text\", \"value\", ...}` is deprecated. Please use `{\"type\": \"text\", \"text\": \"String input\"}` or `{\"type\": \"text\", \"arguments\": {..}} ` instead.\n",
      "\u001b[2m2025-04-07T18:44:33.999097Z\u001b[0m \u001b[33m WARN\u001b[0m \u001b[2mtensorzero_internal::inference::types\u001b[0m\u001b[2m:\u001b[0m Deprecation Warning: `{\"type\": \"text\", \"value\", ...}` is deprecated. Please use `{\"type\": \"text\", \"text\": \"String input\"}` or `{\"type\": \"text\", \"arguments\": {..}} ` instead.\n",
      "\u001b[2m2025-04-07T18:44:33.999156Z\u001b[0m \u001b[33m WARN\u001b[0m \u001b[2mtensorzero_internal::inference::types\u001b[0m\u001b[2m:\u001b[0m Deprecation Warning: `{\"type\": \"text\", \"value\", ...}` is deprecated. Please use `{\"type\": \"text\", \"text\": \"String input\"}` or `{\"type\": \"text\", \"arguments\": {..}} ` instead.\n",
      "\u001b[2m2025-04-07T18:44:33.999163Z\u001b[0m \u001b[33m WARN\u001b[0m \u001b[2mtensorzero_internal::inference::types\u001b[0m\u001b[2m:\u001b[0m Deprecation Warning: `{\"type\": \"text\", \"value\", ...}` is deprecated. Please use `{\"type\": \"text\", \"text\": \"String input\"}` or `{\"type\": \"text\", \"arguments\": {..}} ` instead.\n",
      "\u001b[2m2025-04-07T18:44:33.999177Z\u001b[0m \u001b[33m WARN\u001b[0m \u001b[2mtensorzero_internal::inference::types\u001b[0m\u001b[2m:\u001b[0m Deprecation Warning: `{\"type\": \"text\", \"value\", ...}` is deprecated. Please use `{\"type\": \"text\", \"text\": \"String input\"}` or `{\"type\": \"text\", \"arguments\": {..}} ` instead.\n",
      "\u001b[2m2025-04-07T18:44:33.999183Z\u001b[0m \u001b[33m WARN\u001b[0m \u001b[2mtensorzero_internal::inference::types\u001b[0m\u001b[2m:\u001b[0m Deprecation Warning: `{\"type\": \"text\", \"value\", ...}` is deprecated. Please use `{\"type\": \"text\", \"text\": \"String input\"}` or `{\"type\": \"text\", \"arguments\": {..}} ` instead.\n",
      "\u001b[2m2025-04-07T18:44:33.999263Z\u001b[0m \u001b[33m WARN\u001b[0m \u001b[2mtensorzero_internal::inference::types\u001b[0m\u001b[2m:\u001b[0m Deprecation Warning: `{\"type\": \"text\", \"value\", ...}` is deprecated. Please use `{\"type\": \"text\", \"text\": \"String input\"}` or `{\"type\": \"text\", \"arguments\": {..}} ` instead.\n",
      "\u001b[2m2025-04-07T18:44:33.999286Z\u001b[0m \u001b[33m WARN\u001b[0m \u001b[2mtensorzero_internal::inference::types\u001b[0m\u001b[2m:\u001b[0m Deprecation Warning: `{\"type\": \"text\", \"value\", ...}` is deprecated. Please use `{\"type\": \"text\", \"text\": \"String input\"}` or `{\"type\": \"text\", \"arguments\": {..}} ` instead.\n",
      "\u001b[2m2025-04-07T18:44:33.999298Z\u001b[0m \u001b[33m WARN\u001b[0m \u001b[2mtensorzero_internal::inference::types\u001b[0m\u001b[2m:\u001b[0m Deprecation Warning: `{\"type\": \"text\", \"value\", ...}` is deprecated. Please use `{\"type\": \"text\", \"text\": \"String input\"}` or `{\"type\": \"text\", \"arguments\": {..}} ` instead.\n",
      "\u001b[2m2025-04-07T18:44:33.999307Z\u001b[0m \u001b[33m WARN\u001b[0m \u001b[2mtensorzero_internal::inference::types\u001b[0m\u001b[2m:\u001b[0m Deprecation Warning: `{\"type\": \"text\", \"value\", ...}` is deprecated. Please use `{\"type\": \"text\", \"text\": \"String input\"}` or `{\"type\": \"text\", \"arguments\": {..}} ` instead.\n",
      "\u001b[2m2025-04-07T18:44:33.999306Z\u001b[0m \u001b[33m WARN\u001b[0m \u001b[2mtensorzero_internal::inference::types\u001b[0m\u001b[2m:\u001b[0m Deprecation Warning: `{\"type\": \"text\", \"value\", ...}` is deprecated. Please use `{\"type\": \"text\", \"text\": \"String input\"}` or `{\"type\": \"text\", \"arguments\": {..}} ` instead.\n",
      "\u001b[2m2025-04-07T18:44:33.999317Z\u001b[0m \u001b[33m WARN\u001b[0m \u001b[2mtensorzero_internal::inference::types\u001b[0m\u001b[2m:\u001b[0m Deprecation Warning: `{\"type\": \"text\", \"value\", ...}` is deprecated. Please use `{\"type\": \"text\", \"text\": \"String input\"}` or `{\"type\": \"text\", \"arguments\": {..}} ` instead.\n",
      "\u001b[2m2025-04-07T18:44:33.999435Z\u001b[0m \u001b[33m WARN\u001b[0m \u001b[2mtensorzero_internal::inference::types\u001b[0m\u001b[2m:\u001b[0m Deprecation Warning: `{\"type\": \"text\", \"value\", ...}` is deprecated. Please use `{\"type\": \"text\", \"text\": \"String input\"}` or `{\"type\": \"text\", \"arguments\": {..}} ` instead.\n",
      "\u001b[2m2025-04-07T18:44:33.999472Z\u001b[0m \u001b[33m WARN\u001b[0m \u001b[2mtensorzero_internal::inference::types\u001b[0m\u001b[2m:\u001b[0m Deprecation Warning: `{\"type\": \"text\", \"value\", ...}` is deprecated. Please use `{\"type\": \"text\", \"text\": \"String input\"}` or `{\"type\": \"text\", \"arguments\": {..}} ` instead.\n",
      "\u001b[2m2025-04-07T18:44:33.999507Z\u001b[0m \u001b[33m WARN\u001b[0m \u001b[2mtensorzero_internal::inference::types\u001b[0m\u001b[2m:\u001b[0m Deprecation Warning: `{\"type\": \"text\", \"value\", ...}` is deprecated. Please use `{\"type\": \"text\", \"text\": \"String input\"}` or `{\"type\": \"text\", \"arguments\": {..}} ` instead.\n",
      "\u001b[2m2025-04-07T18:44:33.999515Z\u001b[0m \u001b[33m WARN\u001b[0m \u001b[2mtensorzero_internal::inference::types\u001b[0m\u001b[2m:\u001b[0m Deprecation Warning: `{\"type\": \"text\", \"value\", ...}` is deprecated. Please use `{\"type\": \"text\", \"text\": \"String input\"}` or `{\"type\": \"text\", \"arguments\": {..}} ` instead.\n",
      "\u001b[2m2025-04-07T18:44:33.999521Z\u001b[0m \u001b[33m WARN\u001b[0m \u001b[2mtensorzero_internal::inference::types\u001b[0m\u001b[2m:\u001b[0m Deprecation Warning: `{\"type\": \"text\", \"value\", ...}` is deprecated. Please use `{\"type\": \"text\", \"text\": \"String input\"}` or `{\"type\": \"text\", \"arguments\": {..}} ` instead.\n",
      "\u001b[2m2025-04-07T18:44:33.999529Z\u001b[0m \u001b[33m WARN\u001b[0m \u001b[2mtensorzero_internal::inference::types\u001b[0m\u001b[2m:\u001b[0m Deprecation Warning: `{\"type\": \"text\", \"value\", ...}` is deprecated. Please use `{\"type\": \"text\", \"text\": \"String input\"}` or `{\"type\": \"text\", \"arguments\": {..}} ` instead.\n",
      "\u001b[2m2025-04-07T18:44:33.999559Z\u001b[0m \u001b[33m WARN\u001b[0m \u001b[2mtensorzero_internal::inference::types\u001b[0m\u001b[2m:\u001b[0m Deprecation Warning: `{\"type\": \"text\", \"value\", ...}` is deprecated. Please use `{\"type\": \"text\", \"text\": \"String input\"}` or `{\"type\": \"text\", \"arguments\": {..}} ` instead.\n",
      "\u001b[2m2025-04-07T18:44:33.999564Z\u001b[0m \u001b[33m WARN\u001b[0m \u001b[2mtensorzero_internal::inference::types\u001b[0m\u001b[2m:\u001b[0m Deprecation Warning: `{\"type\": \"text\", \"value\", ...}` is deprecated. Please use `{\"type\": \"text\", \"text\": \"String input\"}` or `{\"type\": \"text\", \"arguments\": {..}} ` instead.\n",
      "\u001b[2m2025-04-07T18:44:33.999582Z\u001b[0m \u001b[33m WARN\u001b[0m \u001b[2mtensorzero_internal::inference::types\u001b[0m\u001b[2m:\u001b[0m Deprecation Warning: `{\"type\": \"text\", \"value\", ...}` is deprecated. Please use `{\"type\": \"text\", \"text\": \"String input\"}` or `{\"type\": \"text\", \"arguments\": {..}} ` instead.\n",
      "\u001b[2m2025-04-07T18:44:33.999658Z\u001b[0m \u001b[33m WARN\u001b[0m \u001b[2mtensorzero_internal::inference::types\u001b[0m\u001b[2m:\u001b[0m Deprecation Warning: `{\"type\": \"text\", \"value\", ...}` is deprecated. Please use `{\"type\": \"text\", \"text\": \"String input\"}` or `{\"type\": \"text\", \"arguments\": {..}} ` instead.\n",
      "\u001b[2m2025-04-07T18:44:33.999693Z\u001b[0m \u001b[33m WARN\u001b[0m \u001b[2mtensorzero_internal::inference::types\u001b[0m\u001b[2m:\u001b[0m Deprecation Warning: `{\"type\": \"text\", \"value\", ...}` is deprecated. Please use `{\"type\": \"text\", \"text\": \"String input\"}` or `{\"type\": \"text\", \"arguments\": {..}} ` instead.\n",
      "\u001b[2m2025-04-07T18:44:33.999707Z\u001b[0m \u001b[33m WARN\u001b[0m \u001b[2mtensorzero_internal::inference::types\u001b[0m\u001b[2m:\u001b[0m Deprecation Warning: `{\"type\": \"text\", \"value\", ...}` is deprecated. Please use `{\"type\": \"text\", \"text\": \"String input\"}` or `{\"type\": \"text\", \"arguments\": {..}} ` instead.\n",
      "\u001b[2m2025-04-07T18:44:33.999723Z\u001b[0m \u001b[33m WARN\u001b[0m \u001b[2mtensorzero_internal::inference::types\u001b[0m\u001b[2m:\u001b[0m Deprecation Warning: `{\"type\": \"text\", \"value\", ...}` is deprecated. Please use `{\"type\": \"text\", \"text\": \"String input\"}` or `{\"type\": \"text\", \"arguments\": {..}} ` instead.\n",
      "\u001b[2m2025-04-07T18:44:33.999777Z\u001b[0m \u001b[33m WARN\u001b[0m \u001b[2mtensorzero_internal::inference::types\u001b[0m\u001b[2m:\u001b[0m Deprecation Warning: `{\"type\": \"text\", \"value\", ...}` is deprecated. Please use `{\"type\": \"text\", \"text\": \"String input\"}` or `{\"type\": \"text\", \"arguments\": {..}} ` instead.\n",
      "\u001b[2m2025-04-07T18:44:33.999793Z\u001b[0m \u001b[33m WARN\u001b[0m \u001b[2mtensorzero_internal::inference::types\u001b[0m\u001b[2m:\u001b[0m Deprecation Warning: `{\"type\": \"text\", \"value\", ...}` is deprecated. Please use `{\"type\": \"text\", \"text\": \"String input\"}` or `{\"type\": \"text\", \"arguments\": {..}} ` instead.\n",
      "\u001b[2m2025-04-07T18:44:33.999835Z\u001b[0m \u001b[33m WARN\u001b[0m \u001b[2mtensorzero_internal::inference::types\u001b[0m\u001b[2m:\u001b[0m Deprecation Warning: `{\"type\": \"text\", \"value\", ...}` is deprecated. Please use `{\"type\": \"text\", \"text\": \"String input\"}` or `{\"type\": \"text\", \"arguments\": {..}} ` instead.\n",
      "\u001b[2m2025-04-07T18:44:33.999941Z\u001b[0m \u001b[33m WARN\u001b[0m \u001b[2mtensorzero_internal::inference::types\u001b[0m\u001b[2m:\u001b[0m Deprecation Warning: `{\"type\": \"text\", \"value\", ...}` is deprecated. Please use `{\"type\": \"text\", \"text\": \"String input\"}` or `{\"type\": \"text\", \"arguments\": {..}} ` instead.\n",
      "\u001b[2m2025-04-07T18:44:34.000034Z\u001b[0m \u001b[33m WARN\u001b[0m \u001b[2mtensorzero_internal::inference::types\u001b[0m\u001b[2m:\u001b[0m Deprecation Warning: `{\"type\": \"text\", \"value\", ...}` is deprecated. Please use `{\"type\": \"text\", \"text\": \"String input\"}` or `{\"type\": \"text\", \"arguments\": {..}} ` instead.\n",
      "\u001b[2m2025-04-07T18:44:34.000046Z\u001b[0m \u001b[33m WARN\u001b[0m \u001b[2mtensorzero_internal::inference::types\u001b[0m\u001b[2m:\u001b[0m Deprecation Warning: `{\"type\": \"text\", \"value\", ...}` is deprecated. Please use `{\"type\": \"text\", \"text\": \"String input\"}` or `{\"type\": \"text\", \"arguments\": {..}} ` instead.\n",
      "\u001b[2m2025-04-07T18:44:34.000139Z\u001b[0m \u001b[33m WARN\u001b[0m \u001b[2mtensorzero_internal::inference::types\u001b[0m\u001b[2m:\u001b[0m Deprecation Warning: `{\"type\": \"text\", \"value\", ...}` is deprecated. Please use `{\"type\": \"text\", \"text\": \"String input\"}` or `{\"type\": \"text\", \"arguments\": {..}} ` instead.\n",
      "\u001b[2m2025-04-07T18:44:34.000141Z\u001b[0m \u001b[33m WARN\u001b[0m \u001b[2mtensorzero_internal::inference::types\u001b[0m\u001b[2m:\u001b[0m Deprecation Warning: `{\"type\": \"text\", \"value\", ...}` is deprecated. Please use `{\"type\": \"text\", \"text\": \"String input\"}` or `{\"type\": \"text\", \"arguments\": {..}} ` instead.\n"
     ]
    },
    {
     "name": "stderr",
     "output_type": "stream",
     "text": [
      "  9%|▉         | 9/100 [00:00<00:05, 16.97it/s]"
     ]
    },
    {
     "name": "stdout",
     "output_type": "stream",
     "text": [
      "\u001b[2m2025-04-07T18:44:34.534504Z\u001b[0m \u001b[33m WARN\u001b[0m \u001b[2mtensorzero_internal::inference::types\u001b[0m\u001b[2m:\u001b[0m Deprecation Warning: `{\"type\": \"text\", \"value\", ...}` is deprecated. Please use `{\"type\": \"text\", \"text\": \"String input\"}` or `{\"type\": \"text\", \"arguments\": {..}} ` instead.\n",
      "\u001b[2m2025-04-07T18:44:34.545488Z\u001b[0m \u001b[33m WARN\u001b[0m \u001b[2mtensorzero_internal::inference::types\u001b[0m\u001b[2m:\u001b[0m Deprecation Warning: `{\"type\": \"text\", \"value\", ...}` is deprecated. Please use `{\"type\": \"text\", \"text\": \"String input\"}` or `{\"type\": \"text\", \"arguments\": {..}} ` instead.\n",
      "\u001b[2m2025-04-07T18:44:34.571281Z\u001b[0m \u001b[33m WARN\u001b[0m \u001b[2mtensorzero_internal::inference::types\u001b[0m\u001b[2m:\u001b[0m Deprecation Warning: `{\"type\": \"text\", \"value\", ...}` is deprecated. Please use `{\"type\": \"text\", \"text\": \"String input\"}` or `{\"type\": \"text\", \"arguments\": {..}} ` instead.\n",
      "\u001b[2m2025-04-07T18:44:34.581335Z\u001b[0m \u001b[33m WARN\u001b[0m \u001b[2mtensorzero_internal::inference::types\u001b[0m\u001b[2m:\u001b[0m Deprecation Warning: `{\"type\": \"text\", \"value\", ...}` is deprecated. Please use `{\"type\": \"text\", \"text\": \"String input\"}` or `{\"type\": \"text\", \"arguments\": {..}} ` instead.\n",
      "\u001b[2m2025-04-07T18:44:34.597925Z\u001b[0m \u001b[33m WARN\u001b[0m \u001b[2mtensorzero_internal::inference::types\u001b[0m\u001b[2m:\u001b[0m Deprecation Warning: `{\"type\": \"text\", \"value\", ...}` is deprecated. Please use `{\"type\": \"text\", \"text\": \"String input\"}` or `{\"type\": \"text\", \"arguments\": {..}} ` instead.\n",
      "\u001b[2m2025-04-07T18:44:34.597925Z\u001b[0m \u001b[33m WARN\u001b[0m \u001b[2mtensorzero_internal::inference::types\u001b[0m\u001b[2m:\u001b[0m Deprecation Warning: `{\"type\": \"text\", \"value\", ...}` is deprecated. Please use `{\"type\": \"text\", \"text\": \"String input\"}` or `{\"type\": \"text\", \"arguments\": {..}} ` instead.\n",
      "\u001b[2m2025-04-07T18:44:34.602582Z\u001b[0m \u001b[33m WARN\u001b[0m \u001b[2mtensorzero_internal::inference::types\u001b[0m\u001b[2m:\u001b[0m Deprecation Warning: `{\"type\": \"text\", \"value\", ...}` is deprecated. Please use `{\"type\": \"text\", \"text\": \"String input\"}` or `{\"type\": \"text\", \"arguments\": {..}} ` instead.\n",
      "\u001b[2m2025-04-07T18:44:34.620983Z\u001b[0m \u001b[33m WARN\u001b[0m \u001b[2mtensorzero_internal::inference::types\u001b[0m\u001b[2m:\u001b[0m Deprecation Warning: `{\"type\": \"text\", \"value\", ...}` is deprecated. Please use `{\"type\": \"text\", \"text\": \"String input\"}` or `{\"type\": \"text\", \"arguments\": {..}} ` instead.\n",
      "\u001b[2m2025-04-07T18:44:34.671120Z\u001b[0m \u001b[33m WARN\u001b[0m \u001b[2mtensorzero_internal::inference::types\u001b[0m\u001b[2m:\u001b[0m Deprecation Warning: `{\"type\": \"text\", \"value\", ...}` is deprecated. Please use `{\"type\": \"text\", \"text\": \"String input\"}` or `{\"type\": \"text\", \"arguments\": {..}} ` instead.\n",
      "\u001b[2m2025-04-07T18:44:34.685114Z\u001b[0m \u001b[33m WARN\u001b[0m \u001b[2mtensorzero_internal::inference::types\u001b[0m\u001b[2m:\u001b[0m Deprecation Warning: `{\"type\": \"text\", \"value\", ...}` is deprecated. Please use `{\"type\": \"text\", \"text\": \"String input\"}` or `{\"type\": \"text\", \"arguments\": {..}} ` instead.\n",
      "\u001b[2m2025-04-07T18:44:34.686958Z\u001b[0m \u001b[33m WARN\u001b[0m \u001b[2mtensorzero_internal::inference::types\u001b[0m\u001b[2m:\u001b[0m Deprecation Warning: `{\"type\": \"text\", \"value\", ...}` is deprecated. Please use `{\"type\": \"text\", \"text\": \"String input\"}` or `{\"type\": \"text\", \"arguments\": {..}} ` instead.\n",
      "\u001b[2m2025-04-07T18:44:34.715015Z\u001b[0m \u001b[33m WARN\u001b[0m \u001b[2mtensorzero_internal::inference::types\u001b[0m\u001b[2m:\u001b[0m Deprecation Warning: `{\"type\": \"text\", \"value\", ...}` is deprecated. Please use `{\"type\": \"text\", \"text\": \"String input\"}` or `{\"type\": \"text\", \"arguments\": {..}} ` instead.\n",
      "\u001b[2m2025-04-07T18:44:34.722878Z\u001b[0m \u001b[33m WARN\u001b[0m \u001b[2mtensorzero_internal::inference::types\u001b[0m\u001b[2m:\u001b[0m Deprecation Warning: `{\"type\": \"text\", \"value\", ...}` is deprecated. Please use `{\"type\": \"text\", \"text\": \"String input\"}` or `{\"type\": \"text\", \"arguments\": {..}} ` instead.\n"
     ]
    },
    {
     "name": "stderr",
     "output_type": "stream",
     "text": [
      " 27%|██▋       | 27/100 [00:00<00:01, 44.66it/s]"
     ]
    },
    {
     "name": "stdout",
     "output_type": "stream",
     "text": [
      "\u001b[2m2025-04-07T18:44:34.737821Z\u001b[0m \u001b[33m WARN\u001b[0m \u001b[2mtensorzero_internal::inference::types\u001b[0m\u001b[2m:\u001b[0m Deprecation Warning: `{\"type\": \"text\", \"value\", ...}` is deprecated. Please use `{\"type\": \"text\", \"text\": \"String input\"}` or `{\"type\": \"text\", \"arguments\": {..}} ` instead.\n",
      "\u001b[2m2025-04-07T18:44:34.741860Z\u001b[0m \u001b[33m WARN\u001b[0m \u001b[2mtensorzero_internal::inference::types\u001b[0m\u001b[2m:\u001b[0m Deprecation Warning: `{\"type\": \"text\", \"value\", ...}` is deprecated. Please use `{\"type\": \"text\", \"text\": \"String input\"}` or `{\"type\": \"text\", \"arguments\": {..}} ` instead.\n",
      "\u001b[2m2025-04-07T18:44:34.759692Z\u001b[0m \u001b[33m WARN\u001b[0m \u001b[2mtensorzero_internal::inference::types\u001b[0m\u001b[2m:\u001b[0m Deprecation Warning: `{\"type\": \"text\", \"value\", ...}` is deprecated. Please use `{\"type\": \"text\", \"text\": \"String input\"}` or `{\"type\": \"text\", \"arguments\": {..}} ` instead.\n",
      "\u001b[2m2025-04-07T18:44:34.762037Z\u001b[0m \u001b[33m WARN\u001b[0m \u001b[2mtensorzero_internal::inference::types\u001b[0m\u001b[2m:\u001b[0m Deprecation Warning: `{\"type\": \"text\", \"value\", ...}` is deprecated. Please use `{\"type\": \"text\", \"text\": \"String input\"}` or `{\"type\": \"text\", \"arguments\": {..}} ` instead.\n",
      "\u001b[2m2025-04-07T18:44:34.762867Z\u001b[0m \u001b[33m WARN\u001b[0m \u001b[2mtensorzero_internal::inference::types\u001b[0m\u001b[2m:\u001b[0m Deprecation Warning: `{\"type\": \"text\", \"value\", ...}` is deprecated. Please use `{\"type\": \"text\", \"text\": \"String input\"}` or `{\"type\": \"text\", \"arguments\": {..}} ` instead.\n",
      "\u001b[2m2025-04-07T18:44:34.765899Z\u001b[0m \u001b[33m WARN\u001b[0m \u001b[2mtensorzero_internal::inference::types\u001b[0m\u001b[2m:\u001b[0m Deprecation Warning: `{\"type\": \"text\", \"value\", ...}` is deprecated. Please use `{\"type\": \"text\", \"text\": \"String input\"}` or `{\"type\": \"text\", \"arguments\": {..}} ` instead.\n",
      "\u001b[2m2025-04-07T18:44:34.774848Z\u001b[0m \u001b[33m WARN\u001b[0m \u001b[2mtensorzero_internal::inference::types\u001b[0m\u001b[2m:\u001b[0m Deprecation Warning: `{\"type\": \"text\", \"value\", ...}` is deprecated. Please use `{\"type\": \"text\", \"text\": \"String input\"}` or `{\"type\": \"text\", \"arguments\": {..}} ` instead.\n",
      "\u001b[2m2025-04-07T18:44:34.780461Z\u001b[0m \u001b[33m WARN\u001b[0m \u001b[2mtensorzero_internal::inference::types\u001b[0m\u001b[2m:\u001b[0m Deprecation Warning: `{\"type\": \"text\", \"value\", ...}` is deprecated. Please use `{\"type\": \"text\", \"text\": \"String input\"}` or `{\"type\": \"text\", \"arguments\": {..}} ` instead.\n",
      "\u001b[2m2025-04-07T18:44:34.875584Z\u001b[0m \u001b[33m WARN\u001b[0m \u001b[2mtensorzero_internal::inference::types\u001b[0m\u001b[2m:\u001b[0m Deprecation Warning: `{\"type\": \"text\", \"value\", ...}` is deprecated. Please use `{\"type\": \"text\", \"text\": \"String input\"}` or `{\"type\": \"text\", \"arguments\": {..}} ` instead.\n",
      "\u001b[2m2025-04-07T18:44:34.875584Z\u001b[0m \u001b[33m WARN\u001b[0m \u001b[2mtensorzero_internal::inference::types\u001b[0m\u001b[2m:\u001b[0m Deprecation Warning: `{\"type\": \"text\", \"value\", ...}` is deprecated. Please use `{\"type\": \"text\", \"text\": \"String input\"}` or `{\"type\": \"text\", \"arguments\": {..}} ` instead.\n",
      "\u001b[2m2025-04-07T18:44:34.876129Z\u001b[0m \u001b[33m WARN\u001b[0m \u001b[2mtensorzero_internal::inference::types\u001b[0m\u001b[2m:\u001b[0m Deprecation Warning: `{\"type\": \"text\", \"value\", ...}` is deprecated. Please use `{\"type\": \"text\", \"text\": \"String input\"}` or `{\"type\": \"text\", \"arguments\": {..}} ` instead.\n",
      "\u001b[2m2025-04-07T18:44:34.876129Z\u001b[0m \u001b[33m WARN\u001b[0m \u001b[2mtensorzero_internal::inference::types\u001b[0m\u001b[2m:\u001b[0m Deprecation Warning: `{\"type\": \"text\", \"value\", ...}` is deprecated. Please use `{\"type\": \"text\", \"text\": \"String input\"}` or `{\"type\": \"text\", \"arguments\": {..}} ` instead.\n",
      "\u001b[2m2025-04-07T18:44:34.876398Z\u001b[0m \u001b[33m WARN\u001b[0m \u001b[2mtensorzero_internal::inference::types\u001b[0m\u001b[2m:\u001b[0m Deprecation Warning: `{\"type\": \"text\", \"value\", ...}` is deprecated. Please use `{\"type\": \"text\", \"text\": \"String input\"}` or `{\"type\": \"text\", \"arguments\": {..}} ` instead.\n",
      "\u001b[2m2025-04-07T18:44:34.876423Z\u001b[0m \u001b[33m WARN\u001b[0m \u001b[2mtensorzero_internal::inference::types\u001b[0m\u001b[2m:\u001b[0m Deprecation Warning: `{\"type\": \"text\", \"value\", ...}` is deprecated. Please use `{\"type\": \"text\", \"text\": \"String input\"}` or `{\"type\": \"text\", \"arguments\": {..}} ` instead.\n",
      "\u001b[2m2025-04-07T18:44:34.876425Z\u001b[0m \u001b[33m WARN\u001b[0m \u001b[2mtensorzero_internal::inference::types\u001b[0m\u001b[2m:\u001b[0m Deprecation Warning: `{\"type\": \"text\", \"value\", ...}` is deprecated. Please use `{\"type\": \"text\", \"text\": \"String input\"}` or `{\"type\": \"text\", \"arguments\": {..}} ` instead.\n",
      "\u001b[2m2025-04-07T18:44:34.876469Z\u001b[0m \u001b[33m WARN\u001b[0m \u001b[2mtensorzero_internal::inference::types\u001b[0m\u001b[2m:\u001b[0m Deprecation Warning: `{\"type\": \"text\", \"value\", ...}` is deprecated. Please use `{\"type\": \"text\", \"text\": \"String input\"}` or `{\"type\": \"text\", \"arguments\": {..}} ` instead.\n",
      "\u001b[2m2025-04-07T18:44:34.880543Z\u001b[0m \u001b[33m WARN\u001b[0m \u001b[2mtensorzero_internal::inference::types\u001b[0m\u001b[2m:\u001b[0m Deprecation Warning: `{\"type\": \"text\", \"value\", ...}` is deprecated. Please use `{\"type\": \"text\", \"text\": \"String input\"}` or `{\"type\": \"text\", \"arguments\": {..}} ` instead.\n",
      "\u001b[2m2025-04-07T18:44:34.893956Z\u001b[0m \u001b[33m WARN\u001b[0m \u001b[2mtensorzero_internal::inference::types\u001b[0m\u001b[2m:\u001b[0m Deprecation Warning: `{\"type\": \"text\", \"value\", ...}` is deprecated. Please use `{\"type\": \"text\", \"text\": \"String input\"}` or `{\"type\": \"text\", \"arguments\": {..}} ` instead.\n",
      "\u001b[2m2025-04-07T18:44:34.914477Z\u001b[0m \u001b[33m WARN\u001b[0m \u001b[2mtensorzero_internal::inference::types\u001b[0m\u001b[2m:\u001b[0m Deprecation Warning: `{\"type\": \"text\", \"value\", ...}` is deprecated. Please use `{\"type\": \"text\", \"text\": \"String input\"}` or `{\"type\": \"text\", \"arguments\": {..}} ` instead.\n",
      "\u001b[2m2025-04-07T18:44:34.915514Z\u001b[0m \u001b[33m WARN\u001b[0m \u001b[2mtensorzero_internal::inference::types\u001b[0m\u001b[2m:\u001b[0m Deprecation Warning: `{\"type\": \"text\", \"value\", ...}` is deprecated. Please use `{\"type\": \"text\", \"text\": \"String input\"}` or `{\"type\": \"text\", \"arguments\": {..}} ` instead.\n"
     ]
    },
    {
     "name": "stderr",
     "output_type": "stream",
     "text": [
      " 37%|███▋      | 37/100 [00:00<00:01, 56.21it/s]"
     ]
    },
    {
     "name": "stdout",
     "output_type": "stream",
     "text": [
      "\u001b[2m2025-04-07T18:44:34.955905Z\u001b[0m \u001b[33m WARN\u001b[0m \u001b[2mtensorzero_internal::inference::types\u001b[0m\u001b[2m:\u001b[0m Deprecation Warning: `{\"type\": \"text\", \"value\", ...}` is deprecated. Please use `{\"type\": \"text\", \"text\": \"String input\"}` or `{\"type\": \"text\", \"arguments\": {..}} ` instead.\n",
      "\u001b[2m2025-04-07T18:44:34.960858Z\u001b[0m \u001b[33m WARN\u001b[0m \u001b[2mtensorzero_internal::inference::types\u001b[0m\u001b[2m:\u001b[0m Deprecation Warning: `{\"type\": \"text\", \"value\", ...}` is deprecated. Please use `{\"type\": \"text\", \"text\": \"String input\"}` or `{\"type\": \"text\", \"arguments\": {..}} ` instead.\n",
      "\u001b[2m2025-04-07T18:44:34.970090Z\u001b[0m \u001b[33m WARN\u001b[0m \u001b[2mtensorzero_internal::inference::types\u001b[0m\u001b[2m:\u001b[0m Deprecation Warning: `{\"type\": \"text\", \"value\", ...}` is deprecated. Please use `{\"type\": \"text\", \"text\": \"String input\"}` or `{\"type\": \"text\", \"arguments\": {..}} ` instead.\n",
      "\u001b[2m2025-04-07T18:44:34.992499Z\u001b[0m \u001b[33m WARN\u001b[0m \u001b[2mtensorzero_internal::inference::types\u001b[0m\u001b[2m:\u001b[0m Deprecation Warning: `{\"type\": \"text\", \"value\", ...}` is deprecated. Please use `{\"type\": \"text\", \"text\": \"String input\"}` or `{\"type\": \"text\", \"arguments\": {..}} ` instead.\n",
      "\u001b[2m2025-04-07T18:44:35.009392Z\u001b[0m \u001b[33m WARN\u001b[0m \u001b[2mtensorzero_internal::inference::types\u001b[0m\u001b[2m:\u001b[0m Deprecation Warning: `{\"type\": \"text\", \"value\", ...}` is deprecated. Please use `{\"type\": \"text\", \"text\": \"String input\"}` or `{\"type\": \"text\", \"arguments\": {..}} ` instead.\n",
      "\u001b[2m2025-04-07T18:44:35.043489Z\u001b[0m \u001b[33m WARN\u001b[0m \u001b[2mtensorzero_internal::inference::types\u001b[0m\u001b[2m:\u001b[0m Deprecation Warning: `{\"type\": \"text\", \"value\", ...}` is deprecated. Please use `{\"type\": \"text\", \"text\": \"String input\"}` or `{\"type\": \"text\", \"arguments\": {..}} ` instead.\n",
      "\u001b[2m2025-04-07T18:44:35.063809Z\u001b[0m \u001b[33m WARN\u001b[0m \u001b[2mtensorzero_internal::inference::types\u001b[0m\u001b[2m:\u001b[0m Deprecation Warning: `{\"type\": \"text\", \"value\", ...}` is deprecated. Please use `{\"type\": \"text\", \"text\": \"String input\"}` or `{\"type\": \"text\", \"arguments\": {..}} ` instead.\n",
      "\u001b[2m2025-04-07T18:44:35.081896Z\u001b[0m \u001b[33m WARN\u001b[0m \u001b[2mtensorzero_internal::inference::types\u001b[0m\u001b[2m:\u001b[0m Deprecation Warning: `{\"type\": \"text\", \"value\", ...}` is deprecated. Please use `{\"type\": \"text\", \"text\": \"String input\"}` or `{\"type\": \"text\", \"arguments\": {..}} ` instead.\n",
      "\u001b[2m2025-04-07T18:44:35.152800Z\u001b[0m \u001b[33m WARN\u001b[0m \u001b[2mtensorzero_internal::inference::types\u001b[0m\u001b[2m:\u001b[0m Deprecation Warning: `{\"type\": \"text\", \"value\", ...}` is deprecated. Please use `{\"type\": \"text\", \"text\": \"String input\"}` or `{\"type\": \"text\", \"arguments\": {..}} ` instead.\n"
     ]
    },
    {
     "name": "stderr",
     "output_type": "stream",
     "text": [
      " 45%|████▌     | 45/100 [00:01<00:01, 49.11it/s]"
     ]
    },
    {
     "name": "stdout",
     "output_type": "stream",
     "text": [
      "\u001b[2m2025-04-07T18:44:35.157134Z\u001b[0m \u001b[33m WARN\u001b[0m \u001b[2mtensorzero_internal::inference::types\u001b[0m\u001b[2m:\u001b[0m Deprecation Warning: `{\"type\": \"text\", \"value\", ...}` is deprecated. Please use `{\"type\": \"text\", \"text\": \"String input\"}` or `{\"type\": \"text\", \"arguments\": {..}} ` instead.\n",
      "\u001b[2m2025-04-07T18:44:35.174338Z\u001b[0m \u001b[33m WARN\u001b[0m \u001b[2mtensorzero_internal::inference::types\u001b[0m\u001b[2m:\u001b[0m Deprecation Warning: `{\"type\": \"text\", \"value\", ...}` is deprecated. Please use `{\"type\": \"text\", \"text\": \"String input\"}` or `{\"type\": \"text\", \"arguments\": {..}} ` instead.\n",
      "\u001b[2m2025-04-07T18:44:35.197337Z\u001b[0m \u001b[33m WARN\u001b[0m \u001b[2mtensorzero_internal::inference::types\u001b[0m\u001b[2m:\u001b[0m Deprecation Warning: `{\"type\": \"text\", \"value\", ...}` is deprecated. Please use `{\"type\": \"text\", \"text\": \"String input\"}` or `{\"type\": \"text\", \"arguments\": {..}} ` instead.\n",
      "\u001b[2m2025-04-07T18:44:35.206558Z\u001b[0m \u001b[33m WARN\u001b[0m \u001b[2mtensorzero_internal::inference::types\u001b[0m\u001b[2m:\u001b[0m Deprecation Warning: `{\"type\": \"text\", \"value\", ...}` is deprecated. Please use `{\"type\": \"text\", \"text\": \"String input\"}` or `{\"type\": \"text\", \"arguments\": {..}} ` instead.\n",
      "\u001b[2m2025-04-07T18:44:35.219015Z\u001b[0m \u001b[33m WARN\u001b[0m \u001b[2mtensorzero_internal::inference::types\u001b[0m\u001b[2m:\u001b[0m Deprecation Warning: `{\"type\": \"text\", \"value\", ...}` is deprecated. Please use `{\"type\": \"text\", \"text\": \"String input\"}` or `{\"type\": \"text\", \"arguments\": {..}} ` instead.\n",
      "\u001b[2m2025-04-07T18:44:35.226765Z\u001b[0m \u001b[33m WARN\u001b[0m \u001b[2mtensorzero_internal::inference::types\u001b[0m\u001b[2m:\u001b[0m Deprecation Warning: `{\"type\": \"text\", \"value\", ...}` is deprecated. Please use `{\"type\": \"text\", \"text\": \"String input\"}` or `{\"type\": \"text\", \"arguments\": {..}} ` instead.\n",
      "\u001b[2m2025-04-07T18:44:35.233832Z\u001b[0m \u001b[33m WARN\u001b[0m \u001b[2mtensorzero_internal::inference::types\u001b[0m\u001b[2m:\u001b[0m Deprecation Warning: `{\"type\": \"text\", \"value\", ...}` is deprecated. Please use `{\"type\": \"text\", \"text\": \"String input\"}` or `{\"type\": \"text\", \"arguments\": {..}} ` instead.\n",
      "\u001b[2m2025-04-07T18:44:35.273936Z\u001b[0m \u001b[33m WARN\u001b[0m \u001b[2mtensorzero_internal::inference::types\u001b[0m\u001b[2m:\u001b[0m Deprecation Warning: `{\"type\": \"text\", \"value\", ...}` is deprecated. Please use `{\"type\": \"text\", \"text\": \"String input\"}` or `{\"type\": \"text\", \"arguments\": {..}} ` instead.\n"
     ]
    },
    {
     "name": "stderr",
     "output_type": "stream",
     "text": [
      "100%|██████████| 100/100 [00:07<00:00, 13.00it/s]\n"
     ]
    },
    {
     "name": "stdout",
     "output_type": "stream",
     "text": [
      "\u001b[2m2025-04-07T18:44:41.687149Z\u001b[0m \u001b[31mERROR\u001b[0m \u001b[2mtensorzero_internal::error\u001b[0m\u001b[2m:\u001b[0m JSON Schema validation failed for Function:\n",
      "\n",
      "Additional properties are not allowed ('rbi' was unexpected)\n",
      "Data: {\"person\":[\"Bonilla\"],\"organization\":[],\"location\":[],\"miscellaneous\":[],\"rbi\":21,\"runs\":15,\"games\":20}Schema: {\"$schema\":\"http://json-schema.org/draft-07/schema#\",\"type\":\"object\",\"properties\":{\"person\":{\"type\":\"array\",\"items\":{\"type\":\"string\"}},\"organization\":{\"type\":\"array\",\"items\":{\"type\":\"string\"}},\"location\":{\"type\":\"array\",\"items\":{\"type\":\"string\"}},\"miscellaneous\":{\"type\":\"array\",\"items\":{\"type\":\"string\"}}},\"required\":[\"person\",\"organization\",\"location\",\"miscellaneous\"],\"additionalProperties\":false}\n"
     ]
    },
    {
     "name": "stderr",
     "output_type": "stream",
     "text": [
      "100%|██████████| 100/100 [00:14<00:00,  7.12it/s]\n",
      "[I 2025-04-07 14:44:55,747] Trial 2 finished with value: 0.6045831168831168 and parameters: {'instruction_index': 10, 'demonstration_index': 9}. Best is trial 1 with value: 0.6602142857142858.\n"
     ]
    },
    {
     "name": "stdout",
     "output_type": "stream",
     "text": [
      "Iteration 3: 0.6045831168831168\n"
     ]
    },
    {
     "name": "stderr",
     "output_type": "stream",
     "text": [
      "  0%|          | 0/100 [00:00<?, ?it/s]"
     ]
    },
    {
     "name": "stdout",
     "output_type": "stream",
     "text": [
      "\u001b[2m2025-04-07T18:44:56.073055Z\u001b[0m \u001b[33m WARN\u001b[0m \u001b[2mtensorzero_internal::inference::types\u001b[0m\u001b[2m:\u001b[0m Deprecation Warning: `{\"type\": \"text\", \"value\", ...}` is deprecated. Please use `{\"type\": \"text\", \"text\": \"String input\"}` or `{\"type\": \"text\", \"arguments\": {..}} ` instead.\n",
      "\u001b[2m2025-04-07T18:44:56.073055Z\u001b[0m \u001b[33m WARN\u001b[0m \u001b[2mtensorzero_internal::inference::types\u001b[0m\u001b[2m:\u001b[0m Deprecation Warning: `{\"type\": \"text\", \"value\", ...}` is deprecated. Please use `{\"type\": \"text\", \"text\": \"String input\"}` or `{\"type\": \"text\", \"arguments\": {..}} ` instead.\n",
      "\u001b[2m2025-04-07T18:44:56.073064Z\u001b[0m \u001b[33m WARN\u001b[0m \u001b[2mtensorzero_internal::inference::types\u001b[0m\u001b[2m:\u001b[0m Deprecation Warning: `{\"type\": \"text\", \"value\", ...}` is deprecated. Please use `{\"type\": \"text\", \"text\": \"String input\"}` or `{\"type\": \"text\", \"arguments\": {..}} ` instead.\n",
      "\u001b[2m2025-04-07T18:44:56.073103Z\u001b[0m \u001b[33m WARN\u001b[0m \u001b[2mtensorzero_internal::inference::types\u001b[0m\u001b[2m:\u001b[0m Deprecation Warning: `{\"type\": \"text\", \"value\", ...}` is deprecated. Please use `{\"type\": \"text\", \"text\": \"String input\"}` or `{\"type\": \"text\", \"arguments\": {..}} ` instead.\n",
      "\u001b[2m2025-04-07T18:44:56.073124Z\u001b[0m \u001b[33m WARN\u001b[0m \u001b[2mtensorzero_internal::inference::types\u001b[0m\u001b[2m:\u001b[0m Deprecation Warning: `{\"type\": \"text\", \"value\", ...}` is deprecated. Please use `{\"type\": \"text\", \"text\": \"String input\"}` or `{\"type\": \"text\", \"arguments\": {..}} ` instead.\n",
      "\u001b[2m2025-04-07T18:44:56.073178Z\u001b[0m \u001b[33m WARN\u001b[0m \u001b[2mtensorzero_internal::inference::types\u001b[0m\u001b[2m:\u001b[0m Deprecation Warning: `{\"type\": \"text\", \"value\", ...}` is deprecated. Please use `{\"type\": \"text\", \"text\": \"String input\"}` or `{\"type\": \"text\", \"arguments\": {..}} ` instead.\n",
      "\u001b[2m2025-04-07T18:44:56.073211Z\u001b[0m \u001b[33m WARN\u001b[0m \u001b[2mtensorzero_internal::inference::types\u001b[0m\u001b[2m:\u001b[0m Deprecation Warning: `{\"type\": \"text\", \"value\", ...}` is deprecated. Please use `{\"type\": \"text\", \"text\": \"String input\"}` or `{\"type\": \"text\", \"arguments\": {..}} ` instead.\n",
      "\u001b[2m2025-04-07T18:44:56.073268Z\u001b[0m \u001b[33m WARN\u001b[0m \u001b[2mtensorzero_internal::inference::types\u001b[0m\u001b[2m:\u001b[0m Deprecation Warning: `{\"type\": \"text\", \"value\", ...}` is deprecated. Please use `{\"type\": \"text\", \"text\": \"String input\"}` or `{\"type\": \"text\", \"arguments\": {..}} ` instead.\n",
      "\u001b[2m2025-04-07T18:44:56.073317Z\u001b[0m \u001b[33m WARN\u001b[0m \u001b[2mtensorzero_internal::inference::types\u001b[0m\u001b[2m:\u001b[0m Deprecation Warning: `{\"type\": \"text\", \"value\", ...}` is deprecated. Please use `{\"type\": \"text\", \"text\": \"String input\"}` or `{\"type\": \"text\", \"arguments\": {..}} ` instead.\n",
      "\u001b[2m2025-04-07T18:44:56.073318Z\u001b[0m \u001b[33m WARN\u001b[0m \u001b[2mtensorzero_internal::inference::types\u001b[0m\u001b[2m:\u001b[0m Deprecation Warning: `{\"type\": \"text\", \"value\", ...}` is deprecated. Please use `{\"type\": \"text\", \"text\": \"String input\"}` or `{\"type\": \"text\", \"arguments\": {..}} ` instead.\n",
      "\u001b[2m2025-04-07T18:44:56.073331Z\u001b[0m \u001b[33m WARN\u001b[0m \u001b[2mtensorzero_internal::inference::types\u001b[0m\u001b[2m:\u001b[0m Deprecation Warning: `{\"type\": \"text\", \"value\", ...}` is deprecated. Please use `{\"type\": \"text\", \"text\": \"String input\"}` or `{\"type\": \"text\", \"arguments\": {..}} ` instead.\n",
      "\u001b[2m2025-04-07T18:44:56.073338Z\u001b[0m \u001b[33m WARN\u001b[0m \u001b[2mtensorzero_internal::inference::types\u001b[0m\u001b[2m:\u001b[0m Deprecation Warning: `{\"type\": \"text\", \"value\", ...}` is deprecated. Please use `{\"type\": \"text\", \"text\": \"String input\"}` or `{\"type\": \"text\", \"arguments\": {..}} ` instead.\n",
      "\u001b[2m2025-04-07T18:44:56.073350Z\u001b[0m \u001b[33m WARN\u001b[0m \u001b[2mtensorzero_internal::inference::types\u001b[0m\u001b[2m:\u001b[0m Deprecation Warning: `{\"type\": \"text\", \"value\", ...}` is deprecated. Please use `{\"type\": \"text\", \"text\": \"String input\"}` or `{\"type\": \"text\", \"arguments\": {..}} ` instead.\n",
      "\u001b[2m2025-04-07T18:44:56.073460Z\u001b[0m \u001b[33m WARN\u001b[0m \u001b[2mtensorzero_internal::inference::types\u001b[0m\u001b[2m:\u001b[0m Deprecation Warning: `{\"type\": \"text\", \"value\", ...}` is deprecated. Please use `{\"type\": \"text\", \"text\": \"String input\"}` or `{\"type\": \"text\", \"arguments\": {..}} ` instead.\n",
      "\u001b[2m2025-04-07T18:44:56.073478Z\u001b[0m \u001b[33m WARN\u001b[0m \u001b[2mtensorzero_internal::inference::types\u001b[0m\u001b[2m:\u001b[0m Deprecation Warning: `{\"type\": \"text\", \"value\", ...}` is deprecated. Please use `{\"type\": \"text\", \"text\": \"String input\"}` or `{\"type\": \"text\", \"arguments\": {..}} ` instead.\n",
      "\u001b[2m2025-04-07T18:44:56.073489Z\u001b[0m \u001b[33m WARN\u001b[0m \u001b[2mtensorzero_internal::inference::types\u001b[0m\u001b[2m:\u001b[0m Deprecation Warning: `{\"type\": \"text\", \"value\", ...}` is deprecated. Please use `{\"type\": \"text\", \"text\": \"String input\"}` or `{\"type\": \"text\", \"arguments\": {..}} ` instead.\n",
      "\u001b[2m2025-04-07T18:44:56.073564Z\u001b[0m \u001b[33m WARN\u001b[0m \u001b[2mtensorzero_internal::inference::types\u001b[0m\u001b[2m:\u001b[0m Deprecation Warning: `{\"type\": \"text\", \"value\", ...}` is deprecated. Please use `{\"type\": \"text\", \"text\": \"String input\"}` or `{\"type\": \"text\", \"arguments\": {..}} ` instead.\n",
      "\u001b[2m2025-04-07T18:44:56.073586Z\u001b[0m \u001b[33m WARN\u001b[0m \u001b[2mtensorzero_internal::inference::types\u001b[0m\u001b[2m:\u001b[0m Deprecation Warning: `{\"type\": \"text\", \"value\", ...}` is deprecated. Please use `{\"type\": \"text\", \"text\": \"String input\"}` or `{\"type\": \"text\", \"arguments\": {..}} ` instead.\n",
      "\u001b[2m2025-04-07T18:44:56.073596Z\u001b[0m \u001b[33m WARN\u001b[0m \u001b[2mtensorzero_internal::inference::types\u001b[0m\u001b[2m:\u001b[0m Deprecation Warning: `{\"type\": \"text\", \"value\", ...}` is deprecated. Please use `{\"type\": \"text\", \"text\": \"String input\"}` or `{\"type\": \"text\", \"arguments\": {..}} ` instead.\n",
      "\u001b[2m2025-04-07T18:44:56.073756Z\u001b[0m \u001b[33m WARN\u001b[0m \u001b[2mtensorzero_internal::inference::types\u001b[0m\u001b[2m:\u001b[0m Deprecation Warning: `{\"type\": \"text\", \"value\", ...}` is deprecated. Please use `{\"type\": \"text\", \"text\": \"String input\"}` or `{\"type\": \"text\", \"arguments\": {..}} ` instead.\n",
      "\u001b[2m2025-04-07T18:44:56.073847Z\u001b[0m \u001b[33m WARN\u001b[0m \u001b[2mtensorzero_internal::inference::types\u001b[0m\u001b[2m:\u001b[0m Deprecation Warning: `{\"type\": \"text\", \"value\", ...}` is deprecated. Please use `{\"type\": \"text\", \"text\": \"String input\"}` or `{\"type\": \"text\", \"arguments\": {..}} ` instead.\n",
      "\u001b[2m2025-04-07T18:44:56.073861Z\u001b[0m \u001b[33m WARN\u001b[0m \u001b[2mtensorzero_internal::inference::types\u001b[0m\u001b[2m:\u001b[0m Deprecation Warning: `{\"type\": \"text\", \"value\", ...}` is deprecated. Please use `{\"type\": \"text\", \"text\": \"String input\"}` or `{\"type\": \"text\", \"arguments\": {..}} ` instead.\n",
      "\u001b[2m2025-04-07T18:44:56.073861Z\u001b[0m \u001b[33m WARN\u001b[0m \u001b[2mtensorzero_internal::inference::types\u001b[0m\u001b[2m:\u001b[0m Deprecation Warning: `{\"type\": \"text\", \"value\", ...}` is deprecated. Please use `{\"type\": \"text\", \"text\": \"String input\"}` or `{\"type\": \"text\", \"arguments\": {..}} ` instead.\n",
      "\u001b[2m2025-04-07T18:44:56.073871Z\u001b[0m \u001b[33m WARN\u001b[0m \u001b[2mtensorzero_internal::inference::types\u001b[0m\u001b[2m:\u001b[0m Deprecation Warning: `{\"type\": \"text\", \"value\", ...}` is deprecated. Please use `{\"type\": \"text\", \"text\": \"String input\"}` or `{\"type\": \"text\", \"arguments\": {..}} ` instead.\n",
      "\u001b[2m2025-04-07T18:44:56.073883Z\u001b[0m \u001b[33m WARN\u001b[0m \u001b[2mtensorzero_internal::inference::types\u001b[0m\u001b[2m:\u001b[0m Deprecation Warning: `{\"type\": \"text\", \"value\", ...}` is deprecated. Please use `{\"type\": \"text\", \"text\": \"String input\"}` or `{\"type\": \"text\", \"arguments\": {..}} ` instead.\n",
      "\u001b[2m2025-04-07T18:44:56.073932Z\u001b[0m \u001b[33m WARN\u001b[0m \u001b[2mtensorzero_internal::inference::types\u001b[0m\u001b[2m:\u001b[0m Deprecation Warning: `{\"type\": \"text\", \"value\", ...}` is deprecated. Please use `{\"type\": \"text\", \"text\": \"String input\"}` or `{\"type\": \"text\", \"arguments\": {..}} ` instead.\n",
      "\u001b[2m2025-04-07T18:44:56.073955Z\u001b[0m \u001b[33m WARN\u001b[0m \u001b[2mtensorzero_internal::inference::types\u001b[0m\u001b[2m:\u001b[0m Deprecation Warning: `{\"type\": \"text\", \"value\", ...}` is deprecated. Please use `{\"type\": \"text\", \"text\": \"String input\"}` or `{\"type\": \"text\", \"arguments\": {..}} ` instead.\n",
      "\u001b[2m2025-04-07T18:44:56.073965Z\u001b[0m \u001b[33m WARN\u001b[0m \u001b[2mtensorzero_internal::inference::types\u001b[0m\u001b[2m:\u001b[0m Deprecation Warning: `{\"type\": \"text\", \"value\", ...}` is deprecated. Please use `{\"type\": \"text\", \"text\": \"String input\"}` or `{\"type\": \"text\", \"arguments\": {..}} ` instead.\n",
      "\u001b[2m2025-04-07T18:44:56.073968Z\u001b[0m \u001b[33m WARN\u001b[0m \u001b[2mtensorzero_internal::inference::types\u001b[0m\u001b[2m:\u001b[0m Deprecation Warning: `{\"type\": \"text\", \"value\", ...}` is deprecated. Please use `{\"type\": \"text\", \"text\": \"String input\"}` or `{\"type\": \"text\", \"arguments\": {..}} ` instead.\n",
      "\u001b[2m2025-04-07T18:44:56.073979Z\u001b[0m \u001b[33m WARN\u001b[0m \u001b[2mtensorzero_internal::inference::types\u001b[0m\u001b[2m:\u001b[0m Deprecation Warning: `{\"type\": \"text\", \"value\", ...}` is deprecated. Please use `{\"type\": \"text\", \"text\": \"String input\"}` or `{\"type\": \"text\", \"arguments\": {..}} ` instead.\n",
      "\u001b[2m2025-04-07T18:44:56.073984Z\u001b[0m \u001b[33m WARN\u001b[0m \u001b[2mtensorzero_internal::inference::types\u001b[0m\u001b[2m:\u001b[0m Deprecation Warning: `{\"type\": \"text\", \"value\", ...}` is deprecated. Please use `{\"type\": \"text\", \"text\": \"String input\"}` or `{\"type\": \"text\", \"arguments\": {..}} ` instead.\n",
      "\u001b[2m2025-04-07T18:44:56.073990Z\u001b[0m \u001b[33m WARN\u001b[0m \u001b[2mtensorzero_internal::inference::types\u001b[0m\u001b[2m:\u001b[0m Deprecation Warning: `{\"type\": \"text\", \"value\", ...}` is deprecated. Please use `{\"type\": \"text\", \"text\": \"String input\"}` or `{\"type\": \"text\", \"arguments\": {..}} ` instead.\n",
      "\u001b[2m2025-04-07T18:44:56.074008Z\u001b[0m \u001b[33m WARN\u001b[0m \u001b[2mtensorzero_internal::inference::types\u001b[0m\u001b[2m:\u001b[0m Deprecation Warning: `{\"type\": \"text\", \"value\", ...}` is deprecated. Please use `{\"type\": \"text\", \"text\": \"String input\"}` or `{\"type\": \"text\", \"arguments\": {..}} ` instead.\n",
      "\u001b[2m2025-04-07T18:44:56.074011Z\u001b[0m \u001b[33m WARN\u001b[0m \u001b[2mtensorzero_internal::inference::types\u001b[0m\u001b[2m:\u001b[0m Deprecation Warning: `{\"type\": \"text\", \"value\", ...}` is deprecated. Please use `{\"type\": \"text\", \"text\": \"String input\"}` or `{\"type\": \"text\", \"arguments\": {..}} ` instead.\n",
      "\u001b[2m2025-04-07T18:44:56.074017Z\u001b[0m \u001b[33m WARN\u001b[0m \u001b[2mtensorzero_internal::inference::types\u001b[0m\u001b[2m:\u001b[0m Deprecation Warning: `{\"type\": \"text\", \"value\", ...}` is deprecated. Please use `{\"type\": \"text\", \"text\": \"String input\"}` or `{\"type\": \"text\", \"arguments\": {..}} ` instead.\n",
      "\u001b[2m2025-04-07T18:44:56.074034Z\u001b[0m \u001b[33m WARN\u001b[0m \u001b[2mtensorzero_internal::inference::types\u001b[0m\u001b[2m:\u001b[0m Deprecation Warning: `{\"type\": \"text\", \"value\", ...}` is deprecated. Please use `{\"type\": \"text\", \"text\": \"String input\"}` or `{\"type\": \"text\", \"arguments\": {..}} ` instead.\n",
      "\u001b[2m2025-04-07T18:44:56.074038Z\u001b[0m \u001b[33m WARN\u001b[0m \u001b[2mtensorzero_internal::inference::types\u001b[0m\u001b[2m:\u001b[0m Deprecation Warning: `{\"type\": \"text\", \"value\", ...}` is deprecated. Please use `{\"type\": \"text\", \"text\": \"String input\"}` or `{\"type\": \"text\", \"arguments\": {..}} ` instead.\n",
      "\u001b[2m2025-04-07T18:44:56.074074Z\u001b[0m \u001b[33m WARN\u001b[0m \u001b[2mtensorzero_internal::inference::types\u001b[0m\u001b[2m:\u001b[0m Deprecation Warning: `{\"type\": \"text\", \"value\", ...}` is deprecated. Please use `{\"type\": \"text\", \"text\": \"String input\"}` or `{\"type\": \"text\", \"arguments\": {..}} ` instead.\n",
      "\u001b[2m2025-04-07T18:44:56.074210Z\u001b[0m \u001b[33m WARN\u001b[0m \u001b[2mtensorzero_internal::inference::types\u001b[0m\u001b[2m:\u001b[0m Deprecation Warning: `{\"type\": \"text\", \"value\", ...}` is deprecated. Please use `{\"type\": \"text\", \"text\": \"String input\"}` or `{\"type\": \"text\", \"arguments\": {..}} ` instead.\n",
      "\u001b[2m2025-04-07T18:44:56.074216Z\u001b[0m \u001b[33m WARN\u001b[0m \u001b[2mtensorzero_internal::inference::types\u001b[0m\u001b[2m:\u001b[0m Deprecation Warning: `{\"type\": \"text\", \"value\", ...}` is deprecated. Please use `{\"type\": \"text\", \"text\": \"String input\"}` or `{\"type\": \"text\", \"arguments\": {..}} ` instead.\n",
      "\u001b[2m2025-04-07T18:44:56.074247Z\u001b[0m \u001b[33m WARN\u001b[0m \u001b[2mtensorzero_internal::inference::types\u001b[0m\u001b[2m:\u001b[0m Deprecation Warning: `{\"type\": \"text\", \"value\", ...}` is deprecated. Please use `{\"type\": \"text\", \"text\": \"String input\"}` or `{\"type\": \"text\", \"arguments\": {..}} ` instead.\n",
      "\u001b[2m2025-04-07T18:44:56.074251Z\u001b[0m \u001b[33m WARN\u001b[0m \u001b[2mtensorzero_internal::inference::types\u001b[0m\u001b[2m:\u001b[0m Deprecation Warning: `{\"type\": \"text\", \"value\", ...}` is deprecated. Please use `{\"type\": \"text\", \"text\": \"String input\"}` or `{\"type\": \"text\", \"arguments\": {..}} ` instead.\n",
      "\u001b[2m2025-04-07T18:44:56.074303Z\u001b[0m \u001b[33m WARN\u001b[0m \u001b[2mtensorzero_internal::inference::types\u001b[0m\u001b[2m:\u001b[0m Deprecation Warning: `{\"type\": \"text\", \"value\", ...}` is deprecated. Please use `{\"type\": \"text\", \"text\": \"String input\"}` or `{\"type\": \"text\", \"arguments\": {..}} ` instead.\n",
      "\u001b[2m2025-04-07T18:44:56.074409Z\u001b[0m \u001b[33m WARN\u001b[0m \u001b[2mtensorzero_internal::inference::types\u001b[0m\u001b[2m:\u001b[0m Deprecation Warning: `{\"type\": \"text\", \"value\", ...}` is deprecated. Please use `{\"type\": \"text\", \"text\": \"String input\"}` or `{\"type\": \"text\", \"arguments\": {..}} ` instead.\n",
      "\u001b[2m2025-04-07T18:44:56.074445Z\u001b[0m \u001b[33m WARN\u001b[0m \u001b[2mtensorzero_internal::inference::types\u001b[0m\u001b[2m:\u001b[0m Deprecation Warning: `{\"type\": \"text\", \"value\", ...}` is deprecated. Please use `{\"type\": \"text\", \"text\": \"String input\"}` or `{\"type\": \"text\", \"arguments\": {..}} ` instead.\n",
      "\u001b[2m2025-04-07T18:44:56.074463Z\u001b[0m \u001b[33m WARN\u001b[0m \u001b[2mtensorzero_internal::inference::types\u001b[0m\u001b[2m:\u001b[0m Deprecation Warning: `{\"type\": \"text\", \"value\", ...}` is deprecated. Please use `{\"type\": \"text\", \"text\": \"String input\"}` or `{\"type\": \"text\", \"arguments\": {..}} ` instead.\n",
      "\u001b[2m2025-04-07T18:44:56.074485Z\u001b[0m \u001b[33m WARN\u001b[0m \u001b[2mtensorzero_internal::inference::types\u001b[0m\u001b[2m:\u001b[0m Deprecation Warning: `{\"type\": \"text\", \"value\", ...}` is deprecated. Please use `{\"type\": \"text\", \"text\": \"String input\"}` or `{\"type\": \"text\", \"arguments\": {..}} ` instead.\n",
      "\u001b[2m2025-04-07T18:44:56.074580Z\u001b[0m \u001b[33m WARN\u001b[0m \u001b[2mtensorzero_internal::inference::types\u001b[0m\u001b[2m:\u001b[0m Deprecation Warning: `{\"type\": \"text\", \"value\", ...}` is deprecated. Please use `{\"type\": \"text\", \"text\": \"String input\"}` or `{\"type\": \"text\", \"arguments\": {..}} ` instead.\n",
      "\u001b[2m2025-04-07T18:44:56.074582Z\u001b[0m \u001b[33m WARN\u001b[0m \u001b[2mtensorzero_internal::inference::types\u001b[0m\u001b[2m:\u001b[0m Deprecation Warning: `{\"type\": \"text\", \"value\", ...}` is deprecated. Please use `{\"type\": \"text\", \"text\": \"String input\"}` or `{\"type\": \"text\", \"arguments\": {..}} ` instead.\n",
      "\u001b[2m2025-04-07T18:44:56.074584Z\u001b[0m \u001b[33m WARN\u001b[0m \u001b[2mtensorzero_internal::inference::types\u001b[0m\u001b[2m:\u001b[0m Deprecation Warning: `{\"type\": \"text\", \"value\", ...}` is deprecated. Please use `{\"type\": \"text\", \"text\": \"String input\"}` or `{\"type\": \"text\", \"arguments\": {..}} ` instead.\n"
     ]
    },
    {
     "name": "stderr",
     "output_type": "stream",
     "text": [
      " 15%|█▌        | 15/100 [00:00<00:02, 32.22it/s]"
     ]
    },
    {
     "name": "stdout",
     "output_type": "stream",
     "text": [
      "\u001b[2m2025-04-07T18:44:56.575835Z\u001b[0m \u001b[33m WARN\u001b[0m \u001b[2mtensorzero_internal::inference::types\u001b[0m\u001b[2m:\u001b[0m Deprecation Warning: `{\"type\": \"text\", \"value\", ...}` is deprecated. Please use `{\"type\": \"text\", \"text\": \"String input\"}` or `{\"type\": \"text\", \"arguments\": {..}} ` instead.\n",
      "\u001b[2m2025-04-07T18:44:56.594745Z\u001b[0m \u001b[33m WARN\u001b[0m \u001b[2mtensorzero_internal::inference::types\u001b[0m\u001b[2m:\u001b[0m Deprecation Warning: `{\"type\": \"text\", \"value\", ...}` is deprecated. Please use `{\"type\": \"text\", \"text\": \"String input\"}` or `{\"type\": \"text\", \"arguments\": {..}} ` instead.\n",
      "\u001b[2m2025-04-07T18:44:56.596855Z\u001b[0m \u001b[33m WARN\u001b[0m \u001b[2mtensorzero_internal::inference::types\u001b[0m\u001b[2m:\u001b[0m Deprecation Warning: `{\"type\": \"text\", \"value\", ...}` is deprecated. Please use `{\"type\": \"text\", \"text\": \"String input\"}` or `{\"type\": \"text\", \"arguments\": {..}} ` instead.\n",
      "\u001b[2m2025-04-07T18:44:56.600407Z\u001b[0m \u001b[33m WARN\u001b[0m \u001b[2mtensorzero_internal::inference::types\u001b[0m\u001b[2m:\u001b[0m Deprecation Warning: `{\"type\": \"text\", \"value\", ...}` is deprecated. Please use `{\"type\": \"text\", \"text\": \"String input\"}` or `{\"type\": \"text\", \"arguments\": {..}} ` instead.\n",
      "\u001b[2m2025-04-07T18:44:56.608188Z\u001b[0m \u001b[33m WARN\u001b[0m \u001b[2mtensorzero_internal::inference::types\u001b[0m\u001b[2m:\u001b[0m Deprecation Warning: `{\"type\": \"text\", \"value\", ...}` is deprecated. Please use `{\"type\": \"text\", \"text\": \"String input\"}` or `{\"type\": \"text\", \"arguments\": {..}} ` instead.\n",
      "\u001b[2m2025-04-07T18:44:56.609772Z\u001b[0m \u001b[33m WARN\u001b[0m \u001b[2mtensorzero_internal::inference::types\u001b[0m\u001b[2m:\u001b[0m Deprecation Warning: `{\"type\": \"text\", \"value\", ...}` is deprecated. Please use `{\"type\": \"text\", \"text\": \"String input\"}` or `{\"type\": \"text\", \"arguments\": {..}} ` instead.\n",
      "\u001b[2m2025-04-07T18:44:56.615797Z\u001b[0m \u001b[33m WARN\u001b[0m \u001b[2mtensorzero_internal::inference::types\u001b[0m\u001b[2m:\u001b[0m Deprecation Warning: `{\"type\": \"text\", \"value\", ...}` is deprecated. Please use `{\"type\": \"text\", \"text\": \"String input\"}` or `{\"type\": \"text\", \"arguments\": {..}} ` instead.\n",
      "\u001b[2m2025-04-07T18:44:56.615940Z\u001b[0m \u001b[33m WARN\u001b[0m \u001b[2mtensorzero_internal::inference::types\u001b[0m\u001b[2m:\u001b[0m Deprecation Warning: `{\"type\": \"text\", \"value\", ...}` is deprecated. Please use `{\"type\": \"text\", \"text\": \"String input\"}` or `{\"type\": \"text\", \"arguments\": {..}} ` instead.\n",
      "\u001b[2m2025-04-07T18:44:56.622856Z\u001b[0m \u001b[33m WARN\u001b[0m \u001b[2mtensorzero_internal::inference::types\u001b[0m\u001b[2m:\u001b[0m Deprecation Warning: `{\"type\": \"text\", \"value\", ...}` is deprecated. Please use `{\"type\": \"text\", \"text\": \"String input\"}` or `{\"type\": \"text\", \"arguments\": {..}} ` instead.\n",
      "\u001b[2m2025-04-07T18:44:56.644193Z\u001b[0m \u001b[33m WARN\u001b[0m \u001b[2mtensorzero_internal::inference::types\u001b[0m\u001b[2m:\u001b[0m Deprecation Warning: `{\"type\": \"text\", \"value\", ...}` is deprecated. Please use `{\"type\": \"text\", \"text\": \"String input\"}` or `{\"type\": \"text\", \"arguments\": {..}} ` instead.\n",
      "\u001b[2m2025-04-07T18:44:56.654858Z\u001b[0m \u001b[33m WARN\u001b[0m \u001b[2mtensorzero_internal::inference::types\u001b[0m\u001b[2m:\u001b[0m Deprecation Warning: `{\"type\": \"text\", \"value\", ...}` is deprecated. Please use `{\"type\": \"text\", \"text\": \"String input\"}` or `{\"type\": \"text\", \"arguments\": {..}} ` instead.\n",
      "\u001b[2m2025-04-07T18:44:56.661399Z\u001b[0m \u001b[33m WARN\u001b[0m \u001b[2mtensorzero_internal::inference::types\u001b[0m\u001b[2m:\u001b[0m Deprecation Warning: `{\"type\": \"text\", \"value\", ...}` is deprecated. Please use `{\"type\": \"text\", \"text\": \"String input\"}` or `{\"type\": \"text\", \"arguments\": {..}} ` instead.\n",
      "\u001b[2m2025-04-07T18:44:56.664293Z\u001b[0m \u001b[33m WARN\u001b[0m \u001b[2mtensorzero_internal::inference::types\u001b[0m\u001b[2m:\u001b[0m Deprecation Warning: `{\"type\": \"text\", \"value\", ...}` is deprecated. Please use `{\"type\": \"text\", \"text\": \"String input\"}` or `{\"type\": \"text\", \"arguments\": {..}} ` instead.\n",
      "\u001b[2m2025-04-07T18:44:56.667980Z\u001b[0m \u001b[33m WARN\u001b[0m \u001b[2mtensorzero_internal::inference::types\u001b[0m\u001b[2m:\u001b[0m Deprecation Warning: `{\"type\": \"text\", \"value\", ...}` is deprecated. Please use `{\"type\": \"text\", \"text\": \"String input\"}` or `{\"type\": \"text\", \"arguments\": {..}} ` instead.\n",
      "\u001b[2m2025-04-07T18:44:56.679430Z\u001b[0m \u001b[33m WARN\u001b[0m \u001b[2mtensorzero_internal::inference::types\u001b[0m\u001b[2m:\u001b[0m Deprecation Warning: `{\"type\": \"text\", \"value\", ...}` is deprecated. Please use `{\"type\": \"text\", \"text\": \"String input\"}` or `{\"type\": \"text\", \"arguments\": {..}} ` instead.\n",
      "\u001b[2m2025-04-07T18:44:56.680683Z\u001b[0m \u001b[33m WARN\u001b[0m \u001b[2mtensorzero_internal::inference::types\u001b[0m\u001b[2m:\u001b[0m Deprecation Warning: `{\"type\": \"text\", \"value\", ...}` is deprecated. Please use `{\"type\": \"text\", \"text\": \"String input\"}` or `{\"type\": \"text\", \"arguments\": {..}} ` instead.\n",
      "\u001b[2m2025-04-07T18:44:56.693425Z\u001b[0m \u001b[33m WARN\u001b[0m \u001b[2mtensorzero_internal::inference::types\u001b[0m\u001b[2m:\u001b[0m Deprecation Warning: `{\"type\": \"text\", \"value\", ...}` is deprecated. Please use `{\"type\": \"text\", \"text\": \"String input\"}` or `{\"type\": \"text\", \"arguments\": {..}} ` instead.\n",
      "\u001b[2m2025-04-07T18:44:56.703053Z\u001b[0m \u001b[33m WARN\u001b[0m \u001b[2mtensorzero_internal::inference::types\u001b[0m\u001b[2m:\u001b[0m Deprecation Warning: `{\"type\": \"text\", \"value\", ...}` is deprecated. Please use `{\"type\": \"text\", \"text\": \"String input\"}` or `{\"type\": \"text\", \"arguments\": {..}} ` instead.\n",
      "\u001b[2m2025-04-07T18:44:56.717091Z\u001b[0m \u001b[33m WARN\u001b[0m \u001b[2mtensorzero_internal::inference::types\u001b[0m\u001b[2m:\u001b[0m Deprecation Warning: `{\"type\": \"text\", \"value\", ...}` is deprecated. Please use `{\"type\": \"text\", \"text\": \"String input\"}` or `{\"type\": \"text\", \"arguments\": {..}} ` instead.\n",
      "\u001b[2m2025-04-07T18:44:56.725477Z\u001b[0m \u001b[33m WARN\u001b[0m \u001b[2mtensorzero_internal::inference::types\u001b[0m\u001b[2m:\u001b[0m Deprecation Warning: `{\"type\": \"text\", \"value\", ...}` is deprecated. Please use `{\"type\": \"text\", \"text\": \"String input\"}` or `{\"type\": \"text\", \"arguments\": {..}} ` instead.\n",
      "\u001b[2m2025-04-07T18:44:56.734564Z\u001b[0m \u001b[33m WARN\u001b[0m \u001b[2mtensorzero_internal::inference::types\u001b[0m\u001b[2m:\u001b[0m Deprecation Warning: `{\"type\": \"text\", \"value\", ...}` is deprecated. Please use `{\"type\": \"text\", \"text\": \"String input\"}` or `{\"type\": \"text\", \"arguments\": {..}} ` instead.\n",
      "\u001b[2m2025-04-07T18:44:56.734598Z\u001b[0m \u001b[33m WARN\u001b[0m \u001b[2mtensorzero_internal::inference::types\u001b[0m\u001b[2m:\u001b[0m Deprecation Warning: `{\"type\": \"text\", \"value\", ...}` is deprecated. Please use `{\"type\": \"text\", \"text\": \"String input\"}` or `{\"type\": \"text\", \"arguments\": {..}} ` instead.\n",
      "\u001b[2m2025-04-07T18:44:56.751535Z\u001b[0m \u001b[33m WARN\u001b[0m \u001b[2mtensorzero_internal::inference::types\u001b[0m\u001b[2m:\u001b[0m Deprecation Warning: `{\"type\": \"text\", \"value\", ...}` is deprecated. Please use `{\"type\": \"text\", \"text\": \"String input\"}` or `{\"type\": \"text\", \"arguments\": {..}} ` instead.\n",
      "\u001b[2m2025-04-07T18:44:56.771672Z\u001b[0m \u001b[33m WARN\u001b[0m \u001b[2mtensorzero_internal::inference::types\u001b[0m\u001b[2m:\u001b[0m Deprecation Warning: `{\"type\": \"text\", \"value\", ...}` is deprecated. Please use `{\"type\": \"text\", \"text\": \"String input\"}` or `{\"type\": \"text\", \"arguments\": {..}} ` instead.\n"
     ]
    },
    {
     "name": "stderr",
     "output_type": "stream",
     "text": [
      " 34%|███▍      | 34/100 [00:00<00:01, 57.05it/s]"
     ]
    },
    {
     "name": "stdout",
     "output_type": "stream",
     "text": [
      "\u001b[2m2025-04-07T18:44:56.785718Z\u001b[0m \u001b[33m WARN\u001b[0m \u001b[2mtensorzero_internal::inference::types\u001b[0m\u001b[2m:\u001b[0m Deprecation Warning: `{\"type\": \"text\", \"value\", ...}` is deprecated. Please use `{\"type\": \"text\", \"text\": \"String input\"}` or `{\"type\": \"text\", \"arguments\": {..}} ` instead.\n",
      "\u001b[2m2025-04-07T18:44:56.790657Z\u001b[0m \u001b[33m WARN\u001b[0m \u001b[2mtensorzero_internal::inference::types\u001b[0m\u001b[2m:\u001b[0m Deprecation Warning: `{\"type\": \"text\", \"value\", ...}` is deprecated. Please use `{\"type\": \"text\", \"text\": \"String input\"}` or `{\"type\": \"text\", \"arguments\": {..}} ` instead.\n",
      "\u001b[2m2025-04-07T18:44:56.893753Z\u001b[0m \u001b[33m WARN\u001b[0m \u001b[2mtensorzero_internal::inference::types\u001b[0m\u001b[2m:\u001b[0m Deprecation Warning: `{\"type\": \"text\", \"value\", ...}` is deprecated. Please use `{\"type\": \"text\", \"text\": \"String input\"}` or `{\"type\": \"text\", \"arguments\": {..}} ` instead.\n",
      "\u001b[2m2025-04-07T18:44:56.893905Z\u001b[0m \u001b[33m WARN\u001b[0m \u001b[2mtensorzero_internal::inference::types\u001b[0m\u001b[2m:\u001b[0m Deprecation Warning: `{\"type\": \"text\", \"value\", ...}` is deprecated. Please use `{\"type\": \"text\", \"text\": \"String input\"}` or `{\"type\": \"text\", \"arguments\": {..}} ` instead.\n",
      "\u001b[2m2025-04-07T18:44:56.894199Z\u001b[0m \u001b[33m WARN\u001b[0m \u001b[2mtensorzero_internal::inference::types\u001b[0m\u001b[2m:\u001b[0m Deprecation Warning: `{\"type\": \"text\", \"value\", ...}` is deprecated. Please use `{\"type\": \"text\", \"text\": \"String input\"}` or `{\"type\": \"text\", \"arguments\": {..}} ` instead.\n",
      "\u001b[2m2025-04-07T18:44:56.894389Z\u001b[0m \u001b[33m WARN\u001b[0m \u001b[2mtensorzero_internal::inference::types\u001b[0m\u001b[2m:\u001b[0m Deprecation Warning: `{\"type\": \"text\", \"value\", ...}` is deprecated. Please use `{\"type\": \"text\", \"text\": \"String input\"}` or `{\"type\": \"text\", \"arguments\": {..}} ` instead.\n",
      "\u001b[2m2025-04-07T18:44:56.894689Z\u001b[0m \u001b[33m WARN\u001b[0m \u001b[2mtensorzero_internal::inference::types\u001b[0m\u001b[2m:\u001b[0m Deprecation Warning: `{\"type\": \"text\", \"value\", ...}` is deprecated. Please use `{\"type\": \"text\", \"text\": \"String input\"}` or `{\"type\": \"text\", \"arguments\": {..}} ` instead.\n",
      "\u001b[2m2025-04-07T18:44:56.894699Z\u001b[0m \u001b[33m WARN\u001b[0m \u001b[2mtensorzero_internal::inference::types\u001b[0m\u001b[2m:\u001b[0m Deprecation Warning: `{\"type\": \"text\", \"value\", ...}` is deprecated. Please use `{\"type\": \"text\", \"text\": \"String input\"}` or `{\"type\": \"text\", \"arguments\": {..}} ` instead.\n",
      "\u001b[2m2025-04-07T18:44:56.894700Z\u001b[0m \u001b[33m WARN\u001b[0m \u001b[2mtensorzero_internal::inference::types\u001b[0m\u001b[2m:\u001b[0m Deprecation Warning: `{\"type\": \"text\", \"value\", ...}` is deprecated. Please use `{\"type\": \"text\", \"text\": \"String input\"}` or `{\"type\": \"text\", \"arguments\": {..}} ` instead.\n",
      "\u001b[2m2025-04-07T18:44:56.894709Z\u001b[0m \u001b[33m WARN\u001b[0m \u001b[2mtensorzero_internal::inference::types\u001b[0m\u001b[2m:\u001b[0m Deprecation Warning: `{\"type\": \"text\", \"value\", ...}` is deprecated. Please use `{\"type\": \"text\", \"text\": \"String input\"}` or `{\"type\": \"text\", \"arguments\": {..}} ` instead.\n",
      "\u001b[2m2025-04-07T18:44:56.895787Z\u001b[0m \u001b[33m WARN\u001b[0m \u001b[2mtensorzero_internal::inference::types\u001b[0m\u001b[2m:\u001b[0m Deprecation Warning: `{\"type\": \"text\", \"value\", ...}` is deprecated. Please use `{\"type\": \"text\", \"text\": \"String input\"}` or `{\"type\": \"text\", \"arguments\": {..}} ` instead.\n",
      "\u001b[2m2025-04-07T18:44:56.903113Z\u001b[0m \u001b[33m WARN\u001b[0m \u001b[2mtensorzero_internal::inference::types\u001b[0m\u001b[2m:\u001b[0m Deprecation Warning: `{\"type\": \"text\", \"value\", ...}` is deprecated. Please use `{\"type\": \"text\", \"text\": \"String input\"}` or `{\"type\": \"text\", \"arguments\": {..}} ` instead.\n",
      "\u001b[2m2025-04-07T18:44:56.916205Z\u001b[0m \u001b[33m WARN\u001b[0m \u001b[2mtensorzero_internal::inference::types\u001b[0m\u001b[2m:\u001b[0m Deprecation Warning: `{\"type\": \"text\", \"value\", ...}` is deprecated. Please use `{\"type\": \"text\", \"text\": \"String input\"}` or `{\"type\": \"text\", \"arguments\": {..}} ` instead.\n",
      "\u001b[2m2025-04-07T18:44:56.941443Z\u001b[0m \u001b[33m WARN\u001b[0m \u001b[2mtensorzero_internal::inference::types\u001b[0m\u001b[2m:\u001b[0m Deprecation Warning: `{\"type\": \"text\", \"value\", ...}` is deprecated. Please use `{\"type\": \"text\", \"text\": \"String input\"}` or `{\"type\": \"text\", \"arguments\": {..}} ` instead.\n",
      "\u001b[2m2025-04-07T18:44:56.943099Z\u001b[0m \u001b[33m WARN\u001b[0m \u001b[2mtensorzero_internal::inference::types\u001b[0m\u001b[2m:\u001b[0m Deprecation Warning: `{\"type\": \"text\", \"value\", ...}` is deprecated. Please use `{\"type\": \"text\", \"text\": \"String input\"}` or `{\"type\": \"text\", \"arguments\": {..}} ` instead.\n",
      "\u001b[2m2025-04-07T18:44:56.945201Z\u001b[0m \u001b[33m WARN\u001b[0m \u001b[2mtensorzero_internal::inference::types\u001b[0m\u001b[2m:\u001b[0m Deprecation Warning: `{\"type\": \"text\", \"value\", ...}` is deprecated. Please use `{\"type\": \"text\", \"text\": \"String input\"}` or `{\"type\": \"text\", \"arguments\": {..}} ` instead.\n",
      "\u001b[2m2025-04-07T18:44:56.947714Z\u001b[0m \u001b[33m WARN\u001b[0m \u001b[2mtensorzero_internal::inference::types\u001b[0m\u001b[2m:\u001b[0m Deprecation Warning: `{\"type\": \"text\", \"value\", ...}` is deprecated. Please use `{\"type\": \"text\", \"text\": \"String input\"}` or `{\"type\": \"text\", \"arguments\": {..}} ` instead.\n",
      "\u001b[2m2025-04-07T18:44:56.983729Z\u001b[0m \u001b[33m WARN\u001b[0m \u001b[2mtensorzero_internal::inference::types\u001b[0m\u001b[2m:\u001b[0m Deprecation Warning: `{\"type\": \"text\", \"value\", ...}` is deprecated. Please use `{\"type\": \"text\", \"text\": \"String input\"}` or `{\"type\": \"text\", \"arguments\": {..}} ` instead.\n",
      "\u001b[2m2025-04-07T18:44:56.984556Z\u001b[0m \u001b[33m WARN\u001b[0m \u001b[2mtensorzero_internal::inference::types\u001b[0m\u001b[2m:\u001b[0m Deprecation Warning: `{\"type\": \"text\", \"value\", ...}` is deprecated. Please use `{\"type\": \"text\", \"text\": \"String input\"}` or `{\"type\": \"text\", \"arguments\": {..}} ` instead.\n"
     ]
    },
    {
     "name": "stderr",
     "output_type": "stream",
     "text": [
      " 53%|█████▎    | 53/100 [00:01<00:00, 63.37it/s]"
     ]
    },
    {
     "name": "stdout",
     "output_type": "stream",
     "text": [
      "\u001b[2m2025-04-07T18:44:57.028171Z\u001b[0m \u001b[33m WARN\u001b[0m \u001b[2mtensorzero_internal::inference::types\u001b[0m\u001b[2m:\u001b[0m Deprecation Warning: `{\"type\": \"text\", \"value\", ...}` is deprecated. Please use `{\"type\": \"text\", \"text\": \"String input\"}` or `{\"type\": \"text\", \"arguments\": {..}} ` instead.\n",
      "\u001b[2m2025-04-07T18:44:57.064512Z\u001b[0m \u001b[33m WARN\u001b[0m \u001b[2mtensorzero_internal::inference::types\u001b[0m\u001b[2m:\u001b[0m Deprecation Warning: `{\"type\": \"text\", \"value\", ...}` is deprecated. Please use `{\"type\": \"text\", \"text\": \"String input\"}` or `{\"type\": \"text\", \"arguments\": {..}} ` instead.\n",
      "\u001b[2m2025-04-07T18:44:57.088282Z\u001b[0m \u001b[33m WARN\u001b[0m \u001b[2mtensorzero_internal::inference::types\u001b[0m\u001b[2m:\u001b[0m Deprecation Warning: `{\"type\": \"text\", \"value\", ...}` is deprecated. Please use `{\"type\": \"text\", \"text\": \"String input\"}` or `{\"type\": \"text\", \"arguments\": {..}} ` instead.\n",
      "\u001b[2m2025-04-07T18:44:57.094584Z\u001b[0m \u001b[33m WARN\u001b[0m \u001b[2mtensorzero_internal::inference::types\u001b[0m\u001b[2m:\u001b[0m Deprecation Warning: `{\"type\": \"text\", \"value\", ...}` is deprecated. Please use `{\"type\": \"text\", \"text\": \"String input\"}` or `{\"type\": \"text\", \"arguments\": {..}} ` instead.\n",
      "\u001b[2m2025-04-07T18:44:57.132229Z\u001b[0m \u001b[33m WARN\u001b[0m \u001b[2mtensorzero_internal::inference::types\u001b[0m\u001b[2m:\u001b[0m Deprecation Warning: `{\"type\": \"text\", \"value\", ...}` is deprecated. Please use `{\"type\": \"text\", \"text\": \"String input\"}` or `{\"type\": \"text\", \"arguments\": {..}} ` instead.\n",
      "\u001b[2m2025-04-07T18:44:57.132230Z\u001b[0m \u001b[33m WARN\u001b[0m \u001b[2mtensorzero_internal::inference::types\u001b[0m\u001b[2m:\u001b[0m Deprecation Warning: `{\"type\": \"text\", \"value\", ...}` is deprecated. Please use `{\"type\": \"text\", \"text\": \"String input\"}` or `{\"type\": \"text\", \"arguments\": {..}} ` instead.\n",
      "\u001b[2m2025-04-07T18:44:57.137917Z\u001b[0m \u001b[33m WARN\u001b[0m \u001b[2mtensorzero_internal::inference::types\u001b[0m\u001b[2m:\u001b[0m Deprecation Warning: `{\"type\": \"text\", \"value\", ...}` is deprecated. Please use `{\"type\": \"text\", \"text\": \"String input\"}` or `{\"type\": \"text\", \"arguments\": {..}} ` instead.\n"
     ]
    },
    {
     "name": "stderr",
     "output_type": "stream",
     "text": [
      "100%|██████████| 100/100 [00:02<00:00, 38.83it/s]\n",
      "100%|██████████| 100/100 [00:24<00:00,  4.11it/s]\n",
      "[I 2025-04-07 14:45:22,962] Trial 3 finished with value: 0.6324126984126984 and parameters: {'instruction_index': 9, 'demonstration_index': 0}. Best is trial 1 with value: 0.6602142857142858.\n"
     ]
    },
    {
     "name": "stdout",
     "output_type": "stream",
     "text": [
      "Iteration 4: 0.6324126984126984\n"
     ]
    },
    {
     "name": "stderr",
     "output_type": "stream",
     "text": [
      "  0%|          | 0/100 [00:00<?, ?it/s]"
     ]
    },
    {
     "name": "stdout",
     "output_type": "stream",
     "text": [
      "\u001b[2m2025-04-07T18:45:23.326843Z\u001b[0m \u001b[33m WARN\u001b[0m \u001b[2mtensorzero_internal::inference::types\u001b[0m\u001b[2m:\u001b[0m Deprecation Warning: `{\"type\": \"text\", \"value\", ...}` is deprecated. Please use `{\"type\": \"text\", \"text\": \"String input\"}` or `{\"type\": \"text\", \"arguments\": {..}} ` instead.\n",
      "\u001b[2m2025-04-07T18:45:23.326843Z\u001b[0m \u001b[33m WARN\u001b[0m \u001b[2mtensorzero_internal::inference::types\u001b[0m\u001b[2m:\u001b[0m Deprecation Warning: `{\"type\": \"text\", \"value\", ...}` is deprecated. Please use `{\"type\": \"text\", \"text\": \"String input\"}` or `{\"type\": \"text\", \"arguments\": {..}} ` instead.\n",
      "\u001b[2m2025-04-07T18:45:23.326895Z\u001b[0m \u001b[33m WARN\u001b[0m \u001b[2mtensorzero_internal::inference::types\u001b[0m\u001b[2m:\u001b[0m Deprecation Warning: `{\"type\": \"text\", \"value\", ...}` is deprecated. Please use `{\"type\": \"text\", \"text\": \"String input\"}` or `{\"type\": \"text\", \"arguments\": {..}} ` instead.\n",
      "\u001b[2m2025-04-07T18:45:23.326901Z\u001b[0m \u001b[33m WARN\u001b[0m \u001b[2mtensorzero_internal::inference::types\u001b[0m\u001b[2m:\u001b[0m Deprecation Warning: `{\"type\": \"text\", \"value\", ...}` is deprecated. Please use `{\"type\": \"text\", \"text\": \"String input\"}` or `{\"type\": \"text\", \"arguments\": {..}} ` instead.\n",
      "\u001b[2m2025-04-07T18:45:23.326918Z\u001b[0m \u001b[33m WARN\u001b[0m \u001b[2mtensorzero_internal::inference::types\u001b[0m\u001b[2m:\u001b[0m Deprecation Warning: `{\"type\": \"text\", \"value\", ...}` is deprecated. Please use `{\"type\": \"text\", \"text\": \"String input\"}` or `{\"type\": \"text\", \"arguments\": {..}} ` instead.\n",
      "\u001b[2m2025-04-07T18:45:23.327056Z\u001b[0m \u001b[33m WARN\u001b[0m \u001b[2mtensorzero_internal::inference::types\u001b[0m\u001b[2m:\u001b[0m Deprecation Warning: `{\"type\": \"text\", \"value\", ...}` is deprecated. Please use `{\"type\": \"text\", \"text\": \"String input\"}` or `{\"type\": \"text\", \"arguments\": {..}} ` instead.\n",
      "\u001b[2m2025-04-07T18:45:23.327057Z\u001b[0m \u001b[33m WARN\u001b[0m \u001b[2mtensorzero_internal::inference::types\u001b[0m\u001b[2m:\u001b[0m Deprecation Warning: `{\"type\": \"text\", \"value\", ...}` is deprecated. Please use `{\"type\": \"text\", \"text\": \"String input\"}` or `{\"type\": \"text\", \"arguments\": {..}} ` instead.\n",
      "\u001b[2m2025-04-07T18:45:23.327075Z\u001b[0m \u001b[33m WARN\u001b[0m \u001b[2mtensorzero_internal::inference::types\u001b[0m\u001b[2m:\u001b[0m Deprecation Warning: `{\"type\": \"text\", \"value\", ...}` is deprecated. Please use `{\"type\": \"text\", \"text\": \"String input\"}` or `{\"type\": \"text\", \"arguments\": {..}} ` instead.\n",
      "\u001b[2m2025-04-07T18:45:23.327097Z\u001b[0m \u001b[33m WARN\u001b[0m \u001b[2mtensorzero_internal::inference::types\u001b[0m\u001b[2m:\u001b[0m Deprecation Warning: `{\"type\": \"text\", \"value\", ...}` is deprecated. Please use `{\"type\": \"text\", \"text\": \"String input\"}` or `{\"type\": \"text\", \"arguments\": {..}} ` instead.\n",
      "\u001b[2m2025-04-07T18:45:23.327109Z\u001b[0m \u001b[33m WARN\u001b[0m \u001b[2mtensorzero_internal::inference::types\u001b[0m\u001b[2m:\u001b[0m Deprecation Warning: `{\"type\": \"text\", \"value\", ...}` is deprecated. Please use `{\"type\": \"text\", \"text\": \"String input\"}` or `{\"type\": \"text\", \"arguments\": {..}} ` instead.\n",
      "\u001b[2m2025-04-07T18:45:23.327160Z\u001b[0m \u001b[33m WARN\u001b[0m \u001b[2mtensorzero_internal::inference::types\u001b[0m\u001b[2m:\u001b[0m Deprecation Warning: `{\"type\": \"text\", \"value\", ...}` is deprecated. Please use `{\"type\": \"text\", \"text\": \"String input\"}` or `{\"type\": \"text\", \"arguments\": {..}} ` instead.\n",
      "\u001b[2m2025-04-07T18:45:23.327183Z\u001b[0m \u001b[33m WARN\u001b[0m \u001b[2mtensorzero_internal::inference::types\u001b[0m\u001b[2m:\u001b[0m Deprecation Warning: `{\"type\": \"text\", \"value\", ...}` is deprecated. Please use `{\"type\": \"text\", \"text\": \"String input\"}` or `{\"type\": \"text\", \"arguments\": {..}} ` instead.\n",
      "\u001b[2m2025-04-07T18:45:23.327222Z\u001b[0m \u001b[33m WARN\u001b[0m \u001b[2mtensorzero_internal::inference::types\u001b[0m\u001b[2m:\u001b[0m Deprecation Warning: `{\"type\": \"text\", \"value\", ...}` is deprecated. Please use `{\"type\": \"text\", \"text\": \"String input\"}` or `{\"type\": \"text\", \"arguments\": {..}} ` instead.\n",
      "\u001b[2m2025-04-07T18:45:23.327320Z\u001b[0m \u001b[33m WARN\u001b[0m \u001b[2mtensorzero_internal::inference::types\u001b[0m\u001b[2m:\u001b[0m Deprecation Warning: `{\"type\": \"text\", \"value\", ...}` is deprecated. Please use `{\"type\": \"text\", \"text\": \"String input\"}` or `{\"type\": \"text\", \"arguments\": {..}} ` instead.\n",
      "\u001b[2m2025-04-07T18:45:23.327350Z\u001b[0m \u001b[33m WARN\u001b[0m \u001b[2mtensorzero_internal::inference::types\u001b[0m\u001b[2m:\u001b[0m Deprecation Warning: `{\"type\": \"text\", \"value\", ...}` is deprecated. Please use `{\"type\": \"text\", \"text\": \"String input\"}` or `{\"type\": \"text\", \"arguments\": {..}} ` instead.\n",
      "\u001b[2m2025-04-07T18:45:23.327364Z\u001b[0m \u001b[33m WARN\u001b[0m \u001b[2mtensorzero_internal::inference::types\u001b[0m\u001b[2m:\u001b[0m Deprecation Warning: `{\"type\": \"text\", \"value\", ...}` is deprecated. Please use `{\"type\": \"text\", \"text\": \"String input\"}` or `{\"type\": \"text\", \"arguments\": {..}} ` instead.\n",
      "\u001b[2m2025-04-07T18:45:23.327380Z\u001b[0m \u001b[33m WARN\u001b[0m \u001b[2mtensorzero_internal::inference::types\u001b[0m\u001b[2m:\u001b[0m Deprecation Warning: `{\"type\": \"text\", \"value\", ...}` is deprecated. Please use `{\"type\": \"text\", \"text\": \"String input\"}` or `{\"type\": \"text\", \"arguments\": {..}} ` instead.\n",
      "\u001b[2m2025-04-07T18:45:23.327387Z\u001b[0m \u001b[33m WARN\u001b[0m \u001b[2mtensorzero_internal::inference::types\u001b[0m\u001b[2m:\u001b[0m Deprecation Warning: `{\"type\": \"text\", \"value\", ...}` is deprecated. Please use `{\"type\": \"text\", \"text\": \"String input\"}` or `{\"type\": \"text\", \"arguments\": {..}} ` instead.\n",
      "\u001b[2m2025-04-07T18:45:23.327409Z\u001b[0m \u001b[33m WARN\u001b[0m \u001b[2mtensorzero_internal::inference::types\u001b[0m\u001b[2m:\u001b[0m Deprecation Warning: `{\"type\": \"text\", \"value\", ...}` is deprecated. Please use `{\"type\": \"text\", \"text\": \"String input\"}` or `{\"type\": \"text\", \"arguments\": {..}} ` instead.\n",
      "\u001b[2m2025-04-07T18:45:23.327419Z\u001b[0m \u001b[33m WARN\u001b[0m \u001b[2mtensorzero_internal::inference::types\u001b[0m\u001b[2m:\u001b[0m Deprecation Warning: `{\"type\": \"text\", \"value\", ...}` is deprecated. Please use `{\"type\": \"text\", \"text\": \"String input\"}` or `{\"type\": \"text\", \"arguments\": {..}} ` instead.\n",
      "\u001b[2m2025-04-07T18:45:23.327436Z\u001b[0m \u001b[33m WARN\u001b[0m \u001b[2mtensorzero_internal::inference::types\u001b[0m\u001b[2m:\u001b[0m Deprecation Warning: `{\"type\": \"text\", \"value\", ...}` is deprecated. Please use `{\"type\": \"text\", \"text\": \"String input\"}` or `{\"type\": \"text\", \"arguments\": {..}} ` instead.\n",
      "\u001b[2m2025-04-07T18:45:23.327444Z\u001b[0m \u001b[33m WARN\u001b[0m \u001b[2mtensorzero_internal::inference::types\u001b[0m\u001b[2m:\u001b[0m Deprecation Warning: `{\"type\": \"text\", \"value\", ...}` is deprecated. Please use `{\"type\": \"text\", \"text\": \"String input\"}` or `{\"type\": \"text\", \"arguments\": {..}} ` instead.\n",
      "\u001b[2m2025-04-07T18:45:23.327456Z\u001b[0m \u001b[33m WARN\u001b[0m \u001b[2mtensorzero_internal::inference::types\u001b[0m\u001b[2m:\u001b[0m Deprecation Warning: `{\"type\": \"text\", \"value\", ...}` is deprecated. Please use `{\"type\": \"text\", \"text\": \"String input\"}` or `{\"type\": \"text\", \"arguments\": {..}} ` instead.\n",
      "\u001b[2m2025-04-07T18:45:23.327461Z\u001b[0m \u001b[33m WARN\u001b[0m \u001b[2mtensorzero_internal::inference::types\u001b[0m\u001b[2m:\u001b[0m Deprecation Warning: `{\"type\": \"text\", \"value\", ...}` is deprecated. Please use `{\"type\": \"text\", \"text\": \"String input\"}` or `{\"type\": \"text\", \"arguments\": {..}} ` instead.\n",
      "\u001b[2m2025-04-07T18:45:23.327478Z\u001b[0m \u001b[33m WARN\u001b[0m \u001b[2mtensorzero_internal::inference::types\u001b[0m\u001b[2m:\u001b[0m Deprecation Warning: `{\"type\": \"text\", \"value\", ...}` is deprecated. Please use `{\"type\": \"text\", \"text\": \"String input\"}` or `{\"type\": \"text\", \"arguments\": {..}} ` instead.\n",
      "\u001b[2m2025-04-07T18:45:23.327495Z\u001b[0m \u001b[33m WARN\u001b[0m \u001b[2mtensorzero_internal::inference::types\u001b[0m\u001b[2m:\u001b[0m Deprecation Warning: `{\"type\": \"text\", \"value\", ...}` is deprecated. Please use `{\"type\": \"text\", \"text\": \"String input\"}` or `{\"type\": \"text\", \"arguments\": {..}} ` instead.\n",
      "\u001b[2m2025-04-07T18:45:23.327613Z\u001b[0m \u001b[33m WARN\u001b[0m \u001b[2mtensorzero_internal::inference::types\u001b[0m\u001b[2m:\u001b[0m Deprecation Warning: `{\"type\": \"text\", \"value\", ...}` is deprecated. Please use `{\"type\": \"text\", \"text\": \"String input\"}` or `{\"type\": \"text\", \"arguments\": {..}} ` instead.\n",
      "\u001b[2m2025-04-07T18:45:23.327626Z\u001b[0m \u001b[33m WARN\u001b[0m \u001b[2mtensorzero_internal::inference::types\u001b[0m\u001b[2m:\u001b[0m Deprecation Warning: `{\"type\": \"text\", \"value\", ...}` is deprecated. Please use `{\"type\": \"text\", \"text\": \"String input\"}` or `{\"type\": \"text\", \"arguments\": {..}} ` instead.\n",
      "\u001b[2m2025-04-07T18:45:23.327626Z\u001b[0m \u001b[33m WARN\u001b[0m \u001b[2mtensorzero_internal::inference::types\u001b[0m\u001b[2m:\u001b[0m Deprecation Warning: `{\"type\": \"text\", \"value\", ...}` is deprecated. Please use `{\"type\": \"text\", \"text\": \"String input\"}` or `{\"type\": \"text\", \"arguments\": {..}} ` instead.\n",
      "\u001b[2m2025-04-07T18:45:23.327655Z\u001b[0m \u001b[33m WARN\u001b[0m \u001b[2mtensorzero_internal::inference::types\u001b[0m\u001b[2m:\u001b[0m Deprecation Warning: `{\"type\": \"text\", \"value\", ...}` is deprecated. Please use `{\"type\": \"text\", \"text\": \"String input\"}` or `{\"type\": \"text\", \"arguments\": {..}} ` instead.\n",
      "\u001b[2m2025-04-07T18:45:23.327659Z\u001b[0m \u001b[33m WARN\u001b[0m \u001b[2mtensorzero_internal::inference::types\u001b[0m\u001b[2m:\u001b[0m Deprecation Warning: `{\"type\": \"text\", \"value\", ...}` is deprecated. Please use `{\"type\": \"text\", \"text\": \"String input\"}` or `{\"type\": \"text\", \"arguments\": {..}} ` instead.\n",
      "\u001b[2m2025-04-07T18:45:23.327683Z\u001b[0m \u001b[33m WARN\u001b[0m \u001b[2mtensorzero_internal::inference::types\u001b[0m\u001b[2m:\u001b[0m Deprecation Warning: `{\"type\": \"text\", \"value\", ...}` is deprecated. Please use `{\"type\": \"text\", \"text\": \"String input\"}` or `{\"type\": \"text\", \"arguments\": {..}} ` instead.\n",
      "\u001b[2m2025-04-07T18:45:23.327776Z\u001b[0m \u001b[33m WARN\u001b[0m \u001b[2mtensorzero_internal::inference::types\u001b[0m\u001b[2m:\u001b[0m Deprecation Warning: `{\"type\": \"text\", \"value\", ...}` is deprecated. Please use `{\"type\": \"text\", \"text\": \"String input\"}` or `{\"type\": \"text\", \"arguments\": {..}} ` instead.\n",
      "\u001b[2m2025-04-07T18:45:23.327785Z\u001b[0m \u001b[33m WARN\u001b[0m \u001b[2mtensorzero_internal::inference::types\u001b[0m\u001b[2m:\u001b[0m Deprecation Warning: `{\"type\": \"text\", \"value\", ...}` is deprecated. Please use `{\"type\": \"text\", \"text\": \"String input\"}` or `{\"type\": \"text\", \"arguments\": {..}} ` instead.\n",
      "\u001b[2m2025-04-07T18:45:23.327815Z\u001b[0m \u001b[33m WARN\u001b[0m \u001b[2mtensorzero_internal::inference::types\u001b[0m\u001b[2m:\u001b[0m Deprecation Warning: `{\"type\": \"text\", \"value\", ...}` is deprecated. Please use `{\"type\": \"text\", \"text\": \"String input\"}` or `{\"type\": \"text\", \"arguments\": {..}} ` instead.\n",
      "\u001b[2m2025-04-07T18:45:23.327858Z\u001b[0m \u001b[33m WARN\u001b[0m \u001b[2mtensorzero_internal::inference::types\u001b[0m\u001b[2m:\u001b[0m Deprecation Warning: `{\"type\": \"text\", \"value\", ...}` is deprecated. Please use `{\"type\": \"text\", \"text\": \"String input\"}` or `{\"type\": \"text\", \"arguments\": {..}} ` instead.\n",
      "\u001b[2m2025-04-07T18:45:23.327868Z\u001b[0m \u001b[33m WARN\u001b[0m \u001b[2mtensorzero_internal::inference::types\u001b[0m\u001b[2m:\u001b[0m Deprecation Warning: `{\"type\": \"text\", \"value\", ...}` is deprecated. Please use `{\"type\": \"text\", \"text\": \"String input\"}` or `{\"type\": \"text\", \"arguments\": {..}} ` instead.\n",
      "\u001b[2m2025-04-07T18:45:23.327894Z\u001b[0m \u001b[33m WARN\u001b[0m \u001b[2mtensorzero_internal::inference::types\u001b[0m\u001b[2m:\u001b[0m Deprecation Warning: `{\"type\": \"text\", \"value\", ...}` is deprecated. Please use `{\"type\": \"text\", \"text\": \"String input\"}` or `{\"type\": \"text\", \"arguments\": {..}} ` instead.\n",
      "\u001b[2m2025-04-07T18:45:23.327904Z\u001b[0m \u001b[33m WARN\u001b[0m \u001b[2mtensorzero_internal::inference::types\u001b[0m\u001b[2m:\u001b[0m Deprecation Warning: `{\"type\": \"text\", \"value\", ...}` is deprecated. Please use `{\"type\": \"text\", \"text\": \"String input\"}` or `{\"type\": \"text\", \"arguments\": {..}} ` instead.\n",
      "\u001b[2m2025-04-07T18:45:23.327906Z\u001b[0m \u001b[33m WARN\u001b[0m \u001b[2mtensorzero_internal::inference::types\u001b[0m\u001b[2m:\u001b[0m Deprecation Warning: `{\"type\": \"text\", \"value\", ...}` is deprecated. Please use `{\"type\": \"text\", \"text\": \"String input\"}` or `{\"type\": \"text\", \"arguments\": {..}} ` instead.\n",
      "\u001b[2m2025-04-07T18:45:23.327913Z\u001b[0m \u001b[33m WARN\u001b[0m \u001b[2mtensorzero_internal::inference::types\u001b[0m\u001b[2m:\u001b[0m Deprecation Warning: `{\"type\": \"text\", \"value\", ...}` is deprecated. Please use `{\"type\": \"text\", \"text\": \"String input\"}` or `{\"type\": \"text\", \"arguments\": {..}} ` instead.\n",
      "\u001b[2m2025-04-07T18:45:23.327945Z\u001b[0m \u001b[33m WARN\u001b[0m \u001b[2mtensorzero_internal::inference::types\u001b[0m\u001b[2m:\u001b[0m Deprecation Warning: `{\"type\": \"text\", \"value\", ...}` is deprecated. Please use `{\"type\": \"text\", \"text\": \"String input\"}` or `{\"type\": \"text\", \"arguments\": {..}} ` instead.\n",
      "\u001b[2m2025-04-07T18:45:23.327951Z\u001b[0m \u001b[33m WARN\u001b[0m \u001b[2mtensorzero_internal::inference::types\u001b[0m\u001b[2m:\u001b[0m Deprecation Warning: `{\"type\": \"text\", \"value\", ...}` is deprecated. Please use `{\"type\": \"text\", \"text\": \"String input\"}` or `{\"type\": \"text\", \"arguments\": {..}} ` instead.\n",
      "\u001b[2m2025-04-07T18:45:23.327992Z\u001b[0m \u001b[33m WARN\u001b[0m \u001b[2mtensorzero_internal::inference::types\u001b[0m\u001b[2m:\u001b[0m Deprecation Warning: `{\"type\": \"text\", \"value\", ...}` is deprecated. Please use `{\"type\": \"text\", \"text\": \"String input\"}` or `{\"type\": \"text\", \"arguments\": {..}} ` instead.\n",
      "\u001b[2m2025-04-07T18:45:23.327994Z\u001b[0m \u001b[33m WARN\u001b[0m \u001b[2mtensorzero_internal::inference::types\u001b[0m\u001b[2m:\u001b[0m Deprecation Warning: `{\"type\": \"text\", \"value\", ...}` is deprecated. Please use `{\"type\": \"text\", \"text\": \"String input\"}` or `{\"type\": \"text\", \"arguments\": {..}} ` instead.\n",
      "\u001b[2m2025-04-07T18:45:23.328019Z\u001b[0m \u001b[33m WARN\u001b[0m \u001b[2mtensorzero_internal::inference::types\u001b[0m\u001b[2m:\u001b[0m Deprecation Warning: `{\"type\": \"text\", \"value\", ...}` is deprecated. Please use `{\"type\": \"text\", \"text\": \"String input\"}` or `{\"type\": \"text\", \"arguments\": {..}} ` instead.\n",
      "\u001b[2m2025-04-07T18:45:23.328040Z\u001b[0m \u001b[33m WARN\u001b[0m \u001b[2mtensorzero_internal::inference::types\u001b[0m\u001b[2m:\u001b[0m Deprecation Warning: `{\"type\": \"text\", \"value\", ...}` is deprecated. Please use `{\"type\": \"text\", \"text\": \"String input\"}` or `{\"type\": \"text\", \"arguments\": {..}} ` instead.\n",
      "\u001b[2m2025-04-07T18:45:23.328047Z\u001b[0m \u001b[33m WARN\u001b[0m \u001b[2mtensorzero_internal::inference::types\u001b[0m\u001b[2m:\u001b[0m Deprecation Warning: `{\"type\": \"text\", \"value\", ...}` is deprecated. Please use `{\"type\": \"text\", \"text\": \"String input\"}` or `{\"type\": \"text\", \"arguments\": {..}} ` instead.\n",
      "\u001b[2m2025-04-07T18:45:23.328144Z\u001b[0m \u001b[33m WARN\u001b[0m \u001b[2mtensorzero_internal::inference::types\u001b[0m\u001b[2m:\u001b[0m Deprecation Warning: `{\"type\": \"text\", \"value\", ...}` is deprecated. Please use `{\"type\": \"text\", \"text\": \"String input\"}` or `{\"type\": \"text\", \"arguments\": {..}} ` instead.\n",
      "\u001b[2m2025-04-07T18:45:23.328171Z\u001b[0m \u001b[33m WARN\u001b[0m \u001b[2mtensorzero_internal::inference::types\u001b[0m\u001b[2m:\u001b[0m Deprecation Warning: `{\"type\": \"text\", \"value\", ...}` is deprecated. Please use `{\"type\": \"text\", \"text\": \"String input\"}` or `{\"type\": \"text\", \"arguments\": {..}} ` instead.\n"
     ]
    },
    {
     "name": "stderr",
     "output_type": "stream",
     "text": [
      " 15%|█▌        | 15/100 [00:00<00:02, 28.51it/s]"
     ]
    },
    {
     "name": "stdout",
     "output_type": "stream",
     "text": [
      "\u001b[2m2025-04-07T18:45:23.854636Z\u001b[0m \u001b[33m WARN\u001b[0m \u001b[2mtensorzero_internal::inference::types\u001b[0m\u001b[2m:\u001b[0m Deprecation Warning: `{\"type\": \"text\", \"value\", ...}` is deprecated. Please use `{\"type\": \"text\", \"text\": \"String input\"}` or `{\"type\": \"text\", \"arguments\": {..}} ` instead.\n",
      "\u001b[2m2025-04-07T18:45:23.854636Z\u001b[0m \u001b[33m WARN\u001b[0m \u001b[2mtensorzero_internal::inference::types\u001b[0m\u001b[2m:\u001b[0m Deprecation Warning: `{\"type\": \"text\", \"value\", ...}` is deprecated. Please use `{\"type\": \"text\", \"text\": \"String input\"}` or `{\"type\": \"text\", \"arguments\": {..}} ` instead.\n",
      "\u001b[2m2025-04-07T18:45:23.856474Z\u001b[0m \u001b[33m WARN\u001b[0m \u001b[2mtensorzero_internal::inference::types\u001b[0m\u001b[2m:\u001b[0m Deprecation Warning: `{\"type\": \"text\", \"value\", ...}` is deprecated. Please use `{\"type\": \"text\", \"text\": \"String input\"}` or `{\"type\": \"text\", \"arguments\": {..}} ` instead.\n",
      "\u001b[2m2025-04-07T18:45:23.857692Z\u001b[0m \u001b[33m WARN\u001b[0m \u001b[2mtensorzero_internal::inference::types\u001b[0m\u001b[2m:\u001b[0m Deprecation Warning: `{\"type\": \"text\", \"value\", ...}` is deprecated. Please use `{\"type\": \"text\", \"text\": \"String input\"}` or `{\"type\": \"text\", \"arguments\": {..}} ` instead.\n",
      "\u001b[2m2025-04-07T18:45:23.861837Z\u001b[0m \u001b[33m WARN\u001b[0m \u001b[2mtensorzero_internal::inference::types\u001b[0m\u001b[2m:\u001b[0m Deprecation Warning: `{\"type\": \"text\", \"value\", ...}` is deprecated. Please use `{\"type\": \"text\", \"text\": \"String input\"}` or `{\"type\": \"text\", \"arguments\": {..}} ` instead.\n",
      "\u001b[2m2025-04-07T18:45:23.872888Z\u001b[0m \u001b[33m WARN\u001b[0m \u001b[2mtensorzero_internal::inference::types\u001b[0m\u001b[2m:\u001b[0m Deprecation Warning: `{\"type\": \"text\", \"value\", ...}` is deprecated. Please use `{\"type\": \"text\", \"text\": \"String input\"}` or `{\"type\": \"text\", \"arguments\": {..}} ` instead.\n",
      "\u001b[2m2025-04-07T18:45:23.887208Z\u001b[0m \u001b[33m WARN\u001b[0m \u001b[2mtensorzero_internal::inference::types\u001b[0m\u001b[2m:\u001b[0m Deprecation Warning: `{\"type\": \"text\", \"value\", ...}` is deprecated. Please use `{\"type\": \"text\", \"text\": \"String input\"}` or `{\"type\": \"text\", \"arguments\": {..}} ` instead.\n",
      "\u001b[2m2025-04-07T18:45:23.902041Z\u001b[0m \u001b[33m WARN\u001b[0m \u001b[2mtensorzero_internal::inference::types\u001b[0m\u001b[2m:\u001b[0m Deprecation Warning: `{\"type\": \"text\", \"value\", ...}` is deprecated. Please use `{\"type\": \"text\", \"text\": \"String input\"}` or `{\"type\": \"text\", \"arguments\": {..}} ` instead.\n",
      "\u001b[2m2025-04-07T18:45:23.903295Z\u001b[0m \u001b[33m WARN\u001b[0m \u001b[2mtensorzero_internal::inference::types\u001b[0m\u001b[2m:\u001b[0m Deprecation Warning: `{\"type\": \"text\", \"value\", ...}` is deprecated. Please use `{\"type\": \"text\", \"text\": \"String input\"}` or `{\"type\": \"text\", \"arguments\": {..}} ` instead.\n",
      "\u001b[2m2025-04-07T18:45:23.914958Z\u001b[0m \u001b[33m WARN\u001b[0m \u001b[2mtensorzero_internal::inference::types\u001b[0m\u001b[2m:\u001b[0m Deprecation Warning: `{\"type\": \"text\", \"value\", ...}` is deprecated. Please use `{\"type\": \"text\", \"text\": \"String input\"}` or `{\"type\": \"text\", \"arguments\": {..}} ` instead.\n",
      "\u001b[2m2025-04-07T18:45:23.916929Z\u001b[0m \u001b[33m WARN\u001b[0m \u001b[2mtensorzero_internal::inference::types\u001b[0m\u001b[2m:\u001b[0m Deprecation Warning: `{\"type\": \"text\", \"value\", ...}` is deprecated. Please use `{\"type\": \"text\", \"text\": \"String input\"}` or `{\"type\": \"text\", \"arguments\": {..}} ` instead.\n",
      "\u001b[2m2025-04-07T18:45:23.921460Z\u001b[0m \u001b[33m WARN\u001b[0m \u001b[2mtensorzero_internal::inference::types\u001b[0m\u001b[2m:\u001b[0m Deprecation Warning: `{\"type\": \"text\", \"value\", ...}` is deprecated. Please use `{\"type\": \"text\", \"text\": \"String input\"}` or `{\"type\": \"text\", \"arguments\": {..}} ` instead.\n",
      "\u001b[2m2025-04-07T18:45:23.926023Z\u001b[0m \u001b[33m WARN\u001b[0m \u001b[2mtensorzero_internal::inference::types\u001b[0m\u001b[2m:\u001b[0m Deprecation Warning: `{\"type\": \"text\", \"value\", ...}` is deprecated. Please use `{\"type\": \"text\", \"text\": \"String input\"}` or `{\"type\": \"text\", \"arguments\": {..}} ` instead.\n",
      "\u001b[2m2025-04-07T18:45:23.941101Z\u001b[0m \u001b[33m WARN\u001b[0m \u001b[2mtensorzero_internal::inference::types\u001b[0m\u001b[2m:\u001b[0m Deprecation Warning: `{\"type\": \"text\", \"value\", ...}` is deprecated. Please use `{\"type\": \"text\", \"text\": \"String input\"}` or `{\"type\": \"text\", \"arguments\": {..}} ` instead.\n",
      "\u001b[2m2025-04-07T18:45:23.999799Z\u001b[0m \u001b[33m WARN\u001b[0m \u001b[2mtensorzero_internal::inference::types\u001b[0m\u001b[2m:\u001b[0m Deprecation Warning: `{\"type\": \"text\", \"value\", ...}` is deprecated. Please use `{\"type\": \"text\", \"text\": \"String input\"}` or `{\"type\": \"text\", \"arguments\": {..}} ` instead.\n",
      "\u001b[2m2025-04-07T18:45:23.999799Z\u001b[0m \u001b[33m WARN\u001b[0m \u001b[2mtensorzero_internal::inference::types\u001b[0m\u001b[2m:\u001b[0m Deprecation Warning: `{\"type\": \"text\", \"value\", ...}` is deprecated. Please use `{\"type\": \"text\", \"text\": \"String input\"}` or `{\"type\": \"text\", \"arguments\": {..}} ` instead.\n"
     ]
    },
    {
     "name": "stderr",
     "output_type": "stream",
     "text": [
      " 21%|██        | 21/100 [00:00<00:02, 31.48it/s]"
     ]
    },
    {
     "name": "stdout",
     "output_type": "stream",
     "text": [
      "\u001b[2m2025-04-07T18:45:24.062869Z\u001b[0m \u001b[33m WARN\u001b[0m \u001b[2mtensorzero_internal::inference::types\u001b[0m\u001b[2m:\u001b[0m Deprecation Warning: `{\"type\": \"text\", \"value\", ...}` is deprecated. Please use `{\"type\": \"text\", \"text\": \"String input\"}` or `{\"type\": \"text\", \"arguments\": {..}} ` instead.\n",
      "\u001b[2m2025-04-07T18:45:24.062906Z\u001b[0m \u001b[33m WARN\u001b[0m \u001b[2mtensorzero_internal::inference::types\u001b[0m\u001b[2m:\u001b[0m Deprecation Warning: `{\"type\": \"text\", \"value\", ...}` is deprecated. Please use `{\"type\": \"text\", \"text\": \"String input\"}` or `{\"type\": \"text\", \"arguments\": {..}} ` instead.\n",
      "\u001b[2m2025-04-07T18:45:24.064117Z\u001b[0m \u001b[33m WARN\u001b[0m \u001b[2mtensorzero_internal::inference::types\u001b[0m\u001b[2m:\u001b[0m Deprecation Warning: `{\"type\": \"text\", \"value\", ...}` is deprecated. Please use `{\"type\": \"text\", \"text\": \"String input\"}` or `{\"type\": \"text\", \"arguments\": {..}} ` instead.\n",
      "\u001b[2m2025-04-07T18:45:24.157081Z\u001b[0m \u001b[33m WARN\u001b[0m \u001b[2mtensorzero_internal::inference::types\u001b[0m\u001b[2m:\u001b[0m Deprecation Warning: `{\"type\": \"text\", \"value\", ...}` is deprecated. Please use `{\"type\": \"text\", \"text\": \"String input\"}` or `{\"type\": \"text\", \"arguments\": {..}} ` instead.\n",
      "\u001b[2m2025-04-07T18:45:24.157837Z\u001b[0m \u001b[33m WARN\u001b[0m \u001b[2mtensorzero_internal::inference::types\u001b[0m\u001b[2m:\u001b[0m Deprecation Warning: `{\"type\": \"text\", \"value\", ...}` is deprecated. Please use `{\"type\": \"text\", \"text\": \"String input\"}` or `{\"type\": \"text\", \"arguments\": {..}} ` instead.\n",
      "\u001b[2m2025-04-07T18:45:24.157878Z\u001b[0m \u001b[33m WARN\u001b[0m \u001b[2mtensorzero_internal::inference::types\u001b[0m\u001b[2m:\u001b[0m Deprecation Warning: `{\"type\": \"text\", \"value\", ...}` is deprecated. Please use `{\"type\": \"text\", \"text\": \"String input\"}` or `{\"type\": \"text\", \"arguments\": {..}} ` instead.\n",
      "\u001b[2m2025-04-07T18:45:24.158068Z\u001b[0m \u001b[33m WARN\u001b[0m \u001b[2mtensorzero_internal::inference::types\u001b[0m\u001b[2m:\u001b[0m Deprecation Warning: `{\"type\": \"text\", \"value\", ...}` is deprecated. Please use `{\"type\": \"text\", \"text\": \"String input\"}` or `{\"type\": \"text\", \"arguments\": {..}} ` instead.\n",
      "\u001b[2m2025-04-07T18:45:24.158939Z\u001b[0m \u001b[33m WARN\u001b[0m \u001b[2mtensorzero_internal::inference::types\u001b[0m\u001b[2m:\u001b[0m Deprecation Warning: `{\"type\": \"text\", \"value\", ...}` is deprecated. Please use `{\"type\": \"text\", \"text\": \"String input\"}` or `{\"type\": \"text\", \"arguments\": {..}} ` instead.\n",
      "\u001b[2m2025-04-07T18:45:24.159149Z\u001b[0m \u001b[33m WARN\u001b[0m \u001b[2mtensorzero_internal::inference::types\u001b[0m\u001b[2m:\u001b[0m Deprecation Warning: `{\"type\": \"text\", \"value\", ...}` is deprecated. Please use `{\"type\": \"text\", \"text\": \"String input\"}` or `{\"type\": \"text\", \"arguments\": {..}} ` instead.\n",
      "\u001b[2m2025-04-07T18:45:24.160164Z\u001b[0m \u001b[33m WARN\u001b[0m \u001b[2mtensorzero_internal::inference::types\u001b[0m\u001b[2m:\u001b[0m Deprecation Warning: `{\"type\": \"text\", \"value\", ...}` is deprecated. Please use `{\"type\": \"text\", \"text\": \"String input\"}` or `{\"type\": \"text\", \"arguments\": {..}} ` instead.\n",
      "\u001b[2m2025-04-07T18:45:24.244591Z\u001b[0m \u001b[33m WARN\u001b[0m \u001b[2mtensorzero_internal::inference::types\u001b[0m\u001b[2m:\u001b[0m Deprecation Warning: `{\"type\": \"text\", \"value\", ...}` is deprecated. Please use `{\"type\": \"text\", \"text\": \"String input\"}` or `{\"type\": \"text\", \"arguments\": {..}} ` instead.\n"
     ]
    },
    {
     "name": "stderr",
     "output_type": "stream",
     "text": [
      " 34%|███▍      | 34/100 [00:01<00:01, 39.51it/s]"
     ]
    },
    {
     "name": "stdout",
     "output_type": "stream",
     "text": [
      "\u001b[2m2025-04-07T18:45:24.267232Z\u001b[0m \u001b[33m WARN\u001b[0m \u001b[2mtensorzero_internal::inference::types\u001b[0m\u001b[2m:\u001b[0m Deprecation Warning: `{\"type\": \"text\", \"value\", ...}` is deprecated. Please use `{\"type\": \"text\", \"text\": \"String input\"}` or `{\"type\": \"text\", \"arguments\": {..}} ` instead.\n",
      "\u001b[2m2025-04-07T18:45:24.277333Z\u001b[0m \u001b[33m WARN\u001b[0m \u001b[2mtensorzero_internal::inference::types\u001b[0m\u001b[2m:\u001b[0m Deprecation Warning: `{\"type\": \"text\", \"value\", ...}` is deprecated. Please use `{\"type\": \"text\", \"text\": \"String input\"}` or `{\"type\": \"text\", \"arguments\": {..}} ` instead.\n",
      "\u001b[2m2025-04-07T18:45:24.283966Z\u001b[0m \u001b[33m WARN\u001b[0m \u001b[2mtensorzero_internal::inference::types\u001b[0m\u001b[2m:\u001b[0m Deprecation Warning: `{\"type\": \"text\", \"value\", ...}` is deprecated. Please use `{\"type\": \"text\", \"text\": \"String input\"}` or `{\"type\": \"text\", \"arguments\": {..}} ` instead.\n",
      "\u001b[2m2025-04-07T18:45:24.302953Z\u001b[0m \u001b[33m WARN\u001b[0m \u001b[2mtensorzero_internal::inference::types\u001b[0m\u001b[2m:\u001b[0m Deprecation Warning: `{\"type\": \"text\", \"value\", ...}` is deprecated. Please use `{\"type\": \"text\", \"text\": \"String input\"}` or `{\"type\": \"text\", \"arguments\": {..}} ` instead.\n",
      "\u001b[2m2025-04-07T18:45:24.396559Z\u001b[0m \u001b[33m WARN\u001b[0m \u001b[2mtensorzero_internal::inference::types\u001b[0m\u001b[2m:\u001b[0m Deprecation Warning: `{\"type\": \"text\", \"value\", ...}` is deprecated. Please use `{\"type\": \"text\", \"text\": \"String input\"}` or `{\"type\": \"text\", \"arguments\": {..}} ` instead.\n",
      "\u001b[2m2025-04-07T18:45:24.412943Z\u001b[0m \u001b[33m WARN\u001b[0m \u001b[2mtensorzero_internal::inference::types\u001b[0m\u001b[2m:\u001b[0m Deprecation Warning: `{\"type\": \"text\", \"value\", ...}` is deprecated. Please use `{\"type\": \"text\", \"text\": \"String input\"}` or `{\"type\": \"text\", \"arguments\": {..}} ` instead.\n",
      "\u001b[2m2025-04-07T18:45:24.414051Z\u001b[0m \u001b[33m WARN\u001b[0m \u001b[2mtensorzero_internal::inference::types\u001b[0m\u001b[2m:\u001b[0m Deprecation Warning: `{\"type\": \"text\", \"value\", ...}` is deprecated. Please use `{\"type\": \"text\", \"text\": \"String input\"}` or `{\"type\": \"text\", \"arguments\": {..}} ` instead.\n",
      "\u001b[2m2025-04-07T18:45:24.428422Z\u001b[0m \u001b[33m WARN\u001b[0m \u001b[2mtensorzero_internal::inference::types\u001b[0m\u001b[2m:\u001b[0m Deprecation Warning: `{\"type\": \"text\", \"value\", ...}` is deprecated. Please use `{\"type\": \"text\", \"text\": \"String input\"}` or `{\"type\": \"text\", \"arguments\": {..}} ` instead.\n",
      "\u001b[2m2025-04-07T18:45:24.428422Z\u001b[0m \u001b[33m WARN\u001b[0m \u001b[2mtensorzero_internal::inference::types\u001b[0m\u001b[2m:\u001b[0m Deprecation Warning: `{\"type\": \"text\", \"value\", ...}` is deprecated. Please use `{\"type\": \"text\", \"text\": \"String input\"}` or `{\"type\": \"text\", \"arguments\": {..}} ` instead.\n",
      "\u001b[2m2025-04-07T18:45:24.458664Z\u001b[0m \u001b[33m WARN\u001b[0m \u001b[2mtensorzero_internal::inference::types\u001b[0m\u001b[2m:\u001b[0m Deprecation Warning: `{\"type\": \"text\", \"value\", ...}` is deprecated. Please use `{\"type\": \"text\", \"text\": \"String input\"}` or `{\"type\": \"text\", \"arguments\": {..}} ` instead.\n"
     ]
    },
    {
     "name": "stderr",
     "output_type": "stream",
     "text": [
      " 41%|████      | 41/100 [00:01<00:01, 45.61it/s]"
     ]
    },
    {
     "name": "stdout",
     "output_type": "stream",
     "text": [
      "\u001b[2m2025-04-07T18:45:24.475407Z\u001b[0m \u001b[33m WARN\u001b[0m \u001b[2mtensorzero_internal::inference::types\u001b[0m\u001b[2m:\u001b[0m Deprecation Warning: `{\"type\": \"text\", \"value\", ...}` is deprecated. Please use `{\"type\": \"text\", \"text\": \"String input\"}` or `{\"type\": \"text\", \"arguments\": {..}} ` instead.\n",
      "\u001b[2m2025-04-07T18:45:24.482171Z\u001b[0m \u001b[33m WARN\u001b[0m \u001b[2mtensorzero_internal::inference::types\u001b[0m\u001b[2m:\u001b[0m Deprecation Warning: `{\"type\": \"text\", \"value\", ...}` is deprecated. Please use `{\"type\": \"text\", \"text\": \"String input\"}` or `{\"type\": \"text\", \"arguments\": {..}} ` instead.\n",
      "\u001b[2m2025-04-07T18:45:24.504687Z\u001b[0m \u001b[33m WARN\u001b[0m \u001b[2mtensorzero_internal::inference::types\u001b[0m\u001b[2m:\u001b[0m Deprecation Warning: `{\"type\": \"text\", \"value\", ...}` is deprecated. Please use `{\"type\": \"text\", \"text\": \"String input\"}` or `{\"type\": \"text\", \"arguments\": {..}} ` instead.\n",
      "\u001b[2m2025-04-07T18:45:24.522783Z\u001b[0m \u001b[33m WARN\u001b[0m \u001b[2mtensorzero_internal::inference::types\u001b[0m\u001b[2m:\u001b[0m Deprecation Warning: `{\"type\": \"text\", \"value\", ...}` is deprecated. Please use `{\"type\": \"text\", \"text\": \"String input\"}` or `{\"type\": \"text\", \"arguments\": {..}} ` instead.\n",
      "\u001b[2m2025-04-07T18:45:24.532047Z\u001b[0m \u001b[33m WARN\u001b[0m \u001b[2mtensorzero_internal::inference::types\u001b[0m\u001b[2m:\u001b[0m Deprecation Warning: `{\"type\": \"text\", \"value\", ...}` is deprecated. Please use `{\"type\": \"text\", \"text\": \"String input\"}` or `{\"type\": \"text\", \"arguments\": {..}} ` instead.\n",
      "\u001b[2m2025-04-07T18:45:24.537596Z\u001b[0m \u001b[33m WARN\u001b[0m \u001b[2mtensorzero_internal::inference::types\u001b[0m\u001b[2m:\u001b[0m Deprecation Warning: `{\"type\": \"text\", \"value\", ...}` is deprecated. Please use `{\"type\": \"text\", \"text\": \"String input\"}` or `{\"type\": \"text\", \"arguments\": {..}} ` instead.\n",
      "\u001b[2m2025-04-07T18:45:24.538946Z\u001b[0m \u001b[33m WARN\u001b[0m \u001b[2mtensorzero_internal::inference::types\u001b[0m\u001b[2m:\u001b[0m Deprecation Warning: `{\"type\": \"text\", \"value\", ...}` is deprecated. Please use `{\"type\": \"text\", \"text\": \"String input\"}` or `{\"type\": \"text\", \"arguments\": {..}} ` instead.\n",
      "\u001b[2m2025-04-07T18:45:24.541546Z\u001b[0m \u001b[33m WARN\u001b[0m \u001b[2mtensorzero_internal::inference::types\u001b[0m\u001b[2m:\u001b[0m Deprecation Warning: `{\"type\": \"text\", \"value\", ...}` is deprecated. Please use `{\"type\": \"text\", \"text\": \"String input\"}` or `{\"type\": \"text\", \"arguments\": {..}} ` instead.\n",
      "\u001b[2m2025-04-07T18:45:24.556385Z\u001b[0m \u001b[33m WARN\u001b[0m \u001b[2mtensorzero_internal::inference::types\u001b[0m\u001b[2m:\u001b[0m Deprecation Warning: `{\"type\": \"text\", \"value\", ...}` is deprecated. Please use `{\"type\": \"text\", \"text\": \"String input\"}` or `{\"type\": \"text\", \"arguments\": {..}} ` instead.\n",
      "\u001b[2m2025-04-07T18:45:24.574111Z\u001b[0m \u001b[33m WARN\u001b[0m \u001b[2mtensorzero_internal::inference::types\u001b[0m\u001b[2m:\u001b[0m Deprecation Warning: `{\"type\": \"text\", \"value\", ...}` is deprecated. Please use `{\"type\": \"text\", \"text\": \"String input\"}` or `{\"type\": \"text\", \"arguments\": {..}} ` instead.\n",
      "\u001b[2m2025-04-07T18:45:24.574111Z\u001b[0m \u001b[33m WARN\u001b[0m \u001b[2mtensorzero_internal::inference::types\u001b[0m\u001b[2m:\u001b[0m Deprecation Warning: `{\"type\": \"text\", \"value\", ...}` is deprecated. Please use `{\"type\": \"text\", \"text\": \"String input\"}` or `{\"type\": \"text\", \"arguments\": {..}} ` instead.\n",
      "\u001b[2m2025-04-07T18:45:24.574138Z\u001b[0m \u001b[33m WARN\u001b[0m \u001b[2mtensorzero_internal::inference::types\u001b[0m\u001b[2m:\u001b[0m Deprecation Warning: `{\"type\": \"text\", \"value\", ...}` is deprecated. Please use `{\"type\": \"text\", \"text\": \"String input\"}` or `{\"type\": \"text\", \"arguments\": {..}} ` instead.\n",
      "\u001b[2m2025-04-07T18:45:24.574142Z\u001b[0m \u001b[33m WARN\u001b[0m \u001b[2mtensorzero_internal::inference::types\u001b[0m\u001b[2m:\u001b[0m Deprecation Warning: `{\"type\": \"text\", \"value\", ...}` is deprecated. Please use `{\"type\": \"text\", \"text\": \"String input\"}` or `{\"type\": \"text\", \"arguments\": {..}} ` instead.\n"
     ]
    },
    {
     "name": "stderr",
     "output_type": "stream",
     "text": [
      "100%|██████████| 100/100 [00:07<00:00, 13.04it/s]\n",
      "100%|██████████| 100/100 [00:13<00:00,  7.35it/s]\n",
      "[I 2025-04-07 14:45:44,608] Trial 4 finished with value: 0.5763681318681318 and parameters: {'instruction_index': 5, 'demonstration_index': 8}. Best is trial 1 with value: 0.6602142857142858.\n"
     ]
    },
    {
     "name": "stdout",
     "output_type": "stream",
     "text": [
      "Iteration 5: 0.5763681318681318\n"
     ]
    }
   ],
   "source": [
    "study_random = optuna.create_study(\n",
    "    sampler=optuna.samplers.RandomSampler(seed=SEED), direction=OPTIMIZER_DIRECTION\n",
    ")\n",
    "\n",
    "for iteration in range(MAX_ITERATIONS):\n",
    "    trial = study_random.ask()\n",
    "\n",
    "    value = await objective(trial)\n",
    "    print(f\"Iteration {iteration + 1}: {value}\")\n",
    "\n",
    "    frozen_trial = study_random.tell(trial, value)\n",
    "    study_random._log_completed_trial(frozen_trial)"
   ]
  },
  {
   "cell_type": "markdown",
   "metadata": {},
   "source": [
    "### Tree-structured Parzen Estimator\n",
    "Following the MIPRO paper, we use a tree-structured parzen estimator (TPE) to sample the next instruction and demonstration pair to evaluate."
   ]
  },
  {
   "cell_type": "code",
   "execution_count": 23,
   "metadata": {},
   "outputs": [
    {
     "name": "stderr",
     "output_type": "stream",
     "text": [
      "[I 2025-04-07 14:45:44,616] A new study created in memory with name: no-name-8f7b6c2a-710b-44b5-b374-c1afe385969e\n",
      "  0%|          | 0/100 [00:00<?, ?it/s]"
     ]
    },
    {
     "name": "stdout",
     "output_type": "stream",
     "text": [
      "\u001b[2m2025-04-07T18:45:44.928957Z\u001b[0m \u001b[33m WARN\u001b[0m \u001b[2mtensorzero_internal::inference::types\u001b[0m\u001b[2m:\u001b[0m Deprecation Warning: `{\"type\": \"text\", \"value\", ...}` is deprecated. Please use `{\"type\": \"text\", \"text\": \"String input\"}` or `{\"type\": \"text\", \"arguments\": {..}} ` instead.\n",
      "\u001b[2m2025-04-07T18:45:44.928966Z\u001b[0m \u001b[33m WARN\u001b[0m \u001b[2mtensorzero_internal::inference::types\u001b[0m\u001b[2m:\u001b[0m Deprecation Warning: `{\"type\": \"text\", \"value\", ...}` is deprecated. Please use `{\"type\": \"text\", \"text\": \"String input\"}` or `{\"type\": \"text\", \"arguments\": {..}} ` instead.\n",
      "\u001b[2m2025-04-07T18:45:44.928957Z\u001b[0m \u001b[33m WARN\u001b[0m \u001b[2mtensorzero_internal::inference::types\u001b[0m\u001b[2m:\u001b[0m Deprecation Warning: `{\"type\": \"text\", \"value\", ...}` is deprecated. Please use `{\"type\": \"text\", \"text\": \"String input\"}` or `{\"type\": \"text\", \"arguments\": {..}} ` instead.\n",
      "\u001b[2m2025-04-07T18:45:44.929031Z\u001b[0m \u001b[33m WARN\u001b[0m \u001b[2mtensorzero_internal::inference::types\u001b[0m\u001b[2m:\u001b[0m Deprecation Warning: `{\"type\": \"text\", \"value\", ...}` is deprecated. Please use `{\"type\": \"text\", \"text\": \"String input\"}` or `{\"type\": \"text\", \"arguments\": {..}} ` instead.\n",
      "\u001b[2m2025-04-07T18:45:44.929030Z\u001b[0m \u001b[33m WARN\u001b[0m \u001b[2mtensorzero_internal::inference::types\u001b[0m\u001b[2m:\u001b[0m Deprecation Warning: `{\"type\": \"text\", \"value\", ...}` is deprecated. Please use `{\"type\": \"text\", \"text\": \"String input\"}` or `{\"type\": \"text\", \"arguments\": {..}} ` instead.\n",
      "\u001b[2m2025-04-07T18:45:44.929055Z\u001b[0m \u001b[33m WARN\u001b[0m \u001b[2mtensorzero_internal::inference::types\u001b[0m\u001b[2m:\u001b[0m Deprecation Warning: `{\"type\": \"text\", \"value\", ...}` is deprecated. Please use `{\"type\": \"text\", \"text\": \"String input\"}` or `{\"type\": \"text\", \"arguments\": {..}} ` instead.\n",
      "\u001b[2m2025-04-07T18:45:44.929053Z\u001b[0m \u001b[33m WARN\u001b[0m \u001b[2mtensorzero_internal::inference::types\u001b[0m\u001b[2m:\u001b[0m Deprecation Warning: `{\"type\": \"text\", \"value\", ...}` is deprecated. Please use `{\"type\": \"text\", \"text\": \"String input\"}` or `{\"type\": \"text\", \"arguments\": {..}} ` instead.\n",
      "\u001b[2m2025-04-07T18:45:44.929173Z\u001b[0m \u001b[33m WARN\u001b[0m \u001b[2mtensorzero_internal::inference::types\u001b[0m\u001b[2m:\u001b[0m Deprecation Warning: `{\"type\": \"text\", \"value\", ...}` is deprecated. Please use `{\"type\": \"text\", \"text\": \"String input\"}` or `{\"type\": \"text\", \"arguments\": {..}} ` instead.\n",
      "\u001b[2m2025-04-07T18:45:44.929186Z\u001b[0m \u001b[33m WARN\u001b[0m \u001b[2mtensorzero_internal::inference::types\u001b[0m\u001b[2m:\u001b[0m Deprecation Warning: `{\"type\": \"text\", \"value\", ...}` is deprecated. Please use `{\"type\": \"text\", \"text\": \"String input\"}` or `{\"type\": \"text\", \"arguments\": {..}} ` instead.\n",
      "\u001b[2m2025-04-07T18:45:44.929198Z\u001b[0m \u001b[33m WARN\u001b[0m \u001b[2mtensorzero_internal::inference::types\u001b[0m\u001b[2m:\u001b[0m Deprecation Warning: `{\"type\": \"text\", \"value\", ...}` is deprecated. Please use `{\"type\": \"text\", \"text\": \"String input\"}` or `{\"type\": \"text\", \"arguments\": {..}} ` instead.\n",
      "\u001b[2m2025-04-07T18:45:44.929210Z\u001b[0m \u001b[33m WARN\u001b[0m \u001b[2mtensorzero_internal::inference::types\u001b[0m\u001b[2m:\u001b[0m Deprecation Warning: `{\"type\": \"text\", \"value\", ...}` is deprecated. Please use `{\"type\": \"text\", \"text\": \"String input\"}` or `{\"type\": \"text\", \"arguments\": {..}} ` instead.\n",
      "\u001b[2m2025-04-07T18:45:44.929216Z\u001b[0m \u001b[33m WARN\u001b[0m \u001b[2mtensorzero_internal::inference::types\u001b[0m\u001b[2m:\u001b[0m Deprecation Warning: `{\"type\": \"text\", \"value\", ...}` is deprecated. Please use `{\"type\": \"text\", \"text\": \"String input\"}` or `{\"type\": \"text\", \"arguments\": {..}} ` instead.\n",
      "\u001b[2m2025-04-07T18:45:44.929225Z\u001b[0m \u001b[33m WARN\u001b[0m \u001b[2mtensorzero_internal::inference::types\u001b[0m\u001b[2m:\u001b[0m Deprecation Warning: `{\"type\": \"text\", \"value\", ...}` is deprecated. Please use `{\"type\": \"text\", \"text\": \"String input\"}` or `{\"type\": \"text\", \"arguments\": {..}} ` instead.\n",
      "\u001b[2m2025-04-07T18:45:44.929257Z\u001b[0m \u001b[33m WARN\u001b[0m \u001b[2mtensorzero_internal::inference::types\u001b[0m\u001b[2m:\u001b[0m Deprecation Warning: `{\"type\": \"text\", \"value\", ...}` is deprecated. Please use `{\"type\": \"text\", \"text\": \"String input\"}` or `{\"type\": \"text\", \"arguments\": {..}} ` instead.\n",
      "\u001b[2m2025-04-07T18:45:44.929281Z\u001b[0m \u001b[33m WARN\u001b[0m \u001b[2mtensorzero_internal::inference::types\u001b[0m\u001b[2m:\u001b[0m Deprecation Warning: `{\"type\": \"text\", \"value\", ...}` is deprecated. Please use `{\"type\": \"text\", \"text\": \"String input\"}` or `{\"type\": \"text\", \"arguments\": {..}} ` instead.\n",
      "\u001b[2m2025-04-07T18:45:44.929347Z\u001b[0m \u001b[33m WARN\u001b[0m \u001b[2mtensorzero_internal::inference::types\u001b[0m\u001b[2m:\u001b[0m Deprecation Warning: `{\"type\": \"text\", \"value\", ...}` is deprecated. Please use `{\"type\": \"text\", \"text\": \"String input\"}` or `{\"type\": \"text\", \"arguments\": {..}} ` instead.\n",
      "\u001b[2m2025-04-07T18:45:44.929349Z\u001b[0m \u001b[33m WARN\u001b[0m \u001b[2mtensorzero_internal::inference::types\u001b[0m\u001b[2m:\u001b[0m Deprecation Warning: `{\"type\": \"text\", \"value\", ...}` is deprecated. Please use `{\"type\": \"text\", \"text\": \"String input\"}` or `{\"type\": \"text\", \"arguments\": {..}} ` instead.\n",
      "\u001b[2m2025-04-07T18:45:44.929506Z\u001b[0m \u001b[33m WARN\u001b[0m \u001b[2mtensorzero_internal::inference::types\u001b[0m\u001b[2m:\u001b[0m Deprecation Warning: `{\"type\": \"text\", \"value\", ...}` is deprecated. Please use `{\"type\": \"text\", \"text\": \"String input\"}` or `{\"type\": \"text\", \"arguments\": {..}} ` instead.\n",
      "\u001b[2m2025-04-07T18:45:44.929508Z\u001b[0m \u001b[33m WARN\u001b[0m \u001b[2mtensorzero_internal::inference::types\u001b[0m\u001b[2m:\u001b[0m Deprecation Warning: `{\"type\": \"text\", \"value\", ...}` is deprecated. Please use `{\"type\": \"text\", \"text\": \"String input\"}` or `{\"type\": \"text\", \"arguments\": {..}} ` instead.\n",
      "\u001b[2m2025-04-07T18:45:44.929605Z\u001b[0m \u001b[33m WARN\u001b[0m \u001b[2mtensorzero_internal::inference::types\u001b[0m\u001b[2m:\u001b[0m Deprecation Warning: `{\"type\": \"text\", \"value\", ...}` is deprecated. Please use `{\"type\": \"text\", \"text\": \"String input\"}` or `{\"type\": \"text\", \"arguments\": {..}} ` instead.\n",
      "\u001b[2m2025-04-07T18:45:44.929630Z\u001b[0m \u001b[33m WARN\u001b[0m \u001b[2mtensorzero_internal::inference::types\u001b[0m\u001b[2m:\u001b[0m Deprecation Warning: `{\"type\": \"text\", \"value\", ...}` is deprecated. Please use `{\"type\": \"text\", \"text\": \"String input\"}` or `{\"type\": \"text\", \"arguments\": {..}} ` instead.\n",
      "\u001b[2m2025-04-07T18:45:44.929662Z\u001b[0m \u001b[33m WARN\u001b[0m \u001b[2mtensorzero_internal::inference::types\u001b[0m\u001b[2m:\u001b[0m Deprecation Warning: `{\"type\": \"text\", \"value\", ...}` is deprecated. Please use `{\"type\": \"text\", \"text\": \"String input\"}` or `{\"type\": \"text\", \"arguments\": {..}} ` instead.\n",
      "\u001b[2m2025-04-07T18:45:44.929667Z\u001b[0m \u001b[33m WARN\u001b[0m \u001b[2mtensorzero_internal::inference::types\u001b[0m\u001b[2m:\u001b[0m Deprecation Warning: `{\"type\": \"text\", \"value\", ...}` is deprecated. Please use `{\"type\": \"text\", \"text\": \"String input\"}` or `{\"type\": \"text\", \"arguments\": {..}} ` instead.\n",
      "\u001b[2m2025-04-07T18:45:44.929691Z\u001b[0m \u001b[33m WARN\u001b[0m \u001b[2mtensorzero_internal::inference::types\u001b[0m\u001b[2m:\u001b[0m Deprecation Warning: `{\"type\": \"text\", \"value\", ...}` is deprecated. Please use `{\"type\": \"text\", \"text\": \"String input\"}` or `{\"type\": \"text\", \"arguments\": {..}} ` instead.\n",
      "\u001b[2m2025-04-07T18:45:44.929706Z\u001b[0m \u001b[33m WARN\u001b[0m \u001b[2mtensorzero_internal::inference::types\u001b[0m\u001b[2m:\u001b[0m Deprecation Warning: `{\"type\": \"text\", \"value\", ...}` is deprecated. Please use `{\"type\": \"text\", \"text\": \"String input\"}` or `{\"type\": \"text\", \"arguments\": {..}} ` instead.\n",
      "\u001b[2m2025-04-07T18:45:44.929718Z\u001b[0m \u001b[33m WARN\u001b[0m \u001b[2mtensorzero_internal::inference::types\u001b[0m\u001b[2m:\u001b[0m Deprecation Warning: `{\"type\": \"text\", \"value\", ...}` is deprecated. Please use `{\"type\": \"text\", \"text\": \"String input\"}` or `{\"type\": \"text\", \"arguments\": {..}} ` instead.\n",
      "\u001b[2m2025-04-07T18:45:44.929743Z\u001b[0m \u001b[33m WARN\u001b[0m \u001b[2mtensorzero_internal::inference::types\u001b[0m\u001b[2m:\u001b[0m Deprecation Warning: `{\"type\": \"text\", \"value\", ...}` is deprecated. Please use `{\"type\": \"text\", \"text\": \"String input\"}` or `{\"type\": \"text\", \"arguments\": {..}} ` instead.\n",
      "\u001b[2m2025-04-07T18:45:44.929865Z\u001b[0m \u001b[33m WARN\u001b[0m \u001b[2mtensorzero_internal::inference::types\u001b[0m\u001b[2m:\u001b[0m Deprecation Warning: `{\"type\": \"text\", \"value\", ...}` is deprecated. Please use `{\"type\": \"text\", \"text\": \"String input\"}` or `{\"type\": \"text\", \"arguments\": {..}} ` instead.\n",
      "\u001b[2m2025-04-07T18:45:44.929972Z\u001b[0m \u001b[33m WARN\u001b[0m \u001b[2mtensorzero_internal::inference::types\u001b[0m\u001b[2m:\u001b[0m Deprecation Warning: `{\"type\": \"text\", \"value\", ...}` is deprecated. Please use `{\"type\": \"text\", \"text\": \"String input\"}` or `{\"type\": \"text\", \"arguments\": {..}} ` instead.\n",
      "\u001b[2m2025-04-07T18:45:44.929977Z\u001b[0m \u001b[33m WARN\u001b[0m \u001b[2mtensorzero_internal::inference::types\u001b[0m\u001b[2m:\u001b[0m Deprecation Warning: `{\"type\": \"text\", \"value\", ...}` is deprecated. Please use `{\"type\": \"text\", \"text\": \"String input\"}` or `{\"type\": \"text\", \"arguments\": {..}} ` instead.\n",
      "\u001b[2m2025-04-07T18:45:44.929998Z\u001b[0m \u001b[33m WARN\u001b[0m \u001b[2mtensorzero_internal::inference::types\u001b[0m\u001b[2m:\u001b[0m Deprecation Warning: `{\"type\": \"text\", \"value\", ...}` is deprecated. Please use `{\"type\": \"text\", \"text\": \"String input\"}` or `{\"type\": \"text\", \"arguments\": {..}} ` instead.\n",
      "\u001b[2m2025-04-07T18:45:44.930004Z\u001b[0m \u001b[33m WARN\u001b[0m \u001b[2mtensorzero_internal::inference::types\u001b[0m\u001b[2m:\u001b[0m Deprecation Warning: `{\"type\": \"text\", \"value\", ...}` is deprecated. Please use `{\"type\": \"text\", \"text\": \"String input\"}` or `{\"type\": \"text\", \"arguments\": {..}} ` instead.\n",
      "\u001b[2m2025-04-07T18:45:44.930011Z\u001b[0m \u001b[33m WARN\u001b[0m \u001b[2mtensorzero_internal::inference::types\u001b[0m\u001b[2m:\u001b[0m Deprecation Warning: `{\"type\": \"text\", \"value\", ...}` is deprecated. Please use `{\"type\": \"text\", \"text\": \"String input\"}` or `{\"type\": \"text\", \"arguments\": {..}} ` instead.\n",
      "\u001b[2m2025-04-07T18:45:44.930012Z\u001b[0m \u001b[33m WARN\u001b[0m \u001b[2mtensorzero_internal::inference::types\u001b[0m\u001b[2m:\u001b[0m Deprecation Warning: `{\"type\": \"text\", \"value\", ...}` is deprecated. Please use `{\"type\": \"text\", \"text\": \"String input\"}` or `{\"type\": \"text\", \"arguments\": {..}} ` instead.\n",
      "\u001b[2m2025-04-07T18:45:44.930031Z\u001b[0m \u001b[33m WARN\u001b[0m \u001b[2mtensorzero_internal::inference::types\u001b[0m\u001b[2m:\u001b[0m Deprecation Warning: `{\"type\": \"text\", \"value\", ...}` is deprecated. Please use `{\"type\": \"text\", \"text\": \"String input\"}` or `{\"type\": \"text\", \"arguments\": {..}} ` instead.\n",
      "\u001b[2m2025-04-07T18:45:44.930043Z\u001b[0m \u001b[33m WARN\u001b[0m \u001b[2mtensorzero_internal::inference::types\u001b[0m\u001b[2m:\u001b[0m Deprecation Warning: `{\"type\": \"text\", \"value\", ...}` is deprecated. Please use `{\"type\": \"text\", \"text\": \"String input\"}` or `{\"type\": \"text\", \"arguments\": {..}} ` instead.\n",
      "\u001b[2m2025-04-07T18:45:44.930081Z\u001b[0m \u001b[33m WARN\u001b[0m \u001b[2mtensorzero_internal::inference::types\u001b[0m\u001b[2m:\u001b[0m Deprecation Warning: `{\"type\": \"text\", \"value\", ...}` is deprecated. Please use `{\"type\": \"text\", \"text\": \"String input\"}` or `{\"type\": \"text\", \"arguments\": {..}} ` instead.\n",
      "\u001b[2m2025-04-07T18:45:44.930119Z\u001b[0m \u001b[33m WARN\u001b[0m \u001b[2mtensorzero_internal::inference::types\u001b[0m\u001b[2m:\u001b[0m Deprecation Warning: `{\"type\": \"text\", \"value\", ...}` is deprecated. Please use `{\"type\": \"text\", \"text\": \"String input\"}` or `{\"type\": \"text\", \"arguments\": {..}} ` instead.\n",
      "\u001b[2m2025-04-07T18:45:44.930139Z\u001b[0m \u001b[33m WARN\u001b[0m \u001b[2mtensorzero_internal::inference::types\u001b[0m\u001b[2m:\u001b[0m Deprecation Warning: `{\"type\": \"text\", \"value\", ...}` is deprecated. Please use `{\"type\": \"text\", \"text\": \"String input\"}` or `{\"type\": \"text\", \"arguments\": {..}} ` instead.\n",
      "\u001b[2m2025-04-07T18:45:44.930155Z\u001b[0m \u001b[33m WARN\u001b[0m \u001b[2mtensorzero_internal::inference::types\u001b[0m\u001b[2m:\u001b[0m Deprecation Warning: `{\"type\": \"text\", \"value\", ...}` is deprecated. Please use `{\"type\": \"text\", \"text\": \"String input\"}` or `{\"type\": \"text\", \"arguments\": {..}} ` instead.\n",
      "\u001b[2m2025-04-07T18:45:44.930160Z\u001b[0m \u001b[33m WARN\u001b[0m \u001b[2mtensorzero_internal::inference::types\u001b[0m\u001b[2m:\u001b[0m Deprecation Warning: `{\"type\": \"text\", \"value\", ...}` is deprecated. Please use `{\"type\": \"text\", \"text\": \"String input\"}` or `{\"type\": \"text\", \"arguments\": {..}} ` instead.\n",
      "\u001b[2m2025-04-07T18:45:44.930163Z\u001b[0m \u001b[33m WARN\u001b[0m \u001b[2mtensorzero_internal::inference::types\u001b[0m\u001b[2m:\u001b[0m Deprecation Warning: `{\"type\": \"text\", \"value\", ...}` is deprecated. Please use `{\"type\": \"text\", \"text\": \"String input\"}` or `{\"type\": \"text\", \"arguments\": {..}} ` instead.\n",
      "\u001b[2m2025-04-07T18:45:44.930164Z\u001b[0m \u001b[33m WARN\u001b[0m \u001b[2mtensorzero_internal::inference::types\u001b[0m\u001b[2m:\u001b[0m Deprecation Warning: `{\"type\": \"text\", \"value\", ...}` is deprecated. Please use `{\"type\": \"text\", \"text\": \"String input\"}` or `{\"type\": \"text\", \"arguments\": {..}} ` instead.\n",
      "\u001b[2m2025-04-07T18:45:44.930171Z\u001b[0m \u001b[33m WARN\u001b[0m \u001b[2mtensorzero_internal::inference::types\u001b[0m\u001b[2m:\u001b[0m Deprecation Warning: `{\"type\": \"text\", \"value\", ...}` is deprecated. Please use `{\"type\": \"text\", \"text\": \"String input\"}` or `{\"type\": \"text\", \"arguments\": {..}} ` instead.\n",
      "\u001b[2m2025-04-07T18:45:44.930178Z\u001b[0m \u001b[33m WARN\u001b[0m \u001b[2mtensorzero_internal::inference::types\u001b[0m\u001b[2m:\u001b[0m Deprecation Warning: `{\"type\": \"text\", \"value\", ...}` is deprecated. Please use `{\"type\": \"text\", \"text\": \"String input\"}` or `{\"type\": \"text\", \"arguments\": {..}} ` instead.\n",
      "\u001b[2m2025-04-07T18:45:44.930183Z\u001b[0m \u001b[33m WARN\u001b[0m \u001b[2mtensorzero_internal::inference::types\u001b[0m\u001b[2m:\u001b[0m Deprecation Warning: `{\"type\": \"text\", \"value\", ...}` is deprecated. Please use `{\"type\": \"text\", \"text\": \"String input\"}` or `{\"type\": \"text\", \"arguments\": {..}} ` instead.\n",
      "\u001b[2m2025-04-07T18:45:44.930189Z\u001b[0m \u001b[33m WARN\u001b[0m \u001b[2mtensorzero_internal::inference::types\u001b[0m\u001b[2m:\u001b[0m Deprecation Warning: `{\"type\": \"text\", \"value\", ...}` is deprecated. Please use `{\"type\": \"text\", \"text\": \"String input\"}` or `{\"type\": \"text\", \"arguments\": {..}} ` instead.\n",
      "\u001b[2m2025-04-07T18:45:44.930202Z\u001b[0m \u001b[33m WARN\u001b[0m \u001b[2mtensorzero_internal::inference::types\u001b[0m\u001b[2m:\u001b[0m Deprecation Warning: `{\"type\": \"text\", \"value\", ...}` is deprecated. Please use `{\"type\": \"text\", \"text\": \"String input\"}` or `{\"type\": \"text\", \"arguments\": {..}} ` instead.\n",
      "\u001b[2m2025-04-07T18:45:44.930236Z\u001b[0m \u001b[33m WARN\u001b[0m \u001b[2mtensorzero_internal::inference::types\u001b[0m\u001b[2m:\u001b[0m Deprecation Warning: `{\"type\": \"text\", \"value\", ...}` is deprecated. Please use `{\"type\": \"text\", \"text\": \"String input\"}` or `{\"type\": \"text\", \"arguments\": {..}} ` instead.\n",
      "\u001b[2m2025-04-07T18:45:44.930236Z\u001b[0m \u001b[33m WARN\u001b[0m \u001b[2mtensorzero_internal::inference::types\u001b[0m\u001b[2m:\u001b[0m Deprecation Warning: `{\"type\": \"text\", \"value\", ...}` is deprecated. Please use `{\"type\": \"text\", \"text\": \"String input\"}` or `{\"type\": \"text\", \"arguments\": {..}} ` instead.\n"
     ]
    },
    {
     "name": "stderr",
     "output_type": "stream",
     "text": [
      " 10%|█         | 10/100 [00:00<00:04, 21.25it/s]"
     ]
    },
    {
     "name": "stdout",
     "output_type": "stream",
     "text": [
      "\u001b[2m2025-04-07T18:45:45.398752Z\u001b[0m \u001b[33m WARN\u001b[0m \u001b[2mtensorzero_internal::inference::types\u001b[0m\u001b[2m:\u001b[0m Deprecation Warning: `{\"type\": \"text\", \"value\", ...}` is deprecated. Please use `{\"type\": \"text\", \"text\": \"String input\"}` or `{\"type\": \"text\", \"arguments\": {..}} ` instead.\n",
      "\u001b[2m2025-04-07T18:45:45.407343Z\u001b[0m \u001b[33m WARN\u001b[0m \u001b[2mtensorzero_internal::inference::types\u001b[0m\u001b[2m:\u001b[0m Deprecation Warning: `{\"type\": \"text\", \"value\", ...}` is deprecated. Please use `{\"type\": \"text\", \"text\": \"String input\"}` or `{\"type\": \"text\", \"arguments\": {..}} ` instead.\n",
      "\u001b[2m2025-04-07T18:45:45.418136Z\u001b[0m \u001b[33m WARN\u001b[0m \u001b[2mtensorzero_internal::inference::types\u001b[0m\u001b[2m:\u001b[0m Deprecation Warning: `{\"type\": \"text\", \"value\", ...}` is deprecated. Please use `{\"type\": \"text\", \"text\": \"String input\"}` or `{\"type\": \"text\", \"arguments\": {..}} ` instead.\n",
      "\u001b[2m2025-04-07T18:45:45.432883Z\u001b[0m \u001b[33m WARN\u001b[0m \u001b[2mtensorzero_internal::inference::types\u001b[0m\u001b[2m:\u001b[0m Deprecation Warning: `{\"type\": \"text\", \"value\", ...}` is deprecated. Please use `{\"type\": \"text\", \"text\": \"String input\"}` or `{\"type\": \"text\", \"arguments\": {..}} ` instead.\n",
      "\u001b[2m2025-04-07T18:45:45.436970Z\u001b[0m \u001b[33m WARN\u001b[0m \u001b[2mtensorzero_internal::inference::types\u001b[0m\u001b[2m:\u001b[0m Deprecation Warning: `{\"type\": \"text\", \"value\", ...}` is deprecated. Please use `{\"type\": \"text\", \"text\": \"String input\"}` or `{\"type\": \"text\", \"arguments\": {..}} ` instead.\n",
      "\u001b[2m2025-04-07T18:45:45.448490Z\u001b[0m \u001b[33m WARN\u001b[0m \u001b[2mtensorzero_internal::inference::types\u001b[0m\u001b[2m:\u001b[0m Deprecation Warning: `{\"type\": \"text\", \"value\", ...}` is deprecated. Please use `{\"type\": \"text\", \"text\": \"String input\"}` or `{\"type\": \"text\", \"arguments\": {..}} ` instead.\n",
      "\u001b[2m2025-04-07T18:45:45.448488Z\u001b[0m \u001b[33m WARN\u001b[0m \u001b[2mtensorzero_internal::inference::types\u001b[0m\u001b[2m:\u001b[0m Deprecation Warning: `{\"type\": \"text\", \"value\", ...}` is deprecated. Please use `{\"type\": \"text\", \"text\": \"String input\"}` or `{\"type\": \"text\", \"arguments\": {..}} ` instead.\n",
      "\u001b[2m2025-04-07T18:45:45.454008Z\u001b[0m \u001b[33m WARN\u001b[0m \u001b[2mtensorzero_internal::inference::types\u001b[0m\u001b[2m:\u001b[0m Deprecation Warning: `{\"type\": \"text\", \"value\", ...}` is deprecated. Please use `{\"type\": \"text\", \"text\": \"String input\"}` or `{\"type\": \"text\", \"arguments\": {..}} ` instead.\n",
      "\u001b[2m2025-04-07T18:45:45.477393Z\u001b[0m \u001b[33m WARN\u001b[0m \u001b[2mtensorzero_internal::inference::types\u001b[0m\u001b[2m:\u001b[0m Deprecation Warning: `{\"type\": \"text\", \"value\", ...}` is deprecated. Please use `{\"type\": \"text\", \"text\": \"String input\"}` or `{\"type\": \"text\", \"arguments\": {..}} ` instead.\n",
      "\u001b[2m2025-04-07T18:45:45.525875Z\u001b[0m \u001b[33m WARN\u001b[0m \u001b[2mtensorzero_internal::inference::types\u001b[0m\u001b[2m:\u001b[0m Deprecation Warning: `{\"type\": \"text\", \"value\", ...}` is deprecated. Please use `{\"type\": \"text\", \"text\": \"String input\"}` or `{\"type\": \"text\", \"arguments\": {..}} ` instead.\n",
      "\u001b[2m2025-04-07T18:45:45.547426Z\u001b[0m \u001b[33m WARN\u001b[0m \u001b[2mtensorzero_internal::inference::types\u001b[0m\u001b[2m:\u001b[0m Deprecation Warning: `{\"type\": \"text\", \"value\", ...}` is deprecated. Please use `{\"type\": \"text\", \"text\": \"String input\"}` or `{\"type\": \"text\", \"arguments\": {..}} ` instead.\n"
     ]
    },
    {
     "name": "stderr",
     "output_type": "stream",
     "text": [
      " 35%|███▌      | 35/100 [00:00<00:00, 66.19it/s]"
     ]
    },
    {
     "name": "stdout",
     "output_type": "stream",
     "text": [
      "\u001b[2m2025-04-07T18:45:45.658419Z\u001b[0m \u001b[33m WARN\u001b[0m \u001b[2mtensorzero_internal::inference::types\u001b[0m\u001b[2m:\u001b[0m Deprecation Warning: `{\"type\": \"text\", \"value\", ...}` is deprecated. Please use `{\"type\": \"text\", \"text\": \"String input\"}` or `{\"type\": \"text\", \"arguments\": {..}} ` instead.\n",
      "\u001b[2m2025-04-07T18:45:45.658420Z\u001b[0m \u001b[33m WARN\u001b[0m \u001b[2mtensorzero_internal::inference::types\u001b[0m\u001b[2m:\u001b[0m Deprecation Warning: `{\"type\": \"text\", \"value\", ...}` is deprecated. Please use `{\"type\": \"text\", \"text\": \"String input\"}` or `{\"type\": \"text\", \"arguments\": {..}} ` instead.\n",
      "\u001b[2m2025-04-07T18:45:45.658419Z\u001b[0m \u001b[33m WARN\u001b[0m \u001b[2mtensorzero_internal::inference::types\u001b[0m\u001b[2m:\u001b[0m Deprecation Warning: `{\"type\": \"text\", \"value\", ...}` is deprecated. Please use `{\"type\": \"text\", \"text\": \"String input\"}` or `{\"type\": \"text\", \"arguments\": {..}} ` instead.\n",
      "\u001b[2m2025-04-07T18:45:45.658680Z\u001b[0m \u001b[33m WARN\u001b[0m \u001b[2mtensorzero_internal::inference::types\u001b[0m\u001b[2m:\u001b[0m Deprecation Warning: `{\"type\": \"text\", \"value\", ...}` is deprecated. Please use `{\"type\": \"text\", \"text\": \"String input\"}` or `{\"type\": \"text\", \"arguments\": {..}} ` instead.\n",
      "\u001b[2m2025-04-07T18:45:45.658687Z\u001b[0m \u001b[33m WARN\u001b[0m \u001b[2mtensorzero_internal::inference::types\u001b[0m\u001b[2m:\u001b[0m Deprecation Warning: `{\"type\": \"text\", \"value\", ...}` is deprecated. Please use `{\"type\": \"text\", \"text\": \"String input\"}` or `{\"type\": \"text\", \"arguments\": {..}} ` instead.\n",
      "\u001b[2m2025-04-07T18:45:45.658768Z\u001b[0m \u001b[33m WARN\u001b[0m \u001b[2mtensorzero_internal::inference::types\u001b[0m\u001b[2m:\u001b[0m Deprecation Warning: `{\"type\": \"text\", \"value\", ...}` is deprecated. Please use `{\"type\": \"text\", \"text\": \"String input\"}` or `{\"type\": \"text\", \"arguments\": {..}} ` instead.\n",
      "\u001b[2m2025-04-07T18:45:45.659238Z\u001b[0m \u001b[33m WARN\u001b[0m \u001b[2mtensorzero_internal::inference::types\u001b[0m\u001b[2m:\u001b[0m Deprecation Warning: `{\"type\": \"text\", \"value\", ...}` is deprecated. Please use `{\"type\": \"text\", \"text\": \"String input\"}` or `{\"type\": \"text\", \"arguments\": {..}} ` instead.\n",
      "\u001b[2m2025-04-07T18:45:45.659246Z\u001b[0m \u001b[33m WARN\u001b[0m \u001b[2mtensorzero_internal::inference::types\u001b[0m\u001b[2m:\u001b[0m Deprecation Warning: `{\"type\": \"text\", \"value\", ...}` is deprecated. Please use `{\"type\": \"text\", \"text\": \"String input\"}` or `{\"type\": \"text\", \"arguments\": {..}} ` instead.\n",
      "\u001b[2m2025-04-07T18:45:45.659250Z\u001b[0m \u001b[33m WARN\u001b[0m \u001b[2mtensorzero_internal::inference::types\u001b[0m\u001b[2m:\u001b[0m Deprecation Warning: `{\"type\": \"text\", \"value\", ...}` is deprecated. Please use `{\"type\": \"text\", \"text\": \"String input\"}` or `{\"type\": \"text\", \"arguments\": {..}} ` instead.\n",
      "\u001b[2m2025-04-07T18:45:45.659422Z\u001b[0m \u001b[33m WARN\u001b[0m \u001b[2mtensorzero_internal::inference::types\u001b[0m\u001b[2m:\u001b[0m Deprecation Warning: `{\"type\": \"text\", \"value\", ...}` is deprecated. Please use `{\"type\": \"text\", \"text\": \"String input\"}` or `{\"type\": \"text\", \"arguments\": {..}} ` instead.\n",
      "\u001b[2m2025-04-07T18:45:45.659506Z\u001b[0m \u001b[33m WARN\u001b[0m \u001b[2mtensorzero_internal::inference::types\u001b[0m\u001b[2m:\u001b[0m Deprecation Warning: `{\"type\": \"text\", \"value\", ...}` is deprecated. Please use `{\"type\": \"text\", \"text\": \"String input\"}` or `{\"type\": \"text\", \"arguments\": {..}} ` instead.\n",
      "\u001b[2m2025-04-07T18:45:45.664038Z\u001b[0m \u001b[33m WARN\u001b[0m \u001b[2mtensorzero_internal::inference::types\u001b[0m\u001b[2m:\u001b[0m Deprecation Warning: `{\"type\": \"text\", \"value\", ...}` is deprecated. Please use `{\"type\": \"text\", \"text\": \"String input\"}` or `{\"type\": \"text\", \"arguments\": {..}} ` instead.\n",
      "\u001b[2m2025-04-07T18:45:45.678371Z\u001b[0m \u001b[33m WARN\u001b[0m \u001b[2mtensorzero_internal::inference::types\u001b[0m\u001b[2m:\u001b[0m Deprecation Warning: `{\"type\": \"text\", \"value\", ...}` is deprecated. Please use `{\"type\": \"text\", \"text\": \"String input\"}` or `{\"type\": \"text\", \"arguments\": {..}} ` instead.\n",
      "\u001b[2m2025-04-07T18:45:45.678371Z\u001b[0m \u001b[33m WARN\u001b[0m \u001b[2mtensorzero_internal::inference::types\u001b[0m\u001b[2m:\u001b[0m Deprecation Warning: `{\"type\": \"text\", \"value\", ...}` is deprecated. Please use `{\"type\": \"text\", \"text\": \"String input\"}` or `{\"type\": \"text\", \"arguments\": {..}} ` instead.\n",
      "\u001b[2m2025-04-07T18:45:45.693799Z\u001b[0m \u001b[33m WARN\u001b[0m \u001b[2mtensorzero_internal::inference::types\u001b[0m\u001b[2m:\u001b[0m Deprecation Warning: `{\"type\": \"text\", \"value\", ...}` is deprecated. Please use `{\"type\": \"text\", \"text\": \"String input\"}` or `{\"type\": \"text\", \"arguments\": {..}} ` instead.\n",
      "\u001b[2m2025-04-07T18:45:45.716492Z\u001b[0m \u001b[33m WARN\u001b[0m \u001b[2mtensorzero_internal::inference::types\u001b[0m\u001b[2m:\u001b[0m Deprecation Warning: `{\"type\": \"text\", \"value\", ...}` is deprecated. Please use `{\"type\": \"text\", \"text\": \"String input\"}` or `{\"type\": \"text\", \"arguments\": {..}} ` instead.\n",
      "\u001b[2m2025-04-07T18:45:45.732495Z\u001b[0m \u001b[31mERROR\u001b[0m \u001b[2mtensorzero_internal::error\u001b[0m\u001b[2m:\u001b[0m JSON Schema validation failed for Function:\n",
      "\n",
      "Additional properties are not allowed ('RBI' was unexpected)\n",
      "Data: {\"person\":[\"Bonilla\"],\"organization\":[],\"location\":[],\"miscellaneous\":[],\"RBI\":21,\"runs\":15,\"games\":20}Schema: {\"$schema\":\"http://json-schema.org/draft-07/schema#\",\"type\":\"object\",\"properties\":{\"person\":{\"type\":\"array\",\"items\":{\"type\":\"string\"}},\"organization\":{\"type\":\"array\",\"items\":{\"type\":\"string\"}},\"location\":{\"type\":\"array\",\"items\":{\"type\":\"string\"}},\"miscellaneous\":{\"type\":\"array\",\"items\":{\"type\":\"string\"}}},\"required\":[\"person\",\"organization\",\"location\",\"miscellaneous\"],\"additionalProperties\":false}\n",
      "\u001b[2m2025-04-07T18:45:45.733247Z\u001b[0m \u001b[33m WARN\u001b[0m \u001b[2mtensorzero_internal::inference::types\u001b[0m\u001b[2m:\u001b[0m Deprecation Warning: `{\"type\": \"text\", \"value\", ...}` is deprecated. Please use `{\"type\": \"text\", \"text\": \"String input\"}` or `{\"type\": \"text\", \"arguments\": {..}} ` instead.\n",
      "\u001b[2m2025-04-07T18:45:45.734321Z\u001b[0m \u001b[33m WARN\u001b[0m \u001b[2mtensorzero_internal::inference::types\u001b[0m\u001b[2m:\u001b[0m Deprecation Warning: `{\"type\": \"text\", \"value\", ...}` is deprecated. Please use `{\"type\": \"text\", \"text\": \"String input\"}` or `{\"type\": \"text\", \"arguments\": {..}} ` instead.\n",
      "\u001b[2m2025-04-07T18:45:45.744661Z\u001b[0m \u001b[33m WARN\u001b[0m \u001b[2mtensorzero_internal::inference::types\u001b[0m\u001b[2m:\u001b[0m Deprecation Warning: `{\"type\": \"text\", \"value\", ...}` is deprecated. Please use `{\"type\": \"text\", \"text\": \"String input\"}` or `{\"type\": \"text\", \"arguments\": {..}} ` instead.\n",
      "\u001b[2m2025-04-07T18:45:45.747650Z\u001b[0m \u001b[33m WARN\u001b[0m \u001b[2mtensorzero_internal::inference::types\u001b[0m\u001b[2m:\u001b[0m Deprecation Warning: `{\"type\": \"text\", \"value\", ...}` is deprecated. Please use `{\"type\": \"text\", \"text\": \"String input\"}` or `{\"type\": \"text\", \"arguments\": {..}} ` instead.\n",
      "\u001b[2m2025-04-07T18:45:45.752509Z\u001b[0m \u001b[33m WARN\u001b[0m \u001b[2mtensorzero_internal::inference::types\u001b[0m\u001b[2m:\u001b[0m Deprecation Warning: `{\"type\": \"text\", \"value\", ...}` is deprecated. Please use `{\"type\": \"text\", \"text\": \"String input\"}` or `{\"type\": \"text\", \"arguments\": {..}} ` instead.\n",
      "\u001b[2m2025-04-07T18:45:45.756309Z\u001b[0m \u001b[33m WARN\u001b[0m \u001b[2mtensorzero_internal::inference::types\u001b[0m\u001b[2m:\u001b[0m Deprecation Warning: `{\"type\": \"text\", \"value\", ...}` is deprecated. Please use `{\"type\": \"text\", \"text\": \"String input\"}` or `{\"type\": \"text\", \"arguments\": {..}} ` instead.\n",
      "\u001b[2m2025-04-07T18:45:45.758053Z\u001b[0m \u001b[33m WARN\u001b[0m \u001b[2mtensorzero_internal::inference::types\u001b[0m\u001b[2m:\u001b[0m Deprecation Warning: `{\"type\": \"text\", \"value\", ...}` is deprecated. Please use `{\"type\": \"text\", \"text\": \"String input\"}` or `{\"type\": \"text\", \"arguments\": {..}} ` instead.\n",
      "\u001b[2m2025-04-07T18:45:45.768984Z\u001b[0m \u001b[33m WARN\u001b[0m \u001b[2mtensorzero_internal::inference::types\u001b[0m\u001b[2m:\u001b[0m Deprecation Warning: `{\"type\": \"text\", \"value\", ...}` is deprecated. Please use `{\"type\": \"text\", \"text\": \"String input\"}` or `{\"type\": \"text\", \"arguments\": {..}} ` instead.\n",
      "\u001b[2m2025-04-07T18:45:45.776402Z\u001b[0m \u001b[33m WARN\u001b[0m \u001b[2mtensorzero_internal::inference::types\u001b[0m\u001b[2m:\u001b[0m Deprecation Warning: `{\"type\": \"text\", \"value\", ...}` is deprecated. Please use `{\"type\": \"text\", \"text\": \"String input\"}` or `{\"type\": \"text\", \"arguments\": {..}} ` instead.\n",
      "\u001b[2m2025-04-07T18:45:45.798459Z\u001b[0m \u001b[33m WARN\u001b[0m \u001b[2mtensorzero_internal::inference::types\u001b[0m\u001b[2m:\u001b[0m Deprecation Warning: `{\"type\": \"text\", \"value\", ...}` is deprecated. Please use `{\"type\": \"text\", \"text\": \"String input\"}` or `{\"type\": \"text\", \"arguments\": {..}} ` instead.\n",
      "\u001b[2m2025-04-07T18:45:45.805887Z\u001b[0m \u001b[33m WARN\u001b[0m \u001b[2mtensorzero_internal::inference::types\u001b[0m\u001b[2m:\u001b[0m Deprecation Warning: `{\"type\": \"text\", \"value\", ...}` is deprecated. Please use `{\"type\": \"text\", \"text\": \"String input\"}` or `{\"type\": \"text\", \"arguments\": {..}} ` instead.\n",
      "\u001b[2m2025-04-07T18:45:45.806209Z\u001b[0m \u001b[33m WARN\u001b[0m \u001b[2mtensorzero_internal::inference::types\u001b[0m\u001b[2m:\u001b[0m Deprecation Warning: `{\"type\": \"text\", \"value\", ...}` is deprecated. Please use `{\"type\": \"text\", \"text\": \"String input\"}` or `{\"type\": \"text\", \"arguments\": {..}} ` instead.\n",
      "\u001b[2m2025-04-07T18:45:45.813025Z\u001b[0m \u001b[33m WARN\u001b[0m \u001b[2mtensorzero_internal::inference::types\u001b[0m\u001b[2m:\u001b[0m Deprecation Warning: `{\"type\": \"text\", \"value\", ...}` is deprecated. Please use `{\"type\": \"text\", \"text\": \"String input\"}` or `{\"type\": \"text\", \"arguments\": {..}} ` instead.\n",
      "\u001b[2m2025-04-07T18:45:45.841321Z\u001b[0m \u001b[33m WARN\u001b[0m \u001b[2mtensorzero_internal::inference::types\u001b[0m\u001b[2m:\u001b[0m Deprecation Warning: `{\"type\": \"text\", \"value\", ...}` is deprecated. Please use `{\"type\": \"text\", \"text\": \"String input\"}` or `{\"type\": \"text\", \"arguments\": {..}} ` instead.\n",
      "\u001b[2m2025-04-07T18:45:45.854717Z\u001b[0m \u001b[33m WARN\u001b[0m \u001b[2mtensorzero_internal::inference::types\u001b[0m\u001b[2m:\u001b[0m Deprecation Warning: `{\"type\": \"text\", \"value\", ...}` is deprecated. Please use `{\"type\": \"text\", \"text\": \"String input\"}` or `{\"type\": \"text\", \"arguments\": {..}} ` instead.\n",
      "\u001b[2m2025-04-07T18:45:45.858244Z\u001b[0m \u001b[33m WARN\u001b[0m \u001b[2mtensorzero_internal::inference::types\u001b[0m\u001b[2m:\u001b[0m Deprecation Warning: `{\"type\": \"text\", \"value\", ...}` is deprecated. Please use `{\"type\": \"text\", \"text\": \"String input\"}` or `{\"type\": \"text\", \"arguments\": {..}} ` instead.\n"
     ]
    },
    {
     "name": "stderr",
     "output_type": "stream",
     "text": [
      " 45%|████▌     | 45/100 [00:00<00:00, 71.07it/s]"
     ]
    },
    {
     "name": "stdout",
     "output_type": "stream",
     "text": [
      "\u001b[2m2025-04-07T18:45:45.862451Z\u001b[0m \u001b[33m WARN\u001b[0m \u001b[2mtensorzero_internal::inference::types\u001b[0m\u001b[2m:\u001b[0m Deprecation Warning: `{\"type\": \"text\", \"value\", ...}` is deprecated. Please use `{\"type\": \"text\", \"text\": \"String input\"}` or `{\"type\": \"text\", \"arguments\": {..}} ` instead.\n",
      "\u001b[2m2025-04-07T18:45:45.888672Z\u001b[0m \u001b[33m WARN\u001b[0m \u001b[2mtensorzero_internal::inference::types\u001b[0m\u001b[2m:\u001b[0m Deprecation Warning: `{\"type\": \"text\", \"value\", ...}` is deprecated. Please use `{\"type\": \"text\", \"text\": \"String input\"}` or `{\"type\": \"text\", \"arguments\": {..}} ` instead.\n",
      "\u001b[2m2025-04-07T18:45:45.891397Z\u001b[0m \u001b[33m WARN\u001b[0m \u001b[2mtensorzero_internal::inference::types\u001b[0m\u001b[2m:\u001b[0m Deprecation Warning: `{\"type\": \"text\", \"value\", ...}` is deprecated. Please use `{\"type\": \"text\", \"text\": \"String input\"}` or `{\"type\": \"text\", \"arguments\": {..}} ` instead.\n",
      "\u001b[2m2025-04-07T18:45:45.914589Z\u001b[0m \u001b[33m WARN\u001b[0m \u001b[2mtensorzero_internal::inference::types\u001b[0m\u001b[2m:\u001b[0m Deprecation Warning: `{\"type\": \"text\", \"value\", ...}` is deprecated. Please use `{\"type\": \"text\", \"text\": \"String input\"}` or `{\"type\": \"text\", \"arguments\": {..}} ` instead.\n",
      "\u001b[2m2025-04-07T18:45:45.953041Z\u001b[0m \u001b[33m WARN\u001b[0m \u001b[2mtensorzero_internal::inference::types\u001b[0m\u001b[2m:\u001b[0m Deprecation Warning: `{\"type\": \"text\", \"value\", ...}` is deprecated. Please use `{\"type\": \"text\", \"text\": \"String input\"}` or `{\"type\": \"text\", \"arguments\": {..}} ` instead.\n",
      "\u001b[2m2025-04-07T18:45:45.965823Z\u001b[0m \u001b[33m WARN\u001b[0m \u001b[2mtensorzero_internal::inference::types\u001b[0m\u001b[2m:\u001b[0m Deprecation Warning: `{\"type\": \"text\", \"value\", ...}` is deprecated. Please use `{\"type\": \"text\", \"text\": \"String input\"}` or `{\"type\": \"text\", \"arguments\": {..}} ` instead.\n",
      "\u001b[2m2025-04-07T18:45:45.976819Z\u001b[0m \u001b[33m WARN\u001b[0m \u001b[2mtensorzero_internal::inference::types\u001b[0m\u001b[2m:\u001b[0m Deprecation Warning: `{\"type\": \"text\", \"value\", ...}` is deprecated. Please use `{\"type\": \"text\", \"text\": \"String input\"}` or `{\"type\": \"text\", \"arguments\": {..}} ` instead.\n"
     ]
    },
    {
     "name": "stderr",
     "output_type": "stream",
     "text": [
      "100%|██████████| 100/100 [00:02<00:00, 43.47it/s]\n",
      "100%|██████████| 100/100 [00:13<00:00,  7.23it/s]\n",
      "[I 2025-04-07 14:46:01,058] Trial 0 finished with value: 0.6106904761904761 and parameters: {'instruction_index': 8, 'demonstration_index': 9}. Best is trial 0 with value: 0.6106904761904761.\n"
     ]
    },
    {
     "name": "stdout",
     "output_type": "stream",
     "text": [
      "Iteration 1: 0.6106904761904761\n"
     ]
    },
    {
     "name": "stderr",
     "output_type": "stream",
     "text": [
      "  0%|          | 0/100 [00:00<?, ?it/s]"
     ]
    },
    {
     "name": "stdout",
     "output_type": "stream",
     "text": [
      "\u001b[2m2025-04-07T18:46:01.393433Z\u001b[0m \u001b[33m WARN\u001b[0m \u001b[2mtensorzero_internal::inference::types\u001b[0m\u001b[2m:\u001b[0m Deprecation Warning: `{\"type\": \"text\", \"value\", ...}` is deprecated. Please use `{\"type\": \"text\", \"text\": \"String input\"}` or `{\"type\": \"text\", \"arguments\": {..}} ` instead.\n",
      "\u001b[2m2025-04-07T18:46:01.393492Z\u001b[0m \u001b[33m WARN\u001b[0m \u001b[2mtensorzero_internal::inference::types\u001b[0m\u001b[2m:\u001b[0m Deprecation Warning: `{\"type\": \"text\", \"value\", ...}` is deprecated. Please use `{\"type\": \"text\", \"text\": \"String input\"}` or `{\"type\": \"text\", \"arguments\": {..}} ` instead.\n",
      "\u001b[2m2025-04-07T18:46:01.393525Z\u001b[0m \u001b[33m WARN\u001b[0m \u001b[2mtensorzero_internal::inference::types\u001b[0m\u001b[2m:\u001b[0m Deprecation Warning: `{\"type\": \"text\", \"value\", ...}` is deprecated. Please use `{\"type\": \"text\", \"text\": \"String input\"}` or `{\"type\": \"text\", \"arguments\": {..}} ` instead.\n",
      "\u001b[2m2025-04-07T18:46:01.393575Z\u001b[0m \u001b[33m WARN\u001b[0m \u001b[2mtensorzero_internal::inference::types\u001b[0m\u001b[2m:\u001b[0m Deprecation Warning: `{\"type\": \"text\", \"value\", ...}` is deprecated. Please use `{\"type\": \"text\", \"text\": \"String input\"}` or `{\"type\": \"text\", \"arguments\": {..}} ` instead.\n",
      "\u001b[2m2025-04-07T18:46:01.393584Z\u001b[0m \u001b[33m WARN\u001b[0m \u001b[2mtensorzero_internal::inference::types\u001b[0m\u001b[2m:\u001b[0m Deprecation Warning: `{\"type\": \"text\", \"value\", ...}` is deprecated. Please use `{\"type\": \"text\", \"text\": \"String input\"}` or `{\"type\": \"text\", \"arguments\": {..}} ` instead.\n",
      "\u001b[2m2025-04-07T18:46:01.393587Z\u001b[0m \u001b[33m WARN\u001b[0m \u001b[2mtensorzero_internal::inference::types\u001b[0m\u001b[2m:\u001b[0m Deprecation Warning: `{\"type\": \"text\", \"value\", ...}` is deprecated. Please use `{\"type\": \"text\", \"text\": \"String input\"}` or `{\"type\": \"text\", \"arguments\": {..}} ` instead.\n",
      "\u001b[2m2025-04-07T18:46:01.393609Z\u001b[0m \u001b[33m WARN\u001b[0m \u001b[2mtensorzero_internal::inference::types\u001b[0m\u001b[2m:\u001b[0m Deprecation Warning: `{\"type\": \"text\", \"value\", ...}` is deprecated. Please use `{\"type\": \"text\", \"text\": \"String input\"}` or `{\"type\": \"text\", \"arguments\": {..}} ` instead.\n",
      "\u001b[2m2025-04-07T18:46:01.393653Z\u001b[0m \u001b[33m WARN\u001b[0m \u001b[2mtensorzero_internal::inference::types\u001b[0m\u001b[2m:\u001b[0m Deprecation Warning: `{\"type\": \"text\", \"value\", ...}` is deprecated. Please use `{\"type\": \"text\", \"text\": \"String input\"}` or `{\"type\": \"text\", \"arguments\": {..}} ` instead.\n",
      "\u001b[2m2025-04-07T18:46:01.393676Z\u001b[0m \u001b[33m WARN\u001b[0m \u001b[2mtensorzero_internal::inference::types\u001b[0m\u001b[2m:\u001b[0m Deprecation Warning: `{\"type\": \"text\", \"value\", ...}` is deprecated. Please use `{\"type\": \"text\", \"text\": \"String input\"}` or `{\"type\": \"text\", \"arguments\": {..}} ` instead.\n",
      "\u001b[2m2025-04-07T18:46:01.393691Z\u001b[0m \u001b[33m WARN\u001b[0m \u001b[2mtensorzero_internal::inference::types\u001b[0m\u001b[2m:\u001b[0m Deprecation Warning: `{\"type\": \"text\", \"value\", ...}` is deprecated. Please use `{\"type\": \"text\", \"text\": \"String input\"}` or `{\"type\": \"text\", \"arguments\": {..}} ` instead.\n",
      "\u001b[2m2025-04-07T18:46:01.393694Z\u001b[0m \u001b[33m WARN\u001b[0m \u001b[2mtensorzero_internal::inference::types\u001b[0m\u001b[2m:\u001b[0m Deprecation Warning: `{\"type\": \"text\", \"value\", ...}` is deprecated. Please use `{\"type\": \"text\", \"text\": \"String input\"}` or `{\"type\": \"text\", \"arguments\": {..}} ` instead.\n",
      "\u001b[2m2025-04-07T18:46:01.393841Z\u001b[0m \u001b[33m WARN\u001b[0m \u001b[2mtensorzero_internal::inference::types\u001b[0m\u001b[2m:\u001b[0m Deprecation Warning: `{\"type\": \"text\", \"value\", ...}` is deprecated. Please use `{\"type\": \"text\", \"text\": \"String input\"}` or `{\"type\": \"text\", \"arguments\": {..}} ` instead.\n",
      "\u001b[2m2025-04-07T18:46:01.393850Z\u001b[0m \u001b[33m WARN\u001b[0m \u001b[2mtensorzero_internal::inference::types\u001b[0m\u001b[2m:\u001b[0m Deprecation Warning: `{\"type\": \"text\", \"value\", ...}` is deprecated. Please use `{\"type\": \"text\", \"text\": \"String input\"}` or `{\"type\": \"text\", \"arguments\": {..}} ` instead.\n",
      "\u001b[2m2025-04-07T18:46:01.393865Z\u001b[0m \u001b[33m WARN\u001b[0m \u001b[2mtensorzero_internal::inference::types\u001b[0m\u001b[2m:\u001b[0m Deprecation Warning: `{\"type\": \"text\", \"value\", ...}` is deprecated. Please use `{\"type\": \"text\", \"text\": \"String input\"}` or `{\"type\": \"text\", \"arguments\": {..}} ` instead.\n",
      "\u001b[2m2025-04-07T18:46:01.393870Z\u001b[0m \u001b[33m WARN\u001b[0m \u001b[2mtensorzero_internal::inference::types\u001b[0m\u001b[2m:\u001b[0m Deprecation Warning: `{\"type\": \"text\", \"value\", ...}` is deprecated. Please use `{\"type\": \"text\", \"text\": \"String input\"}` or `{\"type\": \"text\", \"arguments\": {..}} ` instead.\n",
      "\u001b[2m2025-04-07T18:46:01.393889Z\u001b[0m \u001b[33m WARN\u001b[0m \u001b[2mtensorzero_internal::inference::types\u001b[0m\u001b[2m:\u001b[0m Deprecation Warning: `{\"type\": \"text\", \"value\", ...}` is deprecated. Please use `{\"type\": \"text\", \"text\": \"String input\"}` or `{\"type\": \"text\", \"arguments\": {..}} ` instead.\n",
      "\u001b[2m2025-04-07T18:46:01.393899Z\u001b[0m \u001b[33m WARN\u001b[0m \u001b[2mtensorzero_internal::inference::types\u001b[0m\u001b[2m:\u001b[0m Deprecation Warning: `{\"type\": \"text\", \"value\", ...}` is deprecated. Please use `{\"type\": \"text\", \"text\": \"String input\"}` or `{\"type\": \"text\", \"arguments\": {..}} ` instead.\n",
      "\u001b[2m2025-04-07T18:46:01.393958Z\u001b[0m \u001b[33m WARN\u001b[0m \u001b[2mtensorzero_internal::inference::types\u001b[0m\u001b[2m:\u001b[0m Deprecation Warning: `{\"type\": \"text\", \"value\", ...}` is deprecated. Please use `{\"type\": \"text\", \"text\": \"String input\"}` or `{\"type\": \"text\", \"arguments\": {..}} ` instead.\n",
      "\u001b[2m2025-04-07T18:46:01.394163Z\u001b[0m \u001b[33m WARN\u001b[0m \u001b[2mtensorzero_internal::inference::types\u001b[0m\u001b[2m:\u001b[0m Deprecation Warning: `{\"type\": \"text\", \"value\", ...}` is deprecated. Please use `{\"type\": \"text\", \"text\": \"String input\"}` or `{\"type\": \"text\", \"arguments\": {..}} ` instead.\n",
      "\u001b[2m2025-04-07T18:46:01.394167Z\u001b[0m \u001b[33m WARN\u001b[0m \u001b[2mtensorzero_internal::inference::types\u001b[0m\u001b[2m:\u001b[0m Deprecation Warning: `{\"type\": \"text\", \"value\", ...}` is deprecated. Please use `{\"type\": \"text\", \"text\": \"String input\"}` or `{\"type\": \"text\", \"arguments\": {..}} ` instead.\n",
      "\u001b[2m2025-04-07T18:46:01.394176Z\u001b[0m \u001b[33m WARN\u001b[0m \u001b[2mtensorzero_internal::inference::types\u001b[0m\u001b[2m:\u001b[0m Deprecation Warning: `{\"type\": \"text\", \"value\", ...}` is deprecated. Please use `{\"type\": \"text\", \"text\": \"String input\"}` or `{\"type\": \"text\", \"arguments\": {..}} ` instead.\n",
      "\u001b[2m2025-04-07T18:46:01.394187Z\u001b[0m \u001b[33m WARN\u001b[0m \u001b[2mtensorzero_internal::inference::types\u001b[0m\u001b[2m:\u001b[0m Deprecation Warning: `{\"type\": \"text\", \"value\", ...}` is deprecated. Please use `{\"type\": \"text\", \"text\": \"String input\"}` or `{\"type\": \"text\", \"arguments\": {..}} ` instead.\n",
      "\u001b[2m2025-04-07T18:46:01.394208Z\u001b[0m \u001b[33m WARN\u001b[0m \u001b[2mtensorzero_internal::inference::types\u001b[0m\u001b[2m:\u001b[0m Deprecation Warning: `{\"type\": \"text\", \"value\", ...}` is deprecated. Please use `{\"type\": \"text\", \"text\": \"String input\"}` or `{\"type\": \"text\", \"arguments\": {..}} ` instead.\n",
      "\u001b[2m2025-04-07T18:46:01.394240Z\u001b[0m \u001b[33m WARN\u001b[0m \u001b[2mtensorzero_internal::inference::types\u001b[0m\u001b[2m:\u001b[0m Deprecation Warning: `{\"type\": \"text\", \"value\", ...}` is deprecated. Please use `{\"type\": \"text\", \"text\": \"String input\"}` or `{\"type\": \"text\", \"arguments\": {..}} ` instead.\n",
      "\u001b[2m2025-04-07T18:46:01.394267Z\u001b[0m \u001b[33m WARN\u001b[0m \u001b[2mtensorzero_internal::inference::types\u001b[0m\u001b[2m:\u001b[0m Deprecation Warning: `{\"type\": \"text\", \"value\", ...}` is deprecated. Please use `{\"type\": \"text\", \"text\": \"String input\"}` or `{\"type\": \"text\", \"arguments\": {..}} ` instead.\n",
      "\u001b[2m2025-04-07T18:46:01.394272Z\u001b[0m \u001b[33m WARN\u001b[0m \u001b[2mtensorzero_internal::inference::types\u001b[0m\u001b[2m:\u001b[0m Deprecation Warning: `{\"type\": \"text\", \"value\", ...}` is deprecated. Please use `{\"type\": \"text\", \"text\": \"String input\"}` or `{\"type\": \"text\", \"arguments\": {..}} ` instead.\n",
      "\u001b[2m2025-04-07T18:46:01.394405Z\u001b[0m \u001b[33m WARN\u001b[0m \u001b[2mtensorzero_internal::inference::types\u001b[0m\u001b[2m:\u001b[0m Deprecation Warning: `{\"type\": \"text\", \"value\", ...}` is deprecated. Please use `{\"type\": \"text\", \"text\": \"String input\"}` or `{\"type\": \"text\", \"arguments\": {..}} ` instead.\n",
      "\u001b[2m2025-04-07T18:46:01.394406Z\u001b[0m \u001b[33m WARN\u001b[0m \u001b[2mtensorzero_internal::inference::types\u001b[0m\u001b[2m:\u001b[0m Deprecation Warning: `{\"type\": \"text\", \"value\", ...}` is deprecated. Please use `{\"type\": \"text\", \"text\": \"String input\"}` or `{\"type\": \"text\", \"arguments\": {..}} ` instead.\n",
      "\u001b[2m2025-04-07T18:46:01.394516Z\u001b[0m \u001b[33m WARN\u001b[0m \u001b[2mtensorzero_internal::inference::types\u001b[0m\u001b[2m:\u001b[0m Deprecation Warning: `{\"type\": \"text\", \"value\", ...}` is deprecated. Please use `{\"type\": \"text\", \"text\": \"String input\"}` or `{\"type\": \"text\", \"arguments\": {..}} ` instead.\n",
      "\u001b[2m2025-04-07T18:46:01.394519Z\u001b[0m \u001b[33m WARN\u001b[0m \u001b[2mtensorzero_internal::inference::types\u001b[0m\u001b[2m:\u001b[0m Deprecation Warning: `{\"type\": \"text\", \"value\", ...}` is deprecated. Please use `{\"type\": \"text\", \"text\": \"String input\"}` or `{\"type\": \"text\", \"arguments\": {..}} ` instead.\n",
      "\u001b[2m2025-04-07T18:46:01.394526Z\u001b[0m \u001b[33m WARN\u001b[0m \u001b[2mtensorzero_internal::inference::types\u001b[0m\u001b[2m:\u001b[0m Deprecation Warning: `{\"type\": \"text\", \"value\", ...}` is deprecated. Please use `{\"type\": \"text\", \"text\": \"String input\"}` or `{\"type\": \"text\", \"arguments\": {..}} ` instead.\n",
      "\u001b[2m2025-04-07T18:46:01.394625Z\u001b[0m \u001b[33m WARN\u001b[0m \u001b[2mtensorzero_internal::inference::types\u001b[0m\u001b[2m:\u001b[0m Deprecation Warning: `{\"type\": \"text\", \"value\", ...}` is deprecated. Please use `{\"type\": \"text\", \"text\": \"String input\"}` or `{\"type\": \"text\", \"arguments\": {..}} ` instead.\n",
      "\u001b[2m2025-04-07T18:46:01.394631Z\u001b[0m \u001b[33m WARN\u001b[0m \u001b[2mtensorzero_internal::inference::types\u001b[0m\u001b[2m:\u001b[0m Deprecation Warning: `{\"type\": \"text\", \"value\", ...}` is deprecated. Please use `{\"type\": \"text\", \"text\": \"String input\"}` or `{\"type\": \"text\", \"arguments\": {..}} ` instead.\n",
      "\u001b[2m2025-04-07T18:46:01.394687Z\u001b[0m \u001b[33m WARN\u001b[0m \u001b[2mtensorzero_internal::inference::types\u001b[0m\u001b[2m:\u001b[0m Deprecation Warning: `{\"type\": \"text\", \"value\", ...}` is deprecated. Please use `{\"type\": \"text\", \"text\": \"String input\"}` or `{\"type\": \"text\", \"arguments\": {..}} ` instead.\n",
      "\u001b[2m2025-04-07T18:46:01.394702Z\u001b[0m \u001b[33m WARN\u001b[0m \u001b[2mtensorzero_internal::inference::types\u001b[0m\u001b[2m:\u001b[0m Deprecation Warning: `{\"type\": \"text\", \"value\", ...}` is deprecated. Please use `{\"type\": \"text\", \"text\": \"String input\"}` or `{\"type\": \"text\", \"arguments\": {..}} ` instead.\n",
      "\u001b[2m2025-04-07T18:46:01.394727Z\u001b[0m \u001b[33m WARN\u001b[0m \u001b[2mtensorzero_internal::inference::types\u001b[0m\u001b[2m:\u001b[0m Deprecation Warning: `{\"type\": \"text\", \"value\", ...}` is deprecated. Please use `{\"type\": \"text\", \"text\": \"String input\"}` or `{\"type\": \"text\", \"arguments\": {..}} ` instead.\n",
      "\u001b[2m2025-04-07T18:46:01.394755Z\u001b[0m \u001b[33m WARN\u001b[0m \u001b[2mtensorzero_internal::inference::types\u001b[0m\u001b[2m:\u001b[0m Deprecation Warning: `{\"type\": \"text\", \"value\", ...}` is deprecated. Please use `{\"type\": \"text\", \"text\": \"String input\"}` or `{\"type\": \"text\", \"arguments\": {..}} ` instead.\n",
      "\u001b[2m2025-04-07T18:46:01.394762Z\u001b[0m \u001b[33m WARN\u001b[0m \u001b[2mtensorzero_internal::inference::types\u001b[0m\u001b[2m:\u001b[0m Deprecation Warning: `{\"type\": \"text\", \"value\", ...}` is deprecated. Please use `{\"type\": \"text\", \"text\": \"String input\"}` or `{\"type\": \"text\", \"arguments\": {..}} ` instead.\n",
      "\u001b[2m2025-04-07T18:46:01.394770Z\u001b[0m \u001b[33m WARN\u001b[0m \u001b[2mtensorzero_internal::inference::types\u001b[0m\u001b[2m:\u001b[0m Deprecation Warning: `{\"type\": \"text\", \"value\", ...}` is deprecated. Please use `{\"type\": \"text\", \"text\": \"String input\"}` or `{\"type\": \"text\", \"arguments\": {..}} ` instead.\n",
      "\u001b[2m2025-04-07T18:46:01.394808Z\u001b[0m \u001b[33m WARN\u001b[0m \u001b[2mtensorzero_internal::inference::types\u001b[0m\u001b[2m:\u001b[0m Deprecation Warning: `{\"type\": \"text\", \"value\", ...}` is deprecated. Please use `{\"type\": \"text\", \"text\": \"String input\"}` or `{\"type\": \"text\", \"arguments\": {..}} ` instead.\n",
      "\u001b[2m2025-04-07T18:46:01.394811Z\u001b[0m \u001b[33m WARN\u001b[0m \u001b[2mtensorzero_internal::inference::types\u001b[0m\u001b[2m:\u001b[0m Deprecation Warning: `{\"type\": \"text\", \"value\", ...}` is deprecated. Please use `{\"type\": \"text\", \"text\": \"String input\"}` or `{\"type\": \"text\", \"arguments\": {..}} ` instead.\n",
      "\u001b[2m2025-04-07T18:46:01.394819Z\u001b[0m \u001b[33m WARN\u001b[0m \u001b[2mtensorzero_internal::inference::types\u001b[0m\u001b[2m:\u001b[0m Deprecation Warning: `{\"type\": \"text\", \"value\", ...}` is deprecated. Please use `{\"type\": \"text\", \"text\": \"String input\"}` or `{\"type\": \"text\", \"arguments\": {..}} ` instead.\n",
      "\u001b[2m2025-04-07T18:46:01.394820Z\u001b[0m \u001b[33m WARN\u001b[0m \u001b[2mtensorzero_internal::inference::types\u001b[0m\u001b[2m:\u001b[0m Deprecation Warning: `{\"type\": \"text\", \"value\", ...}` is deprecated. Please use `{\"type\": \"text\", \"text\": \"String input\"}` or `{\"type\": \"text\", \"arguments\": {..}} ` instead.\n",
      "\u001b[2m2025-04-07T18:46:01.394825Z\u001b[0m \u001b[33m WARN\u001b[0m \u001b[2mtensorzero_internal::inference::types\u001b[0m\u001b[2m:\u001b[0m Deprecation Warning: `{\"type\": \"text\", \"value\", ...}` is deprecated. Please use `{\"type\": \"text\", \"text\": \"String input\"}` or `{\"type\": \"text\", \"arguments\": {..}} ` instead.\n",
      "\u001b[2m2025-04-07T18:46:01.394840Z\u001b[0m \u001b[33m WARN\u001b[0m \u001b[2mtensorzero_internal::inference::types\u001b[0m\u001b[2m:\u001b[0m Deprecation Warning: `{\"type\": \"text\", \"value\", ...}` is deprecated. Please use `{\"type\": \"text\", \"text\": \"String input\"}` or `{\"type\": \"text\", \"arguments\": {..}} ` instead.\n",
      "\u001b[2m2025-04-07T18:46:01.394859Z\u001b[0m \u001b[33m WARN\u001b[0m \u001b[2mtensorzero_internal::inference::types\u001b[0m\u001b[2m:\u001b[0m Deprecation Warning: `{\"type\": \"text\", \"value\", ...}` is deprecated. Please use `{\"type\": \"text\", \"text\": \"String input\"}` or `{\"type\": \"text\", \"arguments\": {..}} ` instead.\n",
      "\u001b[2m2025-04-07T18:46:01.394887Z\u001b[0m \u001b[33m WARN\u001b[0m \u001b[2mtensorzero_internal::inference::types\u001b[0m\u001b[2m:\u001b[0m Deprecation Warning: `{\"type\": \"text\", \"value\", ...}` is deprecated. Please use `{\"type\": \"text\", \"text\": \"String input\"}` or `{\"type\": \"text\", \"arguments\": {..}} ` instead.\n",
      "\u001b[2m2025-04-07T18:46:01.394888Z\u001b[0m \u001b[33m WARN\u001b[0m \u001b[2mtensorzero_internal::inference::types\u001b[0m\u001b[2m:\u001b[0m Deprecation Warning: `{\"type\": \"text\", \"value\", ...}` is deprecated. Please use `{\"type\": \"text\", \"text\": \"String input\"}` or `{\"type\": \"text\", \"arguments\": {..}} ` instead.\n",
      "\u001b[2m2025-04-07T18:46:01.394917Z\u001b[0m \u001b[33m WARN\u001b[0m \u001b[2mtensorzero_internal::inference::types\u001b[0m\u001b[2m:\u001b[0m Deprecation Warning: `{\"type\": \"text\", \"value\", ...}` is deprecated. Please use `{\"type\": \"text\", \"text\": \"String input\"}` or `{\"type\": \"text\", \"arguments\": {..}} ` instead.\n",
      "\u001b[2m2025-04-07T18:46:01.394953Z\u001b[0m \u001b[33m WARN\u001b[0m \u001b[2mtensorzero_internal::inference::types\u001b[0m\u001b[2m:\u001b[0m Deprecation Warning: `{\"type\": \"text\", \"value\", ...}` is deprecated. Please use `{\"type\": \"text\", \"text\": \"String input\"}` or `{\"type\": \"text\", \"arguments\": {..}} ` instead.\n"
     ]
    },
    {
     "name": "stderr",
     "output_type": "stream",
     "text": [
      "  7%|▋         | 7/100 [00:00<00:06, 14.02it/s]"
     ]
    },
    {
     "name": "stdout",
     "output_type": "stream",
     "text": [
      "\u001b[2m2025-04-07T18:46:01.923090Z\u001b[0m \u001b[33m WARN\u001b[0m \u001b[2mtensorzero_internal::inference::types\u001b[0m\u001b[2m:\u001b[0m Deprecation Warning: `{\"type\": \"text\", \"value\", ...}` is deprecated. Please use `{\"type\": \"text\", \"text\": \"String input\"}` or `{\"type\": \"text\", \"arguments\": {..}} ` instead.\n",
      "\u001b[2m2025-04-07T18:46:01.932731Z\u001b[0m \u001b[33m WARN\u001b[0m \u001b[2mtensorzero_internal::inference::types\u001b[0m\u001b[2m:\u001b[0m Deprecation Warning: `{\"type\": \"text\", \"value\", ...}` is deprecated. Please use `{\"type\": \"text\", \"text\": \"String input\"}` or `{\"type\": \"text\", \"arguments\": {..}} ` instead.\n",
      "\u001b[2m2025-04-07T18:46:01.988702Z\u001b[0m \u001b[33m WARN\u001b[0m \u001b[2mtensorzero_internal::inference::types\u001b[0m\u001b[2m:\u001b[0m Deprecation Warning: `{\"type\": \"text\", \"value\", ...}` is deprecated. Please use `{\"type\": \"text\", \"text\": \"String input\"}` or `{\"type\": \"text\", \"arguments\": {..}} ` instead.\n",
      "\u001b[2m2025-04-07T18:46:01.988702Z\u001b[0m \u001b[33m WARN\u001b[0m \u001b[2mtensorzero_internal::inference::types\u001b[0m\u001b[2m:\u001b[0m Deprecation Warning: `{\"type\": \"text\", \"value\", ...}` is deprecated. Please use `{\"type\": \"text\", \"text\": \"String input\"}` or `{\"type\": \"text\", \"arguments\": {..}} ` instead.\n",
      "\u001b[2m2025-04-07T18:46:01.993249Z\u001b[0m \u001b[33m WARN\u001b[0m \u001b[2mtensorzero_internal::inference::types\u001b[0m\u001b[2m:\u001b[0m Deprecation Warning: `{\"type\": \"text\", \"value\", ...}` is deprecated. Please use `{\"type\": \"text\", \"text\": \"String input\"}` or `{\"type\": \"text\", \"arguments\": {..}} ` instead.\n",
      "\u001b[2m2025-04-07T18:46:02.010757Z\u001b[0m \u001b[33m WARN\u001b[0m \u001b[2mtensorzero_internal::inference::types\u001b[0m\u001b[2m:\u001b[0m Deprecation Warning: `{\"type\": \"text\", \"value\", ...}` is deprecated. Please use `{\"type\": \"text\", \"text\": \"String input\"}` or `{\"type\": \"text\", \"arguments\": {..}} ` instead.\n",
      "\u001b[2m2025-04-07T18:46:02.029708Z\u001b[0m \u001b[33m WARN\u001b[0m \u001b[2mtensorzero_internal::inference::types\u001b[0m\u001b[2m:\u001b[0m Deprecation Warning: `{\"type\": \"text\", \"value\", ...}` is deprecated. Please use `{\"type\": \"text\", \"text\": \"String input\"}` or `{\"type\": \"text\", \"arguments\": {..}} ` instead.\n",
      "\u001b[2m2025-04-07T18:46:02.081357Z\u001b[0m \u001b[33m WARN\u001b[0m \u001b[2mtensorzero_internal::inference::types\u001b[0m\u001b[2m:\u001b[0m Deprecation Warning: `{\"type\": \"text\", \"value\", ...}` is deprecated. Please use `{\"type\": \"text\", \"text\": \"String input\"}` or `{\"type\": \"text\", \"arguments\": {..}} ` instead.\n",
      "\u001b[2m2025-04-07T18:46:02.094708Z\u001b[0m \u001b[33m WARN\u001b[0m \u001b[2mtensorzero_internal::inference::types\u001b[0m\u001b[2m:\u001b[0m Deprecation Warning: `{\"type\": \"text\", \"value\", ...}` is deprecated. Please use `{\"type\": \"text\", \"text\": \"String input\"}` or `{\"type\": \"text\", \"arguments\": {..}} ` instead.\n",
      "\u001b[2m2025-04-07T18:46:02.116212Z\u001b[0m \u001b[33m WARN\u001b[0m \u001b[2mtensorzero_internal::inference::types\u001b[0m\u001b[2m:\u001b[0m Deprecation Warning: `{\"type\": \"text\", \"value\", ...}` is deprecated. Please use `{\"type\": \"text\", \"text\": \"String input\"}` or `{\"type\": \"text\", \"arguments\": {..}} ` instead.\n"
     ]
    },
    {
     "name": "stderr",
     "output_type": "stream",
     "text": [
      " 20%|██        | 20/100 [00:00<00:02, 36.53it/s]"
     ]
    },
    {
     "name": "stdout",
     "output_type": "stream",
     "text": [
      "\u001b[2m2025-04-07T18:46:02.135726Z\u001b[0m \u001b[33m WARN\u001b[0m \u001b[2mtensorzero_internal::inference::types\u001b[0m\u001b[2m:\u001b[0m Deprecation Warning: `{\"type\": \"text\", \"value\", ...}` is deprecated. Please use `{\"type\": \"text\", \"text\": \"String input\"}` or `{\"type\": \"text\", \"arguments\": {..}} ` instead.\n",
      "\u001b[2m2025-04-07T18:46:02.138546Z\u001b[0m \u001b[33m WARN\u001b[0m \u001b[2mtensorzero_internal::inference::types\u001b[0m\u001b[2m:\u001b[0m Deprecation Warning: `{\"type\": \"text\", \"value\", ...}` is deprecated. Please use `{\"type\": \"text\", \"text\": \"String input\"}` or `{\"type\": \"text\", \"arguments\": {..}} ` instead.\n",
      "\u001b[2m2025-04-07T18:46:02.157738Z\u001b[0m \u001b[33m WARN\u001b[0m \u001b[2mtensorzero_internal::inference::types\u001b[0m\u001b[2m:\u001b[0m Deprecation Warning: `{\"type\": \"text\", \"value\", ...}` is deprecated. Please use `{\"type\": \"text\", \"text\": \"String input\"}` or `{\"type\": \"text\", \"arguments\": {..}} ` instead.\n",
      "\u001b[2m2025-04-07T18:46:02.168934Z\u001b[0m \u001b[33m WARN\u001b[0m \u001b[2mtensorzero_internal::inference::types\u001b[0m\u001b[2m:\u001b[0m Deprecation Warning: `{\"type\": \"text\", \"value\", ...}` is deprecated. Please use `{\"type\": \"text\", \"text\": \"String input\"}` or `{\"type\": \"text\", \"arguments\": {..}} ` instead.\n",
      "\u001b[2m2025-04-07T18:46:02.186751Z\u001b[0m \u001b[33m WARN\u001b[0m \u001b[2mtensorzero_internal::inference::types\u001b[0m\u001b[2m:\u001b[0m Deprecation Warning: `{\"type\": \"text\", \"value\", ...}` is deprecated. Please use `{\"type\": \"text\", \"text\": \"String input\"}` or `{\"type\": \"text\", \"arguments\": {..}} ` instead.\n",
      "\u001b[2m2025-04-07T18:46:02.195972Z\u001b[0m \u001b[33m WARN\u001b[0m \u001b[2mtensorzero_internal::inference::types\u001b[0m\u001b[2m:\u001b[0m Deprecation Warning: `{\"type\": \"text\", \"value\", ...}` is deprecated. Please use `{\"type\": \"text\", \"text\": \"String input\"}` or `{\"type\": \"text\", \"arguments\": {..}} ` instead.\n",
      "\u001b[2m2025-04-07T18:46:02.221448Z\u001b[0m \u001b[33m WARN\u001b[0m \u001b[2mtensorzero_internal::inference::types\u001b[0m\u001b[2m:\u001b[0m Deprecation Warning: `{\"type\": \"text\", \"value\", ...}` is deprecated. Please use `{\"type\": \"text\", \"text\": \"String input\"}` or `{\"type\": \"text\", \"arguments\": {..}} ` instead.\n",
      "\u001b[2m2025-04-07T18:46:02.224617Z\u001b[0m \u001b[33m WARN\u001b[0m \u001b[2mtensorzero_internal::inference::types\u001b[0m\u001b[2m:\u001b[0m Deprecation Warning: `{\"type\": \"text\", \"value\", ...}` is deprecated. Please use `{\"type\": \"text\", \"text\": \"String input\"}` or `{\"type\": \"text\", \"arguments\": {..}} ` instead.\n",
      "\u001b[2m2025-04-07T18:46:02.234137Z\u001b[0m \u001b[33m WARN\u001b[0m \u001b[2mtensorzero_internal::inference::types\u001b[0m\u001b[2m:\u001b[0m Deprecation Warning: `{\"type\": \"text\", \"value\", ...}` is deprecated. Please use `{\"type\": \"text\", \"text\": \"String input\"}` or `{\"type\": \"text\", \"arguments\": {..}} ` instead.\n",
      "\u001b[2m2025-04-07T18:46:02.240642Z\u001b[0m \u001b[33m WARN\u001b[0m \u001b[2mtensorzero_internal::inference::types\u001b[0m\u001b[2m:\u001b[0m Deprecation Warning: `{\"type\": \"text\", \"value\", ...}` is deprecated. Please use `{\"type\": \"text\", \"text\": \"String input\"}` or `{\"type\": \"text\", \"arguments\": {..}} ` instead.\n",
      "\u001b[2m2025-04-07T18:46:02.258251Z\u001b[0m \u001b[33m WARN\u001b[0m \u001b[2mtensorzero_internal::inference::types\u001b[0m\u001b[2m:\u001b[0m Deprecation Warning: `{\"type\": \"text\", \"value\", ...}` is deprecated. Please use `{\"type\": \"text\", \"text\": \"String input\"}` or `{\"type\": \"text\", \"arguments\": {..}} ` instead.\n",
      "\u001b[2m2025-04-07T18:46:02.258262Z\u001b[0m \u001b[33m WARN\u001b[0m \u001b[2mtensorzero_internal::inference::types\u001b[0m\u001b[2m:\u001b[0m Deprecation Warning: `{\"type\": \"text\", \"value\", ...}` is deprecated. Please use `{\"type\": \"text\", \"text\": \"String input\"}` or `{\"type\": \"text\", \"arguments\": {..}} ` instead.\n",
      "\u001b[2m2025-04-07T18:46:02.275160Z\u001b[0m \u001b[33m WARN\u001b[0m \u001b[2mtensorzero_internal::inference::types\u001b[0m\u001b[2m:\u001b[0m Deprecation Warning: `{\"type\": \"text\", \"value\", ...}` is deprecated. Please use `{\"type\": \"text\", \"text\": \"String input\"}` or `{\"type\": \"text\", \"arguments\": {..}} ` instead.\n",
      "\u001b[2m2025-04-07T18:46:02.281522Z\u001b[0m \u001b[33m WARN\u001b[0m \u001b[2mtensorzero_internal::inference::types\u001b[0m\u001b[2m:\u001b[0m Deprecation Warning: `{\"type\": \"text\", \"value\", ...}` is deprecated. Please use `{\"type\": \"text\", \"text\": \"String input\"}` or `{\"type\": \"text\", \"arguments\": {..}} ` instead.\n",
      "\u001b[2m2025-04-07T18:46:02.318936Z\u001b[0m \u001b[33m WARN\u001b[0m \u001b[2mtensorzero_internal::inference::types\u001b[0m\u001b[2m:\u001b[0m Deprecation Warning: `{\"type\": \"text\", \"value\", ...}` is deprecated. Please use `{\"type\": \"text\", \"text\": \"String input\"}` or `{\"type\": \"text\", \"arguments\": {..}} ` instead.\n"
     ]
    },
    {
     "name": "stderr",
     "output_type": "stream",
     "text": [
      " 33%|███▎      | 33/100 [00:01<00:01, 48.00it/s]"
     ]
    },
    {
     "name": "stdout",
     "output_type": "stream",
     "text": [
      "\u001b[2m2025-04-07T18:46:02.338847Z\u001b[0m \u001b[33m WARN\u001b[0m \u001b[2mtensorzero_internal::inference::types\u001b[0m\u001b[2m:\u001b[0m Deprecation Warning: `{\"type\": \"text\", \"value\", ...}` is deprecated. Please use `{\"type\": \"text\", \"text\": \"String input\"}` or `{\"type\": \"text\", \"arguments\": {..}} ` instead.\n",
      "\u001b[2m2025-04-07T18:46:02.348987Z\u001b[0m \u001b[33m WARN\u001b[0m \u001b[2mtensorzero_internal::inference::types\u001b[0m\u001b[2m:\u001b[0m Deprecation Warning: `{\"type\": \"text\", \"value\", ...}` is deprecated. Please use `{\"type\": \"text\", \"text\": \"String input\"}` or `{\"type\": \"text\", \"arguments\": {..}} ` instead.\n",
      "\u001b[2m2025-04-07T18:46:02.350362Z\u001b[0m \u001b[33m WARN\u001b[0m \u001b[2mtensorzero_internal::inference::types\u001b[0m\u001b[2m:\u001b[0m Deprecation Warning: `{\"type\": \"text\", \"value\", ...}` is deprecated. Please use `{\"type\": \"text\", \"text\": \"String input\"}` or `{\"type\": \"text\", \"arguments\": {..}} ` instead.\n",
      "\u001b[2m2025-04-07T18:46:02.451368Z\u001b[0m \u001b[33m WARN\u001b[0m \u001b[2mtensorzero_internal::inference::types\u001b[0m\u001b[2m:\u001b[0m Deprecation Warning: `{\"type\": \"text\", \"value\", ...}` is deprecated. Please use `{\"type\": \"text\", \"text\": \"String input\"}` or `{\"type\": \"text\", \"arguments\": {..}} ` instead.\n",
      "\u001b[2m2025-04-07T18:46:02.451375Z\u001b[0m \u001b[33m WARN\u001b[0m \u001b[2mtensorzero_internal::inference::types\u001b[0m\u001b[2m:\u001b[0m Deprecation Warning: `{\"type\": \"text\", \"value\", ...}` is deprecated. Please use `{\"type\": \"text\", \"text\": \"String input\"}` or `{\"type\": \"text\", \"arguments\": {..}} ` instead.\n",
      "\u001b[2m2025-04-07T18:46:02.451883Z\u001b[0m \u001b[33m WARN\u001b[0m \u001b[2mtensorzero_internal::inference::types\u001b[0m\u001b[2m:\u001b[0m Deprecation Warning: `{\"type\": \"text\", \"value\", ...}` is deprecated. Please use `{\"type\": \"text\", \"text\": \"String input\"}` or `{\"type\": \"text\", \"arguments\": {..}} ` instead.\n",
      "\u001b[2m2025-04-07T18:46:02.452032Z\u001b[0m \u001b[33m WARN\u001b[0m \u001b[2mtensorzero_internal::inference::types\u001b[0m\u001b[2m:\u001b[0m Deprecation Warning: `{\"type\": \"text\", \"value\", ...}` is deprecated. Please use `{\"type\": \"text\", \"text\": \"String input\"}` or `{\"type\": \"text\", \"arguments\": {..}} ` instead.\n",
      "\u001b[2m2025-04-07T18:46:02.451881Z\u001b[0m \u001b[33m WARN\u001b[0m \u001b[2mtensorzero_internal::inference::types\u001b[0m\u001b[2m:\u001b[0m Deprecation Warning: `{\"type\": \"text\", \"value\", ...}` is deprecated. Please use `{\"type\": \"text\", \"text\": \"String input\"}` or `{\"type\": \"text\", \"arguments\": {..}} ` instead.\n",
      "\u001b[2m2025-04-07T18:46:02.454316Z\u001b[0m \u001b[33m WARN\u001b[0m \u001b[2mtensorzero_internal::inference::types\u001b[0m\u001b[2m:\u001b[0m Deprecation Warning: `{\"type\": \"text\", \"value\", ...}` is deprecated. Please use `{\"type\": \"text\", \"text\": \"String input\"}` or `{\"type\": \"text\", \"arguments\": {..}} ` instead.\n",
      "\u001b[2m2025-04-07T18:46:02.455900Z\u001b[0m \u001b[33m WARN\u001b[0m \u001b[2mtensorzero_internal::inference::types\u001b[0m\u001b[2m:\u001b[0m Deprecation Warning: `{\"type\": \"text\", \"value\", ...}` is deprecated. Please use `{\"type\": \"text\", \"text\": \"String input\"}` or `{\"type\": \"text\", \"arguments\": {..}} ` instead.\n",
      "\u001b[2m2025-04-07T18:46:02.469506Z\u001b[0m \u001b[33m WARN\u001b[0m \u001b[2mtensorzero_internal::inference::types\u001b[0m\u001b[2m:\u001b[0m Deprecation Warning: `{\"type\": \"text\", \"value\", ...}` is deprecated. Please use `{\"type\": \"text\", \"text\": \"String input\"}` or `{\"type\": \"text\", \"arguments\": {..}} ` instead.\n",
      "\u001b[2m2025-04-07T18:46:02.473385Z\u001b[0m \u001b[33m WARN\u001b[0m \u001b[2mtensorzero_internal::inference::types\u001b[0m\u001b[2m:\u001b[0m Deprecation Warning: `{\"type\": \"text\", \"value\", ...}` is deprecated. Please use `{\"type\": \"text\", \"text\": \"String input\"}` or `{\"type\": \"text\", \"arguments\": {..}} ` instead.\n",
      "\u001b[2m2025-04-07T18:46:02.479745Z\u001b[0m \u001b[33m WARN\u001b[0m \u001b[2mtensorzero_internal::inference::types\u001b[0m\u001b[2m:\u001b[0m Deprecation Warning: `{\"type\": \"text\", \"value\", ...}` is deprecated. Please use `{\"type\": \"text\", \"text\": \"String input\"}` or `{\"type\": \"text\", \"arguments\": {..}} ` instead.\n",
      "\u001b[2m2025-04-07T18:46:02.528656Z\u001b[0m \u001b[33m WARN\u001b[0m \u001b[2mtensorzero_internal::inference::types\u001b[0m\u001b[2m:\u001b[0m Deprecation Warning: `{\"type\": \"text\", \"value\", ...}` is deprecated. Please use `{\"type\": \"text\", \"text\": \"String input\"}` or `{\"type\": \"text\", \"arguments\": {..}} ` instead.\n",
      "\u001b[2m2025-04-07T18:46:02.532164Z\u001b[0m \u001b[33m WARN\u001b[0m \u001b[2mtensorzero_internal::inference::types\u001b[0m\u001b[2m:\u001b[0m Deprecation Warning: `{\"type\": \"text\", \"value\", ...}` is deprecated. Please use `{\"type\": \"text\", \"text\": \"String input\"}` or `{\"type\": \"text\", \"arguments\": {..}} ` instead.\n"
     ]
    },
    {
     "name": "stderr",
     "output_type": "stream",
     "text": [
      " 49%|████▉     | 49/100 [00:01<00:00, 51.02it/s]"
     ]
    },
    {
     "name": "stdout",
     "output_type": "stream",
     "text": [
      "\u001b[2m2025-04-07T18:46:02.547658Z\u001b[0m \u001b[33m WARN\u001b[0m \u001b[2mtensorzero_internal::inference::types\u001b[0m\u001b[2m:\u001b[0m Deprecation Warning: `{\"type\": \"text\", \"value\", ...}` is deprecated. Please use `{\"type\": \"text\", \"text\": \"String input\"}` or `{\"type\": \"text\", \"arguments\": {..}} ` instead.\n",
      "\u001b[2m2025-04-07T18:46:02.564357Z\u001b[0m \u001b[33m WARN\u001b[0m \u001b[2mtensorzero_internal::inference::types\u001b[0m\u001b[2m:\u001b[0m Deprecation Warning: `{\"type\": \"text\", \"value\", ...}` is deprecated. Please use `{\"type\": \"text\", \"text\": \"String input\"}` or `{\"type\": \"text\", \"arguments\": {..}} ` instead.\n",
      "\u001b[2m2025-04-07T18:46:02.569683Z\u001b[0m \u001b[33m WARN\u001b[0m \u001b[2mtensorzero_internal::inference::types\u001b[0m\u001b[2m:\u001b[0m Deprecation Warning: `{\"type\": \"text\", \"value\", ...}` is deprecated. Please use `{\"type\": \"text\", \"text\": \"String input\"}` or `{\"type\": \"text\", \"arguments\": {..}} ` instead.\n",
      "\u001b[2m2025-04-07T18:46:02.584893Z\u001b[0m \u001b[33m WARN\u001b[0m \u001b[2mtensorzero_internal::inference::types\u001b[0m\u001b[2m:\u001b[0m Deprecation Warning: `{\"type\": \"text\", \"value\", ...}` is deprecated. Please use `{\"type\": \"text\", \"text\": \"String input\"}` or `{\"type\": \"text\", \"arguments\": {..}} ` instead.\n",
      "\u001b[2m2025-04-07T18:46:02.625157Z\u001b[0m \u001b[33m WARN\u001b[0m \u001b[2mtensorzero_internal::inference::types\u001b[0m\u001b[2m:\u001b[0m Deprecation Warning: `{\"type\": \"text\", \"value\", ...}` is deprecated. Please use `{\"type\": \"text\", \"text\": \"String input\"}` or `{\"type\": \"text\", \"arguments\": {..}} ` instead.\n",
      "\u001b[2m2025-04-07T18:46:02.633264Z\u001b[0m \u001b[33m WARN\u001b[0m \u001b[2mtensorzero_internal::inference::types\u001b[0m\u001b[2m:\u001b[0m Deprecation Warning: `{\"type\": \"text\", \"value\", ...}` is deprecated. Please use `{\"type\": \"text\", \"text\": \"String input\"}` or `{\"type\": \"text\", \"arguments\": {..}} ` instead.\n",
      "\u001b[2m2025-04-07T18:46:02.686270Z\u001b[0m \u001b[33m WARN\u001b[0m \u001b[2mtensorzero_internal::inference::types\u001b[0m\u001b[2m:\u001b[0m Deprecation Warning: `{\"type\": \"text\", \"value\", ...}` is deprecated. Please use `{\"type\": \"text\", \"text\": \"String input\"}` or `{\"type\": \"text\", \"arguments\": {..}} ` instead.\n",
      "\u001b[2m2025-04-07T18:46:02.734633Z\u001b[0m \u001b[33m WARN\u001b[0m \u001b[2mtensorzero_internal::inference::types\u001b[0m\u001b[2m:\u001b[0m Deprecation Warning: `{\"type\": \"text\", \"value\", ...}` is deprecated. Please use `{\"type\": \"text\", \"text\": \"String input\"}` or `{\"type\": \"text\", \"arguments\": {..}} ` instead.\n",
      "\u001b[2m2025-04-07T18:46:02.734812Z\u001b[0m \u001b[33m WARN\u001b[0m \u001b[2mtensorzero_internal::inference::types\u001b[0m\u001b[2m:\u001b[0m Deprecation Warning: `{\"type\": \"text\", \"value\", ...}` is deprecated. Please use `{\"type\": \"text\", \"text\": \"String input\"}` or `{\"type\": \"text\", \"arguments\": {..}} ` instead.\n",
      "\u001b[2m2025-04-07T18:46:02.747883Z\u001b[0m \u001b[33m WARN\u001b[0m \u001b[2mtensorzero_internal::inference::types\u001b[0m\u001b[2m:\u001b[0m Deprecation Warning: `{\"type\": \"text\", \"value\", ...}` is deprecated. Please use `{\"type\": \"text\", \"text\": \"String input\"}` or `{\"type\": \"text\", \"arguments\": {..}} ` instead.\n"
     ]
    },
    {
     "name": "stderr",
     "output_type": "stream",
     "text": [
      "100%|██████████| 100/100 [00:02<00:00, 34.33it/s]\n",
      "100%|██████████| 100/100 [00:12<00:00,  7.70it/s]\n",
      "[I 2025-04-07 14:46:17,291] Trial 1 finished with value: 0.6321634920634921 and parameters: {'instruction_index': 6, 'demonstration_index': 6}. Best is trial 1 with value: 0.6321634920634921.\n"
     ]
    },
    {
     "name": "stdout",
     "output_type": "stream",
     "text": [
      "Iteration 2: 0.6321634920634921\n"
     ]
    },
    {
     "name": "stderr",
     "output_type": "stream",
     "text": [
      "  0%|          | 0/100 [00:00<?, ?it/s]"
     ]
    },
    {
     "name": "stdout",
     "output_type": "stream",
     "text": [
      "\u001b[2m2025-04-07T18:46:17.609099Z\u001b[0m \u001b[33m WARN\u001b[0m \u001b[2mtensorzero_internal::inference::types\u001b[0m\u001b[2m:\u001b[0m Deprecation Warning: `{\"type\": \"text\", \"value\", ...}` is deprecated. Please use `{\"type\": \"text\", \"text\": \"String input\"}` or `{\"type\": \"text\", \"arguments\": {..}} ` instead.\n",
      "\u001b[2m2025-04-07T18:46:17.609116Z\u001b[0m \u001b[33m WARN\u001b[0m \u001b[2mtensorzero_internal::inference::types\u001b[0m\u001b[2m:\u001b[0m Deprecation Warning: `{\"type\": \"text\", \"value\", ...}` is deprecated. Please use `{\"type\": \"text\", \"text\": \"String input\"}` or `{\"type\": \"text\", \"arguments\": {..}} ` instead.\n",
      "\u001b[2m2025-04-07T18:46:17.609125Z\u001b[0m \u001b[33m WARN\u001b[0m \u001b[2mtensorzero_internal::inference::types\u001b[0m\u001b[2m:\u001b[0m Deprecation Warning: `{\"type\": \"text\", \"value\", ...}` is deprecated. Please use `{\"type\": \"text\", \"text\": \"String input\"}` or `{\"type\": \"text\", \"arguments\": {..}} ` instead.\n",
      "\u001b[2m2025-04-07T18:46:17.609099Z\u001b[0m \u001b[33m WARN\u001b[0m \u001b[2mtensorzero_internal::inference::types\u001b[0m\u001b[2m:\u001b[0m Deprecation Warning: `{\"type\": \"text\", \"value\", ...}` is deprecated. Please use `{\"type\": \"text\", \"text\": \"String input\"}` or `{\"type\": \"text\", \"arguments\": {..}} ` instead.\n",
      "\u001b[2m2025-04-07T18:46:17.609157Z\u001b[0m \u001b[33m WARN\u001b[0m \u001b[2mtensorzero_internal::inference::types\u001b[0m\u001b[2m:\u001b[0m Deprecation Warning: `{\"type\": \"text\", \"value\", ...}` is deprecated. Please use `{\"type\": \"text\", \"text\": \"String input\"}` or `{\"type\": \"text\", \"arguments\": {..}} ` instead.\n",
      "\u001b[2m2025-04-07T18:46:17.609241Z\u001b[0m \u001b[33m WARN\u001b[0m \u001b[2mtensorzero_internal::inference::types\u001b[0m\u001b[2m:\u001b[0m Deprecation Warning: `{\"type\": \"text\", \"value\", ...}` is deprecated. Please use `{\"type\": \"text\", \"text\": \"String input\"}` or `{\"type\": \"text\", \"arguments\": {..}} ` instead.\n",
      "\u001b[2m2025-04-07T18:46:17.609246Z\u001b[0m \u001b[33m WARN\u001b[0m \u001b[2mtensorzero_internal::inference::types\u001b[0m\u001b[2m:\u001b[0m Deprecation Warning: `{\"type\": \"text\", \"value\", ...}` is deprecated. Please use `{\"type\": \"text\", \"text\": \"String input\"}` or `{\"type\": \"text\", \"arguments\": {..}} ` instead.\n",
      "\u001b[2m2025-04-07T18:46:17.609270Z\u001b[0m \u001b[33m WARN\u001b[0m \u001b[2mtensorzero_internal::inference::types\u001b[0m\u001b[2m:\u001b[0m Deprecation Warning: `{\"type\": \"text\", \"value\", ...}` is deprecated. Please use `{\"type\": \"text\", \"text\": \"String input\"}` or `{\"type\": \"text\", \"arguments\": {..}} ` instead.\n",
      "\u001b[2m2025-04-07T18:46:17.609313Z\u001b[0m \u001b[33m WARN\u001b[0m \u001b[2mtensorzero_internal::inference::types\u001b[0m\u001b[2m:\u001b[0m Deprecation Warning: `{\"type\": \"text\", \"value\", ...}` is deprecated. Please use `{\"type\": \"text\", \"text\": \"String input\"}` or `{\"type\": \"text\", \"arguments\": {..}} ` instead.\n",
      "\u001b[2m2025-04-07T18:46:17.609325Z\u001b[0m \u001b[33m WARN\u001b[0m \u001b[2mtensorzero_internal::inference::types\u001b[0m\u001b[2m:\u001b[0m Deprecation Warning: `{\"type\": \"text\", \"value\", ...}` is deprecated. Please use `{\"type\": \"text\", \"text\": \"String input\"}` or `{\"type\": \"text\", \"arguments\": {..}} ` instead.\n",
      "\u001b[2m2025-04-07T18:46:17.609376Z\u001b[0m \u001b[33m WARN\u001b[0m \u001b[2mtensorzero_internal::inference::types\u001b[0m\u001b[2m:\u001b[0m Deprecation Warning: `{\"type\": \"text\", \"value\", ...}` is deprecated. Please use `{\"type\": \"text\", \"text\": \"String input\"}` or `{\"type\": \"text\", \"arguments\": {..}} ` instead.\n",
      "\u001b[2m2025-04-07T18:46:17.609366Z\u001b[0m \u001b[33m WARN\u001b[0m \u001b[2mtensorzero_internal::inference::types\u001b[0m\u001b[2m:\u001b[0m Deprecation Warning: `{\"type\": \"text\", \"value\", ...}` is deprecated. Please use `{\"type\": \"text\", \"text\": \"String input\"}` or `{\"type\": \"text\", \"arguments\": {..}} ` instead.\n",
      "\u001b[2m2025-04-07T18:46:17.609387Z\u001b[0m \u001b[33m WARN\u001b[0m \u001b[2mtensorzero_internal::inference::types\u001b[0m\u001b[2m:\u001b[0m Deprecation Warning: `{\"type\": \"text\", \"value\", ...}` is deprecated. Please use `{\"type\": \"text\", \"text\": \"String input\"}` or `{\"type\": \"text\", \"arguments\": {..}} ` instead.\n",
      "\u001b[2m2025-04-07T18:46:17.609403Z\u001b[0m \u001b[33m WARN\u001b[0m \u001b[2mtensorzero_internal::inference::types\u001b[0m\u001b[2m:\u001b[0m Deprecation Warning: `{\"type\": \"text\", \"value\", ...}` is deprecated. Please use `{\"type\": \"text\", \"text\": \"String input\"}` or `{\"type\": \"text\", \"arguments\": {..}} ` instead.\n",
      "\u001b[2m2025-04-07T18:46:17.609403Z\u001b[0m \u001b[33m WARN\u001b[0m \u001b[2mtensorzero_internal::inference::types\u001b[0m\u001b[2m:\u001b[0m Deprecation Warning: `{\"type\": \"text\", \"value\", ...}` is deprecated. Please use `{\"type\": \"text\", \"text\": \"String input\"}` or `{\"type\": \"text\", \"arguments\": {..}} ` instead.\n",
      "\u001b[2m2025-04-07T18:46:17.609423Z\u001b[0m \u001b[33m WARN\u001b[0m \u001b[2mtensorzero_internal::inference::types\u001b[0m\u001b[2m:\u001b[0m Deprecation Warning: `{\"type\": \"text\", \"value\", ...}` is deprecated. Please use `{\"type\": \"text\", \"text\": \"String input\"}` or `{\"type\": \"text\", \"arguments\": {..}} ` instead.\n",
      "\u001b[2m2025-04-07T18:46:17.609432Z\u001b[0m \u001b[33m WARN\u001b[0m \u001b[2mtensorzero_internal::inference::types\u001b[0m\u001b[2m:\u001b[0m Deprecation Warning: `{\"type\": \"text\", \"value\", ...}` is deprecated. Please use `{\"type\": \"text\", \"text\": \"String input\"}` or `{\"type\": \"text\", \"arguments\": {..}} ` instead.\n",
      "\u001b[2m2025-04-07T18:46:17.609438Z\u001b[0m \u001b[33m WARN\u001b[0m \u001b[2mtensorzero_internal::inference::types\u001b[0m\u001b[2m:\u001b[0m Deprecation Warning: `{\"type\": \"text\", \"value\", ...}` is deprecated. Please use `{\"type\": \"text\", \"text\": \"String input\"}` or `{\"type\": \"text\", \"arguments\": {..}} ` instead.\n",
      "\u001b[2m2025-04-07T18:46:17.609458Z\u001b[0m \u001b[33m WARN\u001b[0m \u001b[2mtensorzero_internal::inference::types\u001b[0m\u001b[2m:\u001b[0m Deprecation Warning: `{\"type\": \"text\", \"value\", ...}` is deprecated. Please use `{\"type\": \"text\", \"text\": \"String input\"}` or `{\"type\": \"text\", \"arguments\": {..}} ` instead.\n",
      "\u001b[2m2025-04-07T18:46:17.609469Z\u001b[0m \u001b[33m WARN\u001b[0m \u001b[2mtensorzero_internal::inference::types\u001b[0m\u001b[2m:\u001b[0m Deprecation Warning: `{\"type\": \"text\", \"value\", ...}` is deprecated. Please use `{\"type\": \"text\", \"text\": \"String input\"}` or `{\"type\": \"text\", \"arguments\": {..}} ` instead.\n",
      "\u001b[2m2025-04-07T18:46:17.609471Z\u001b[0m \u001b[33m WARN\u001b[0m \u001b[2mtensorzero_internal::inference::types\u001b[0m\u001b[2m:\u001b[0m Deprecation Warning: `{\"type\": \"text\", \"value\", ...}` is deprecated. Please use `{\"type\": \"text\", \"text\": \"String input\"}` or `{\"type\": \"text\", \"arguments\": {..}} ` instead.\n",
      "\u001b[2m2025-04-07T18:46:17.609469Z\u001b[0m \u001b[33m WARN\u001b[0m \u001b[2mtensorzero_internal::inference::types\u001b[0m\u001b[2m:\u001b[0m Deprecation Warning: `{\"type\": \"text\", \"value\", ...}` is deprecated. Please use `{\"type\": \"text\", \"text\": \"String input\"}` or `{\"type\": \"text\", \"arguments\": {..}} ` instead.\n",
      "\u001b[2m2025-04-07T18:46:17.609492Z\u001b[0m \u001b[33m WARN\u001b[0m \u001b[2mtensorzero_internal::inference::types\u001b[0m\u001b[2m:\u001b[0m Deprecation Warning: `{\"type\": \"text\", \"value\", ...}` is deprecated. Please use `{\"type\": \"text\", \"text\": \"String input\"}` or `{\"type\": \"text\", \"arguments\": {..}} ` instead.\n",
      "\u001b[2m2025-04-07T18:46:17.609409Z\u001b[0m \u001b[33m WARN\u001b[0m \u001b[2mtensorzero_internal::inference::types\u001b[0m\u001b[2m:\u001b[0m Deprecation Warning: `{\"type\": \"text\", \"value\", ...}` is deprecated. Please use `{\"type\": \"text\", \"text\": \"String input\"}` or `{\"type\": \"text\", \"arguments\": {..}} ` instead.\n",
      "\u001b[2m2025-04-07T18:46:17.609641Z\u001b[0m \u001b[33m WARN\u001b[0m \u001b[2mtensorzero_internal::inference::types\u001b[0m\u001b[2m:\u001b[0m Deprecation Warning: `{\"type\": \"text\", \"value\", ...}` is deprecated. Please use `{\"type\": \"text\", \"text\": \"String input\"}` or `{\"type\": \"text\", \"arguments\": {..}} ` instead.\n",
      "\u001b[2m2025-04-07T18:46:17.609804Z\u001b[0m \u001b[33m WARN\u001b[0m \u001b[2mtensorzero_internal::inference::types\u001b[0m\u001b[2m:\u001b[0m Deprecation Warning: `{\"type\": \"text\", \"value\", ...}` is deprecated. Please use `{\"type\": \"text\", \"text\": \"String input\"}` or `{\"type\": \"text\", \"arguments\": {..}} ` instead.\n",
      "\u001b[2m2025-04-07T18:46:17.609831Z\u001b[0m \u001b[33m WARN\u001b[0m \u001b[2mtensorzero_internal::inference::types\u001b[0m\u001b[2m:\u001b[0m Deprecation Warning: `{\"type\": \"text\", \"value\", ...}` is deprecated. Please use `{\"type\": \"text\", \"text\": \"String input\"}` or `{\"type\": \"text\", \"arguments\": {..}} ` instead.\n",
      "\u001b[2m2025-04-07T18:46:17.610060Z\u001b[0m \u001b[33m WARN\u001b[0m \u001b[2mtensorzero_internal::inference::types\u001b[0m\u001b[2m:\u001b[0m Deprecation Warning: `{\"type\": \"text\", \"value\", ...}` is deprecated. Please use `{\"type\": \"text\", \"text\": \"String input\"}` or `{\"type\": \"text\", \"arguments\": {..}} ` instead.\n",
      "\u001b[2m2025-04-07T18:46:17.610078Z\u001b[0m \u001b[33m WARN\u001b[0m \u001b[2mtensorzero_internal::inference::types\u001b[0m\u001b[2m:\u001b[0m Deprecation Warning: `{\"type\": \"text\", \"value\", ...}` is deprecated. Please use `{\"type\": \"text\", \"text\": \"String input\"}` or `{\"type\": \"text\", \"arguments\": {..}} ` instead.\n",
      "\u001b[2m2025-04-07T18:46:17.610081Z\u001b[0m \u001b[33m WARN\u001b[0m \u001b[2mtensorzero_internal::inference::types\u001b[0m\u001b[2m:\u001b[0m Deprecation Warning: `{\"type\": \"text\", \"value\", ...}` is deprecated. Please use `{\"type\": \"text\", \"text\": \"String input\"}` or `{\"type\": \"text\", \"arguments\": {..}} ` instead.\n",
      "\u001b[2m2025-04-07T18:46:17.610092Z\u001b[0m \u001b[33m WARN\u001b[0m \u001b[2mtensorzero_internal::inference::types\u001b[0m\u001b[2m:\u001b[0m Deprecation Warning: `{\"type\": \"text\", \"value\", ...}` is deprecated. Please use `{\"type\": \"text\", \"text\": \"String input\"}` or `{\"type\": \"text\", \"arguments\": {..}} ` instead.\n",
      "\u001b[2m2025-04-07T18:46:17.610096Z\u001b[0m \u001b[33m WARN\u001b[0m \u001b[2mtensorzero_internal::inference::types\u001b[0m\u001b[2m:\u001b[0m Deprecation Warning: `{\"type\": \"text\", \"value\", ...}` is deprecated. Please use `{\"type\": \"text\", \"text\": \"String input\"}` or `{\"type\": \"text\", \"arguments\": {..}} ` instead.\n",
      "\u001b[2m2025-04-07T18:46:17.610104Z\u001b[0m \u001b[33m WARN\u001b[0m \u001b[2mtensorzero_internal::inference::types\u001b[0m\u001b[2m:\u001b[0m Deprecation Warning: `{\"type\": \"text\", \"value\", ...}` is deprecated. Please use `{\"type\": \"text\", \"text\": \"String input\"}` or `{\"type\": \"text\", \"arguments\": {..}} ` instead.\n",
      "\u001b[2m2025-04-07T18:46:17.610111Z\u001b[0m \u001b[33m WARN\u001b[0m \u001b[2mtensorzero_internal::inference::types\u001b[0m\u001b[2m:\u001b[0m Deprecation Warning: `{\"type\": \"text\", \"value\", ...}` is deprecated. Please use `{\"type\": \"text\", \"text\": \"String input\"}` or `{\"type\": \"text\", \"arguments\": {..}} ` instead.\n",
      "\u001b[2m2025-04-07T18:46:17.610135Z\u001b[0m \u001b[33m WARN\u001b[0m \u001b[2mtensorzero_internal::inference::types\u001b[0m\u001b[2m:\u001b[0m Deprecation Warning: `{\"type\": \"text\", \"value\", ...}` is deprecated. Please use `{\"type\": \"text\", \"text\": \"String input\"}` or `{\"type\": \"text\", \"arguments\": {..}} ` instead.\n",
      "\u001b[2m2025-04-07T18:46:17.610181Z\u001b[0m \u001b[33m WARN\u001b[0m \u001b[2mtensorzero_internal::inference::types\u001b[0m\u001b[2m:\u001b[0m Deprecation Warning: `{\"type\": \"text\", \"value\", ...}` is deprecated. Please use `{\"type\": \"text\", \"text\": \"String input\"}` or `{\"type\": \"text\", \"arguments\": {..}} ` instead.\n",
      "\u001b[2m2025-04-07T18:46:17.610322Z\u001b[0m \u001b[33m WARN\u001b[0m \u001b[2mtensorzero_internal::inference::types\u001b[0m\u001b[2m:\u001b[0m Deprecation Warning: `{\"type\": \"text\", \"value\", ...}` is deprecated. Please use `{\"type\": \"text\", \"text\": \"String input\"}` or `{\"type\": \"text\", \"arguments\": {..}} ` instead.\n",
      "\u001b[2m2025-04-07T18:46:17.610332Z\u001b[0m \u001b[33m WARN\u001b[0m \u001b[2mtensorzero_internal::inference::types\u001b[0m\u001b[2m:\u001b[0m Deprecation Warning: `{\"type\": \"text\", \"value\", ...}` is deprecated. Please use `{\"type\": \"text\", \"text\": \"String input\"}` or `{\"type\": \"text\", \"arguments\": {..}} ` instead.\n",
      "\u001b[2m2025-04-07T18:46:17.610354Z\u001b[0m \u001b[33m WARN\u001b[0m \u001b[2mtensorzero_internal::inference::types\u001b[0m\u001b[2m:\u001b[0m Deprecation Warning: `{\"type\": \"text\", \"value\", ...}` is deprecated. Please use `{\"type\": \"text\", \"text\": \"String input\"}` or `{\"type\": \"text\", \"arguments\": {..}} ` instead.\n",
      "\u001b[2m2025-04-07T18:46:17.610362Z\u001b[0m \u001b[33m WARN\u001b[0m \u001b[2mtensorzero_internal::inference::types\u001b[0m\u001b[2m:\u001b[0m Deprecation Warning: `{\"type\": \"text\", \"value\", ...}` is deprecated. Please use `{\"type\": \"text\", \"text\": \"String input\"}` or `{\"type\": \"text\", \"arguments\": {..}} ` instead.\n",
      "\u001b[2m2025-04-07T18:46:17.610371Z\u001b[0m \u001b[33m WARN\u001b[0m \u001b[2mtensorzero_internal::inference::types\u001b[0m\u001b[2m:\u001b[0m Deprecation Warning: `{\"type\": \"text\", \"value\", ...}` is deprecated. Please use `{\"type\": \"text\", \"text\": \"String input\"}` or `{\"type\": \"text\", \"arguments\": {..}} ` instead.\n",
      "\u001b[2m2025-04-07T18:46:17.610375Z\u001b[0m \u001b[33m WARN\u001b[0m \u001b[2mtensorzero_internal::inference::types\u001b[0m\u001b[2m:\u001b[0m Deprecation Warning: `{\"type\": \"text\", \"value\", ...}` is deprecated. Please use `{\"type\": \"text\", \"text\": \"String input\"}` or `{\"type\": \"text\", \"arguments\": {..}} ` instead.\n",
      "\u001b[2m2025-04-07T18:46:17.610376Z\u001b[0m \u001b[33m WARN\u001b[0m \u001b[2mtensorzero_internal::inference::types\u001b[0m\u001b[2m:\u001b[0m Deprecation Warning: `{\"type\": \"text\", \"value\", ...}` is deprecated. Please use `{\"type\": \"text\", \"text\": \"String input\"}` or `{\"type\": \"text\", \"arguments\": {..}} ` instead.\n",
      "\u001b[2m2025-04-07T18:46:17.610414Z\u001b[0m \u001b[33m WARN\u001b[0m \u001b[2mtensorzero_internal::inference::types\u001b[0m\u001b[2m:\u001b[0m Deprecation Warning: `{\"type\": \"text\", \"value\", ...}` is deprecated. Please use `{\"type\": \"text\", \"text\": \"String input\"}` or `{\"type\": \"text\", \"arguments\": {..}} ` instead.\n",
      "\u001b[2m2025-04-07T18:46:17.610417Z\u001b[0m \u001b[33m WARN\u001b[0m \u001b[2mtensorzero_internal::inference::types\u001b[0m\u001b[2m:\u001b[0m Deprecation Warning: `{\"type\": \"text\", \"value\", ...}` is deprecated. Please use `{\"type\": \"text\", \"text\": \"String input\"}` or `{\"type\": \"text\", \"arguments\": {..}} ` instead.\n",
      "\u001b[2m2025-04-07T18:46:17.610450Z\u001b[0m \u001b[33m WARN\u001b[0m \u001b[2mtensorzero_internal::inference::types\u001b[0m\u001b[2m:\u001b[0m Deprecation Warning: `{\"type\": \"text\", \"value\", ...}` is deprecated. Please use `{\"type\": \"text\", \"text\": \"String input\"}` or `{\"type\": \"text\", \"arguments\": {..}} ` instead.\n",
      "\u001b[2m2025-04-07T18:46:17.610458Z\u001b[0m \u001b[33m WARN\u001b[0m \u001b[2mtensorzero_internal::inference::types\u001b[0m\u001b[2m:\u001b[0m Deprecation Warning: `{\"type\": \"text\", \"value\", ...}` is deprecated. Please use `{\"type\": \"text\", \"text\": \"String input\"}` or `{\"type\": \"text\", \"arguments\": {..}} ` instead.\n",
      "\u001b[2m2025-04-07T18:46:17.610485Z\u001b[0m \u001b[33m WARN\u001b[0m \u001b[2mtensorzero_internal::inference::types\u001b[0m\u001b[2m:\u001b[0m Deprecation Warning: `{\"type\": \"text\", \"value\", ...}` is deprecated. Please use `{\"type\": \"text\", \"text\": \"String input\"}` or `{\"type\": \"text\", \"arguments\": {..}} ` instead.\n",
      "\u001b[2m2025-04-07T18:46:17.610495Z\u001b[0m \u001b[33m WARN\u001b[0m \u001b[2mtensorzero_internal::inference::types\u001b[0m\u001b[2m:\u001b[0m Deprecation Warning: `{\"type\": \"text\", \"value\", ...}` is deprecated. Please use `{\"type\": \"text\", \"text\": \"String input\"}` or `{\"type\": \"text\", \"arguments\": {..}} ` instead.\n",
      "\u001b[2m2025-04-07T18:46:17.610513Z\u001b[0m \u001b[33m WARN\u001b[0m \u001b[2mtensorzero_internal::inference::types\u001b[0m\u001b[2m:\u001b[0m Deprecation Warning: `{\"type\": \"text\", \"value\", ...}` is deprecated. Please use `{\"type\": \"text\", \"text\": \"String input\"}` or `{\"type\": \"text\", \"arguments\": {..}} ` instead.\n"
     ]
    },
    {
     "name": "stderr",
     "output_type": "stream",
     "text": [
      " 12%|█▏        | 12/100 [00:00<00:03, 23.80it/s]"
     ]
    },
    {
     "name": "stdout",
     "output_type": "stream",
     "text": [
      "\u001b[2m2025-04-07T18:46:18.161223Z\u001b[0m \u001b[33m WARN\u001b[0m \u001b[2mtensorzero_internal::inference::types\u001b[0m\u001b[2m:\u001b[0m Deprecation Warning: `{\"type\": \"text\", \"value\", ...}` is deprecated. Please use `{\"type\": \"text\", \"text\": \"String input\"}` or `{\"type\": \"text\", \"arguments\": {..}} ` instead.\n",
      "\u001b[2m2025-04-07T18:46:18.161223Z\u001b[0m \u001b[33m WARN\u001b[0m \u001b[2mtensorzero_internal::inference::types\u001b[0m\u001b[2m:\u001b[0m Deprecation Warning: `{\"type\": \"text\", \"value\", ...}` is deprecated. Please use `{\"type\": \"text\", \"text\": \"String input\"}` or `{\"type\": \"text\", \"arguments\": {..}} ` instead.\n",
      "\u001b[2m2025-04-07T18:46:18.163571Z\u001b[0m \u001b[33m WARN\u001b[0m \u001b[2mtensorzero_internal::inference::types\u001b[0m\u001b[2m:\u001b[0m Deprecation Warning: `{\"type\": \"text\", \"value\", ...}` is deprecated. Please use `{\"type\": \"text\", \"text\": \"String input\"}` or `{\"type\": \"text\", \"arguments\": {..}} ` instead.\n",
      "\u001b[2m2025-04-07T18:46:18.166455Z\u001b[0m \u001b[33m WARN\u001b[0m \u001b[2mtensorzero_internal::inference::types\u001b[0m\u001b[2m:\u001b[0m Deprecation Warning: `{\"type\": \"text\", \"value\", ...}` is deprecated. Please use `{\"type\": \"text\", \"text\": \"String input\"}` or `{\"type\": \"text\", \"arguments\": {..}} ` instead.\n",
      "\u001b[2m2025-04-07T18:46:18.185369Z\u001b[0m \u001b[33m WARN\u001b[0m \u001b[2mtensorzero_internal::inference::types\u001b[0m\u001b[2m:\u001b[0m Deprecation Warning: `{\"type\": \"text\", \"value\", ...}` is deprecated. Please use `{\"type\": \"text\", \"text\": \"String input\"}` or `{\"type\": \"text\", \"arguments\": {..}} ` instead.\n",
      "\u001b[2m2025-04-07T18:46:18.192547Z\u001b[0m \u001b[33m WARN\u001b[0m \u001b[2mtensorzero_internal::inference::types\u001b[0m\u001b[2m:\u001b[0m Deprecation Warning: `{\"type\": \"text\", \"value\", ...}` is deprecated. Please use `{\"type\": \"text\", \"text\": \"String input\"}` or `{\"type\": \"text\", \"arguments\": {..}} ` instead.\n",
      "\u001b[2m2025-04-07T18:46:18.201977Z\u001b[0m \u001b[33m WARN\u001b[0m \u001b[2mtensorzero_internal::inference::types\u001b[0m\u001b[2m:\u001b[0m Deprecation Warning: `{\"type\": \"text\", \"value\", ...}` is deprecated. Please use `{\"type\": \"text\", \"text\": \"String input\"}` or `{\"type\": \"text\", \"arguments\": {..}} ` instead.\n",
      "\u001b[2m2025-04-07T18:46:18.210350Z\u001b[0m \u001b[33m WARN\u001b[0m \u001b[2mtensorzero_internal::inference::types\u001b[0m\u001b[2m:\u001b[0m Deprecation Warning: `{\"type\": \"text\", \"value\", ...}` is deprecated. Please use `{\"type\": \"text\", \"text\": \"String input\"}` or `{\"type\": \"text\", \"arguments\": {..}} ` instead.\n",
      "\u001b[2m2025-04-07T18:46:18.234725Z\u001b[0m \u001b[33m WARN\u001b[0m \u001b[2mtensorzero_internal::inference::types\u001b[0m\u001b[2m:\u001b[0m Deprecation Warning: `{\"type\": \"text\", \"value\", ...}` is deprecated. Please use `{\"type\": \"text\", \"text\": \"String input\"}` or `{\"type\": \"text\", \"arguments\": {..}} ` instead.\n",
      "\u001b[2m2025-04-07T18:46:18.238596Z\u001b[0m \u001b[33m WARN\u001b[0m \u001b[2mtensorzero_internal::inference::types\u001b[0m\u001b[2m:\u001b[0m Deprecation Warning: `{\"type\": \"text\", \"value\", ...}` is deprecated. Please use `{\"type\": \"text\", \"text\": \"String input\"}` or `{\"type\": \"text\", \"arguments\": {..}} ` instead.\n",
      "\u001b[2m2025-04-07T18:46:18.250245Z\u001b[0m \u001b[33m WARN\u001b[0m \u001b[2mtensorzero_internal::inference::types\u001b[0m\u001b[2m:\u001b[0m Deprecation Warning: `{\"type\": \"text\", \"value\", ...}` is deprecated. Please use `{\"type\": \"text\", \"text\": \"String input\"}` or `{\"type\": \"text\", \"arguments\": {..}} ` instead.\n",
      "\u001b[2m2025-04-07T18:46:18.265934Z\u001b[0m \u001b[33m WARN\u001b[0m \u001b[2mtensorzero_internal::inference::types\u001b[0m\u001b[2m:\u001b[0m Deprecation Warning: `{\"type\": \"text\", \"value\", ...}` is deprecated. Please use `{\"type\": \"text\", \"text\": \"String input\"}` or `{\"type\": \"text\", \"arguments\": {..}} ` instead.\n",
      "\u001b[2m2025-04-07T18:46:18.275704Z\u001b[0m \u001b[33m WARN\u001b[0m \u001b[2mtensorzero_internal::inference::types\u001b[0m\u001b[2m:\u001b[0m Deprecation Warning: `{\"type\": \"text\", \"value\", ...}` is deprecated. Please use `{\"type\": \"text\", \"text\": \"String input\"}` or `{\"type\": \"text\", \"arguments\": {..}} ` instead.\n",
      "\u001b[2m2025-04-07T18:46:18.286660Z\u001b[0m \u001b[33m WARN\u001b[0m \u001b[2mtensorzero_internal::inference::types\u001b[0m\u001b[2m:\u001b[0m Deprecation Warning: `{\"type\": \"text\", \"value\", ...}` is deprecated. Please use `{\"type\": \"text\", \"text\": \"String input\"}` or `{\"type\": \"text\", \"arguments\": {..}} ` instead.\n",
      "\u001b[2m2025-04-07T18:46:18.290133Z\u001b[0m \u001b[33m WARN\u001b[0m \u001b[2mtensorzero_internal::inference::types\u001b[0m\u001b[2m:\u001b[0m Deprecation Warning: `{\"type\": \"text\", \"value\", ...}` is deprecated. Please use `{\"type\": \"text\", \"text\": \"String input\"}` or `{\"type\": \"text\", \"arguments\": {..}} ` instead.\n",
      "\u001b[2m2025-04-07T18:46:18.293497Z\u001b[0m \u001b[33m WARN\u001b[0m \u001b[2mtensorzero_internal::inference::types\u001b[0m\u001b[2m:\u001b[0m Deprecation Warning: `{\"type\": \"text\", \"value\", ...}` is deprecated. Please use `{\"type\": \"text\", \"text\": \"String input\"}` or `{\"type\": \"text\", \"arguments\": {..}} ` instead.\n",
      "\u001b[2m2025-04-07T18:46:18.297916Z\u001b[0m \u001b[33m WARN\u001b[0m \u001b[2mtensorzero_internal::inference::types\u001b[0m\u001b[2m:\u001b[0m Deprecation Warning: `{\"type\": \"text\", \"value\", ...}` is deprecated. Please use `{\"type\": \"text\", \"text\": \"String input\"}` or `{\"type\": \"text\", \"arguments\": {..}} ` instead.\n",
      "\u001b[2m2025-04-07T18:46:18.324684Z\u001b[0m \u001b[33m WARN\u001b[0m \u001b[2mtensorzero_internal::inference::types\u001b[0m\u001b[2m:\u001b[0m Deprecation Warning: `{\"type\": \"text\", \"value\", ...}` is deprecated. Please use `{\"type\": \"text\", \"text\": \"String input\"}` or `{\"type\": \"text\", \"arguments\": {..}} ` instead.\n",
      "\u001b[2m2025-04-07T18:46:18.353417Z\u001b[0m \u001b[33m WARN\u001b[0m \u001b[2mtensorzero_internal::inference::types\u001b[0m\u001b[2m:\u001b[0m Deprecation Warning: `{\"type\": \"text\", \"value\", ...}` is deprecated. Please use `{\"type\": \"text\", \"text\": \"String input\"}` or `{\"type\": \"text\", \"arguments\": {..}} ` instead.\n"
     ]
    },
    {
     "name": "stderr",
     "output_type": "stream",
     "text": [
      " 29%|██▉       | 29/100 [00:00<00:01, 48.71it/s]"
     ]
    },
    {
     "name": "stdout",
     "output_type": "stream",
     "text": [
      "\u001b[2m2025-04-07T18:46:18.366082Z\u001b[0m \u001b[33m WARN\u001b[0m \u001b[2mtensorzero_internal::inference::types\u001b[0m\u001b[2m:\u001b[0m Deprecation Warning: `{\"type\": \"text\", \"value\", ...}` is deprecated. Please use `{\"type\": \"text\", \"text\": \"String input\"}` or `{\"type\": \"text\", \"arguments\": {..}} ` instead.\n",
      "\u001b[2m2025-04-07T18:46:18.372560Z\u001b[0m \u001b[33m WARN\u001b[0m \u001b[2mtensorzero_internal::inference::types\u001b[0m\u001b[2m:\u001b[0m Deprecation Warning: `{\"type\": \"text\", \"value\", ...}` is deprecated. Please use `{\"type\": \"text\", \"text\": \"String input\"}` or `{\"type\": \"text\", \"arguments\": {..}} ` instead.\n",
      "\u001b[2m2025-04-07T18:46:18.391451Z\u001b[0m \u001b[33m WARN\u001b[0m \u001b[2mtensorzero_internal::inference::types\u001b[0m\u001b[2m:\u001b[0m Deprecation Warning: `{\"type\": \"text\", \"value\", ...}` is deprecated. Please use `{\"type\": \"text\", \"text\": \"String input\"}` or `{\"type\": \"text\", \"arguments\": {..}} ` instead.\n",
      "\u001b[2m2025-04-07T18:46:18.396320Z\u001b[0m \u001b[33m WARN\u001b[0m \u001b[2mtensorzero_internal::inference::types\u001b[0m\u001b[2m:\u001b[0m Deprecation Warning: `{\"type\": \"text\", \"value\", ...}` is deprecated. Please use `{\"type\": \"text\", \"text\": \"String input\"}` or `{\"type\": \"text\", \"arguments\": {..}} ` instead.\n",
      "\u001b[2m2025-04-07T18:46:18.405685Z\u001b[0m \u001b[33m WARN\u001b[0m \u001b[2mtensorzero_internal::inference::types\u001b[0m\u001b[2m:\u001b[0m Deprecation Warning: `{\"type\": \"text\", \"value\", ...}` is deprecated. Please use `{\"type\": \"text\", \"text\": \"String input\"}` or `{\"type\": \"text\", \"arguments\": {..}} ` instead.\n",
      "\u001b[2m2025-04-07T18:46:18.412425Z\u001b[0m \u001b[33m WARN\u001b[0m \u001b[2mtensorzero_internal::inference::types\u001b[0m\u001b[2m:\u001b[0m Deprecation Warning: `{\"type\": \"text\", \"value\", ...}` is deprecated. Please use `{\"type\": \"text\", \"text\": \"String input\"}` or `{\"type\": \"text\", \"arguments\": {..}} ` instead.\n",
      "\u001b[2m2025-04-07T18:46:18.413474Z\u001b[0m \u001b[33m WARN\u001b[0m \u001b[2mtensorzero_internal::inference::types\u001b[0m\u001b[2m:\u001b[0m Deprecation Warning: `{\"type\": \"text\", \"value\", ...}` is deprecated. Please use `{\"type\": \"text\", \"text\": \"String input\"}` or `{\"type\": \"text\", \"arguments\": {..}} ` instead.\n",
      "\u001b[2m2025-04-07T18:46:18.428598Z\u001b[0m \u001b[33m WARN\u001b[0m \u001b[2mtensorzero_internal::inference::types\u001b[0m\u001b[2m:\u001b[0m Deprecation Warning: `{\"type\": \"text\", \"value\", ...}` is deprecated. Please use `{\"type\": \"text\", \"text\": \"String input\"}` or `{\"type\": \"text\", \"arguments\": {..}} ` instead.\n",
      "\u001b[2m2025-04-07T18:46:18.458203Z\u001b[0m \u001b[33m WARN\u001b[0m \u001b[2mtensorzero_internal::inference::types\u001b[0m\u001b[2m:\u001b[0m Deprecation Warning: `{\"type\": \"text\", \"value\", ...}` is deprecated. Please use `{\"type\": \"text\", \"text\": \"String input\"}` or `{\"type\": \"text\", \"arguments\": {..}} ` instead.\n",
      "\u001b[2m2025-04-07T18:46:18.472593Z\u001b[0m \u001b[33m WARN\u001b[0m \u001b[2mtensorzero_internal::inference::types\u001b[0m\u001b[2m:\u001b[0m Deprecation Warning: `{\"type\": \"text\", \"value\", ...}` is deprecated. Please use `{\"type\": \"text\", \"text\": \"String input\"}` or `{\"type\": \"text\", \"arguments\": {..}} ` instead.\n",
      "\u001b[2m2025-04-07T18:46:18.475063Z\u001b[0m \u001b[33m WARN\u001b[0m \u001b[2mtensorzero_internal::inference::types\u001b[0m\u001b[2m:\u001b[0m Deprecation Warning: `{\"type\": \"text\", \"value\", ...}` is deprecated. Please use `{\"type\": \"text\", \"text\": \"String input\"}` or `{\"type\": \"text\", \"arguments\": {..}} ` instead.\n",
      "\u001b[2m2025-04-07T18:46:18.491405Z\u001b[0m \u001b[33m WARN\u001b[0m \u001b[2mtensorzero_internal::inference::types\u001b[0m\u001b[2m:\u001b[0m Deprecation Warning: `{\"type\": \"text\", \"value\", ...}` is deprecated. Please use `{\"type\": \"text\", \"text\": \"String input\"}` or `{\"type\": \"text\", \"arguments\": {..}} ` instead.\n",
      "\u001b[2m2025-04-07T18:46:18.495623Z\u001b[0m \u001b[33m WARN\u001b[0m \u001b[2mtensorzero_internal::inference::types\u001b[0m\u001b[2m:\u001b[0m Deprecation Warning: `{\"type\": \"text\", \"value\", ...}` is deprecated. Please use `{\"type\": \"text\", \"text\": \"String input\"}` or `{\"type\": \"text\", \"arguments\": {..}} ` instead.\n",
      "\u001b[2m2025-04-07T18:46:18.516825Z\u001b[0m \u001b[33m WARN\u001b[0m \u001b[2mtensorzero_internal::inference::types\u001b[0m\u001b[2m:\u001b[0m Deprecation Warning: `{\"type\": \"text\", \"value\", ...}` is deprecated. Please use `{\"type\": \"text\", \"text\": \"String input\"}` or `{\"type\": \"text\", \"arguments\": {..}} ` instead.\n"
     ]
    },
    {
     "name": "stderr",
     "output_type": "stream",
     "text": [
      " 37%|███▋      | 37/100 [00:01<00:01, 44.19it/s]"
     ]
    },
    {
     "name": "stdout",
     "output_type": "stream",
     "text": [
      "\u001b[2m2025-04-07T18:46:18.591917Z\u001b[0m \u001b[33m WARN\u001b[0m \u001b[2mtensorzero_internal::inference::types\u001b[0m\u001b[2m:\u001b[0m Deprecation Warning: `{\"type\": \"text\", \"value\", ...}` is deprecated. Please use `{\"type\": \"text\", \"text\": \"String input\"}` or `{\"type\": \"text\", \"arguments\": {..}} ` instead.\n",
      "\u001b[2m2025-04-07T18:46:18.591946Z\u001b[0m \u001b[33m WARN\u001b[0m \u001b[2mtensorzero_internal::inference::types\u001b[0m\u001b[2m:\u001b[0m Deprecation Warning: `{\"type\": \"text\", \"value\", ...}` is deprecated. Please use `{\"type\": \"text\", \"text\": \"String input\"}` or `{\"type\": \"text\", \"arguments\": {..}} ` instead.\n",
      "\u001b[2m2025-04-07T18:46:18.682818Z\u001b[0m \u001b[33m WARN\u001b[0m \u001b[2mtensorzero_internal::inference::types\u001b[0m\u001b[2m:\u001b[0m Deprecation Warning: `{\"type\": \"text\", \"value\", ...}` is deprecated. Please use `{\"type\": \"text\", \"text\": \"String input\"}` or `{\"type\": \"text\", \"arguments\": {..}} ` instead.\n",
      "\u001b[2m2025-04-07T18:46:18.682914Z\u001b[0m \u001b[33m WARN\u001b[0m \u001b[2mtensorzero_internal::inference::types\u001b[0m\u001b[2m:\u001b[0m Deprecation Warning: `{\"type\": \"text\", \"value\", ...}` is deprecated. Please use `{\"type\": \"text\", \"text\": \"String input\"}` or `{\"type\": \"text\", \"arguments\": {..}} ` instead.\n",
      "\u001b[2m2025-04-07T18:46:18.682959Z\u001b[0m \u001b[33m WARN\u001b[0m \u001b[2mtensorzero_internal::inference::types\u001b[0m\u001b[2m:\u001b[0m Deprecation Warning: `{\"type\": \"text\", \"value\", ...}` is deprecated. Please use `{\"type\": \"text\", \"text\": \"String input\"}` or `{\"type\": \"text\", \"arguments\": {..}} ` instead.\n",
      "\u001b[2m2025-04-07T18:46:18.685288Z\u001b[0m \u001b[33m WARN\u001b[0m \u001b[2mtensorzero_internal::inference::types\u001b[0m\u001b[2m:\u001b[0m Deprecation Warning: `{\"type\": \"text\", \"value\", ...}` is deprecated. Please use `{\"type\": \"text\", \"text\": \"String input\"}` or `{\"type\": \"text\", \"arguments\": {..}} ` instead.\n",
      "\u001b[2m2025-04-07T18:46:18.686129Z\u001b[0m \u001b[33m WARN\u001b[0m \u001b[2mtensorzero_internal::inference::types\u001b[0m\u001b[2m:\u001b[0m Deprecation Warning: `{\"type\": \"text\", \"value\", ...}` is deprecated. Please use `{\"type\": \"text\", \"text\": \"String input\"}` or `{\"type\": \"text\", \"arguments\": {..}} ` instead.\n",
      "\u001b[2m2025-04-07T18:46:18.688185Z\u001b[0m \u001b[33m WARN\u001b[0m \u001b[2mtensorzero_internal::inference::types\u001b[0m\u001b[2m:\u001b[0m Deprecation Warning: `{\"type\": \"text\", \"value\", ...}` is deprecated. Please use `{\"type\": \"text\", \"text\": \"String input\"}` or `{\"type\": \"text\", \"arguments\": {..}} ` instead.\n",
      "\u001b[2m2025-04-07T18:46:18.701661Z\u001b[0m \u001b[33m WARN\u001b[0m \u001b[2mtensorzero_internal::inference::types\u001b[0m\u001b[2m:\u001b[0m Deprecation Warning: `{\"type\": \"text\", \"value\", ...}` is deprecated. Please use `{\"type\": \"text\", \"text\": \"String input\"}` or `{\"type\": \"text\", \"arguments\": {..}} ` instead.\n",
      "\u001b[2m2025-04-07T18:46:18.709505Z\u001b[0m \u001b[33m WARN\u001b[0m \u001b[2mtensorzero_internal::inference::types\u001b[0m\u001b[2m:\u001b[0m Deprecation Warning: `{\"type\": \"text\", \"value\", ...}` is deprecated. Please use `{\"type\": \"text\", \"text\": \"String input\"}` or `{\"type\": \"text\", \"arguments\": {..}} ` instead.\n",
      "\u001b[2m2025-04-07T18:46:18.711274Z\u001b[0m \u001b[33m WARN\u001b[0m \u001b[2mtensorzero_internal::inference::types\u001b[0m\u001b[2m:\u001b[0m Deprecation Warning: `{\"type\": \"text\", \"value\", ...}` is deprecated. Please use `{\"type\": \"text\", \"text\": \"String input\"}` or `{\"type\": \"text\", \"arguments\": {..}} ` instead.\n",
      "\u001b[2m2025-04-07T18:46:18.745594Z\u001b[0m \u001b[33m WARN\u001b[0m \u001b[2mtensorzero_internal::inference::types\u001b[0m\u001b[2m:\u001b[0m Deprecation Warning: `{\"type\": \"text\", \"value\", ...}` is deprecated. Please use `{\"type\": \"text\", \"text\": \"String input\"}` or `{\"type\": \"text\", \"arguments\": {..}} ` instead.\n",
      "\u001b[2m2025-04-07T18:46:18.748333Z\u001b[0m \u001b[33m WARN\u001b[0m \u001b[2mtensorzero_internal::inference::types\u001b[0m\u001b[2m:\u001b[0m Deprecation Warning: `{\"type\": \"text\", \"value\", ...}` is deprecated. Please use `{\"type\": \"text\", \"text\": \"String input\"}` or `{\"type\": \"text\", \"arguments\": {..}} ` instead.\n",
      "\u001b[2m2025-04-07T18:46:18.752874Z\u001b[0m \u001b[33m WARN\u001b[0m \u001b[2mtensorzero_internal::inference::types\u001b[0m\u001b[2m:\u001b[0m Deprecation Warning: `{\"type\": \"text\", \"value\", ...}` is deprecated. Please use `{\"type\": \"text\", \"text\": \"String input\"}` or `{\"type\": \"text\", \"arguments\": {..}} ` instead.\n",
      "\u001b[2m2025-04-07T18:46:18.765710Z\u001b[0m \u001b[33m WARN\u001b[0m \u001b[2mtensorzero_internal::inference::types\u001b[0m\u001b[2m:\u001b[0m Deprecation Warning: `{\"type\": \"text\", \"value\", ...}` is deprecated. Please use `{\"type\": \"text\", \"text\": \"String input\"}` or `{\"type\": \"text\", \"arguments\": {..}} ` instead.\n"
     ]
    },
    {
     "name": "stderr",
     "output_type": "stream",
     "text": [
      " 57%|█████▋    | 57/100 [00:01<00:00, 60.10it/s]"
     ]
    },
    {
     "name": "stdout",
     "output_type": "stream",
     "text": [
      "\u001b[2m2025-04-07T18:46:18.814332Z\u001b[0m \u001b[33m WARN\u001b[0m \u001b[2mtensorzero_internal::inference::types\u001b[0m\u001b[2m:\u001b[0m Deprecation Warning: `{\"type\": \"text\", \"value\", ...}` is deprecated. Please use `{\"type\": \"text\", \"text\": \"String input\"}` or `{\"type\": \"text\", \"arguments\": {..}} ` instead.\n",
      "\u001b[2m2025-04-07T18:46:18.856293Z\u001b[0m \u001b[33m WARN\u001b[0m \u001b[2mtensorzero_internal::inference::types\u001b[0m\u001b[2m:\u001b[0m Deprecation Warning: `{\"type\": \"text\", \"value\", ...}` is deprecated. Please use `{\"type\": \"text\", \"text\": \"String input\"}` or `{\"type\": \"text\", \"arguments\": {..}} ` instead.\n"
     ]
    },
    {
     "name": "stderr",
     "output_type": "stream",
     "text": [
      "100%|██████████| 100/100 [00:03<00:00, 26.47it/s]\n",
      "100%|██████████| 100/100 [00:13<00:00,  7.16it/s]\n",
      "[I 2025-04-07 14:46:35,357] Trial 2 finished with value: 0.5609722222222223 and parameters: {'instruction_index': 10, 'demonstration_index': 9}. Best is trial 1 with value: 0.6321634920634921.\n"
     ]
    },
    {
     "name": "stdout",
     "output_type": "stream",
     "text": [
      "Iteration 3: 0.5609722222222223\n"
     ]
    },
    {
     "name": "stderr",
     "output_type": "stream",
     "text": [
      "  0%|          | 0/100 [00:00<?, ?it/s]"
     ]
    },
    {
     "name": "stdout",
     "output_type": "stream",
     "text": [
      "\u001b[2m2025-04-07T18:46:35.674900Z\u001b[0m \u001b[33m WARN\u001b[0m \u001b[2mtensorzero_internal::inference::types\u001b[0m\u001b[2m:\u001b[0m Deprecation Warning: `{\"type\": \"text\", \"value\", ...}` is deprecated. Please use `{\"type\": \"text\", \"text\": \"String input\"}` or `{\"type\": \"text\", \"arguments\": {..}} ` instead.\n",
      "\u001b[2m2025-04-07T18:46:35.674915Z\u001b[0m \u001b[33m WARN\u001b[0m \u001b[2mtensorzero_internal::inference::types\u001b[0m\u001b[2m:\u001b[0m Deprecation Warning: `{\"type\": \"text\", \"value\", ...}` is deprecated. Please use `{\"type\": \"text\", \"text\": \"String input\"}` or `{\"type\": \"text\", \"arguments\": {..}} ` instead.\n",
      "\u001b[2m2025-04-07T18:46:35.674900Z\u001b[0m \u001b[33m WARN\u001b[0m \u001b[2mtensorzero_internal::inference::types\u001b[0m\u001b[2m:\u001b[0m Deprecation Warning: `{\"type\": \"text\", \"value\", ...}` is deprecated. Please use `{\"type\": \"text\", \"text\": \"String input\"}` or `{\"type\": \"text\", \"arguments\": {..}} ` instead.\n",
      "\u001b[2m2025-04-07T18:46:35.675033Z\u001b[0m \u001b[33m WARN\u001b[0m \u001b[2mtensorzero_internal::inference::types\u001b[0m\u001b[2m:\u001b[0m Deprecation Warning: `{\"type\": \"text\", \"value\", ...}` is deprecated. Please use `{\"type\": \"text\", \"text\": \"String input\"}` or `{\"type\": \"text\", \"arguments\": {..}} ` instead.\n",
      "\u001b[2m2025-04-07T18:46:35.675071Z\u001b[0m \u001b[33m WARN\u001b[0m \u001b[2mtensorzero_internal::inference::types\u001b[0m\u001b[2m:\u001b[0m Deprecation Warning: `{\"type\": \"text\", \"value\", ...}` is deprecated. Please use `{\"type\": \"text\", \"text\": \"String input\"}` or `{\"type\": \"text\", \"arguments\": {..}} ` instead.\n",
      "\u001b[2m2025-04-07T18:46:35.675086Z\u001b[0m \u001b[33m WARN\u001b[0m \u001b[2mtensorzero_internal::inference::types\u001b[0m\u001b[2m:\u001b[0m Deprecation Warning: `{\"type\": \"text\", \"value\", ...}` is deprecated. Please use `{\"type\": \"text\", \"text\": \"String input\"}` or `{\"type\": \"text\", \"arguments\": {..}} ` instead.\n",
      "\u001b[2m2025-04-07T18:46:35.675142Z\u001b[0m \u001b[33m WARN\u001b[0m \u001b[2mtensorzero_internal::inference::types\u001b[0m\u001b[2m:\u001b[0m Deprecation Warning: `{\"type\": \"text\", \"value\", ...}` is deprecated. Please use `{\"type\": \"text\", \"text\": \"String input\"}` or `{\"type\": \"text\", \"arguments\": {..}} ` instead.\n",
      "\u001b[2m2025-04-07T18:46:35.675202Z\u001b[0m \u001b[33m WARN\u001b[0m \u001b[2mtensorzero_internal::inference::types\u001b[0m\u001b[2m:\u001b[0m Deprecation Warning: `{\"type\": \"text\", \"value\", ...}` is deprecated. Please use `{\"type\": \"text\", \"text\": \"String input\"}` or `{\"type\": \"text\", \"arguments\": {..}} ` instead.\n",
      "\u001b[2m2025-04-07T18:46:35.675211Z\u001b[0m \u001b[33m WARN\u001b[0m \u001b[2mtensorzero_internal::inference::types\u001b[0m\u001b[2m:\u001b[0m Deprecation Warning: `{\"type\": \"text\", \"value\", ...}` is deprecated. Please use `{\"type\": \"text\", \"text\": \"String input\"}` or `{\"type\": \"text\", \"arguments\": {..}} ` instead.\n",
      "\u001b[2m2025-04-07T18:46:35.675269Z\u001b[0m \u001b[33m WARN\u001b[0m \u001b[2mtensorzero_internal::inference::types\u001b[0m\u001b[2m:\u001b[0m Deprecation Warning: `{\"type\": \"text\", \"value\", ...}` is deprecated. Please use `{\"type\": \"text\", \"text\": \"String input\"}` or `{\"type\": \"text\", \"arguments\": {..}} ` instead.\n",
      "\u001b[2m2025-04-07T18:46:35.675295Z\u001b[0m \u001b[33m WARN\u001b[0m \u001b[2mtensorzero_internal::inference::types\u001b[0m\u001b[2m:\u001b[0m Deprecation Warning: `{\"type\": \"text\", \"value\", ...}` is deprecated. Please use `{\"type\": \"text\", \"text\": \"String input\"}` or `{\"type\": \"text\", \"arguments\": {..}} ` instead.\n",
      "\u001b[2m2025-04-07T18:46:35.675305Z\u001b[0m \u001b[33m WARN\u001b[0m \u001b[2mtensorzero_internal::inference::types\u001b[0m\u001b[2m:\u001b[0m Deprecation Warning: `{\"type\": \"text\", \"value\", ...}` is deprecated. Please use `{\"type\": \"text\", \"text\": \"String input\"}` or `{\"type\": \"text\", \"arguments\": {..}} ` instead.\n",
      "\u001b[2m2025-04-07T18:46:35.675296Z\u001b[0m \u001b[33m WARN\u001b[0m \u001b[2mtensorzero_internal::inference::types\u001b[0m\u001b[2m:\u001b[0m Deprecation Warning: `{\"type\": \"text\", \"value\", ...}` is deprecated. Please use `{\"type\": \"text\", \"text\": \"String input\"}` or `{\"type\": \"text\", \"arguments\": {..}} ` instead.\n",
      "\u001b[2m2025-04-07T18:46:35.675333Z\u001b[0m \u001b[33m WARN\u001b[0m \u001b[2mtensorzero_internal::inference::types\u001b[0m\u001b[2m:\u001b[0m Deprecation Warning: `{\"type\": \"text\", \"value\", ...}` is deprecated. Please use `{\"type\": \"text\", \"text\": \"String input\"}` or `{\"type\": \"text\", \"arguments\": {..}} ` instead.\n",
      "\u001b[2m2025-04-07T18:46:35.675337Z\u001b[0m \u001b[33m WARN\u001b[0m \u001b[2mtensorzero_internal::inference::types\u001b[0m\u001b[2m:\u001b[0m Deprecation Warning: `{\"type\": \"text\", \"value\", ...}` is deprecated. Please use `{\"type\": \"text\", \"text\": \"String input\"}` or `{\"type\": \"text\", \"arguments\": {..}} ` instead.\n",
      "\u001b[2m2025-04-07T18:46:35.675342Z\u001b[0m \u001b[33m WARN\u001b[0m \u001b[2mtensorzero_internal::inference::types\u001b[0m\u001b[2m:\u001b[0m Deprecation Warning: `{\"type\": \"text\", \"value\", ...}` is deprecated. Please use `{\"type\": \"text\", \"text\": \"String input\"}` or `{\"type\": \"text\", \"arguments\": {..}} ` instead.\n",
      "\u001b[2m2025-04-07T18:46:35.675351Z\u001b[0m \u001b[33m WARN\u001b[0m \u001b[2mtensorzero_internal::inference::types\u001b[0m\u001b[2m:\u001b[0m Deprecation Warning: `{\"type\": \"text\", \"value\", ...}` is deprecated. Please use `{\"type\": \"text\", \"text\": \"String input\"}` or `{\"type\": \"text\", \"arguments\": {..}} ` instead.\n",
      "\u001b[2m2025-04-07T18:46:35.675398Z\u001b[0m \u001b[33m WARN\u001b[0m \u001b[2mtensorzero_internal::inference::types\u001b[0m\u001b[2m:\u001b[0m Deprecation Warning: `{\"type\": \"text\", \"value\", ...}` is deprecated. Please use `{\"type\": \"text\", \"text\": \"String input\"}` or `{\"type\": \"text\", \"arguments\": {..}} ` instead.\n",
      "\u001b[2m2025-04-07T18:46:35.675418Z\u001b[0m \u001b[33m WARN\u001b[0m \u001b[2mtensorzero_internal::inference::types\u001b[0m\u001b[2m:\u001b[0m Deprecation Warning: `{\"type\": \"text\", \"value\", ...}` is deprecated. Please use `{\"type\": \"text\", \"text\": \"String input\"}` or `{\"type\": \"text\", \"arguments\": {..}} ` instead.\n",
      "\u001b[2m2025-04-07T18:46:35.675443Z\u001b[0m \u001b[33m WARN\u001b[0m \u001b[2mtensorzero_internal::inference::types\u001b[0m\u001b[2m:\u001b[0m Deprecation Warning: `{\"type\": \"text\", \"value\", ...}` is deprecated. Please use `{\"type\": \"text\", \"text\": \"String input\"}` or `{\"type\": \"text\", \"arguments\": {..}} ` instead.\n",
      "\u001b[2m2025-04-07T18:46:35.675444Z\u001b[0m \u001b[33m WARN\u001b[0m \u001b[2mtensorzero_internal::inference::types\u001b[0m\u001b[2m:\u001b[0m Deprecation Warning: `{\"type\": \"text\", \"value\", ...}` is deprecated. Please use `{\"type\": \"text\", \"text\": \"String input\"}` or `{\"type\": \"text\", \"arguments\": {..}} ` instead.\n",
      "\u001b[2m2025-04-07T18:46:35.675500Z\u001b[0m \u001b[33m WARN\u001b[0m \u001b[2mtensorzero_internal::inference::types\u001b[0m\u001b[2m:\u001b[0m Deprecation Warning: `{\"type\": \"text\", \"value\", ...}` is deprecated. Please use `{\"type\": \"text\", \"text\": \"String input\"}` or `{\"type\": \"text\", \"arguments\": {..}} ` instead.\n",
      "\u001b[2m2025-04-07T18:46:35.675510Z\u001b[0m \u001b[33m WARN\u001b[0m \u001b[2mtensorzero_internal::inference::types\u001b[0m\u001b[2m:\u001b[0m Deprecation Warning: `{\"type\": \"text\", \"value\", ...}` is deprecated. Please use `{\"type\": \"text\", \"text\": \"String input\"}` or `{\"type\": \"text\", \"arguments\": {..}} ` instead.\n",
      "\u001b[2m2025-04-07T18:46:35.675535Z\u001b[0m \u001b[33m WARN\u001b[0m \u001b[2mtensorzero_internal::inference::types\u001b[0m\u001b[2m:\u001b[0m Deprecation Warning: `{\"type\": \"text\", \"value\", ...}` is deprecated. Please use `{\"type\": \"text\", \"text\": \"String input\"}` or `{\"type\": \"text\", \"arguments\": {..}} ` instead.\n",
      "\u001b[2m2025-04-07T18:46:35.675623Z\u001b[0m \u001b[33m WARN\u001b[0m \u001b[2mtensorzero_internal::inference::types\u001b[0m\u001b[2m:\u001b[0m Deprecation Warning: `{\"type\": \"text\", \"value\", ...}` is deprecated. Please use `{\"type\": \"text\", \"text\": \"String input\"}` or `{\"type\": \"text\", \"arguments\": {..}} ` instead.\n",
      "\u001b[2m2025-04-07T18:46:35.675635Z\u001b[0m \u001b[33m WARN\u001b[0m \u001b[2mtensorzero_internal::inference::types\u001b[0m\u001b[2m:\u001b[0m Deprecation Warning: `{\"type\": \"text\", \"value\", ...}` is deprecated. Please use `{\"type\": \"text\", \"text\": \"String input\"}` or `{\"type\": \"text\", \"arguments\": {..}} ` instead.\n",
      "\u001b[2m2025-04-07T18:46:35.675639Z\u001b[0m \u001b[33m WARN\u001b[0m \u001b[2mtensorzero_internal::inference::types\u001b[0m\u001b[2m:\u001b[0m Deprecation Warning: `{\"type\": \"text\", \"value\", ...}` is deprecated. Please use `{\"type\": \"text\", \"text\": \"String input\"}` or `{\"type\": \"text\", \"arguments\": {..}} ` instead.\n",
      "\u001b[2m2025-04-07T18:46:35.675674Z\u001b[0m \u001b[33m WARN\u001b[0m \u001b[2mtensorzero_internal::inference::types\u001b[0m\u001b[2m:\u001b[0m Deprecation Warning: `{\"type\": \"text\", \"value\", ...}` is deprecated. Please use `{\"type\": \"text\", \"text\": \"String input\"}` or `{\"type\": \"text\", \"arguments\": {..}} ` instead.\n",
      "\u001b[2m2025-04-07T18:46:35.675749Z\u001b[0m \u001b[33m WARN\u001b[0m \u001b[2mtensorzero_internal::inference::types\u001b[0m\u001b[2m:\u001b[0m Deprecation Warning: `{\"type\": \"text\", \"value\", ...}` is deprecated. Please use `{\"type\": \"text\", \"text\": \"String input\"}` or `{\"type\": \"text\", \"arguments\": {..}} ` instead.\n",
      "\u001b[2m2025-04-07T18:46:35.675798Z\u001b[0m \u001b[33m WARN\u001b[0m \u001b[2mtensorzero_internal::inference::types\u001b[0m\u001b[2m:\u001b[0m Deprecation Warning: `{\"type\": \"text\", \"value\", ...}` is deprecated. Please use `{\"type\": \"text\", \"text\": \"String input\"}` or `{\"type\": \"text\", \"arguments\": {..}} ` instead.\n",
      "\u001b[2m2025-04-07T18:46:35.675811Z\u001b[0m \u001b[33m WARN\u001b[0m \u001b[2mtensorzero_internal::inference::types\u001b[0m\u001b[2m:\u001b[0m Deprecation Warning: `{\"type\": \"text\", \"value\", ...}` is deprecated. Please use `{\"type\": \"text\", \"text\": \"String input\"}` or `{\"type\": \"text\", \"arguments\": {..}} ` instead.\n",
      "\u001b[2m2025-04-07T18:46:35.675846Z\u001b[0m \u001b[33m WARN\u001b[0m \u001b[2mtensorzero_internal::inference::types\u001b[0m\u001b[2m:\u001b[0m Deprecation Warning: `{\"type\": \"text\", \"value\", ...}` is deprecated. Please use `{\"type\": \"text\", \"text\": \"String input\"}` or `{\"type\": \"text\", \"arguments\": {..}} ` instead.\n",
      "\u001b[2m2025-04-07T18:46:35.675863Z\u001b[0m \u001b[33m WARN\u001b[0m \u001b[2mtensorzero_internal::inference::types\u001b[0m\u001b[2m:\u001b[0m Deprecation Warning: `{\"type\": \"text\", \"value\", ...}` is deprecated. Please use `{\"type\": \"text\", \"text\": \"String input\"}` or `{\"type\": \"text\", \"arguments\": {..}} ` instead.\n",
      "\u001b[2m2025-04-07T18:46:35.675892Z\u001b[0m \u001b[33m WARN\u001b[0m \u001b[2mtensorzero_internal::inference::types\u001b[0m\u001b[2m:\u001b[0m Deprecation Warning: `{\"type\": \"text\", \"value\", ...}` is deprecated. Please use `{\"type\": \"text\", \"text\": \"String input\"}` or `{\"type\": \"text\", \"arguments\": {..}} ` instead.\n",
      "\u001b[2m2025-04-07T18:46:35.675914Z\u001b[0m \u001b[33m WARN\u001b[0m \u001b[2mtensorzero_internal::inference::types\u001b[0m\u001b[2m:\u001b[0m Deprecation Warning: `{\"type\": \"text\", \"value\", ...}` is deprecated. Please use `{\"type\": \"text\", \"text\": \"String input\"}` or `{\"type\": \"text\", \"arguments\": {..}} ` instead.\n",
      "\u001b[2m2025-04-07T18:46:35.675939Z\u001b[0m \u001b[33m WARN\u001b[0m \u001b[2mtensorzero_internal::inference::types\u001b[0m\u001b[2m:\u001b[0m Deprecation Warning: `{\"type\": \"text\", \"value\", ...}` is deprecated. Please use `{\"type\": \"text\", \"text\": \"String input\"}` or `{\"type\": \"text\", \"arguments\": {..}} ` instead.\n",
      "\u001b[2m2025-04-07T18:46:35.675948Z\u001b[0m \u001b[33m WARN\u001b[0m \u001b[2mtensorzero_internal::inference::types\u001b[0m\u001b[2m:\u001b[0m Deprecation Warning: `{\"type\": \"text\", \"value\", ...}` is deprecated. Please use `{\"type\": \"text\", \"text\": \"String input\"}` or `{\"type\": \"text\", \"arguments\": {..}} ` instead.\n",
      "\u001b[2m2025-04-07T18:46:35.675980Z\u001b[0m \u001b[33m WARN\u001b[0m \u001b[2mtensorzero_internal::inference::types\u001b[0m\u001b[2m:\u001b[0m Deprecation Warning: `{\"type\": \"text\", \"value\", ...}` is deprecated. Please use `{\"type\": \"text\", \"text\": \"String input\"}` or `{\"type\": \"text\", \"arguments\": {..}} ` instead.\n",
      "\u001b[2m2025-04-07T18:46:35.676049Z\u001b[0m \u001b[33m WARN\u001b[0m \u001b[2mtensorzero_internal::inference::types\u001b[0m\u001b[2m:\u001b[0m Deprecation Warning: `{\"type\": \"text\", \"value\", ...}` is deprecated. Please use `{\"type\": \"text\", \"text\": \"String input\"}` or `{\"type\": \"text\", \"arguments\": {..}} ` instead.\n",
      "\u001b[2m2025-04-07T18:46:35.676051Z\u001b[0m \u001b[33m WARN\u001b[0m \u001b[2mtensorzero_internal::inference::types\u001b[0m\u001b[2m:\u001b[0m Deprecation Warning: `{\"type\": \"text\", \"value\", ...}` is deprecated. Please use `{\"type\": \"text\", \"text\": \"String input\"}` or `{\"type\": \"text\", \"arguments\": {..}} ` instead.\n",
      "\u001b[2m2025-04-07T18:46:35.676119Z\u001b[0m \u001b[33m WARN\u001b[0m \u001b[2mtensorzero_internal::inference::types\u001b[0m\u001b[2m:\u001b[0m Deprecation Warning: `{\"type\": \"text\", \"value\", ...}` is deprecated. Please use `{\"type\": \"text\", \"text\": \"String input\"}` or `{\"type\": \"text\", \"arguments\": {..}} ` instead.\n",
      "\u001b[2m2025-04-07T18:46:35.676170Z\u001b[0m \u001b[33m WARN\u001b[0m \u001b[2mtensorzero_internal::inference::types\u001b[0m\u001b[2m:\u001b[0m Deprecation Warning: `{\"type\": \"text\", \"value\", ...}` is deprecated. Please use `{\"type\": \"text\", \"text\": \"String input\"}` or `{\"type\": \"text\", \"arguments\": {..}} ` instead.\n",
      "\u001b[2m2025-04-07T18:46:35.676213Z\u001b[0m \u001b[33m WARN\u001b[0m \u001b[2mtensorzero_internal::inference::types\u001b[0m\u001b[2m:\u001b[0m Deprecation Warning: `{\"type\": \"text\", \"value\", ...}` is deprecated. Please use `{\"type\": \"text\", \"text\": \"String input\"}` or `{\"type\": \"text\", \"arguments\": {..}} ` instead.\n",
      "\u001b[2m2025-04-07T18:46:35.676237Z\u001b[0m \u001b[33m WARN\u001b[0m \u001b[2mtensorzero_internal::inference::types\u001b[0m\u001b[2m:\u001b[0m Deprecation Warning: `{\"type\": \"text\", \"value\", ...}` is deprecated. Please use `{\"type\": \"text\", \"text\": \"String input\"}` or `{\"type\": \"text\", \"arguments\": {..}} ` instead.\n",
      "\u001b[2m2025-04-07T18:46:35.676240Z\u001b[0m \u001b[33m WARN\u001b[0m \u001b[2mtensorzero_internal::inference::types\u001b[0m\u001b[2m:\u001b[0m Deprecation Warning: `{\"type\": \"text\", \"value\", ...}` is deprecated. Please use `{\"type\": \"text\", \"text\": \"String input\"}` or `{\"type\": \"text\", \"arguments\": {..}} ` instead.\n",
      "\u001b[2m2025-04-07T18:46:35.676255Z\u001b[0m \u001b[33m WARN\u001b[0m \u001b[2mtensorzero_internal::inference::types\u001b[0m\u001b[2m:\u001b[0m Deprecation Warning: `{\"type\": \"text\", \"value\", ...}` is deprecated. Please use `{\"type\": \"text\", \"text\": \"String input\"}` or `{\"type\": \"text\", \"arguments\": {..}} ` instead.\n",
      "\u001b[2m2025-04-07T18:46:35.676259Z\u001b[0m \u001b[33m WARN\u001b[0m \u001b[2mtensorzero_internal::inference::types\u001b[0m\u001b[2m:\u001b[0m Deprecation Warning: `{\"type\": \"text\", \"value\", ...}` is deprecated. Please use `{\"type\": \"text\", \"text\": \"String input\"}` or `{\"type\": \"text\", \"arguments\": {..}} ` instead.\n",
      "\u001b[2m2025-04-07T18:46:35.676541Z\u001b[0m \u001b[33m WARN\u001b[0m \u001b[2mtensorzero_internal::inference::types\u001b[0m\u001b[2m:\u001b[0m Deprecation Warning: `{\"type\": \"text\", \"value\", ...}` is deprecated. Please use `{\"type\": \"text\", \"text\": \"String input\"}` or `{\"type\": \"text\", \"arguments\": {..}} ` instead.\n",
      "\u001b[2m2025-04-07T18:46:35.676547Z\u001b[0m \u001b[33m WARN\u001b[0m \u001b[2mtensorzero_internal::inference::types\u001b[0m\u001b[2m:\u001b[0m Deprecation Warning: `{\"type\": \"text\", \"value\", ...}` is deprecated. Please use `{\"type\": \"text\", \"text\": \"String input\"}` or `{\"type\": \"text\", \"arguments\": {..}} ` instead.\n",
      "\u001b[2m2025-04-07T18:46:35.676563Z\u001b[0m \u001b[33m WARN\u001b[0m \u001b[2mtensorzero_internal::inference::types\u001b[0m\u001b[2m:\u001b[0m Deprecation Warning: `{\"type\": \"text\", \"value\", ...}` is deprecated. Please use `{\"type\": \"text\", \"text\": \"String input\"}` or `{\"type\": \"text\", \"arguments\": {..}} ` instead.\n"
     ]
    },
    {
     "name": "stderr",
     "output_type": "stream",
     "text": [
      "  6%|▌         | 6/100 [00:00<00:07, 12.65it/s]"
     ]
    },
    {
     "name": "stdout",
     "output_type": "stream",
     "text": [
      "\u001b[2m2025-04-07T18:46:36.164523Z\u001b[0m \u001b[33m WARN\u001b[0m \u001b[2mtensorzero_internal::inference::types\u001b[0m\u001b[2m:\u001b[0m Deprecation Warning: `{\"type\": \"text\", \"value\", ...}` is deprecated. Please use `{\"type\": \"text\", \"text\": \"String input\"}` or `{\"type\": \"text\", \"arguments\": {..}} ` instead.\n",
      "\u001b[2m2025-04-07T18:46:36.192542Z\u001b[0m \u001b[33m WARN\u001b[0m \u001b[2mtensorzero_internal::inference::types\u001b[0m\u001b[2m:\u001b[0m Deprecation Warning: `{\"type\": \"text\", \"value\", ...}` is deprecated. Please use `{\"type\": \"text\", \"text\": \"String input\"}` or `{\"type\": \"text\", \"arguments\": {..}} ` instead.\n",
      "\u001b[2m2025-04-07T18:46:36.203808Z\u001b[0m \u001b[33m WARN\u001b[0m \u001b[2mtensorzero_internal::inference::types\u001b[0m\u001b[2m:\u001b[0m Deprecation Warning: `{\"type\": \"text\", \"value\", ...}` is deprecated. Please use `{\"type\": \"text\", \"text\": \"String input\"}` or `{\"type\": \"text\", \"arguments\": {..}} ` instead.\n",
      "\u001b[2m2025-04-07T18:46:36.208531Z\u001b[0m \u001b[33m WARN\u001b[0m \u001b[2mtensorzero_internal::inference::types\u001b[0m\u001b[2m:\u001b[0m Deprecation Warning: `{\"type\": \"text\", \"value\", ...}` is deprecated. Please use `{\"type\": \"text\", \"text\": \"String input\"}` or `{\"type\": \"text\", \"arguments\": {..}} ` instead.\n",
      "\u001b[2m2025-04-07T18:46:36.229852Z\u001b[0m \u001b[33m WARN\u001b[0m \u001b[2mtensorzero_internal::inference::types\u001b[0m\u001b[2m:\u001b[0m Deprecation Warning: `{\"type\": \"text\", \"value\", ...}` is deprecated. Please use `{\"type\": \"text\", \"text\": \"String input\"}` or `{\"type\": \"text\", \"arguments\": {..}} ` instead.\n",
      "\u001b[2m2025-04-07T18:46:36.271735Z\u001b[0m \u001b[33m WARN\u001b[0m \u001b[2mtensorzero_internal::inference::types\u001b[0m\u001b[2m:\u001b[0m Deprecation Warning: `{\"type\": \"text\", \"value\", ...}` is deprecated. Please use `{\"type\": \"text\", \"text\": \"String input\"}` or `{\"type\": \"text\", \"arguments\": {..}} ` instead.\n",
      "\u001b[2m2025-04-07T18:46:36.278832Z\u001b[0m \u001b[33m WARN\u001b[0m \u001b[2mtensorzero_internal::inference::types\u001b[0m\u001b[2m:\u001b[0m Deprecation Warning: `{\"type\": \"text\", \"value\", ...}` is deprecated. Please use `{\"type\": \"text\", \"text\": \"String input\"}` or `{\"type\": \"text\", \"arguments\": {..}} ` instead.\n",
      "\u001b[2m2025-04-07T18:46:36.282350Z\u001b[0m \u001b[33m WARN\u001b[0m \u001b[2mtensorzero_internal::inference::types\u001b[0m\u001b[2m:\u001b[0m Deprecation Warning: `{\"type\": \"text\", \"value\", ...}` is deprecated. Please use `{\"type\": \"text\", \"text\": \"String input\"}` or `{\"type\": \"text\", \"arguments\": {..}} ` instead.\n",
      "\u001b[2m2025-04-07T18:46:36.284507Z\u001b[0m \u001b[33m WARN\u001b[0m \u001b[2mtensorzero_internal::inference::types\u001b[0m\u001b[2m:\u001b[0m Deprecation Warning: `{\"type\": \"text\", \"value\", ...}` is deprecated. Please use `{\"type\": \"text\", \"text\": \"String input\"}` or `{\"type\": \"text\", \"arguments\": {..}} ` instead.\n",
      "\u001b[2m2025-04-07T18:46:36.290710Z\u001b[0m \u001b[33m WARN\u001b[0m \u001b[2mtensorzero_internal::inference::types\u001b[0m\u001b[2m:\u001b[0m Deprecation Warning: `{\"type\": \"text\", \"value\", ...}` is deprecated. Please use `{\"type\": \"text\", \"text\": \"String input\"}` or `{\"type\": \"text\", \"arguments\": {..}} ` instead.\n",
      "\u001b[2m2025-04-07T18:46:36.290879Z\u001b[0m \u001b[33m WARN\u001b[0m \u001b[2mtensorzero_internal::inference::types\u001b[0m\u001b[2m:\u001b[0m Deprecation Warning: `{\"type\": \"text\", \"value\", ...}` is deprecated. Please use `{\"type\": \"text\", \"text\": \"String input\"}` or `{\"type\": \"text\", \"arguments\": {..}} ` instead.\n",
      "\u001b[2m2025-04-07T18:46:36.290987Z\u001b[0m \u001b[33m WARN\u001b[0m \u001b[2mtensorzero_internal::inference::types\u001b[0m\u001b[2m:\u001b[0m Deprecation Warning: `{\"type\": \"text\", \"value\", ...}` is deprecated. Please use `{\"type\": \"text\", \"text\": \"String input\"}` or `{\"type\": \"text\", \"arguments\": {..}} ` instead.\n",
      "\u001b[2m2025-04-07T18:46:36.308632Z\u001b[0m \u001b[33m WARN\u001b[0m \u001b[2mtensorzero_internal::inference::types\u001b[0m\u001b[2m:\u001b[0m Deprecation Warning: `{\"type\": \"text\", \"value\", ...}` is deprecated. Please use `{\"type\": \"text\", \"text\": \"String input\"}` or `{\"type\": \"text\", \"arguments\": {..}} ` instead.\n",
      "\u001b[2m2025-04-07T18:46:36.308708Z\u001b[0m \u001b[33m WARN\u001b[0m \u001b[2mtensorzero_internal::inference::types\u001b[0m\u001b[2m:\u001b[0m Deprecation Warning: `{\"type\": \"text\", \"value\", ...}` is deprecated. Please use `{\"type\": \"text\", \"text\": \"String input\"}` or `{\"type\": \"text\", \"arguments\": {..}} ` instead.\n",
      "\u001b[2m2025-04-07T18:46:36.309609Z\u001b[0m \u001b[33m WARN\u001b[0m \u001b[2mtensorzero_internal::inference::types\u001b[0m\u001b[2m:\u001b[0m Deprecation Warning: `{\"type\": \"text\", \"value\", ...}` is deprecated. Please use `{\"type\": \"text\", \"text\": \"String input\"}` or `{\"type\": \"text\", \"arguments\": {..}} ` instead.\n",
      "\u001b[2m2025-04-07T18:46:36.315723Z\u001b[0m \u001b[33m WARN\u001b[0m \u001b[2mtensorzero_internal::inference::types\u001b[0m\u001b[2m:\u001b[0m Deprecation Warning: `{\"type\": \"text\", \"value\", ...}` is deprecated. Please use `{\"type\": \"text\", \"text\": \"String input\"}` or `{\"type\": \"text\", \"arguments\": {..}} ` instead.\n",
      "\u001b[2m2025-04-07T18:46:36.321021Z\u001b[0m \u001b[33m WARN\u001b[0m \u001b[2mtensorzero_internal::inference::types\u001b[0m\u001b[2m:\u001b[0m Deprecation Warning: `{\"type\": \"text\", \"value\", ...}` is deprecated. Please use `{\"type\": \"text\", \"text\": \"String input\"}` or `{\"type\": \"text\", \"arguments\": {..}} ` instead.\n",
      "\u001b[2m2025-04-07T18:46:36.330119Z\u001b[0m \u001b[33m WARN\u001b[0m \u001b[2mtensorzero_internal::inference::types\u001b[0m\u001b[2m:\u001b[0m Deprecation Warning: `{\"type\": \"text\", \"value\", ...}` is deprecated. Please use `{\"type\": \"text\", \"text\": \"String input\"}` or `{\"type\": \"text\", \"arguments\": {..}} ` instead.\n",
      "\u001b[2m2025-04-07T18:46:36.342953Z\u001b[0m \u001b[33m WARN\u001b[0m \u001b[2mtensorzero_internal::inference::types\u001b[0m\u001b[2m:\u001b[0m Deprecation Warning: `{\"type\": \"text\", \"value\", ...}` is deprecated. Please use `{\"type\": \"text\", \"text\": \"String input\"}` or `{\"type\": \"text\", \"arguments\": {..}} ` instead.\n",
      "\u001b[2m2025-04-07T18:46:36.345522Z\u001b[0m \u001b[33m WARN\u001b[0m \u001b[2mtensorzero_internal::inference::types\u001b[0m\u001b[2m:\u001b[0m Deprecation Warning: `{\"type\": \"text\", \"value\", ...}` is deprecated. Please use `{\"type\": \"text\", \"text\": \"String input\"}` or `{\"type\": \"text\", \"arguments\": {..}} ` instead.\n",
      "\u001b[2m2025-04-07T18:46:36.345533Z\u001b[0m \u001b[33m WARN\u001b[0m \u001b[2mtensorzero_internal::inference::types\u001b[0m\u001b[2m:\u001b[0m Deprecation Warning: `{\"type\": \"text\", \"value\", ...}` is deprecated. Please use `{\"type\": \"text\", \"text\": \"String input\"}` or `{\"type\": \"text\", \"arguments\": {..}} ` instead.\n"
     ]
    },
    {
     "name": "stderr",
     "output_type": "stream",
     "text": [
      " 32%|███▏      | 32/100 [00:00<00:01, 51.34it/s]"
     ]
    },
    {
     "name": "stdout",
     "output_type": "stream",
     "text": [
      "\u001b[2m2025-04-07T18:46:36.368082Z\u001b[0m \u001b[33m WARN\u001b[0m \u001b[2mtensorzero_internal::inference::types\u001b[0m\u001b[2m:\u001b[0m Deprecation Warning: `{\"type\": \"text\", \"value\", ...}` is deprecated. Please use `{\"type\": \"text\", \"text\": \"String input\"}` or `{\"type\": \"text\", \"arguments\": {..}} ` instead.\n",
      "\u001b[2m2025-04-07T18:46:36.390768Z\u001b[0m \u001b[33m WARN\u001b[0m \u001b[2mtensorzero_internal::inference::types\u001b[0m\u001b[2m:\u001b[0m Deprecation Warning: `{\"type\": \"text\", \"value\", ...}` is deprecated. Please use `{\"type\": \"text\", \"text\": \"String input\"}` or `{\"type\": \"text\", \"arguments\": {..}} ` instead.\n",
      "\u001b[2m2025-04-07T18:46:36.512567Z\u001b[0m \u001b[33m WARN\u001b[0m \u001b[2mtensorzero_internal::inference::types\u001b[0m\u001b[2m:\u001b[0m Deprecation Warning: `{\"type\": \"text\", \"value\", ...}` is deprecated. Please use `{\"type\": \"text\", \"text\": \"String input\"}` or `{\"type\": \"text\", \"arguments\": {..}} ` instead.\n",
      "\u001b[2m2025-04-07T18:46:36.512633Z\u001b[0m \u001b[33m WARN\u001b[0m \u001b[2mtensorzero_internal::inference::types\u001b[0m\u001b[2m:\u001b[0m Deprecation Warning: `{\"type\": \"text\", \"value\", ...}` is deprecated. Please use `{\"type\": \"text\", \"text\": \"String input\"}` or `{\"type\": \"text\", \"arguments\": {..}} ` instead.\n",
      "\u001b[2m2025-04-07T18:46:36.512824Z\u001b[0m \u001b[33m WARN\u001b[0m \u001b[2mtensorzero_internal::inference::types\u001b[0m\u001b[2m:\u001b[0m Deprecation Warning: `{\"type\": \"text\", \"value\", ...}` is deprecated. Please use `{\"type\": \"text\", \"text\": \"String input\"}` or `{\"type\": \"text\", \"arguments\": {..}} ` instead.\n",
      "\u001b[2m2025-04-07T18:46:36.512904Z\u001b[0m \u001b[33m WARN\u001b[0m \u001b[2mtensorzero_internal::inference::types\u001b[0m\u001b[2m:\u001b[0m Deprecation Warning: `{\"type\": \"text\", \"value\", ...}` is deprecated. Please use `{\"type\": \"text\", \"text\": \"String input\"}` or `{\"type\": \"text\", \"arguments\": {..}} ` instead.\n",
      "\u001b[2m2025-04-07T18:46:36.513035Z\u001b[0m \u001b[33m WARN\u001b[0m \u001b[2mtensorzero_internal::inference::types\u001b[0m\u001b[2m:\u001b[0m Deprecation Warning: `{\"type\": \"text\", \"value\", ...}` is deprecated. Please use `{\"type\": \"text\", \"text\": \"String input\"}` or `{\"type\": \"text\", \"arguments\": {..}} ` instead.\n",
      "\u001b[2m2025-04-07T18:46:36.513439Z\u001b[0m \u001b[33m WARN\u001b[0m \u001b[2mtensorzero_internal::inference::types\u001b[0m\u001b[2m:\u001b[0m Deprecation Warning: `{\"type\": \"text\", \"value\", ...}` is deprecated. Please use `{\"type\": \"text\", \"text\": \"String input\"}` or `{\"type\": \"text\", \"arguments\": {..}} ` instead.\n",
      "\u001b[2m2025-04-07T18:46:36.536178Z\u001b[0m \u001b[33m WARN\u001b[0m \u001b[2mtensorzero_internal::inference::types\u001b[0m\u001b[2m:\u001b[0m Deprecation Warning: `{\"type\": \"text\", \"value\", ...}` is deprecated. Please use `{\"type\": \"text\", \"text\": \"String input\"}` or `{\"type\": \"text\", \"arguments\": {..}} ` instead.\n",
      "\u001b[2m2025-04-07T18:46:36.546208Z\u001b[0m \u001b[33m WARN\u001b[0m \u001b[2mtensorzero_internal::inference::types\u001b[0m\u001b[2m:\u001b[0m Deprecation Warning: `{\"type\": \"text\", \"value\", ...}` is deprecated. Please use `{\"type\": \"text\", \"text\": \"String input\"}` or `{\"type\": \"text\", \"arguments\": {..}} ` instead.\n",
      "\u001b[2m2025-04-07T18:46:36.547915Z\u001b[0m \u001b[33m WARN\u001b[0m \u001b[2mtensorzero_internal::inference::types\u001b[0m\u001b[2m:\u001b[0m Deprecation Warning: `{\"type\": \"text\", \"value\", ...}` is deprecated. Please use `{\"type\": \"text\", \"text\": \"String input\"}` or `{\"type\": \"text\", \"arguments\": {..}} ` instead.\n",
      "\u001b[2m2025-04-07T18:46:36.554729Z\u001b[0m \u001b[33m WARN\u001b[0m \u001b[2mtensorzero_internal::inference::types\u001b[0m\u001b[2m:\u001b[0m Deprecation Warning: `{\"type\": \"text\", \"value\", ...}` is deprecated. Please use `{\"type\": \"text\", \"text\": \"String input\"}` or `{\"type\": \"text\", \"arguments\": {..}} ` instead.\n"
     ]
    },
    {
     "name": "stderr",
     "output_type": "stream",
     "text": [
      " 40%|████      | 40/100 [00:01<00:01, 49.36it/s]"
     ]
    },
    {
     "name": "stdout",
     "output_type": "stream",
     "text": [
      "\u001b[2m2025-04-07T18:46:36.589446Z\u001b[0m \u001b[33m WARN\u001b[0m \u001b[2mtensorzero_internal::inference::types\u001b[0m\u001b[2m:\u001b[0m Deprecation Warning: `{\"type\": \"text\", \"value\", ...}` is deprecated. Please use `{\"type\": \"text\", \"text\": \"String input\"}` or `{\"type\": \"text\", \"arguments\": {..}} ` instead.\n",
      "\u001b[2m2025-04-07T18:46:36.603061Z\u001b[0m \u001b[33m WARN\u001b[0m \u001b[2mtensorzero_internal::inference::types\u001b[0m\u001b[2m:\u001b[0m Deprecation Warning: `{\"type\": \"text\", \"value\", ...}` is deprecated. Please use `{\"type\": \"text\", \"text\": \"String input\"}` or `{\"type\": \"text\", \"arguments\": {..}} ` instead.\n",
      "\u001b[2m2025-04-07T18:46:36.603058Z\u001b[0m \u001b[33m WARN\u001b[0m \u001b[2mtensorzero_internal::inference::types\u001b[0m\u001b[2m:\u001b[0m Deprecation Warning: `{\"type\": \"text\", \"value\", ...}` is deprecated. Please use `{\"type\": \"text\", \"text\": \"String input\"}` or `{\"type\": \"text\", \"arguments\": {..}} ` instead.\n",
      "\u001b[2m2025-04-07T18:46:36.662073Z\u001b[0m \u001b[33m WARN\u001b[0m \u001b[2mtensorzero_internal::inference::types\u001b[0m\u001b[2m:\u001b[0m Deprecation Warning: `{\"type\": \"text\", \"value\", ...}` is deprecated. Please use `{\"type\": \"text\", \"text\": \"String input\"}` or `{\"type\": \"text\", \"arguments\": {..}} ` instead.\n",
      "\u001b[2m2025-04-07T18:46:36.666329Z\u001b[0m \u001b[33m WARN\u001b[0m \u001b[2mtensorzero_internal::inference::types\u001b[0m\u001b[2m:\u001b[0m Deprecation Warning: `{\"type\": \"text\", \"value\", ...}` is deprecated. Please use `{\"type\": \"text\", \"text\": \"String input\"}` or `{\"type\": \"text\", \"arguments\": {..}} ` instead.\n",
      "\u001b[2m2025-04-07T18:46:36.694453Z\u001b[0m \u001b[33m WARN\u001b[0m \u001b[2mtensorzero_internal::inference::types\u001b[0m\u001b[2m:\u001b[0m Deprecation Warning: `{\"type\": \"text\", \"value\", ...}` is deprecated. Please use `{\"type\": \"text\", \"text\": \"String input\"}` or `{\"type\": \"text\", \"arguments\": {..}} ` instead.\n",
      "\u001b[2m2025-04-07T18:46:36.723533Z\u001b[0m \u001b[33m WARN\u001b[0m \u001b[2mtensorzero_internal::inference::types\u001b[0m\u001b[2m:\u001b[0m Deprecation Warning: `{\"type\": \"text\", \"value\", ...}` is deprecated. Please use `{\"type\": \"text\", \"text\": \"String input\"}` or `{\"type\": \"text\", \"arguments\": {..}} ` instead.\n",
      "\u001b[2m2025-04-07T18:46:36.732030Z\u001b[0m \u001b[33m WARN\u001b[0m \u001b[2mtensorzero_internal::inference::types\u001b[0m\u001b[2m:\u001b[0m Deprecation Warning: `{\"type\": \"text\", \"value\", ...}` is deprecated. Please use `{\"type\": \"text\", \"text\": \"String input\"}` or `{\"type\": \"text\", \"arguments\": {..}} ` instead.\n",
      "\u001b[2m2025-04-07T18:46:36.732181Z\u001b[0m \u001b[33m WARN\u001b[0m \u001b[2mtensorzero_internal::inference::types\u001b[0m\u001b[2m:\u001b[0m Deprecation Warning: `{\"type\": \"text\", \"value\", ...}` is deprecated. Please use `{\"type\": \"text\", \"text\": \"String input\"}` or `{\"type\": \"text\", \"arguments\": {..}} ` instead.\n",
      "\u001b[2m2025-04-07T18:46:36.750400Z\u001b[0m \u001b[33m WARN\u001b[0m \u001b[2mtensorzero_internal::inference::types\u001b[0m\u001b[2m:\u001b[0m Deprecation Warning: `{\"type\": \"text\", \"value\", ...}` is deprecated. Please use `{\"type\": \"text\", \"text\": \"String input\"}` or `{\"type\": \"text\", \"arguments\": {..}} ` instead.\n",
      "\u001b[2m2025-04-07T18:46:36.750463Z\u001b[0m \u001b[33m WARN\u001b[0m \u001b[2mtensorzero_internal::inference::types\u001b[0m\u001b[2m:\u001b[0m Deprecation Warning: `{\"type\": \"text\", \"value\", ...}` is deprecated. Please use `{\"type\": \"text\", \"text\": \"String input\"}` or `{\"type\": \"text\", \"arguments\": {..}} ` instead.\n",
      "\u001b[2m2025-04-07T18:46:36.753778Z\u001b[0m \u001b[33m WARN\u001b[0m \u001b[2mtensorzero_internal::inference::types\u001b[0m\u001b[2m:\u001b[0m Deprecation Warning: `{\"type\": \"text\", \"value\", ...}` is deprecated. Please use `{\"type\": \"text\", \"text\": \"String input\"}` or `{\"type\": \"text\", \"arguments\": {..}} ` instead.\n",
      "\u001b[2m2025-04-07T18:46:36.753841Z\u001b[0m \u001b[33m WARN\u001b[0m \u001b[2mtensorzero_internal::inference::types\u001b[0m\u001b[2m:\u001b[0m Deprecation Warning: `{\"type\": \"text\", \"value\", ...}` is deprecated. Please use `{\"type\": \"text\", \"text\": \"String input\"}` or `{\"type\": \"text\", \"arguments\": {..}} ` instead.\n",
      "\u001b[2m2025-04-07T18:46:36.753925Z\u001b[0m \u001b[33m WARN\u001b[0m \u001b[2mtensorzero_internal::inference::types\u001b[0m\u001b[2m:\u001b[0m Deprecation Warning: `{\"type\": \"text\", \"value\", ...}` is deprecated. Please use `{\"type\": \"text\", \"text\": \"String input\"}` or `{\"type\": \"text\", \"arguments\": {..}} ` instead.\n",
      "\u001b[2m2025-04-07T18:46:36.768805Z\u001b[0m \u001b[33m WARN\u001b[0m \u001b[2mtensorzero_internal::inference::types\u001b[0m\u001b[2m:\u001b[0m Deprecation Warning: `{\"type\": \"text\", \"value\", ...}` is deprecated. Please use `{\"type\": \"text\", \"text\": \"String input\"}` or `{\"type\": \"text\", \"arguments\": {..}} ` instead.\n",
      "\u001b[2m2025-04-07T18:46:36.777271Z\u001b[0m \u001b[33m WARN\u001b[0m \u001b[2mtensorzero_internal::inference::types\u001b[0m\u001b[2m:\u001b[0m Deprecation Warning: `{\"type\": \"text\", \"value\", ...}` is deprecated. Please use `{\"type\": \"text\", \"text\": \"String input\"}` or `{\"type\": \"text\", \"arguments\": {..}} ` instead.\n",
      "\u001b[2m2025-04-07T18:46:36.787069Z\u001b[0m \u001b[33m WARN\u001b[0m \u001b[2mtensorzero_internal::inference::types\u001b[0m\u001b[2m:\u001b[0m Deprecation Warning: `{\"type\": \"text\", \"value\", ...}` is deprecated. Please use `{\"type\": \"text\", \"text\": \"String input\"}` or `{\"type\": \"text\", \"arguments\": {..}} ` instead.\n"
     ]
    },
    {
     "name": "stderr",
     "output_type": "stream",
     "text": [
      "100%|██████████| 100/100 [00:04<00:00, 21.85it/s]\n",
      "100%|██████████| 100/100 [00:14<00:00,  7.00it/s]\n",
      "[I 2025-04-07 14:46:54,549] Trial 3 finished with value: 0.6758681318681319 and parameters: {'instruction_index': 9, 'demonstration_index': 0}. Best is trial 3 with value: 0.6758681318681319.\n"
     ]
    },
    {
     "name": "stdout",
     "output_type": "stream",
     "text": [
      "Iteration 4: 0.6758681318681319\n"
     ]
    },
    {
     "name": "stderr",
     "output_type": "stream",
     "text": [
      "  0%|          | 0/100 [00:00<?, ?it/s]"
     ]
    },
    {
     "name": "stdout",
     "output_type": "stream",
     "text": [
      "\u001b[2m2025-04-07T18:46:54.860828Z\u001b[0m \u001b[33m WARN\u001b[0m \u001b[2mtensorzero_internal::inference::types\u001b[0m\u001b[2m:\u001b[0m Deprecation Warning: `{\"type\": \"text\", \"value\", ...}` is deprecated. Please use `{\"type\": \"text\", \"text\": \"String input\"}` or `{\"type\": \"text\", \"arguments\": {..}} ` instead.\n",
      "\u001b[2m2025-04-07T18:46:54.860843Z\u001b[0m \u001b[33m WARN\u001b[0m \u001b[2mtensorzero_internal::inference::types\u001b[0m\u001b[2m:\u001b[0m Deprecation Warning: `{\"type\": \"text\", \"value\", ...}` is deprecated. Please use `{\"type\": \"text\", \"text\": \"String input\"}` or `{\"type\": \"text\", \"arguments\": {..}} ` instead.\n",
      "\u001b[2m2025-04-07T18:46:54.860831Z\u001b[0m \u001b[33m WARN\u001b[0m \u001b[2mtensorzero_internal::inference::types\u001b[0m\u001b[2m:\u001b[0m Deprecation Warning: `{\"type\": \"text\", \"value\", ...}` is deprecated. Please use `{\"type\": \"text\", \"text\": \"String input\"}` or `{\"type\": \"text\", \"arguments\": {..}} ` instead.\n",
      "\u001b[2m2025-04-07T18:46:54.860828Z\u001b[0m \u001b[33m WARN\u001b[0m \u001b[2mtensorzero_internal::inference::types\u001b[0m\u001b[2m:\u001b[0m Deprecation Warning: `{\"type\": \"text\", \"value\", ...}` is deprecated. Please use `{\"type\": \"text\", \"text\": \"String input\"}` or `{\"type\": \"text\", \"arguments\": {..}} ` instead.\n",
      "\u001b[2m2025-04-07T18:46:54.860897Z\u001b[0m \u001b[33m WARN\u001b[0m \u001b[2mtensorzero_internal::inference::types\u001b[0m\u001b[2m:\u001b[0m Deprecation Warning: `{\"type\": \"text\", \"value\", ...}` is deprecated. Please use `{\"type\": \"text\", \"text\": \"String input\"}` or `{\"type\": \"text\", \"arguments\": {..}} ` instead.\n",
      "\u001b[2m2025-04-07T18:46:54.860916Z\u001b[0m \u001b[33m WARN\u001b[0m \u001b[2mtensorzero_internal::inference::types\u001b[0m\u001b[2m:\u001b[0m Deprecation Warning: `{\"type\": \"text\", \"value\", ...}` is deprecated. Please use `{\"type\": \"text\", \"text\": \"String input\"}` or `{\"type\": \"text\", \"arguments\": {..}} ` instead.\n",
      "\u001b[2m2025-04-07T18:46:54.860941Z\u001b[0m \u001b[33m WARN\u001b[0m \u001b[2mtensorzero_internal::inference::types\u001b[0m\u001b[2m:\u001b[0m Deprecation Warning: `{\"type\": \"text\", \"value\", ...}` is deprecated. Please use `{\"type\": \"text\", \"text\": \"String input\"}` or `{\"type\": \"text\", \"arguments\": {..}} ` instead.\n",
      "\u001b[2m2025-04-07T18:46:54.860955Z\u001b[0m \u001b[33m WARN\u001b[0m \u001b[2mtensorzero_internal::inference::types\u001b[0m\u001b[2m:\u001b[0m Deprecation Warning: `{\"type\": \"text\", \"value\", ...}` is deprecated. Please use `{\"type\": \"text\", \"text\": \"String input\"}` or `{\"type\": \"text\", \"arguments\": {..}} ` instead.\n",
      "\u001b[2m2025-04-07T18:46:54.861021Z\u001b[0m \u001b[33m WARN\u001b[0m \u001b[2mtensorzero_internal::inference::types\u001b[0m\u001b[2m:\u001b[0m Deprecation Warning: `{\"type\": \"text\", \"value\", ...}` is deprecated. Please use `{\"type\": \"text\", \"text\": \"String input\"}` or `{\"type\": \"text\", \"arguments\": {..}} ` instead.\n",
      "\u001b[2m2025-04-07T18:46:54.861214Z\u001b[0m \u001b[33m WARN\u001b[0m \u001b[2mtensorzero_internal::inference::types\u001b[0m\u001b[2m:\u001b[0m Deprecation Warning: `{\"type\": \"text\", \"value\", ...}` is deprecated. Please use `{\"type\": \"text\", \"text\": \"String input\"}` or `{\"type\": \"text\", \"arguments\": {..}} ` instead.\n",
      "\u001b[2m2025-04-07T18:46:54.861268Z\u001b[0m \u001b[33m WARN\u001b[0m \u001b[2mtensorzero_internal::inference::types\u001b[0m\u001b[2m:\u001b[0m Deprecation Warning: `{\"type\": \"text\", \"value\", ...}` is deprecated. Please use `{\"type\": \"text\", \"text\": \"String input\"}` or `{\"type\": \"text\", \"arguments\": {..}} ` instead.\n",
      "\u001b[2m2025-04-07T18:46:54.861294Z\u001b[0m \u001b[33m WARN\u001b[0m \u001b[2mtensorzero_internal::inference::types\u001b[0m\u001b[2m:\u001b[0m Deprecation Warning: `{\"type\": \"text\", \"value\", ...}` is deprecated. Please use `{\"type\": \"text\", \"text\": \"String input\"}` or `{\"type\": \"text\", \"arguments\": {..}} ` instead.\n",
      "\u001b[2m2025-04-07T18:46:54.861313Z\u001b[0m \u001b[33m WARN\u001b[0m \u001b[2mtensorzero_internal::inference::types\u001b[0m\u001b[2m:\u001b[0m Deprecation Warning: `{\"type\": \"text\", \"value\", ...}` is deprecated. Please use `{\"type\": \"text\", \"text\": \"String input\"}` or `{\"type\": \"text\", \"arguments\": {..}} ` instead.\n",
      "\u001b[2m2025-04-07T18:46:54.861356Z\u001b[0m \u001b[33m WARN\u001b[0m \u001b[2mtensorzero_internal::inference::types\u001b[0m\u001b[2m:\u001b[0m Deprecation Warning: `{\"type\": \"text\", \"value\", ...}` is deprecated. Please use `{\"type\": \"text\", \"text\": \"String input\"}` or `{\"type\": \"text\", \"arguments\": {..}} ` instead.\n",
      "\u001b[2m2025-04-07T18:46:54.861391Z\u001b[0m \u001b[33m WARN\u001b[0m \u001b[2mtensorzero_internal::inference::types\u001b[0m\u001b[2m:\u001b[0m Deprecation Warning: `{\"type\": \"text\", \"value\", ...}` is deprecated. Please use `{\"type\": \"text\", \"text\": \"String input\"}` or `{\"type\": \"text\", \"arguments\": {..}} ` instead.\n",
      "\u001b[2m2025-04-07T18:46:54.861420Z\u001b[0m \u001b[33m WARN\u001b[0m \u001b[2mtensorzero_internal::inference::types\u001b[0m\u001b[2m:\u001b[0m Deprecation Warning: `{\"type\": \"text\", \"value\", ...}` is deprecated. Please use `{\"type\": \"text\", \"text\": \"String input\"}` or `{\"type\": \"text\", \"arguments\": {..}} ` instead.\n",
      "\u001b[2m2025-04-07T18:46:54.861428Z\u001b[0m \u001b[33m WARN\u001b[0m \u001b[2mtensorzero_internal::inference::types\u001b[0m\u001b[2m:\u001b[0m Deprecation Warning: `{\"type\": \"text\", \"value\", ...}` is deprecated. Please use `{\"type\": \"text\", \"text\": \"String input\"}` or `{\"type\": \"text\", \"arguments\": {..}} ` instead.\n",
      "\u001b[2m2025-04-07T18:46:54.861454Z\u001b[0m \u001b[33m WARN\u001b[0m \u001b[2mtensorzero_internal::inference::types\u001b[0m\u001b[2m:\u001b[0m Deprecation Warning: `{\"type\": \"text\", \"value\", ...}` is deprecated. Please use `{\"type\": \"text\", \"text\": \"String input\"}` or `{\"type\": \"text\", \"arguments\": {..}} ` instead.\n",
      "\u001b[2m2025-04-07T18:46:54.861467Z\u001b[0m \u001b[33m WARN\u001b[0m \u001b[2mtensorzero_internal::inference::types\u001b[0m\u001b[2m:\u001b[0m Deprecation Warning: `{\"type\": \"text\", \"value\", ...}` is deprecated. Please use `{\"type\": \"text\", \"text\": \"String input\"}` or `{\"type\": \"text\", \"arguments\": {..}} ` instead.\n",
      "\u001b[2m2025-04-07T18:46:54.861553Z\u001b[0m \u001b[33m WARN\u001b[0m \u001b[2mtensorzero_internal::inference::types\u001b[0m\u001b[2m:\u001b[0m Deprecation Warning: `{\"type\": \"text\", \"value\", ...}` is deprecated. Please use `{\"type\": \"text\", \"text\": \"String input\"}` or `{\"type\": \"text\", \"arguments\": {..}} ` instead.\n",
      "\u001b[2m2025-04-07T18:46:54.861567Z\u001b[0m \u001b[33m WARN\u001b[0m \u001b[2mtensorzero_internal::inference::types\u001b[0m\u001b[2m:\u001b[0m Deprecation Warning: `{\"type\": \"text\", \"value\", ...}` is deprecated. Please use `{\"type\": \"text\", \"text\": \"String input\"}` or `{\"type\": \"text\", \"arguments\": {..}} ` instead.\n",
      "\u001b[2m2025-04-07T18:46:54.861596Z\u001b[0m \u001b[33m WARN\u001b[0m \u001b[2mtensorzero_internal::inference::types\u001b[0m\u001b[2m:\u001b[0m Deprecation Warning: `{\"type\": \"text\", \"value\", ...}` is deprecated. Please use `{\"type\": \"text\", \"text\": \"String input\"}` or `{\"type\": \"text\", \"arguments\": {..}} ` instead.\n",
      "\u001b[2m2025-04-07T18:46:54.861637Z\u001b[0m \u001b[33m WARN\u001b[0m \u001b[2mtensorzero_internal::inference::types\u001b[0m\u001b[2m:\u001b[0m Deprecation Warning: `{\"type\": \"text\", \"value\", ...}` is deprecated. Please use `{\"type\": \"text\", \"text\": \"String input\"}` or `{\"type\": \"text\", \"arguments\": {..}} ` instead.\n",
      "\u001b[2m2025-04-07T18:46:54.861651Z\u001b[0m \u001b[33m WARN\u001b[0m \u001b[2mtensorzero_internal::inference::types\u001b[0m\u001b[2m:\u001b[0m Deprecation Warning: `{\"type\": \"text\", \"value\", ...}` is deprecated. Please use `{\"type\": \"text\", \"text\": \"String input\"}` or `{\"type\": \"text\", \"arguments\": {..}} ` instead.\n",
      "\u001b[2m2025-04-07T18:46:54.861673Z\u001b[0m \u001b[33m WARN\u001b[0m \u001b[2mtensorzero_internal::inference::types\u001b[0m\u001b[2m:\u001b[0m Deprecation Warning: `{\"type\": \"text\", \"value\", ...}` is deprecated. Please use `{\"type\": \"text\", \"text\": \"String input\"}` or `{\"type\": \"text\", \"arguments\": {..}} ` instead.\n",
      "\u001b[2m2025-04-07T18:46:54.861676Z\u001b[0m \u001b[33m WARN\u001b[0m \u001b[2mtensorzero_internal::inference::types\u001b[0m\u001b[2m:\u001b[0m Deprecation Warning: `{\"type\": \"text\", \"value\", ...}` is deprecated. Please use `{\"type\": \"text\", \"text\": \"String input\"}` or `{\"type\": \"text\", \"arguments\": {..}} ` instead.\n",
      "\u001b[2m2025-04-07T18:46:54.861701Z\u001b[0m \u001b[33m WARN\u001b[0m \u001b[2mtensorzero_internal::inference::types\u001b[0m\u001b[2m:\u001b[0m Deprecation Warning: `{\"type\": \"text\", \"value\", ...}` is deprecated. Please use `{\"type\": \"text\", \"text\": \"String input\"}` or `{\"type\": \"text\", \"arguments\": {..}} ` instead.\n",
      "\u001b[2m2025-04-07T18:46:54.861744Z\u001b[0m \u001b[33m WARN\u001b[0m \u001b[2mtensorzero_internal::inference::types\u001b[0m\u001b[2m:\u001b[0m Deprecation Warning: `{\"type\": \"text\", \"value\", ...}` is deprecated. Please use `{\"type\": \"text\", \"text\": \"String input\"}` or `{\"type\": \"text\", \"arguments\": {..}} ` instead.\n",
      "\u001b[2m2025-04-07T18:46:54.861752Z\u001b[0m \u001b[33m WARN\u001b[0m \u001b[2mtensorzero_internal::inference::types\u001b[0m\u001b[2m:\u001b[0m Deprecation Warning: `{\"type\": \"text\", \"value\", ...}` is deprecated. Please use `{\"type\": \"text\", \"text\": \"String input\"}` or `{\"type\": \"text\", \"arguments\": {..}} ` instead.\n",
      "\u001b[2m2025-04-07T18:46:54.861766Z\u001b[0m \u001b[33m WARN\u001b[0m \u001b[2mtensorzero_internal::inference::types\u001b[0m\u001b[2m:\u001b[0m Deprecation Warning: `{\"type\": \"text\", \"value\", ...}` is deprecated. Please use `{\"type\": \"text\", \"text\": \"String input\"}` or `{\"type\": \"text\", \"arguments\": {..}} ` instead.\n",
      "\u001b[2m2025-04-07T18:46:54.861775Z\u001b[0m \u001b[33m WARN\u001b[0m \u001b[2mtensorzero_internal::inference::types\u001b[0m\u001b[2m:\u001b[0m Deprecation Warning: `{\"type\": \"text\", \"value\", ...}` is deprecated. Please use `{\"type\": \"text\", \"text\": \"String input\"}` or `{\"type\": \"text\", \"arguments\": {..}} ` instead.\n",
      "\u001b[2m2025-04-07T18:46:54.861787Z\u001b[0m \u001b[33m WARN\u001b[0m \u001b[2mtensorzero_internal::inference::types\u001b[0m\u001b[2m:\u001b[0m Deprecation Warning: `{\"type\": \"text\", \"value\", ...}` is deprecated. Please use `{\"type\": \"text\", \"text\": \"String input\"}` or `{\"type\": \"text\", \"arguments\": {..}} ` instead.\n",
      "\u001b[2m2025-04-07T18:46:54.861799Z\u001b[0m \u001b[33m WARN\u001b[0m \u001b[2mtensorzero_internal::inference::types\u001b[0m\u001b[2m:\u001b[0m Deprecation Warning: `{\"type\": \"text\", \"value\", ...}` is deprecated. Please use `{\"type\": \"text\", \"text\": \"String input\"}` or `{\"type\": \"text\", \"arguments\": {..}} ` instead.\n",
      "\u001b[2m2025-04-07T18:46:54.861797Z\u001b[0m \u001b[33m WARN\u001b[0m \u001b[2mtensorzero_internal::inference::types\u001b[0m\u001b[2m:\u001b[0m Deprecation Warning: `{\"type\": \"text\", \"value\", ...}` is deprecated. Please use `{\"type\": \"text\", \"text\": \"String input\"}` or `{\"type\": \"text\", \"arguments\": {..}} ` instead.\n",
      "\u001b[2m2025-04-07T18:46:54.861821Z\u001b[0m \u001b[33m WARN\u001b[0m \u001b[2mtensorzero_internal::inference::types\u001b[0m\u001b[2m:\u001b[0m Deprecation Warning: `{\"type\": \"text\", \"value\", ...}` is deprecated. Please use `{\"type\": \"text\", \"text\": \"String input\"}` or `{\"type\": \"text\", \"arguments\": {..}} ` instead.\n",
      "\u001b[2m2025-04-07T18:46:54.861922Z\u001b[0m \u001b[33m WARN\u001b[0m \u001b[2mtensorzero_internal::inference::types\u001b[0m\u001b[2m:\u001b[0m Deprecation Warning: `{\"type\": \"text\", \"value\", ...}` is deprecated. Please use `{\"type\": \"text\", \"text\": \"String input\"}` or `{\"type\": \"text\", \"arguments\": {..}} ` instead.\n",
      "\u001b[2m2025-04-07T18:46:54.861954Z\u001b[0m \u001b[33m WARN\u001b[0m \u001b[2mtensorzero_internal::inference::types\u001b[0m\u001b[2m:\u001b[0m Deprecation Warning: `{\"type\": \"text\", \"value\", ...}` is deprecated. Please use `{\"type\": \"text\", \"text\": \"String input\"}` or `{\"type\": \"text\", \"arguments\": {..}} ` instead.\n",
      "\u001b[2m2025-04-07T18:46:54.861957Z\u001b[0m \u001b[33m WARN\u001b[0m \u001b[2mtensorzero_internal::inference::types\u001b[0m\u001b[2m:\u001b[0m Deprecation Warning: `{\"type\": \"text\", \"value\", ...}` is deprecated. Please use `{\"type\": \"text\", \"text\": \"String input\"}` or `{\"type\": \"text\", \"arguments\": {..}} ` instead.\n",
      "\u001b[2m2025-04-07T18:46:54.861975Z\u001b[0m \u001b[33m WARN\u001b[0m \u001b[2mtensorzero_internal::inference::types\u001b[0m\u001b[2m:\u001b[0m Deprecation Warning: `{\"type\": \"text\", \"value\", ...}` is deprecated. Please use `{\"type\": \"text\", \"text\": \"String input\"}` or `{\"type\": \"text\", \"arguments\": {..}} ` instead.\n",
      "\u001b[2m2025-04-07T18:46:54.862021Z\u001b[0m \u001b[33m WARN\u001b[0m \u001b[2mtensorzero_internal::inference::types\u001b[0m\u001b[2m:\u001b[0m Deprecation Warning: `{\"type\": \"text\", \"value\", ...}` is deprecated. Please use `{\"type\": \"text\", \"text\": \"String input\"}` or `{\"type\": \"text\", \"arguments\": {..}} ` instead.\n",
      "\u001b[2m2025-04-07T18:46:54.862044Z\u001b[0m \u001b[33m WARN\u001b[0m \u001b[2mtensorzero_internal::inference::types\u001b[0m\u001b[2m:\u001b[0m Deprecation Warning: `{\"type\": \"text\", \"value\", ...}` is deprecated. Please use `{\"type\": \"text\", \"text\": \"String input\"}` or `{\"type\": \"text\", \"arguments\": {..}} ` instead.\n",
      "\u001b[2m2025-04-07T18:46:54.862072Z\u001b[0m \u001b[33m WARN\u001b[0m \u001b[2mtensorzero_internal::inference::types\u001b[0m\u001b[2m:\u001b[0m Deprecation Warning: `{\"type\": \"text\", \"value\", ...}` is deprecated. Please use `{\"type\": \"text\", \"text\": \"String input\"}` or `{\"type\": \"text\", \"arguments\": {..}} ` instead.\n",
      "\u001b[2m2025-04-07T18:46:54.862077Z\u001b[0m \u001b[33m WARN\u001b[0m \u001b[2mtensorzero_internal::inference::types\u001b[0m\u001b[2m:\u001b[0m Deprecation Warning: `{\"type\": \"text\", \"value\", ...}` is deprecated. Please use `{\"type\": \"text\", \"text\": \"String input\"}` or `{\"type\": \"text\", \"arguments\": {..}} ` instead.\n",
      "\u001b[2m2025-04-07T18:46:54.862078Z\u001b[0m \u001b[33m WARN\u001b[0m \u001b[2mtensorzero_internal::inference::types\u001b[0m\u001b[2m:\u001b[0m Deprecation Warning: `{\"type\": \"text\", \"value\", ...}` is deprecated. Please use `{\"type\": \"text\", \"text\": \"String input\"}` or `{\"type\": \"text\", \"arguments\": {..}} ` instead.\n",
      "\u001b[2m2025-04-07T18:46:54.862122Z\u001b[0m \u001b[33m WARN\u001b[0m \u001b[2mtensorzero_internal::inference::types\u001b[0m\u001b[2m:\u001b[0m Deprecation Warning: `{\"type\": \"text\", \"value\", ...}` is deprecated. Please use `{\"type\": \"text\", \"text\": \"String input\"}` or `{\"type\": \"text\", \"arguments\": {..}} ` instead.\n",
      "\u001b[2m2025-04-07T18:46:54.862134Z\u001b[0m \u001b[33m WARN\u001b[0m \u001b[2mtensorzero_internal::inference::types\u001b[0m\u001b[2m:\u001b[0m Deprecation Warning: `{\"type\": \"text\", \"value\", ...}` is deprecated. Please use `{\"type\": \"text\", \"text\": \"String input\"}` or `{\"type\": \"text\", \"arguments\": {..}} ` instead.\n",
      "\u001b[2m2025-04-07T18:46:54.862149Z\u001b[0m \u001b[33m WARN\u001b[0m \u001b[2mtensorzero_internal::inference::types\u001b[0m\u001b[2m:\u001b[0m Deprecation Warning: `{\"type\": \"text\", \"value\", ...}` is deprecated. Please use `{\"type\": \"text\", \"text\": \"String input\"}` or `{\"type\": \"text\", \"arguments\": {..}} ` instead.\n",
      "\u001b[2m2025-04-07T18:46:54.862175Z\u001b[0m \u001b[33m WARN\u001b[0m \u001b[2mtensorzero_internal::inference::types\u001b[0m\u001b[2m:\u001b[0m Deprecation Warning: `{\"type\": \"text\", \"value\", ...}` is deprecated. Please use `{\"type\": \"text\", \"text\": \"String input\"}` or `{\"type\": \"text\", \"arguments\": {..}} ` instead.\n",
      "\u001b[2m2025-04-07T18:46:54.862267Z\u001b[0m \u001b[33m WARN\u001b[0m \u001b[2mtensorzero_internal::inference::types\u001b[0m\u001b[2m:\u001b[0m Deprecation Warning: `{\"type\": \"text\", \"value\", ...}` is deprecated. Please use `{\"type\": \"text\", \"text\": \"String input\"}` or `{\"type\": \"text\", \"arguments\": {..}} ` instead.\n",
      "\u001b[2m2025-04-07T18:46:54.862349Z\u001b[0m \u001b[33m WARN\u001b[0m \u001b[2mtensorzero_internal::inference::types\u001b[0m\u001b[2m:\u001b[0m Deprecation Warning: `{\"type\": \"text\", \"value\", ...}` is deprecated. Please use `{\"type\": \"text\", \"text\": \"String input\"}` or `{\"type\": \"text\", \"arguments\": {..}} ` instead.\n"
     ]
    },
    {
     "name": "stderr",
     "output_type": "stream",
     "text": [
      " 11%|█         | 11/100 [00:00<00:04, 22.05it/s]"
     ]
    },
    {
     "name": "stdout",
     "output_type": "stream",
     "text": [
      "\u001b[2m2025-04-07T18:46:55.388574Z\u001b[0m \u001b[33m WARN\u001b[0m \u001b[2mtensorzero_internal::inference::types\u001b[0m\u001b[2m:\u001b[0m Deprecation Warning: `{\"type\": \"text\", \"value\", ...}` is deprecated. Please use `{\"type\": \"text\", \"text\": \"String input\"}` or `{\"type\": \"text\", \"arguments\": {..}} ` instead.\n",
      "\u001b[2m2025-04-07T18:46:55.389081Z\u001b[0m \u001b[33m WARN\u001b[0m \u001b[2mtensorzero_internal::inference::types\u001b[0m\u001b[2m:\u001b[0m Deprecation Warning: `{\"type\": \"text\", \"value\", ...}` is deprecated. Please use `{\"type\": \"text\", \"text\": \"String input\"}` or `{\"type\": \"text\", \"arguments\": {..}} ` instead.\n",
      "\u001b[2m2025-04-07T18:46:55.391260Z\u001b[0m \u001b[33m WARN\u001b[0m \u001b[2mtensorzero_internal::inference::types\u001b[0m\u001b[2m:\u001b[0m Deprecation Warning: `{\"type\": \"text\", \"value\", ...}` is deprecated. Please use `{\"type\": \"text\", \"text\": \"String input\"}` or `{\"type\": \"text\", \"arguments\": {..}} ` instead.\n",
      "\u001b[2m2025-04-07T18:46:55.405565Z\u001b[0m \u001b[33m WARN\u001b[0m \u001b[2mtensorzero_internal::inference::types\u001b[0m\u001b[2m:\u001b[0m Deprecation Warning: `{\"type\": \"text\", \"value\", ...}` is deprecated. Please use `{\"type\": \"text\", \"text\": \"String input\"}` or `{\"type\": \"text\", \"arguments\": {..}} ` instead.\n",
      "\u001b[2m2025-04-07T18:46:55.405607Z\u001b[0m \u001b[33m WARN\u001b[0m \u001b[2mtensorzero_internal::inference::types\u001b[0m\u001b[2m:\u001b[0m Deprecation Warning: `{\"type\": \"text\", \"value\", ...}` is deprecated. Please use `{\"type\": \"text\", \"text\": \"String input\"}` or `{\"type\": \"text\", \"arguments\": {..}} ` instead.\n",
      "\u001b[2m2025-04-07T18:46:55.408770Z\u001b[0m \u001b[33m WARN\u001b[0m \u001b[2mtensorzero_internal::inference::types\u001b[0m\u001b[2m:\u001b[0m Deprecation Warning: `{\"type\": \"text\", \"value\", ...}` is deprecated. Please use `{\"type\": \"text\", \"text\": \"String input\"}` or `{\"type\": \"text\", \"arguments\": {..}} ` instead.\n",
      "\u001b[2m2025-04-07T18:46:55.411812Z\u001b[0m \u001b[33m WARN\u001b[0m \u001b[2mtensorzero_internal::inference::types\u001b[0m\u001b[2m:\u001b[0m Deprecation Warning: `{\"type\": \"text\", \"value\", ...}` is deprecated. Please use `{\"type\": \"text\", \"text\": \"String input\"}` or `{\"type\": \"text\", \"arguments\": {..}} ` instead.\n",
      "\u001b[2m2025-04-07T18:46:55.433929Z\u001b[0m \u001b[33m WARN\u001b[0m \u001b[2mtensorzero_internal::inference::types\u001b[0m\u001b[2m:\u001b[0m Deprecation Warning: `{\"type\": \"text\", \"value\", ...}` is deprecated. Please use `{\"type\": \"text\", \"text\": \"String input\"}` or `{\"type\": \"text\", \"arguments\": {..}} ` instead.\n",
      "\u001b[2m2025-04-07T18:46:55.447865Z\u001b[0m \u001b[33m WARN\u001b[0m \u001b[2mtensorzero_internal::inference::types\u001b[0m\u001b[2m:\u001b[0m Deprecation Warning: `{\"type\": \"text\", \"value\", ...}` is deprecated. Please use `{\"type\": \"text\", \"text\": \"String input\"}` or `{\"type\": \"text\", \"arguments\": {..}} ` instead.\n",
      "\u001b[2m2025-04-07T18:46:55.461228Z\u001b[0m \u001b[33m WARN\u001b[0m \u001b[2mtensorzero_internal::inference::types\u001b[0m\u001b[2m:\u001b[0m Deprecation Warning: `{\"type\": \"text\", \"value\", ...}` is deprecated. Please use `{\"type\": \"text\", \"text\": \"String input\"}` or `{\"type\": \"text\", \"arguments\": {..}} ` instead.\n",
      "\u001b[2m2025-04-07T18:46:55.503845Z\u001b[0m \u001b[33m WARN\u001b[0m \u001b[2mtensorzero_internal::inference::types\u001b[0m\u001b[2m:\u001b[0m Deprecation Warning: `{\"type\": \"text\", \"value\", ...}` is deprecated. Please use `{\"type\": \"text\", \"text\": \"String input\"}` or `{\"type\": \"text\", \"arguments\": {..}} ` instead.\n",
      "\u001b[2m2025-04-07T18:46:55.504078Z\u001b[0m \u001b[33m WARN\u001b[0m \u001b[2mtensorzero_internal::inference::types\u001b[0m\u001b[2m:\u001b[0m Deprecation Warning: `{\"type\": \"text\", \"value\", ...}` is deprecated. Please use `{\"type\": \"text\", \"text\": \"String input\"}` or `{\"type\": \"text\", \"arguments\": {..}} ` instead.\n",
      "\u001b[2m2025-04-07T18:46:55.513040Z\u001b[0m \u001b[33m WARN\u001b[0m \u001b[2mtensorzero_internal::inference::types\u001b[0m\u001b[2m:\u001b[0m Deprecation Warning: `{\"type\": \"text\", \"value\", ...}` is deprecated. Please use `{\"type\": \"text\", \"text\": \"String input\"}` or `{\"type\": \"text\", \"arguments\": {..}} ` instead.\n",
      "\u001b[2m2025-04-07T18:46:55.520393Z\u001b[0m \u001b[33m WARN\u001b[0m \u001b[2mtensorzero_internal::inference::types\u001b[0m\u001b[2m:\u001b[0m Deprecation Warning: `{\"type\": \"text\", \"value\", ...}` is deprecated. Please use `{\"type\": \"text\", \"text\": \"String input\"}` or `{\"type\": \"text\", \"arguments\": {..}} ` instead.\n",
      "\u001b[2m2025-04-07T18:46:55.529671Z\u001b[0m \u001b[33m WARN\u001b[0m \u001b[2mtensorzero_internal::inference::types\u001b[0m\u001b[2m:\u001b[0m Deprecation Warning: `{\"type\": \"text\", \"value\", ...}` is deprecated. Please use `{\"type\": \"text\", \"text\": \"String input\"}` or `{\"type\": \"text\", \"arguments\": {..}} ` instead.\n",
      "\u001b[2m2025-04-07T18:46:55.538759Z\u001b[0m \u001b[33m WARN\u001b[0m \u001b[2mtensorzero_internal::inference::types\u001b[0m\u001b[2m:\u001b[0m Deprecation Warning: `{\"type\": \"text\", \"value\", ...}` is deprecated. Please use `{\"type\": \"text\", \"text\": \"String input\"}` or `{\"type\": \"text\", \"arguments\": {..}} ` instead.\n",
      "\u001b[2m2025-04-07T18:46:55.553461Z\u001b[0m \u001b[33m WARN\u001b[0m \u001b[2mtensorzero_internal::inference::types\u001b[0m\u001b[2m:\u001b[0m Deprecation Warning: `{\"type\": \"text\", \"value\", ...}` is deprecated. Please use `{\"type\": \"text\", \"text\": \"String input\"}` or `{\"type\": \"text\", \"arguments\": {..}} ` instead.\n",
      "\u001b[2m2025-04-07T18:46:55.567423Z\u001b[0m \u001b[33m WARN\u001b[0m \u001b[2mtensorzero_internal::inference::types\u001b[0m\u001b[2m:\u001b[0m Deprecation Warning: `{\"type\": \"text\", \"value\", ...}` is deprecated. Please use `{\"type\": \"text\", \"text\": \"String input\"}` or `{\"type\": \"text\", \"arguments\": {..}} ` instead.\n",
      "\u001b[2m2025-04-07T18:46:55.567745Z\u001b[0m \u001b[33m WARN\u001b[0m \u001b[2mtensorzero_internal::inference::types\u001b[0m\u001b[2m:\u001b[0m Deprecation Warning: `{\"type\": \"text\", \"value\", ...}` is deprecated. Please use `{\"type\": \"text\", \"text\": \"String input\"}` or `{\"type\": \"text\", \"arguments\": {..}} ` instead.\n",
      "\u001b[2m2025-04-07T18:46:55.573323Z\u001b[0m \u001b[33m WARN\u001b[0m \u001b[2mtensorzero_internal::inference::types\u001b[0m\u001b[2m:\u001b[0m Deprecation Warning: `{\"type\": \"text\", \"value\", ...}` is deprecated. Please use `{\"type\": \"text\", \"text\": \"String input\"}` or `{\"type\": \"text\", \"arguments\": {..}} ` instead.\n",
      "\u001b[2m2025-04-07T18:46:55.573327Z\u001b[0m \u001b[33m WARN\u001b[0m \u001b[2mtensorzero_internal::inference::types\u001b[0m\u001b[2m:\u001b[0m Deprecation Warning: `{\"type\": \"text\", \"value\", ...}` is deprecated. Please use `{\"type\": \"text\", \"text\": \"String input\"}` or `{\"type\": \"text\", \"arguments\": {..}} ` instead.\n",
      "\u001b[2m2025-04-07T18:46:55.587365Z\u001b[0m \u001b[33m WARN\u001b[0m \u001b[2mtensorzero_internal::inference::types\u001b[0m\u001b[2m:\u001b[0m Deprecation Warning: `{\"type\": \"text\", \"value\", ...}` is deprecated. Please use `{\"type\": \"text\", \"text\": \"String input\"}` or `{\"type\": \"text\", \"arguments\": {..}} ` instead.\n"
     ]
    },
    {
     "name": "stderr",
     "output_type": "stream",
     "text": [
      " 31%|███       | 31/100 [00:00<00:01, 47.60it/s]"
     ]
    },
    {
     "name": "stdout",
     "output_type": "stream",
     "text": [
      "\u001b[2m2025-04-07T18:46:55.628361Z\u001b[0m \u001b[33m WARN\u001b[0m \u001b[2mtensorzero_internal::inference::types\u001b[0m\u001b[2m:\u001b[0m Deprecation Warning: `{\"type\": \"text\", \"value\", ...}` is deprecated. Please use `{\"type\": \"text\", \"text\": \"String input\"}` or `{\"type\": \"text\", \"arguments\": {..}} ` instead.\n",
      "\u001b[2m2025-04-07T18:46:55.681518Z\u001b[0m \u001b[33m WARN\u001b[0m \u001b[2mtensorzero_internal::inference::types\u001b[0m\u001b[2m:\u001b[0m Deprecation Warning: `{\"type\": \"text\", \"value\", ...}` is deprecated. Please use `{\"type\": \"text\", \"text\": \"String input\"}` or `{\"type\": \"text\", \"arguments\": {..}} ` instead.\n",
      "\u001b[2m2025-04-07T18:46:55.685563Z\u001b[0m \u001b[33m WARN\u001b[0m \u001b[2mtensorzero_internal::inference::types\u001b[0m\u001b[2m:\u001b[0m Deprecation Warning: `{\"type\": \"text\", \"value\", ...}` is deprecated. Please use `{\"type\": \"text\", \"text\": \"String input\"}` or `{\"type\": \"text\", \"arguments\": {..}} ` instead.\n",
      "\u001b[2m2025-04-07T18:46:55.709183Z\u001b[0m \u001b[33m WARN\u001b[0m \u001b[2mtensorzero_internal::inference::types\u001b[0m\u001b[2m:\u001b[0m Deprecation Warning: `{\"type\": \"text\", \"value\", ...}` is deprecated. Please use `{\"type\": \"text\", \"text\": \"String input\"}` or `{\"type\": \"text\", \"arguments\": {..}} ` instead.\n",
      "\u001b[2m2025-04-07T18:46:55.724771Z\u001b[0m \u001b[33m WARN\u001b[0m \u001b[2mtensorzero_internal::inference::types\u001b[0m\u001b[2m:\u001b[0m Deprecation Warning: `{\"type\": \"text\", \"value\", ...}` is deprecated. Please use `{\"type\": \"text\", \"text\": \"String input\"}` or `{\"type\": \"text\", \"arguments\": {..}} ` instead.\n",
      "\u001b[2m2025-04-07T18:46:55.734335Z\u001b[0m \u001b[33m WARN\u001b[0m \u001b[2mtensorzero_internal::inference::types\u001b[0m\u001b[2m:\u001b[0m Deprecation Warning: `{\"type\": \"text\", \"value\", ...}` is deprecated. Please use `{\"type\": \"text\", \"text\": \"String input\"}` or `{\"type\": \"text\", \"arguments\": {..}} ` instead.\n",
      "\u001b[2m2025-04-07T18:46:55.737877Z\u001b[0m \u001b[33m WARN\u001b[0m \u001b[2mtensorzero_internal::inference::types\u001b[0m\u001b[2m:\u001b[0m Deprecation Warning: `{\"type\": \"text\", \"value\", ...}` is deprecated. Please use `{\"type\": \"text\", \"text\": \"String input\"}` or `{\"type\": \"text\", \"arguments\": {..}} ` instead.\n",
      "\u001b[2m2025-04-07T18:46:55.740227Z\u001b[0m \u001b[33m WARN\u001b[0m \u001b[2mtensorzero_internal::inference::types\u001b[0m\u001b[2m:\u001b[0m Deprecation Warning: `{\"type\": \"text\", \"value\", ...}` is deprecated. Please use `{\"type\": \"text\", \"text\": \"String input\"}` or `{\"type\": \"text\", \"arguments\": {..}} ` instead.\n",
      "\u001b[2m2025-04-07T18:46:55.757973Z\u001b[0m \u001b[33m WARN\u001b[0m \u001b[2mtensorzero_internal::inference::types\u001b[0m\u001b[2m:\u001b[0m Deprecation Warning: `{\"type\": \"text\", \"value\", ...}` is deprecated. Please use `{\"type\": \"text\", \"text\": \"String input\"}` or `{\"type\": \"text\", \"arguments\": {..}} ` instead.\n",
      "\u001b[2m2025-04-07T18:46:55.763423Z\u001b[0m \u001b[33m WARN\u001b[0m \u001b[2mtensorzero_internal::inference::types\u001b[0m\u001b[2m:\u001b[0m Deprecation Warning: `{\"type\": \"text\", \"value\", ...}` is deprecated. Please use `{\"type\": \"text\", \"text\": \"String input\"}` or `{\"type\": \"text\", \"arguments\": {..}} ` instead.\n",
      "\u001b[2m2025-04-07T18:46:55.773033Z\u001b[0m \u001b[33m WARN\u001b[0m \u001b[2mtensorzero_internal::inference::types\u001b[0m\u001b[2m:\u001b[0m Deprecation Warning: `{\"type\": \"text\", \"value\", ...}` is deprecated. Please use `{\"type\": \"text\", \"text\": \"String input\"}` or `{\"type\": \"text\", \"arguments\": {..}} ` instead.\n",
      "\u001b[2m2025-04-07T18:46:55.802655Z\u001b[0m \u001b[33m WARN\u001b[0m \u001b[2mtensorzero_internal::inference::types\u001b[0m\u001b[2m:\u001b[0m Deprecation Warning: `{\"type\": \"text\", \"value\", ...}` is deprecated. Please use `{\"type\": \"text\", \"text\": \"String input\"}` or `{\"type\": \"text\", \"arguments\": {..}} ` instead.\n"
     ]
    },
    {
     "name": "stderr",
     "output_type": "stream",
     "text": [
      " 45%|████▌     | 45/100 [00:01<00:01, 50.62it/s]"
     ]
    },
    {
     "name": "stdout",
     "output_type": "stream",
     "text": [
      "\u001b[2m2025-04-07T18:46:55.918426Z\u001b[0m \u001b[33m WARN\u001b[0m \u001b[2mtensorzero_internal::inference::types\u001b[0m\u001b[2m:\u001b[0m Deprecation Warning: `{\"type\": \"text\", \"value\", ...}` is deprecated. Please use `{\"type\": \"text\", \"text\": \"String input\"}` or `{\"type\": \"text\", \"arguments\": {..}} ` instead.\n",
      "\u001b[2m2025-04-07T18:46:55.918498Z\u001b[0m \u001b[33m WARN\u001b[0m \u001b[2mtensorzero_internal::inference::types\u001b[0m\u001b[2m:\u001b[0m Deprecation Warning: `{\"type\": \"text\", \"value\", ...}` is deprecated. Please use `{\"type\": \"text\", \"text\": \"String input\"}` or `{\"type\": \"text\", \"arguments\": {..}} ` instead.\n",
      "\u001b[2m2025-04-07T18:46:55.918642Z\u001b[0m \u001b[33m WARN\u001b[0m \u001b[2mtensorzero_internal::inference::types\u001b[0m\u001b[2m:\u001b[0m Deprecation Warning: `{\"type\": \"text\", \"value\", ...}` is deprecated. Please use `{\"type\": \"text\", \"text\": \"String input\"}` or `{\"type\": \"text\", \"arguments\": {..}} ` instead.\n",
      "\u001b[2m2025-04-07T18:46:55.918672Z\u001b[0m \u001b[33m WARN\u001b[0m \u001b[2mtensorzero_internal::inference::types\u001b[0m\u001b[2m:\u001b[0m Deprecation Warning: `{\"type\": \"text\", \"value\", ...}` is deprecated. Please use `{\"type\": \"text\", \"text\": \"String input\"}` or `{\"type\": \"text\", \"arguments\": {..}} ` instead.\n",
      "\u001b[2m2025-04-07T18:46:55.920616Z\u001b[0m \u001b[33m WARN\u001b[0m \u001b[2mtensorzero_internal::inference::types\u001b[0m\u001b[2m:\u001b[0m Deprecation Warning: `{\"type\": \"text\", \"value\", ...}` is deprecated. Please use `{\"type\": \"text\", \"text\": \"String input\"}` or `{\"type\": \"text\", \"arguments\": {..}} ` instead.\n",
      "\u001b[2m2025-04-07T18:46:55.926289Z\u001b[0m \u001b[33m WARN\u001b[0m \u001b[2mtensorzero_internal::inference::types\u001b[0m\u001b[2m:\u001b[0m Deprecation Warning: `{\"type\": \"text\", \"value\", ...}` is deprecated. Please use `{\"type\": \"text\", \"text\": \"String input\"}` or `{\"type\": \"text\", \"arguments\": {..}} ` instead.\n",
      "\u001b[2m2025-04-07T18:46:55.947857Z\u001b[0m \u001b[33m WARN\u001b[0m \u001b[2mtensorzero_internal::inference::types\u001b[0m\u001b[2m:\u001b[0m Deprecation Warning: `{\"type\": \"text\", \"value\", ...}` is deprecated. Please use `{\"type\": \"text\", \"text\": \"String input\"}` or `{\"type\": \"text\", \"arguments\": {..}} ` instead.\n",
      "\u001b[2m2025-04-07T18:46:55.956325Z\u001b[0m \u001b[33m WARN\u001b[0m \u001b[2mtensorzero_internal::inference::types\u001b[0m\u001b[2m:\u001b[0m Deprecation Warning: `{\"type\": \"text\", \"value\", ...}` is deprecated. Please use `{\"type\": \"text\", \"text\": \"String input\"}` or `{\"type\": \"text\", \"arguments\": {..}} ` instead.\n",
      "\u001b[2m2025-04-07T18:46:55.969219Z\u001b[0m \u001b[33m WARN\u001b[0m \u001b[2mtensorzero_internal::inference::types\u001b[0m\u001b[2m:\u001b[0m Deprecation Warning: `{\"type\": \"text\", \"value\", ...}` is deprecated. Please use `{\"type\": \"text\", \"text\": \"String input\"}` or `{\"type\": \"text\", \"arguments\": {..}} ` instead.\n",
      "\u001b[2m2025-04-07T18:46:56.000820Z\u001b[0m \u001b[33m WARN\u001b[0m \u001b[2mtensorzero_internal::inference::types\u001b[0m\u001b[2m:\u001b[0m Deprecation Warning: `{\"type\": \"text\", \"value\", ...}` is deprecated. Please use `{\"type\": \"text\", \"text\": \"String input\"}` or `{\"type\": \"text\", \"arguments\": {..}} ` instead.\n",
      "\u001b[2m2025-04-07T18:46:56.028037Z\u001b[0m \u001b[33m WARN\u001b[0m \u001b[2mtensorzero_internal::inference::types\u001b[0m\u001b[2m:\u001b[0m Deprecation Warning: `{\"type\": \"text\", \"value\", ...}` is deprecated. Please use `{\"type\": \"text\", \"text\": \"String input\"}` or `{\"type\": \"text\", \"arguments\": {..}} ` instead.\n",
      "\u001b[2m2025-04-07T18:46:56.065300Z\u001b[0m \u001b[33m WARN\u001b[0m \u001b[2mtensorzero_internal::inference::types\u001b[0m\u001b[2m:\u001b[0m Deprecation Warning: `{\"type\": \"text\", \"value\", ...}` is deprecated. Please use `{\"type\": \"text\", \"text\": \"String input\"}` or `{\"type\": \"text\", \"arguments\": {..}} ` instead.\n",
      "\u001b[2m2025-04-07T18:46:56.066821Z\u001b[0m \u001b[33m WARN\u001b[0m \u001b[2mtensorzero_internal::inference::types\u001b[0m\u001b[2m:\u001b[0m Deprecation Warning: `{\"type\": \"text\", \"value\", ...}` is deprecated. Please use `{\"type\": \"text\", \"text\": \"String input\"}` or `{\"type\": \"text\", \"arguments\": {..}} ` instead.\n",
      "\u001b[2m2025-04-07T18:46:56.082176Z\u001b[0m \u001b[33m WARN\u001b[0m \u001b[2mtensorzero_internal::inference::types\u001b[0m\u001b[2m:\u001b[0m Deprecation Warning: `{\"type\": \"text\", \"value\", ...}` is deprecated. Please use `{\"type\": \"text\", \"text\": \"String input\"}` or `{\"type\": \"text\", \"arguments\": {..}} ` instead.\n",
      "\u001b[2m2025-04-07T18:46:56.097424Z\u001b[0m \u001b[33m WARN\u001b[0m \u001b[2mtensorzero_internal::inference::types\u001b[0m\u001b[2m:\u001b[0m Deprecation Warning: `{\"type\": \"text\", \"value\", ...}` is deprecated. Please use `{\"type\": \"text\", \"text\": \"String input\"}` or `{\"type\": \"text\", \"arguments\": {..}} ` instead.\n",
      "\u001b[2m2025-04-07T18:46:56.100014Z\u001b[0m \u001b[33m WARN\u001b[0m \u001b[2mtensorzero_internal::inference::types\u001b[0m\u001b[2m:\u001b[0m Deprecation Warning: `{\"type\": \"text\", \"value\", ...}` is deprecated. Please use `{\"type\": \"text\", \"text\": \"String input\"}` or `{\"type\": \"text\", \"arguments\": {..}} ` instead.\n"
     ]
    },
    {
     "name": "stderr",
     "output_type": "stream",
     "text": [
      "100%|██████████| 100/100 [00:07<00:00, 12.68it/s]\n",
      "100%|██████████| 100/100 [00:17<00:00,  5.87it/s]\n",
      "[I 2025-04-07 14:47:19,775] Trial 4 finished with value: 0.5750952380952381 and parameters: {'instruction_index': 5, 'demonstration_index': 8}. Best is trial 3 with value: 0.6758681318681319.\n"
     ]
    },
    {
     "name": "stdout",
     "output_type": "stream",
     "text": [
      "Iteration 5: 0.5750952380952381\n"
     ]
    }
   ],
   "source": [
    "study_tpe = optuna.create_study(\n",
    "    sampler=TPESampler(seed=SEED), direction=OPTIMIZER_DIRECTION\n",
    ")\n",
    "\n",
    "for iteration in range(MAX_ITERATIONS):\n",
    "    trial = study_tpe.ask()\n",
    "\n",
    "    value = await objective(trial)\n",
    "    print(f\"Iteration {iteration + 1}: {value}\")\n",
    "\n",
    "    frozen_trial = study_tpe.tell(trial, value)\n",
    "    study_tpe._log_completed_trial(frozen_trial)"
   ]
  },
  {
   "cell_type": "markdown",
   "metadata": {},
   "source": [
    "## Save the Optimized Candidate\n",
    "\n",
    "We now have an estimate of the best instruction and demonstration pair.\n",
    "We can now generate an optimized system template."
   ]
  },
  {
   "cell_type": "markdown",
   "metadata": {},
   "source": []
  },
  {
   "cell_type": "code",
   "execution_count": 24,
   "metadata": {},
   "outputs": [
    {
     "name": "stdout",
     "output_type": "stream",
     "text": [
      "# Instructions:\n",
      "\n",
      "You are an assistant tasked with performing named entity recognition (NER). Identify and extract any mentions of people, organizations, locations, or other miscellaneous entities from the provided text. Then, organize your findings in JSON format using the structure below:\n",
      "\n",
      "{\n",
      "    \"person\": [\"Person1\", \"Person2\", ...],\n",
      "    \"organization\": [\"Organization1\", \"Organization2\", ...],\n",
      "    \"location\": [\"Location1\", \"Location2\", ...],\n",
      "    \"miscellaneous\": [\"MiscEntity1\", \"MiscEntity2\", ...]\n",
      "}\n",
      "\n",
      "If no entities of a given category are found, list an empty array for that category.\n",
      "\n",
      "# Demonstrations:\n",
      "\n",
      "DEMONSTRATION 1:\n",
      "ENVIRONMENT:\n",
      "We 're seeing some new crop coming in now but it 's slow going , \" the dealer said .\n",
      "AGENT:\n",
      "{\"person\":[],\"organization\":[],\"location\":[],\"miscellaneous\":[]}\n",
      "\n",
      "DEMONSTRATION 2:\n",
      "ENVIRONMENT:\n",
      "\" We 're always concerned about aflatoxin but we 're on top of it , \" Glickman told reporters after addressing a USDA-sponsored farmers ' market .\n",
      "AGENT:\n",
      "{\"person\":[\"Glickman\"],\"organization\":[],\"location\":[],\"miscellaneous\":[\"USDA-sponsored\"]}\n",
      "\n",
      "DEMONSTRATION 3:\n",
      "ENVIRONMENT:\n",
      "Romania state budget soars in June .\n",
      "AGENT:\n",
      "{\"person\":[],\"organization\":[],\"location\":[\"Romania\"],\"miscellaneous\":[]}\n",
      "\n",
      "DEMONSTRATION 4:\n",
      "ENVIRONMENT:\n",
      "St Kilda 21 9 0 12 1909 1958 97.5 36\n",
      "AGENT:\n",
      "{\"person\":[],\"organization\":[\"St Kilda\"],\"location\":[],\"miscellaneous\":[]}\n",
      "\n",
      "DEMONSTRATION 5:\n",
      "ENVIRONMENT:\n",
      "LOS ANGELES 71 61 .538 2\n",
      "AGENT:\n",
      "{\"person\":[],\"organization\":[\"LOS ANGELES\"],\"location\":[],\"miscellaneous\":[]}\n",
      "\n",
      "DEMONSTRATION 6:\n",
      "ENVIRONMENT:\n",
      "Luehrs said manufacturing will begin and revenue will start to roll in during the first half of next year .\n",
      "AGENT:\n",
      "{\"person\":[\"Luehrs\"],\"organization\":[],\"location\":[],\"miscellaneous\":[]}\n",
      "\n",
      "DEMONSTRATION 7:\n",
      "ENVIRONMENT:\n",
      "Further details were not immediately available .\n",
      "AGENT:\n",
      "{\"person\":[],\"organization\":[],\"location\":[],\"miscellaneous\":[]}\n",
      "\n",
      "DEMONSTRATION 8:\n",
      "ENVIRONMENT:\n",
      "A freed black man writes to his still-enslaved wife , a mother pleads with Abraham Lincoln on behalf of her son and a maimed soldier poses for an official photograph in newly reopened records that bring the U.S. Civil War back to life .\n",
      "AGENT:\n",
      "{\"person\":[\"Abraham Lincoln\"],\"organization\":[],\"location\":[],\"miscellaneous\":[\"U.S. Civil War\"]}\n",
      "\n",
      "DEMONSTRATION 9:\n",
      "ENVIRONMENT:\n",
      "8. George Hincapie ( USA ) Motorola 0:09\n",
      "AGENT:\n",
      "{\"person\":[\"George Hincapie\"],\"organization\":[\"Motorola\"],\"location\":[\"USA\"],\"miscellaneous\":[]}\n",
      "\n",
      "DEMONSTRATION 10:\n",
      "ENVIRONMENT:\n",
      "Felicia Ballanger of France confirmed her status as the world 's number one woman sprinter when she retained her title at the world cycling championships on Friday .\n",
      "AGENT:\n",
      "{\"person\":[\"Felicia Ballanger\"],\"organization\":[],\"location\":[\"France\"],\"miscellaneous\":[]}\n",
      "\n",
      "\n"
     ]
    }
   ],
   "source": [
    "optimized_system_template = format_system_template(\n",
    "    instructions=candidate_instructions[study_tpe.best_params[\"instruction_index\"]],\n",
    "    demonstrations=candidate_demonstrations[\n",
    "        study_tpe.best_params[\"demonstration_index\"]\n",
    "    ],\n",
    ")\n",
    "print(optimized_system_template)"
   ]
  },
  {
   "cell_type": "markdown",
   "metadata": {},
   "source": [
    "You can save the optimized configuration file tree."
   ]
  },
  {
   "cell_type": "code",
   "execution_count": 25,
   "metadata": {},
   "outputs": [],
   "source": [
    "OUTPUT_DIR = None  # Set to a local path to save the optimized config\n",
    "\n",
    "optimized_variant_name = \"mipro_optimized\"\n",
    "optimized_config = deepcopy(base_config)\n",
    "optimized_config.functions[FUNCTION_NAME].variants[optimized_variant_name] = deepcopy(\n",
    "    base_variant\n",
    ")\n",
    "optimized_config.functions[FUNCTION_NAME].variants[\n",
    "    optimized_variant_name\n",
    "].system_template = optimized_system_template\n",
    "optimized_config.functions[FUNCTION_NAME].variants[\n",
    "    optimized_variant_name\n",
    "].name = optimized_variant_name\n",
    "# write the new config to a temporary directory\n",
    "optimized_config_dir = optimized_config.write(base_dir=OUTPUT_DIR)"
   ]
  },
  {
   "cell_type": "markdown",
   "metadata": {},
   "source": [
    "## Conclusion\n",
    "\n",
    "By following this notebook, you can systematically refine prompts for better performance.\n",
    "The optimized prompt can be saved and used in production by updating the function's system template configuration.\n"
   ]
  }
 ],
 "metadata": {
  "kernelspec": {
   "display_name": "Python 3",
   "language": "python",
   "name": "python3"
  },
  "language_info": {
   "codemirror_mode": {
    "name": "ipython",
    "version": 3
   },
   "file_extension": ".py",
   "mimetype": "text/x-python",
   "name": "python",
   "nbconvert_exporter": "python",
   "pygments_lexer": "ipython3"
  }
 },
 "nbformat": 4,
 "nbformat_minor": 2
}
